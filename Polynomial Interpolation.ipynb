{
 "cells": [
  {
   "cell_type": "code",
   "execution_count": 1,
   "metadata": {
    "collapsed": false
   },
   "outputs": [
    {
     "name": "stdout",
     "output_type": "stream",
     "text": [
      "Populating the interactive namespace from numpy and matplotlib\n"
     ]
    }
   ],
   "source": [
    "%pylab inline"
   ]
  },
  {
   "cell_type": "markdown",
   "metadata": {},
   "source": [
    "We can solve the interpolation problem with the vandermonde matrix $ \\mathbf{V} $ as\n",
    "\n",
    "$$\\mathbf{V} \\mathbf{a} = \\mathbf{b}  $$\n",
    "\n",
    "where a is a vector of polynomial coefficients and can be sovled as $ \\mathbf{a} = \\mathbf{V}^{-1} \\mathbf{b}$."
   ]
  },
  {
   "cell_type": "code",
   "execution_count": 76,
   "metadata": {
    "collapsed": false
   },
   "outputs": [
    {
     "name": "stdout",
     "output_type": "stream",
     "text": [
      "[  0.975  -5.275   5.95   -3.925  19.825 -21.55    3.4   -14.7    18.5  ]\n"
     ]
    }
   ],
   "source": [
    "\n",
    "x = array([1,1, 1, 2, 2, 2, 3, 3, 3 ]).T\n",
    "y = array([1, 2, 3, 1, 2 ,3 ,1, 2, 3 ]).T\n",
    "b = array([3.2, 4.4, 6.5, 2.5, 4.7, 5.8, 5.1, 3.6, 2.9])\n",
    "V = np.array([x**2*y**2 , x**2*y, x**2, x*y**2, x*y, x, y**2, y, x**0]).T\n",
    "a = dot(inv(V),b)\n",
    "print a "
   ]
  },
  {
   "cell_type": "markdown",
   "metadata": {},
   "source": [
    "These coefficients are correct for the polynomial as defined in V. However the next question to ask is does the order of the polynomials and soution matter. We see that after switching $x$ and $y$ that they do matter."
   ]
  },
  {
   "cell_type": "code",
   "execution_count": 77,
   "metadata": {
    "collapsed": false
   },
   "outputs": [
    {
     "name": "stdout",
     "output_type": "stream",
     "text": [
      "[  0.975  -4.175   4.85   -5.025  19.825 -15.8     4.5   -20.45   18.5  ]\n"
     ]
    }
   ],
   "source": [
    "b = array([3.2, 4.4, 6.5, 2.5, 4.7, 3.6, 5.1, 5.8, 2.9])\n",
    "V = np.array([x**2*y**2 , x**2*y, x**2, x*y**2, x*y, y, y**2, x, x**0]).T\n",
    "a = dot(inv(V),b)\n",
    "print a "
   ]
  },
  {
   "cell_type": "markdown",
   "metadata": {},
   "source": [
    "Let's reevalute the solution from the Algorithms for Computer algebra book. Since we have 6 points we need 6 equations of the form:\n",
    "\n",
    "$$u(x,y) = a_0x^2 + a_1x^2y + a_2xy + a_3x + a_4y +a_5$$"
   ]
  },
  {
   "cell_type": "code",
   "execution_count": 98,
   "metadata": {
    "collapsed": false
   },
   "outputs": [
    {
     "name": "stdout",
     "output_type": "stream",
     "text": [
      "[48.5, 1.0, 5.0, 89.5, 88.0, 76.0]\n"
     ]
    }
   ],
   "source": [
    "x = array([0,0,1,1,2,2])\n",
    "y = array([0,1,0,1,0,1])\n",
    "b = array([-21,-30,20,17,-36,-31])\n",
    "V = np.array([x**2,x**2*y,x*y,x,y,x**0]).T\n",
    "a = dot(inv(V),b)\n",
    "a = [x%97 for x in a]\n",
    "print a"
   ]
  },
  {
   "cell_type": "markdown",
   "metadata": {},
   "source": [
    "The answer in the book wasnt in the proper form for domain $\\mathbf{Z}_{97}[x,y]$. it  was\n",
    "\n",
    "$$x^2y + 5xy + 41x -9y - 21$$ \n",
    "\n",
    "Converting the negatives to the proper mod reductions below gives the correct result "
   ]
  },
  {
   "cell_type": "code",
   "execution_count": 100,
   "metadata": {
    "collapsed": false
   },
   "outputs": [
    {
     "name": "stdout",
     "output_type": "stream",
     "text": [
      "88\n",
      "76\n"
     ]
    }
   ],
   "source": [
    "print -9%97\n",
    "print -21%97"
   ]
  },
  {
   "cell_type": "code",
   "execution_count": 101,
   "metadata": {
    "collapsed": false
   },
   "outputs": [
    {
     "data": {
      "text/plain": [
       "41.0"
      ]
     },
     "execution_count": 101,
     "metadata": {},
     "output_type": "execute_result"
    }
   ],
   "source": []
  },
  {
   "cell_type": "code",
   "execution_count": null,
   "metadata": {
    "collapsed": true
   },
   "outputs": [],
   "source": []
  }
 ],
 "metadata": {
  "kernelspec": {
   "display_name": "Python 2",
   "language": "python",
   "name": "python2"
  },
  "language_info": {
   "codemirror_mode": {
    "name": "ipython",
    "version": 2
   },
   "file_extension": ".py",
   "mimetype": "text/x-python",
   "name": "python",
   "nbconvert_exporter": "python",
   "pygments_lexer": "ipython2",
   "version": "2.7.11"
  }
 },
 "nbformat": 4,
 "nbformat_minor": 0
}
