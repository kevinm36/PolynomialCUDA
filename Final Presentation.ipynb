{
 "cells": [
  {
   "cell_type": "code",
   "execution_count": 76,
   "metadata": {
    "collapsed": false
   },
   "outputs": [],
   "source": [
    "from numba import cuda\n",
    "from numba import float32,int32,int64\n",
    "import numpy as np\n",
    "import pdb\n",
    "from math import floor\n",
    "from decimal import *\n",
    "\n",
    "# Sympy stuff for checking\n",
    "from sympy import Poly, expand \n",
    "from sympy.abc import x, y, u, v\n",
    "\n",
    "\n",
    "def parsePolynomialString(polyString):\n",
    "    \n",
    "    \n",
    "    try:\n",
    "        polyString = unicode(polyString,\"utf-8\")\n",
    "    except TypeError: #check if already unicode\n",
    "        pass\n",
    "    \n",
    "    repls = ('+', '!'), ('-', '!')\n",
    "    temp = [l.strip() for l in reduce(lambda a, kv: a.replace(*kv), repls, polyString ).split('!')]\n",
    "    temp2 = np.asarray([split_coefficient_variable(t) for t in temp])\n",
    "    temp2[:,0] = map(lambda x: u'1' if x==u'' else x,temp2[:,0])\n",
    "    \n",
    "    signs = ''.join(ch for ch in polyString if ch == '+' or ch == '-')\n",
    "    if len(signs)==len(temp2)-1:\n",
    "        signs = '+'+signs\n",
    "    signs = np.asarray([c for c in signs])\n",
    "    \n",
    "    \n",
    "    coeffs = [int(s+val) for (s,val) in zip(signs,temp2[:,0])]\n",
    "    variables = temp2[:,1]\n",
    "    \n",
    "    return coeffs,variables\n",
    "\n",
    "def split_coefficient_variable(string):\n",
    "    n = len(string)\n",
    "    for ind,c in enumerate(string):\n",
    "        if c.isnumeric():\n",
    "            if ind == n-1:\n",
    "                return (string,u'0')\n",
    "            else:\n",
    "                continue\n",
    "        else:\n",
    "            return (string[0:ind],string[ind+1::])\n",
    "        \n",
    "def findDegreeUnivariate(v):\n",
    "    end_ind = -1 # a hack way for a flag\n",
    "    start_ind = -1\n",
    "    for i,c in enumerate(v):\n",
    "        if c.isnumeric() and start_ind == -1:\n",
    "            start_ind = i\n",
    "            if start_ind == len(v) -1:\n",
    "                end_ind = start_ind\n",
    "                break\n",
    "        elif (not c.isnumeric() and end_ind == -1 and not start_ind  == -1) or i == len(v)-1:\n",
    "            end_ind = i\n",
    "            break\n",
    "\n",
    "        else:\n",
    "            continue\n",
    "    #pdb.set_trace()\n",
    "    if not start_ind == end_ind:\n",
    "         if end_ind == 0 and start_ind == -1:\n",
    "            return 1\n",
    "         else:\n",
    "            t = v[start_ind:end_ind+1]\n",
    "       \n",
    "    else:\n",
    "        t = v[start_ind]\n",
    "    \n",
    "    return int(t)\n",
    "\n",
    "def buildDegrees(varsfull):\n",
    "    ''' Simple wrapper function that builds a list of list for all the degrees of each univariate variable '''\n",
    "    degreeLists = [[findDegreeUnivariate(var) for var in vars.split()] for vars in varsfull]\n",
    "    return degreeLists\n",
    "\n",
    "def addZeros(pVars,pCoef,maxDegree,case='univariate'):\n",
    "    if case=='univariate':\n",
    "        cnt = maxDegree\n",
    "        res = np.array([],dtype = np.int32)\n",
    "        for i,(v,c) in enumerate(zip(pVars,pCoef)):\n",
    "            if v==u'0':\n",
    "                temp =0 \n",
    "            else:\n",
    "                temp = v.split('^')[-1]\n",
    "\n",
    "            temp = int(temp)\n",
    "            #pdb.set_trace()\n",
    "            if not temp ==cnt:\n",
    "                # traditonal zero imputation    \n",
    "                diff = cnt-temp\n",
    "                res = np.append(res,np.zeros(diff))\n",
    "                cnt -= diff\n",
    "\n",
    "            res = np.append(res,c)\n",
    "            \n",
    "            cnt -= 1\n",
    "     \n",
    "            if i == (len(pVars)-1) and cnt>=0:\n",
    "                #pdb.set_trace()\n",
    "                res=np.append(res,np.zeros(temp))\n",
    "\n",
    "        \n",
    "        return res\n",
    "def primesfrom3to(n):\n",
    "    \"\"\" Returns a array of primes, 3 <= p < n \"\"\"\n",
    "    sieve = np.ones(n/2, dtype=np.bool)\n",
    "    for i in xrange(3,int(n**0.5)+1,2):\n",
    "        if sieve[i/2]:\n",
    "            sieve[i*i/2::i] = False\n",
    "    return 2*np.nonzero(sieve)[0][1::]+1\n",
    "    \n",
    "def get_mod_primes(N,M):\n",
    "    primes = primesfrom3to(N)\n",
    "    primes = primes.tolist()\n",
    "    total = 1L\n",
    "    mvect = np.array([],dtype=np.int32)\n",
    "    for p in primes:\n",
    "        total *= p\n",
    "        mvect = np.append(mvect,p)\n",
    "        #print total\n",
    "        if total > M:\n",
    "            return mvect\n",
    "    return mvect\n",
    "\n",
    "def generate_evaluationpoints(degreeResult):\n",
    "    return np.arange(1,degreeResult)\n",
    "\n",
    "\n",
    "def newton_interp_univariate(x,b,d):\n",
    "    # x: set of points\n",
    "    # b: corresponding value evaluated at the point\n",
    "    # d: degree of polynomial (should be equal to len(x)-1\n",
    "    n = len(x)\n",
    "    V = np.array([x**i for i in range(d+1)][::-1]).T\n",
    "    A = np.dot(np.linalg.inv(V),b)\n",
    "    return A\n",
    "\n",
    "\n",
    "def EGCD(a,b):\n",
    "    cc = a\n",
    "    dd = b\n",
    "    c1 = 1\n",
    "    c2 =0\n",
    "    d1 =0\n",
    "    d2 = 1\n",
    "    \n",
    "    while not dd==0:\n",
    "        try:\n",
    "            q = cc/dd\n",
    "        except TypeError:\n",
    "            pdb.set_trace()\n",
    "            \n",
    "        r = cc - int(q*dd)\n",
    "        r = int(r)\n",
    "        cc = dd\n",
    "        dd = r\n",
    "\n",
    "        r1 = c1 - int(q*d1)\n",
    "        r1 = int(r1)\n",
    "        c1 = d1\n",
    "        d1 = r1\n",
    "\n",
    "        r2 = c2 - int(q*d2)\n",
    "        r2 = int(r2)\n",
    "        c2 = d2\n",
    "        d2 = r2\n",
    "    \n",
    "    return (cc,c1,c2)\n",
    "\n",
    "def cra_incremental(rvect,mvect):\n",
    "    k = len(rvect)\n",
    "    assert(len(rvect) == len(mvect))\n",
    "    \n",
    "    M = mvect[0]\n",
    "    res = rvect[0]\n",
    "    M_invs = []\n",
    "    for i in range(1,k):\n",
    "        M_inv = EGCD(M,mvect[i])[1] \n",
    "        if M_inv == 0: pdb.set_trace()\n",
    "        M_invs.append(M_inv)\n",
    "        c = int(M_inv%mvect[i])\n",
    "        rprime = int(res%mvect[i])\n",
    "        s = c*(rvect[i] - rprime)#%mvect[i]\n",
    "        s = int(s)\n",
    "        res = int(res+s*M)\n",
    "        #import pdb; pdb.set_trace()\n",
    "        M = int(M*mvect[i])\n",
    "    return res\n",
    "\n",
    "def MRC_alg(rvect,mvect,c):\n",
    "    k = len(rvect)\n",
    "    gamma = np.empty(k,dtype = np.int32)\n",
    "    gamma[0] = rvect[0]\n",
    "    #gamma[0] = rvect[0]\n",
    "    M = np.ones(k,dtype=np.int32)\n",
    "\n",
    "    for i in range(1,k):\n",
    "        gamma[i] = ((rvect[i] - gamma[0])*c[i]) % mvect[i]\n",
    "        M[i] = (mvect[0]*c[i]) % mvect[i]\n",
    "\n",
    "    for i in range(1,k-1):\n",
    "        for j in range(i+1,k):\n",
    "            gamma[j] = (gamma[j] - gamma[i]*M[j]) % mvect[j]\n",
    "            M[j] = (M[j]*mvect[i]) % mvect[j]\n",
    "    return gamma,M\n",
    "\n",
    "def homer_scheme(mvect,gammas,i):\n",
    "    if i==len(mvect):\n",
    "        return 1\n",
    "    return gammas[i]+mvect[i]*(homer_scheme(mvect,gammas,i+1))\n",
    "\n",
    "def symmetric_residue(r,m):\n",
    "    if r <= m // 2: # divide by 2\n",
    "        return r\n",
    "    return r - m\n",
    "\n",
    "\n",
    "def newton_interp_mod(uvect,alpha,c,p):\n",
    "    k = len(uvect)\n",
    "    gamma = np.empty(k,dtype=np.int32)\n",
    "    gamma[0] = uvect[0]\n",
    "\n",
    "    M = np.ones(k,dtype=np.int32)\n",
    "\n",
    "    for i in range(1,k):\n",
    "        gamma[i] = ((uvect[i] - gamma[0])*c[i]) % p\n",
    "        M[i] = ((alpha[i]-alpha[0])*c[i]) % p\n",
    "\n",
    "    for i in range(1,k-1):\n",
    "        for j in range(i+1,k):\n",
    "            gamma[j] = (gamma[j] - gamma[i]*M[j]) %p\n",
    "            M[j] = (M[j]*(alpha[j]-alpha[i])) % p\n",
    "\n",
    "    return gamma,M\n",
    "\n",
    "def homer_scheme_newton(alphas,gammas,i):\n",
    "    if i == len(alphas):\n",
    "        return 1\n",
    "    return gammas[i]+(alphas[-1]-alphas[i])*(homer_scheme_newton(alphas,gammas,i+1))\n",
    "\n",
    "# p=5\n",
    "# aa = [(alpha[-1] - alpha[i]) for i in range(len(alpha))]\n",
    "# gamma2 = [0] + [EGCD(reduce(lambda x,y:x*y,aa[0:k_+1]),ai)[1] for (k_,ai) in enumerate(aa[1:])]\n",
    "# vv = newton_interp_mod([0,3,4],[0,1,2],gamma2,p)[0]\n",
    "# #G = reduce(lambda x,y: x*y,m)\n",
    "# temp = homer_scheme(aa,vv,0)%p   \n",
    "\n",
    "\n",
    "@cuda.jit(argtypes=[int32[:],int32[:],int32,int32,int32,int32,int32], target='gpu')\n",
    "def evaluate_polynomial(a,c,n,d,k,l,alpha_os):\n",
    "    i = cuda.grid(1)\n",
    "    N = n*d*k*l\n",
    "    #we need a representation for the polynomial (x^(p-1),x^p,...x^0)\n",
    "    \n",
    "    if i<N:\n",
    "\n",
    "        alpha = (i%(n*d))/d\n",
    "    \n",
    "        degree = i%d\n",
    "        ind = degree #it just so happens that the degree is equal to the index in this case\n",
    "        offset = (i/(n*d)*d)\n",
    "        #cuda.syncthreads() # ---_ myself for shared memory implemtation\n",
    "        c[i] = a[ind+offset]*(alpha+alpha_os)**degree\n",
    "        \n",
    "        "
   ]
  },
  {
   "cell_type": "markdown",
   "metadata": {},
   "source": [
    "## Infinite Precision Chinese Remaindering"
   ]
  },
  {
   "cell_type": "code",
   "execution_count": 129,
   "metadata": {
    "collapsed": false
   },
   "outputs": [
    {
     "name": "stdout",
     "output_type": "stream",
     "text": [
      "num has 57 digits \n",
      "34 primes were required to reconstruct num\n",
      "\n",
      "v: [2, 1, 0, 4, 4, 11, 3, 0, 11, 11, 3, 18, 42, 36, 50, 48, 12, 27, 4, 27, 6, 4, 59, 49, 50, 4, 68, 57, 19, 124, 46, 0, 119, 102] \n",
      "\n",
      "Solution Residues: [2, 0, 5, 7, 1, 6, 16, 13, 21, 21, 1, 28, 9, 9, 49, 37, 49, 33, 33, 60, 16, 40, 5, 59, 22, 22, 10, 33, 52, 79, 114, 50, 119, 112] \n",
      "\n",
      "Check Residues: [2, 0, 5, 7, 1, 6, 16, 13, 21, 21, 1, 28, 9, 9, 49, 37, 49, 33, 33, 60, 16, 40, 5, 59, 22, 22, 10, 33, 52, 79, 114, 50, 119, 112]\n",
      "\n"
     ]
    }
   ],
   "source": [
    "    '''Lets take a look at some modular arthimitic'''\n",
    "num = 515033918625080621034667968750231312512515215125215125125\n",
    "print \"num has {} digits \".format(len(str(num)))\n",
    "\n",
    "mvect = get_mod_primes(10000,num).tolist()\n",
    "print \"{} primes were required to reconstruct num\\n\".format(len(mvect))\n",
    "residues =[int(num%m) for m in mvect] \n",
    "c = [0] + [EGCD(reduce(lambda x,y:x*y,mvect[0:k+1]),m)[1] for (k,m) in enumerate(mvect[1:])]\n",
    "vv,M = MRC_alg(residues,mvect,c)\n",
    "vv = vv.tolist()\n",
    "M = M.tolist()\n",
    "\n",
    "print \"v: {} \\n\".format(vv)\n",
    "\n",
    "u = homer_scheme(mvect,vv,0)%reduce(lambda x,y: x*y,mvect)\n",
    "\n",
    "mvect2 = get_mod_primes(10000,u).tolist()\n",
    "print \"Solution Residues: {} \\n\".format(residues)\n",
    "residues2 =[int(u%m) for m in mvect2]\n",
    "print \"Check Residues: {}\\n\".format(residues)\n"
   ]
  },
  {
   "cell_type": "code",
   "execution_count": 125,
   "metadata": {
    "collapsed": false
   },
   "outputs": [],
   "source": [
    "\n",
    "        "
   ]
  },
  {
   "cell_type": "code",
   "execution_count": 41,
   "metadata": {
    "collapsed": false
   },
   "outputs": [
    {
     "ename": "IndentationError",
     "evalue": "expected an indented block (<ipython-input-41-eb59e7e9f56d>, line 2)",
     "output_type": "error",
     "traceback": [
      "\u001b[1;36m  File \u001b[1;32m\"<ipython-input-41-eb59e7e9f56d>\"\u001b[1;36m, line \u001b[1;32m2\u001b[0m\n\u001b[1;33m    aVars[0].split('^')\u001b[0m\n\u001b[1;37m        ^\u001b[0m\n\u001b[1;31mIndentationError\u001b[0m\u001b[1;31m:\u001b[0m expected an indented block\n"
     ]
    }
   ],
   "source": [
    "if v==u'0':\n",
    "    temp =0 \n",
    "else:\n",
    "    temp = v.split('^')[-1]\n"
   ]
  },
  {
   "cell_type": "code",
   "execution_count": 112,
   "metadata": {
    "collapsed": false
   },
   "outputs": [],
   "source": [
    "def addZeros(pVars,pCoef,maxDegree,case='univariate'):\n",
    "    if case=='univariate':\n",
    "        cnt = maxDegree\n",
    "        res = np.array([],dtype = np.int32)\n",
    "        for i,(v,c) in enumerate(zip(pVars,pCoef)):\n",
    "            if v==u'0':\n",
    "                temp =0 \n",
    "            else:\n",
    "                temp = v.split('^')[-1]\n",
    "\n",
    "            temp = int(temp)\n",
    "            #pdb.set_trace()\n",
    "            if not temp ==cnt:\n",
    "                # traditonal zero imputation    \n",
    "                diff = cnt-temp\n",
    "                res = np.append(res,np.zeros(diff,np.int32))\n",
    "                cnt -= diff\n",
    "\n",
    "            res = np.append(res,c)\n",
    "            \n",
    "            cnt -= 1\n",
    "     \n",
    "            if i == (len(pVars)-1) and cnt>=0:\n",
    "                #pdb.set_trace()\n",
    "                res=np.append(res,np.zeros(temp,dtype = np.int32))\n",
    "\n",
    "        \n",
    "        return res"
   ]
  },
  {
   "cell_type": "code",
   "execution_count": 113,
   "metadata": {
    "collapsed": false
   },
   "outputs": [
    {
     "data": {
      "text/plain": [
       "3"
      ]
     },
     "execution_count": 113,
     "metadata": {},
     "output_type": "execute_result"
    }
   ],
   "source": [
    "i"
   ]
  },
  {
   "cell_type": "code",
   "execution_count": 114,
   "metadata": {
    "collapsed": false
   },
   "outputs": [
    {
     "data": {
      "text/plain": [
       "0"
      ]
     },
     "execution_count": 114,
     "metadata": {},
     "output_type": "execute_result"
    }
   ],
   "source": [
    "a = 2\n",
    "a-=2\n",
    "a"
   ]
  },
  {
   "cell_type": "code",
   "execution_count": 115,
   "metadata": {
    "collapsed": true
   },
   "outputs": [],
   "source": [
    "a = '5 x^100 + 1 x^4 + 3 x^2 + 5 x^1'\n",
    "b = '5 x^1 - 3'\n",
    "\n",
    "aCoef,aVars = parsePolynomialString(a)\n",
    "bCoef,bVars = parsePolynomialString(b)\n",
    "aDegree = max([np.sum(_) for _ in buildDegrees(aVars)])\n",
    "bDegree = max([np.sum(_) for _ in buildDegrees(bVars)])\n",
    "cDegree = aDegree+bDegree\n",
    "\n",
    "maxDegree = max(aDegree,bDegree)\n",
    "t1Coef = addZeros(aVars,aCoef,maxDegree)\n",
    "t2Coef = addZeros(bVars,bCoef,maxDegree)\n"
   ]
  },
  {
   "cell_type": "code",
   "execution_count": 116,
   "metadata": {
    "collapsed": false
   },
   "outputs": [
    {
     "data": {
      "text/plain": [
       "dtype('int32')"
      ]
     },
     "execution_count": 116,
     "metadata": {},
     "output_type": "execute_result"
    }
   ],
   "source": [
    "t1Coef.dtype"
   ]
  },
  {
   "cell_type": "code",
   "execution_count": 117,
   "metadata": {
    "collapsed": false
   },
   "outputs": [
    {
     "ename": "NameError",
     "evalue": "name 't1' is not defined",
     "output_type": "error",
     "traceback": [
      "\u001b[1;31m---------------------------------------------------------------------------\u001b[0m",
      "\u001b[1;31mNameError\u001b[0m                                 Traceback (most recent call last)",
      "\u001b[1;32m<ipython-input-117-7533422ecb03>\u001b[0m in \u001b[0;36m<module>\u001b[1;34m()\u001b[0m\n\u001b[1;32m----> 1\u001b[1;33m \u001b[0mt1\u001b[0m\u001b[1;33m\u001b[0m\u001b[0m\n\u001b[0m",
      "\u001b[1;31mNameError\u001b[0m: name 't1' is not defined"
     ]
    }
   ],
   "source": [
    "t1"
   ]
  },
  {
   "cell_type": "code",
   "execution_count": 118,
   "metadata": {
    "collapsed": false
   },
   "outputs": [
    {
     "data": {
      "text/plain": [
       "[5, 1, 3, 5]"
      ]
     },
     "execution_count": 118,
     "metadata": {},
     "output_type": "execute_result"
    }
   ],
   "source": [
    "aCoef"
   ]
  },
  {
   "cell_type": "code",
   "execution_count": 122,
   "metadata": {
    "collapsed": false
   },
   "outputs": [
    {
     "data": {
      "text/plain": [
       "array([2, 0, 0, 0, 2, 0, 0, 0, 0, 2, 5, 0, 0, 0, 2, 0, 1, 0, 0, 0, 3, 1, 0,\n",
       "       0, 0, 3, 1, 0, 0, 0])"
      ]
     },
     "execution_count": 122,
     "metadata": {},
     "output_type": "execute_result"
    }
   ],
   "source": [
    "ab"
   ]
  },
  {
   "cell_type": "code",
   "execution_count": 97,
   "metadata": {
    "collapsed": false
   },
   "outputs": [],
   "source": [
    "aCoef.dtype = np.int32"
   ]
  },
  {
   "cell_type": "code",
   "execution_count": 121,
   "metadata": {
    "collapsed": false,
    "scrolled": true
   },
   "outputs": [
    {
     "data": {
      "text/plain": [
       "array([   2,    0,    0,    0,    0,    2,    0,    0,    0,    2,    2,\n",
       "          0,    0,    0,   32,    2,    0,    0,    0,  162,    2,    0,\n",
       "          0,    0,  512,    2,    0,    0,    0, 1250,    0,    0,    0,\n",
       "          0,    0,    0,    0,    0,    0,    2,    0,    0,    0,    0,\n",
       "         32,    0,    0,    0,    0,  162,    0,    0,    0,    0,  512,\n",
       "          0,    0,    0,    0, 1250,    5,    0,    0,    0,    0,    5,\n",
       "          0,    0,    0,    2,    5,    0,    0,    0,   32,    5,    0,\n",
       "          0,    0,  162,    5,    0,    0,    0,  512,    5,    0,    0,\n",
       "          0, 1250,    0,    0,    0,    0,    0,    0,    1,    0,    0,\n",
       "          0,    0,    2,    0,    0,    0,    0,    3,    0,    0,    0,\n",
       "          0,    4,    0,    0,    0,    0,    5,    0,    0,    0,    3,\n",
       "          0,    0,    0,    0,    3,    1,    0,    0,    0,    3,    2,\n",
       "          0,    0,    0,    3,    3,    0,    0,    0,    3,    4,    0,\n",
       "          0,    0,    3,    5,    0,    0,    0,    3,    0,    0,    0,\n",
       "          0,    3,    1,    0,    0,    0,    3,    2,    0,    0,    0,\n",
       "          3,    3,    0,    0,    0,    3,    4,    0,    0,    0,    3,\n",
       "          5,    0,    0,    0])"
      ]
     },
     "execution_count": 121,
     "metadata": {},
     "output_type": "execute_result"
    }
   ],
   "source": [
    "c"
   ]
  },
  {
   "cell_type": "code",
   "execution_count": 130,
   "metadata": {
    "collapsed": false
   },
   "outputs": [
    {
     "name": "stdout",
     "output_type": "stream",
     "text": [
      "60\n",
      "The coefficients are [  3.  -1.  44.   5.  -1.  15.]\n",
      "The full poly is: 3x^5 -1x^4 44x^3 5x^2 -1x^1 15x^0\n",
      "Sympy's Solution is: Poly(44911749254282594407775*x**2 + 179463557001680*x - 15, x, domain='ZZ')\n"
     ]
    }
   ],
   "source": [
    "'Univariate Case'\n",
    "from sympy.abc import x, y, u, v\n",
    "\n",
    "\n",
    "#a = '2x^2  + 5'\n",
    "#b = '1 x + 3'\n",
    "\n",
    "a = '3 x^3 + 5'\n",
    "b = '1 x^2 + 3'\n",
    "\n",
    "a_sym = Poly('1251251525*x + 5',x)\n",
    "b_sym = Poly('35893462151251*x - 3',x)\n",
    "\n",
    "#a = '7 x + 5'\n",
    "#b = '2 x - 3'\n",
    "\n",
    "\n",
    "\n",
    "\n",
    "aCoef,aVars = parsePolynomialString(a)\n",
    "bCoef,bVars = parsePolynomialString(b)\n",
    "aDegree = max([np.sum(_) for _ in buildDegrees(aVars)])\n",
    "bDegree = max([np.sum(_) for _ in buildDegrees(bVars)])\n",
    "cDegree = aDegree+bDegree\n",
    "maxDegree = max(aDegree,bDegree)\n",
    "\n",
    "aCoef = addZeros(aVars,aCoef,maxDegree)\n",
    "bCoef = addZeros(bVars,bCoef,maxDegree)\n",
    "\n",
    "#aCoef = [2,0,5]\n",
    "#bCoef = [0,1,3]\n",
    "\n",
    "''' setup '''\n",
    "M = 2*int(max(np.abs(aCoef)))*int(max(np.abs(bCoef)) )\n",
    "M = 2*M\n",
    "print M\n",
    "#Calculate homomorphisms\n",
    "# syntax: x_'i' where i corresponds to mod reduction and x is the polynomial in question i.e (a,b)\n",
    "# for this example we use m = 5,7\n",
    "m = get_mod_primes(100,M)\n",
    "m = m.tolist()\n",
    "#m = [3,5,7,11]\n",
    "is_symmetric = True\n",
    "''' reduce polynomials'''\n",
    "ab = np.hstack([np.hstack([np.mod(_Coef[::-1],mi) for mi in m]) for _Coef in [aCoef,bCoef]])\n",
    "\n",
    "''' Set up CUDA parameters'''\n",
    "#a = np.hstack([a_5[::-1],a_7[::-1]])\n",
    "bpg = 50\n",
    "tpb = 16\n",
    "deg = cDegree\n",
    "k=len(m)\n",
    "n=deg+1 # the number of evaluation points\n",
    "l=2  # the number of polies\n",
    "alpha_os = 0\n",
    "alphas = np.arange(n)+alpha_os\n",
    "d_test = aDegree+1\n",
    "N = d_test*k*n*l\n",
    "\n",
    "c = np.empty(N,dtype=np.int32)\n",
    "\n",
    "evaluate_polynomial[bpg,tpb](ab,c,n,d_test,k,l,alpha_os)\n",
    "\n",
    "'''Reconstruct and interpolate'''\n",
    "X = np.reshape(c,((N/d_test),d_test))\n",
    "X = np.sum(X,axis=1)\n",
    "X = np.reshape(X,(k*n,l),order='F')\n",
    "X  = np.product(X,axis=1)\n",
    "X = np.reshape(X,(k,n)) # final \n",
    "\n",
    "from sympy.polys.polyfuncs import interpolate\n",
    "from sympy.abc import x\n",
    "\n",
    "Y = np.empty_like(X)\n",
    "for i,row in enumerate(X):\n",
    "    Y[i,:] = newton_interp_univariate(x=alphas,b=row,d=deg)%m[i]\n",
    "    Y[i,:] = Y[i,:] #[::-1]\n",
    "    #Y[i,:] = Poly(interpolate(row,x)).all_coeffs()\n",
    "   \n",
    "gamma = [0] + [EGCD(reduce(lambda x,y:x*y,m[0:k_+1]),mi)[1] for (k_,mi) in enumerate(m[1:])]\n",
    "d=2\n",
    "u = np.zeros(deg+1)\n",
    "\n",
    "for i,row in enumerate(Y.T):\n",
    "    vv,M = MRC_alg(row,m,gamma)\n",
    "    vv = vv.tolist()\n",
    "    G = reduce(lambda x,y: x*y,m)\n",
    "    #pdb.set_trace()\n",
    "    temp = homer_scheme(m,vv,0)%G\n",
    "    if is_symmetric:\n",
    "        u[i] = symmetric_residue(temp,G)\n",
    "    else:\n",
    "        u[i] = temp\n",
    "    \n",
    "print \"The coefficients are {}\".format(u)\n",
    "\n",
    "var_list = ['{}x^{}'.format(int(cf),p) for cf,p in zip(u,range(len(u))[::-1])]\n",
    "print \"The full poly is: {}\".format(reduce(lambda x,y:x+' '+y,var_list))\n",
    "print \"Sympy's Solution is: {}\".format(a_sym.mul(b_sym))"
   ]
  },
  {
   "cell_type": "code",
   "execution_count": 129,
   "metadata": {
    "collapsed": false
   },
   "outputs": [
    {
     "data": {
      "text/plain": [
       "[3, 0, 5]"
      ]
     },
     "execution_count": 129,
     "metadata": {},
     "output_type": "execute_result"
    }
   ],
   "source": [
    "aCoef.tolist()"
   ]
  },
  {
   "cell_type": "code",
   "execution_count": 125,
   "metadata": {
    "collapsed": false
   },
   "outputs": [
    {
     "data": {
      "text/plain": [
       "array([0, 1, 2, 3, 4, 5])"
      ]
     },
     "execution_count": 125,
     "metadata": {},
     "output_type": "execute_result"
    }
   ],
   "source": [
    "alphas"
   ]
  },
  {
   "cell_type": "code",
   "execution_count": 123,
   "metadata": {
    "collapsed": false
   },
   "outputs": [
    {
     "data": {
      "text/plain": [
       "array([[2, 2, 0, 0, 2, 0],\n",
       "       [2, 0, 4, 0, 4, 0],\n",
       "       [2, 5, 0, 0, 4, 1]])"
      ]
     },
     "execution_count": 123,
     "metadata": {},
     "output_type": "execute_result"
    }
   ],
   "source": [
    "Y"
   ]
  },
  {
   "cell_type": "code",
   "execution_count": 123,
   "metadata": {
    "collapsed": false
   },
   "outputs": [],
   "source": [
    "aVars\n",
    "aCoef\n",
    "maxDegree = 2\n",
    "cnt = maxDegree\n",
    "res = np.array([],dtype = np.int32)\n",
    "for i,(v,c) in enumerate(zip(aVars,aCoef)):\n",
    "    if v==u'0':\n",
    "        temp =0 \n",
    "    else:\n",
    "        temp = v.split('^')[-1]\n",
    "    \n",
    "    temp = int(temp)\n",
    "    \n",
    "    \n",
    "    if not temp ==cnt:\n",
    "            \n",
    "            \n",
    "        # traditonal zero imputation    \n",
    "        diff = cnt-temp\n",
    "        res = np.append(res,np.zeros(diff))\n",
    "        cnt -= diff\n",
    "        \n",
    "    res = np.append(res,c)\n",
    " \n",
    "    \n",
    "    if i == len(aVars)-1 and cnt > 0:\n",
    "        res=np.append(res,np.zeros(cnt))\n",
    "        \n",
    "    cnt -= 1\n",
    "    \n",
    "        \n",
    "    \n",
    "        \n",
    "        "
   ]
  }
 ],
 "metadata": {
  "kernelspec": {
   "display_name": "Python 2",
   "language": "python",
   "name": "python2"
  },
  "language_info": {
   "codemirror_mode": {
    "name": "ipython",
    "version": 2
   },
   "file_extension": ".py",
   "mimetype": "text/x-python",
   "name": "python",
   "nbconvert_exporter": "python",
   "pygments_lexer": "ipython2",
   "version": "2.7.11"
  }
 },
 "nbformat": 4,
 "nbformat_minor": 0
}
