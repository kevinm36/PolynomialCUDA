{
 "cells": [
  {
   "cell_type": "code",
   "execution_count": 448,
   "metadata": {
    "collapsed": true
   },
   "outputs": [],
   "source": [
    "from numba import cuda\n",
    "from numba import float32,int32,int64\n",
    "import numpy as np\n",
    "import pdb\n",
    "from math import floor\n",
    "from decimal import *\n",
    "\n",
    "# Sympy stuff for checking\n",
    "from sympy import Poly, expand \n",
    "from sympy.abc import x, y, u, v\n",
    "\n",
    "\n",
    "def parsePolynomialString(polyString):\n",
    "    \n",
    "    \n",
    "    try:\n",
    "        polyString = unicode(polyString,\"utf-8\")\n",
    "    except TypeError: #check if already unicode\n",
    "        pass\n",
    "    \n",
    "    repls = ('+', '!'), ('-', '!')\n",
    "    temp = [l.strip() for l in reduce(lambda a, kv: a.replace(*kv), repls, polyString ).split('!')]\n",
    "    temp2 = np.asarray([split_coefficient_variable(t) for t in temp])\n",
    "    temp2[:,0] = map(lambda x: u'1' if x==u'' else x,temp2[:,0])\n",
    "    \n",
    "    signs = ''.join(ch for ch in polyString if ch == '+' or ch == '-')\n",
    "    if len(signs)==len(temp2)-1:\n",
    "        signs = '+'+signs\n",
    "    signs = np.asarray([c for c in signs])\n",
    "    \n",
    "    \n",
    "    coeffs = [int(s+val) for (s,val) in zip(signs,temp2[:,0])]\n",
    "    variables = temp2[:,1]\n",
    "    \n",
    "    return coeffs,variables\n",
    "\n",
    "def split_coefficient_variable(string):\n",
    "    n = len(string)\n",
    "    for ind,c in enumerate(string):\n",
    "        if c.isnumeric():\n",
    "            if ind == n-1:\n",
    "                return (string,u'0')\n",
    "            else:\n",
    "                continue\n",
    "        else:\n",
    "            return (string[0:ind],string[ind+1::])\n",
    "        \n",
    "def findDegreeUnivariate(v):\n",
    "    end_ind = -1 # a hack way for a flag\n",
    "    start_ind = -1\n",
    "    for i,c in enumerate(v):\n",
    "        if c.isnumeric() and start_ind == -1:\n",
    "            start_ind = i\n",
    "            if start_ind == len(v) -1:\n",
    "                end_ind = start_ind\n",
    "                break\n",
    "        elif (not c.isnumeric() and end_ind == -1 and not start_ind  == -1) or i == len(v)-1:\n",
    "            end_ind = i\n",
    "            break\n",
    "\n",
    "        else:\n",
    "            continue\n",
    "    #pdb.set_trace()\n",
    "    if not start_ind == end_ind:\n",
    "         if end_ind == 0 and start_ind == -1:\n",
    "            return 1\n",
    "         else:\n",
    "            t = v[start_ind:end_ind+1]\n",
    "       \n",
    "    else:\n",
    "        t = v[start_ind]\n",
    "    \n",
    "    return int(t)\n",
    "\n",
    "def buildDegrees(varsfull):\n",
    "    ''' Simple wrapper function that builds a list of list for all the degrees of each univariate variable '''\n",
    "    degreeLists = [[findDegreeUnivariate(var) for var in vars.split()] for vars in varsfull]\n",
    "    return degreeLists\n",
    "\n",
    "\n",
    "def primesfrom3to(n):\n",
    "    \"\"\" Returns a array of primes, 3 <= p < n \"\"\"\n",
    "    sieve = np.ones(n/2, dtype=np.bool)\n",
    "    for i in xrange(3,int(n**0.5)+1,2):\n",
    "        if sieve[i/2]:\n",
    "            sieve[i*i/2::i] = False\n",
    "    return 2*np.nonzero(sieve)[0][1::]+1\n",
    "    \n",
    "def get_mod_primes(N,M):\n",
    "    primes = primesfrom3to(N)\n",
    "    primes = primes.tolist()\n",
    "    total = 1L\n",
    "    mvect = np.array([],dtype=np.int32)\n",
    "    for p in primes:\n",
    "        total *= p\n",
    "        mvect = np.append(mvect,p)\n",
    "        #print total\n",
    "        if total > M:\n",
    "            return mvect\n",
    "    return mvect\n",
    "\n",
    "def generate_evaluationpoints(degreeResult):\n",
    "    return np.arange(1,degreeResult)\n",
    "\n",
    "\n",
    "def newton_interp_univariate(x,b,d):\n",
    "    # x: set of points\n",
    "    # b: corresponding value evaluated at the point\n",
    "    # d: degree of polynomial (should be equal to len(x)-1\n",
    "    n = len(x)\n",
    "    V = np.array([x**i for i in range(d+1)][::-1]).T\n",
    "    A = np.dot(np.linalg.inv(V),b)\n",
    "    return A\n",
    "\n",
    "\n",
    "def EGCD(a,b):\n",
    "    cc = a\n",
    "    dd = b\n",
    "    c1 = 1\n",
    "    c2 =0\n",
    "    d1 =0\n",
    "    d2 = 1\n",
    "    \n",
    "    while not dd==0:\n",
    "        try:\n",
    "            q = cc/dd\n",
    "        except TypeError:\n",
    "            pdb.set_trace()\n",
    "            \n",
    "        r = cc - int(q*dd)\n",
    "        r = int(r)\n",
    "        cc = dd\n",
    "        dd = r\n",
    "\n",
    "        r1 = c1 - int(q*d1)\n",
    "        r1 = int(r1)\n",
    "        c1 = d1\n",
    "        d1 = r1\n",
    "\n",
    "        r2 = c2 - int(q*d2)\n",
    "        r2 = int(r2)\n",
    "        c2 = d2\n",
    "        d2 = r2\n",
    "    \n",
    "    return (cc,c1,c2)\n",
    "\n",
    "def cra_incremental(rvect,mvect):\n",
    "    k = len(rvect)\n",
    "    assert(len(rvect) == len(mvect))\n",
    "    \n",
    "    M = mvect[0]\n",
    "    res = rvect[0]\n",
    "    M_invs = []\n",
    "    for i in range(1,k):\n",
    "        M_inv = EGCD(M,mvect[i])[1] \n",
    "        if M_inv == 0: pdb.set_trace()\n",
    "        M_invs.append(M_inv)\n",
    "        c = int(M_inv%mvect[i])\n",
    "        rprime = int(res%mvect[i])\n",
    "        s = c*(rvect[i] - rprime)#%mvect[i]\n",
    "        s = int(s)\n",
    "        res = int(res+s*M)\n",
    "        #import pdb; pdb.set_trace()\n",
    "        M = int(M*mvect[i])\n",
    "    return res\n",
    "\n",
    "def MRC_alg(rvect,mvect,c):\n",
    "    k = len(rvect)\n",
    "    gamma = np.empty(k,dtype = np.int32)\n",
    "    gamma[0] = rvect[0]\n",
    "    #gamma[0] = rvect[0]\n",
    "    M = np.ones(k,dtype=np.int32)\n",
    "\n",
    "    for i in range(1,k):\n",
    "        gamma[i] = ((rvect[i] - gamma[0])*c[i]) % mvect[i]\n",
    "        M[i] = (mvect[0]*c[i]) % mvect[i]\n",
    "\n",
    "    for i in range(1,k-1):\n",
    "        for j in range(i+1,k):\n",
    "            gamma[j] = (gamma[j] - gamma[i]*M[j]) % mvect[j]\n",
    "            M[j] = (M[j]*mvect[i]) % mvect[j]\n",
    "    return gamma,M\n",
    "\n",
    "def homer_scheme(mvect,gammas,i):\n",
    "    if i==len(mvect):\n",
    "        return 1\n",
    "    return gammas[i]+mvect[i]*(homer_scheme(mvect,gammas,i+1))\n",
    "\n",
    "def symmetric_residue(r,m):\n",
    "    if r <= m // 2: # divide by 2\n",
    "        return r\n",
    "    return r - m\n",
    "\n",
    "\n",
    "def newton_interp_mod(uvect,alpha,c,p):\n",
    "    k = len(uvect)\n",
    "    gamma = np.empty(k,dtype=np.int32)\n",
    "    gamma[0] = uvect[0]\n",
    "\n",
    "    M = np.ones(k,dtype=np.int32)\n",
    "\n",
    "    for i in range(1,k):\n",
    "        gamma[i] = ((uvect[i] - gamma[0])*c[i]) % p\n",
    "        M[i] = ((alpha[i]-alpha[0])*c[i]) % p\n",
    "\n",
    "    for i in range(1,k-1):\n",
    "        for j in range(i+1,k):\n",
    "            gamma[j] = (gamma[j] - gamma[i]*M[j]) %p\n",
    "            M[j] = (M[j]*(alpha[j]-alpha[i])) % p\n",
    "\n",
    "    return gamma,M\n",
    "\n",
    "def homer_scheme_newton(alphas,gammas,i):\n",
    "    if i == len(alphas):\n",
    "        return 1\n",
    "    return gammas[i]+(alphas[-1]-alphas[i])*(homer_scheme_newton(alphas,gammas,i+1))\n",
    "\n",
    "# p=5\n",
    "# aa = [(alpha[-1] - alpha[i]) for i in range(len(alpha))]\n",
    "# gamma2 = [0] + [EGCD(reduce(lambda x,y:x*y,aa[0:k_+1]),ai)[1] for (k_,ai) in enumerate(aa[1:])]\n",
    "# vv = newton_interp_mod([0,3,4],[0,1,2],gamma2,p)[0]\n",
    "# #G = reduce(lambda x,y: x*y,m)\n",
    "# temp = homer_scheme(aa,vv,0)%p   \n",
    "\n",
    "\n",
    "@cuda.jit(argtypes=[int32[:],int32[:],int32,int32,int32,int32,int32], target='gpu')\n",
    "def evaluate_polynomial(a,c,n,d,k,l,alpha_os):\n",
    "    i = cuda.grid(1)\n",
    "    N = n*d*k*l\n",
    "    #we need a representation for the polynomial (x^(p-1),x^p,...x^0)\n",
    "    \n",
    "    if i<N:\n",
    "\n",
    "        alpha = (i%(n*d))/d\n",
    "        #alpha = (i%6)/d\n",
    "        #alpha = (i%(12))/d\n",
    "        degree = i%d\n",
    "        ind = degree #it just so happens that the degree is equal to the index in this case\n",
    "        offset = (i/(n*d)*d)\n",
    "        #cuda.syncthreads() # remind myself for shared memory implemtation\n",
    "        c[i] = a[ind+offset]*(alpha+alpha_os)**degree\n",
    "        \n",
    "        "
   ]
  },
  {
   "cell_type": "code",
   "execution_count": null,
   "metadata": {
    "collapsed": true
   },
   "outputs": [],
   "source": []
  },
  {
   "cell_type": "code",
   "execution_count": 288,
   "metadata": {
    "collapsed": false
   },
   "outputs": [
    {
     "name": "stdout",
     "output_type": "stream",
     "text": [
      "5\n",
      "3\n"
     ]
    }
   ],
   "source": [
    "print n\n",
    "d = d_test\n",
    "print d"
   ]
  },
  {
   "cell_type": "code",
   "execution_count": 294,
   "metadata": {
    "collapsed": false
   },
   "outputs": [
    {
     "data": {
      "text/plain": [
       "0"
      ]
     },
     "execution_count": 294,
     "metadata": {},
     "output_type": "execute_result"
    }
   ],
   "source": [
    "45%15"
   ]
  },
  {
   "cell_type": "code",
   "execution_count": 451,
   "metadata": {
    "collapsed": false
   },
   "outputs": [
    {
     "data": {
      "text/plain": [
       "array([2, 4, 0])"
      ]
     },
     "execution_count": 451,
     "metadata": {},
     "output_type": "execute_result"
    }
   ],
   "source": [
    "row "
   ]
  },
  {
   "cell_type": "code",
   "execution_count": 548,
   "metadata": {
    "collapsed": false
   },
   "outputs": [],
   "source": [
    "x = np.array([0,1,2])\n",
    "#b=np.mod([-1,2,-2],7)\n",
    "b = [6,2,5]\n",
    "n = len(x)\n",
    "V = np.array([x**i for i in range(2+1)[::-1]]).T\n",
    "A = np.dot(np.linalg.inv(V),b)"
   ]
  },
  {
   "cell_type": "code",
   "execution_count": 547,
   "metadata": {
    "collapsed": false
   },
   "outputs": [
    {
     "data": {
      "text/plain": [
       "array([ 3.5,  6.5,  6. ])"
      ]
     },
     "execution_count": 547,
     "metadata": {},
     "output_type": "execute_result"
    }
   ],
   "source": [
    "A%7"
   ]
  },
  {
   "cell_type": "code",
   "execution_count": 545,
   "metadata": {
    "collapsed": false
   },
   "outputs": [],
   "source": [
    "V = np.zeros([2+1,2+1])\n",
    "for i in range(len(alpha)):\n",
    "    for j in range(len(alpha)):\n",
    "        V[i,j] = alpha[i]**j"
   ]
  },
  {
   "cell_type": "code",
   "execution_count": 506,
   "metadata": {
    "collapsed": false
   },
   "outputs": [],
   "source": [
    "A = np.dot(np.linalg.inv(V),b)"
   ]
  },
  {
   "cell_type": "code",
   "execution_count": 542,
   "metadata": {
    "collapsed": false
   },
   "outputs": [
    {
     "data": {
      "text/plain": [
       "x"
      ]
     },
     "execution_count": 542,
     "metadata": {},
     "output_type": "execute_result"
    }
   ],
   "source": [
    "x\n"
   ]
  },
  {
   "cell_type": "code",
   "execution_count": 541,
   "metadata": {
    "collapsed": false
   },
   "outputs": [
    {
     "data": {
      "text/plain": [
       "-7*x**2/2 + 27*x/2 - 11"
      ]
     },
     "execution_count": 541,
     "metadata": {},
     "output_type": "execute_result"
    }
   ],
   "source": [
    "from sympy.abc import x\n",
    "interpolate([-1,2,-2],x)"
   ]
  },
  {
   "cell_type": "code",
   "execution_count": 482,
   "metadata": {
    "collapsed": false
   },
   "outputs": [
    {
     "data": {
      "text/plain": [
       "array([0, 1, 3])"
      ]
     },
     "execution_count": 482,
     "metadata": {},
     "output_type": "execute_result"
    }
   ],
   "source": [
    "np.mod([7,29,17],7)"
   ]
  },
  {
   "cell_type": "code",
   "execution_count": 460,
   "metadata": {
    "collapsed": false
   },
   "outputs": [
    {
     "data": {
      "text/plain": [
       "[array([1, 1, 1]), array([0, 1, 2]), array([0, 1, 4])]"
      ]
     },
     "execution_count": 460,
     "metadata": {},
     "output_type": "execute_result"
    }
   ],
   "source": [
    "[x**i for i in range(2+1)]"
   ]
  },
  {
   "cell_type": "code",
   "execution_count": 350,
   "metadata": {
    "collapsed": false
   },
   "outputs": [
    {
     "data": {
      "text/plain": [
       "1"
      ]
     },
     "execution_count": 350,
     "metadata": {},
     "output_type": "execute_result"
    }
   ],
   "source": [
    "c[50]"
   ]
  },
  {
   "cell_type": "code",
   "execution_count": 295,
   "metadata": {
    "collapsed": false
   },
   "outputs": [
    {
     "data": {
      "text/plain": [
       "44"
      ]
     },
     "execution_count": 295,
     "metadata": {},
     "output_type": "execute_result"
    }
   ],
   "source": [
    "14+15+15"
   ]
  },
  {
   "cell_type": "code",
   "execution_count": 293,
   "metadata": {
    "collapsed": false
   },
   "outputs": [
    {
     "data": {
      "text/plain": [
       "15"
      ]
     },
     "execution_count": 293,
     "metadata": {},
     "output_type": "execute_result"
    }
   ],
   "source": [
    "(n*d)"
   ]
  },
  {
   "cell_type": "code",
   "execution_count": 375,
   "metadata": {
    "collapsed": false
   },
   "outputs": [
    {
     "data": {
      "text/plain": [
       "16"
      ]
     },
     "execution_count": 375,
     "metadata": {},
     "output_type": "execute_result"
    }
   ],
   "source": [
    "c[89]"
   ]
  },
  {
   "cell_type": "code",
   "execution_count": 377,
   "metadata": {
    "collapsed": false
   },
   "outputs": [
    {
     "name": "stdout",
     "output_type": "stream",
     "text": [
      "16\n",
      "4\n",
      "17\n"
     ]
    }
   ],
   "source": [
    "i=89\n",
    "print (i/(n*d)*d)\n",
    "print (i%(n*d))/d\n",
    "print i%d + (i/(n*d)*d) "
   ]
  },
  {
   "cell_type": "code",
   "execution_count": 383,
   "metadata": {
    "collapsed": false
   },
   "outputs": [
    {
     "data": {
      "text/plain": [
       "array([2, 1, 1, 0, 1, 1, 5, 1, 1, 0, 2, 1, 2, 0, 1, 4, 5, 1])"
      ]
     },
     "execution_count": 383,
     "metadata": {},
     "output_type": "execute_result"
    }
   ],
   "source": [
    "ab"
   ]
  },
  {
   "cell_type": "code",
   "execution_count": 380,
   "metadata": {
    "collapsed": false
   },
   "outputs": [
    {
     "data": {
      "text/plain": [
       "array([2, 1, 1, 0, 1, 1, 5, 1, 1, 0, 2, 1, 2, 0, 1, 4, 5, 1])"
      ]
     },
     "execution_count": 380,
     "metadata": {},
     "output_type": "execute_result"
    }
   ],
   "source": [
    "ab"
   ]
  },
  {
   "cell_type": "code",
   "execution_count": 379,
   "metadata": {
    "collapsed": false
   },
   "outputs": [
    {
     "data": {
      "text/plain": [
       "16"
      ]
     },
     "execution_count": 379,
     "metadata": {},
     "output_type": "execute_result"
    }
   ],
   "source": [
    "c[89]"
   ]
  },
  {
   "cell_type": "code",
   "execution_count": null,
   "metadata": {
    "collapsed": true
   },
   "outputs": [],
   "source": [
    "ab[4]"
   ]
  },
  {
   "cell_type": "code",
   "execution_count": 343,
   "metadata": {
    "collapsed": false
   },
   "outputs": [
    {
     "data": {
      "text/plain": [
       "array([0, 2, 1, 2, 0, 1, 4, 5, 1])"
      ]
     },
     "execution_count": 343,
     "metadata": {},
     "output_type": "execute_result"
    }
   ],
   "source": [
    "ab[9:]"
   ]
  },
  {
   "cell_type": "code",
   "execution_count": 336,
   "metadata": {
    "collapsed": false
   },
   "outputs": [
    {
     "data": {
      "text/plain": [
       "2"
      ]
     },
     "execution_count": 336,
     "metadata": {},
     "output_type": "execute_result"
    }
   ],
   "source": [
    "i/(n*d)"
   ]
  },
  {
   "cell_type": "code",
   "execution_count": 338,
   "metadata": {
    "collapsed": false
   },
   "outputs": [
    {
     "data": {
      "text/plain": [
       "array([2, 1, 1, 0, 1, 1, 5, 1, 1, 0, 2, 1, 2, 0, 1, 4, 5, 1])"
      ]
     },
     "execution_count": 338,
     "metadata": {},
     "output_type": "execute_result"
    }
   ],
   "source": [
    "ab"
   ]
  },
  {
   "cell_type": "code",
   "execution_count": 334,
   "metadata": {
    "collapsed": false
   },
   "outputs": [
    {
     "data": {
      "text/plain": [
       "5"
      ]
     },
     "execution_count": 334,
     "metadata": {},
     "output_type": "execute_result"
    }
   ],
   "source": [
    "ab[6]"
   ]
  },
  {
   "cell_type": "code",
   "execution_count": 323,
   "metadata": {
    "collapsed": false
   },
   "outputs": [
    {
     "data": {
      "text/plain": [
       "2"
      ]
     },
     "execution_count": 323,
     "metadata": {},
     "output_type": "execute_result"
    }
   ],
   "source": [
    "c[49]"
   ]
  },
  {
   "cell_type": "code",
   "execution_count": 279,
   "metadata": {
    "collapsed": false
   },
   "outputs": [
    {
     "data": {
      "text/plain": [
       "16"
      ]
     },
     "execution_count": 279,
     "metadata": {},
     "output_type": "execute_result"
    }
   ],
   "source": [
    "c[44]"
   ]
  },
  {
   "cell_type": "code",
   "execution_count": 278,
   "metadata": {
    "collapsed": false
   },
   "outputs": [
    {
     "data": {
      "text/plain": [
       "6"
      ]
     },
     "execution_count": 278,
     "metadata": {},
     "output_type": "execute_result"
    }
   ],
   "source": [
    "90/15"
   ]
  },
  {
   "cell_type": "code",
   "execution_count": 276,
   "metadata": {
    "collapsed": false
   },
   "outputs": [
    {
     "data": {
      "text/plain": [
       "90"
      ]
     },
     "execution_count": 276,
     "metadata": {},
     "output_type": "execute_result"
    }
   ],
   "source": [
    "N"
   ]
  },
  {
   "cell_type": "code",
   "execution_count": 277,
   "metadata": {
    "collapsed": false
   },
   "outputs": [
    {
     "data": {
      "text/plain": [
       "array([2, 1, 1, 0, 1, 1, 5, 1, 1, 0, 2, 1, 2, 0, 1, 4, 5, 1])"
      ]
     },
     "execution_count": 277,
     "metadata": {},
     "output_type": "execute_result"
    }
   ],
   "source": [
    "ab"
   ]
  },
  {
   "cell_type": "code",
   "execution_count": 274,
   "metadata": {
    "collapsed": false
   },
   "outputs": [
    {
     "data": {
      "text/plain": [
       "array([16,  0,  0])"
      ]
     },
     "execution_count": 274,
     "metadata": {},
     "output_type": "execute_result"
    }
   ],
   "source": [
    "c[44:47]"
   ]
  },
  {
   "cell_type": "code",
   "execution_count": 270,
   "metadata": {
    "collapsed": false
   },
   "outputs": [
    {
     "data": {
      "text/plain": [
       "44"
      ]
     },
     "execution_count": 270,
     "metadata": {},
     "output_type": "execute_result"
    }
   ],
   "source": [
    "14+15*2"
   ]
  },
  {
   "cell_type": "code",
   "execution_count": 113,
   "metadata": {
    "collapsed": false
   },
   "outputs": [
    {
     "data": {
      "text/plain": [
       "1"
      ]
     },
     "execution_count": 113,
     "metadata": {},
     "output_type": "execute_result"
    }
   ],
   "source": [
    "3%24/2"
   ]
  },
  {
   "cell_type": "code",
   "execution_count": 114,
   "metadata": {
    "collapsed": false
   },
   "outputs": [
    {
     "data": {
      "text/plain": [
       "1"
      ]
     },
     "execution_count": 114,
     "metadata": {},
     "output_type": "execute_result"
    }
   ],
   "source": [
    "3%24/2"
   ]
  },
  {
   "cell_type": "code",
   "execution_count": 69,
   "metadata": {
    "collapsed": false
   },
   "outputs": [
    {
     "name": "stdout",
     "output_type": "stream",
     "text": [
      "[2 1 0 1 5 1 0 2 2 0 4 5]\n"
     ]
    },
    {
     "data": {
      "text/plain": [
       "[5, 1]"
      ]
     },
     "execution_count": 69,
     "metadata": {},
     "output_type": "execute_result"
    }
   ],
   "source": [
    "a = 'x + 5'\n",
    "b = '5 x - 3'\n",
    "aCoef,aVars = parsePolynomialString(a)\n",
    "bCoef,bVars = parsePolynomialString(b)\n",
    "ab = np.hstack([np.hstack([np.mod(_Coef[::-1],mi) for mi in m]) for _Coef in [aCoef,bCoef]])\n",
    "print ab\n",
    "print aCoef[::-1],"
   ]
  },
  {
   "cell_type": "code",
   "execution_count": 70,
   "metadata": {
    "collapsed": false
   },
   "outputs": [
    {
     "name": "stdout",
     "output_type": "stream",
     "text": [
      "[2 1 1 0 1 1 5 1 1 0 2 1 2 0 1 4 5 1]\n"
     ]
    },
    {
     "data": {
      "text/plain": [
       "[5, 1, 1]"
      ]
     },
     "execution_count": 70,
     "metadata": {},
     "output_type": "execute_result"
    }
   ],
   "source": [
    "a = 'x^2 + x + 5'\n",
    "b = 'x^2 + 5 x - 3'\n",
    "aCoef,aVars = parsePolynomialString(a)\n",
    "bCoef,bVars = parsePolynomialString(b)\n",
    "ab = np.hstack([np.hstack([np.mod(_Coef[::-1],mi) for mi in m]) for _Coef in [aCoef,bCoef]])\n",
    "print ab\n",
    "aCoef[::-1]\n"
   ]
  },
  {
   "cell_type": "code",
   "execution_count": 141,
   "metadata": {
    "collapsed": false
   },
   "outputs": [
    {
     "data": {
      "text/plain": [
       "2417851639229258349412352L"
      ]
     },
     "execution_count": 141,
     "metadata": {},
     "output_type": "execute_result"
    }
   ],
   "source": [
    "2**81"
   ]
  },
  {
   "cell_type": "code",
   "execution_count": 72,
   "metadata": {
    "collapsed": false
   },
   "outputs": [],
   "source": [
    "''' Set up CUDA parameters'''\n",
    "#a = np.hstack([a_5[::-1],a_7[::-1]])\n",
    "bpg = 50\n",
    "tpb = 16\n",
    "deg = cDegree\n",
    "k=len(m)\n",
    "n=3 # the number of evaluation points\n",
    "l=2  # the number of polies\n",
    "alphas = np.arange(n)\n",
    "\n",
    "N = deg*k*n*l\n",
    "\n",
    "c = np.empty(N,dtype=np.int32)\n",
    "evaluate_polynomial[bpg,tpb](ab,c,n,deg,k,l)\n"
   ]
  },
  {
   "cell_type": "markdown",
   "metadata": {},
   "source": [
    "## Infinite Precision CSA"
   ]
  },
  {
   "cell_type": "code",
   "execution_count": 421,
   "metadata": {
    "collapsed": false
   },
   "outputs": [
    {
     "name": "stdout",
     "output_type": "stream",
     "text": [
      "num has 57 digits \n",
      "34 primes were required to reconstruct num\n",
      "\n",
      "v: [2, 1, 0, 4, 4, 11, 3, 0, 11, 11, 3, 18, 42, 36, 50, 48, 12, 27, 4, 27, 6, 4, 59, 49, 50, 4, 68, 57, 19, 124, 46, 0, 119, 102] \n",
      "\n",
      "Solution Residues: [2, 0, 5, 7, 1, 6, 16, 13, 21, 21, 1, 28, 9, 9, 49, 37, 49, 33, 33, 60, 16, 40, 5, 59, 22, 22, 10, 33, 52, 79, 114, 50, 119, 112] \n",
      "\n",
      "Check Residues: [2, 0, 5, 7, 1, 6, 16, 13, 21, 21, 1, 28, 9, 9, 49, 37, 49, 33, 33, 60, 16, 40, 5, 59, 22, 22, 10, 33, 52, 79, 114, 50, 119, 112]\n",
      "\n"
     ]
    }
   ],
   "source": [
    "    '''Lets take a look at some modular arthimitic'''\n",
    "num = 515033918625080621034667968750231312512515215125215125125\n",
    "print \"num has {} digits \".format(len(str(num)))\n",
    "\n",
    "mvect = get_mod_primes(10000,num).tolist()\n",
    "print \"{} primes were required to reconstruct num\\n\".format(len(mvect))\n",
    "residues =[int(num%m) for m in mvect] \n",
    "c = [0] + [EGCD(reduce(lambda x,y:x*y,mvect[0:k+1]),m)[1] for (k,m) in enumerate(mvect[1:])]\n",
    "vv,M = MRC_alg(residues,mvect,c)\n",
    "vv = vv.tolist()\n",
    "M = M.tolist()\n",
    "\n",
    "print \"v: {} \\n\".format(vv)\n",
    "\n",
    "u = homer_scheme(mvect,vv,0)%reduce(lambda x,y: x*y,mvect)\n",
    "\n",
    "mvect2 = get_mod_primes(10000,u).tolist()\n",
    "print \"Solution Residues: {} \\n\".format(residues)\n",
    "residues2 =[int(u%m) for m in mvect2]\n",
    "print \"Check Residues: {}\\n\".format(residues)\n"
   ]
  },
  {
   "cell_type": "code",
   "execution_count": 367,
   "metadata": {
    "collapsed": false
   },
   "outputs": [
    {
     "data": {
      "text/plain": [
       "16"
      ]
     },
     "execution_count": 367,
     "metadata": {},
     "output_type": "execute_result"
    }
   ],
   "source": [
    "\n"
   ]
  },
  {
   "cell_type": "code",
   "execution_count": 50,
   "metadata": {
    "collapsed": false
   },
   "outputs": [
    {
     "data": {
      "text/plain": [
       "6"
      ]
     },
     "execution_count": 50,
     "metadata": {},
     "output_type": "execute_result"
    }
   ],
   "source": [
    "N/12"
   ]
  },
  {
   "cell_type": "code",
   "execution_count": 422,
   "metadata": {
    "collapsed": false
   },
   "outputs": [
    {
     "ename": "ValueError",
     "evalue": "total size of new array must be unchanged",
     "output_type": "error",
     "traceback": [
      "\u001b[1;31m---------------------------------------------------------------------------\u001b[0m",
      "\u001b[1;31mValueError\u001b[0m                                Traceback (most recent call last)",
      "\u001b[1;32m<ipython-input-422-7846e16e5c88>\u001b[0m in \u001b[0;36m<module>\u001b[1;34m()\u001b[0m\n\u001b[0;32m      1\u001b[0m \u001b[1;34m'''Reconstruct and interpolate'''\u001b[0m\u001b[1;33m\u001b[0m\u001b[0m\n\u001b[1;32m----> 2\u001b[1;33m \u001b[0mX\u001b[0m \u001b[1;33m=\u001b[0m \u001b[0mnp\u001b[0m\u001b[1;33m.\u001b[0m\u001b[0mreshape\u001b[0m\u001b[1;33m(\u001b[0m\u001b[0mc\u001b[0m\u001b[1;33m,\u001b[0m\u001b[1;33m(\u001b[0m\u001b[1;33m(\u001b[0m\u001b[0mN\u001b[0m\u001b[1;33m/\u001b[0m\u001b[0mdeg\u001b[0m\u001b[1;33m)\u001b[0m\u001b[1;33m,\u001b[0m\u001b[0mdeg\u001b[0m\u001b[1;33m)\u001b[0m\u001b[1;33m)\u001b[0m\u001b[1;33m\u001b[0m\u001b[0m\n\u001b[0m\u001b[0;32m      3\u001b[0m \u001b[0mX\u001b[0m \u001b[1;33m=\u001b[0m \u001b[0mnp\u001b[0m\u001b[1;33m.\u001b[0m\u001b[0msum\u001b[0m\u001b[1;33m(\u001b[0m\u001b[0mX\u001b[0m\u001b[1;33m,\u001b[0m\u001b[0maxis\u001b[0m\u001b[1;33m=\u001b[0m\u001b[1;36m1\u001b[0m\u001b[1;33m)\u001b[0m\u001b[1;33m\u001b[0m\u001b[0m\n\u001b[0;32m      4\u001b[0m \u001b[0mX\u001b[0m \u001b[1;33m=\u001b[0m \u001b[0mnp\u001b[0m\u001b[1;33m.\u001b[0m\u001b[0mreshape\u001b[0m\u001b[1;33m(\u001b[0m\u001b[0mX\u001b[0m\u001b[1;33m,\u001b[0m\u001b[1;33m(\u001b[0m\u001b[0mk\u001b[0m\u001b[1;33m*\u001b[0m\u001b[0mn\u001b[0m\u001b[1;33m,\u001b[0m\u001b[0ml\u001b[0m\u001b[1;33m)\u001b[0m\u001b[1;33m,\u001b[0m\u001b[0morder\u001b[0m\u001b[1;33m=\u001b[0m\u001b[1;34m'F'\u001b[0m\u001b[1;33m)\u001b[0m\u001b[1;33m\u001b[0m\u001b[0m\n\u001b[0;32m      5\u001b[0m \u001b[0mX\u001b[0m  \u001b[1;33m=\u001b[0m \u001b[0mnp\u001b[0m\u001b[1;33m.\u001b[0m\u001b[0mproduct\u001b[0m\u001b[1;33m(\u001b[0m\u001b[0mX\u001b[0m\u001b[1;33m,\u001b[0m\u001b[0maxis\u001b[0m\u001b[1;33m=\u001b[0m\u001b[1;36m1\u001b[0m\u001b[1;33m)\u001b[0m\u001b[1;33m\u001b[0m\u001b[0m\n",
      "\u001b[1;32mC:\\Anaconda2\\lib\\site-packages\\numpy\\core\\fromnumeric.pyc\u001b[0m in \u001b[0;36mreshape\u001b[1;34m(a, newshape, order)\u001b[0m\n\u001b[0;32m    222\u001b[0m         \u001b[0mreshape\u001b[0m \u001b[1;33m=\u001b[0m \u001b[0ma\u001b[0m\u001b[1;33m.\u001b[0m\u001b[0mreshape\u001b[0m\u001b[1;33m\u001b[0m\u001b[0m\n\u001b[0;32m    223\u001b[0m     \u001b[1;32mexcept\u001b[0m \u001b[0mAttributeError\u001b[0m\u001b[1;33m:\u001b[0m\u001b[1;33m\u001b[0m\u001b[0m\n\u001b[1;32m--> 224\u001b[1;33m         \u001b[1;32mreturn\u001b[0m \u001b[0m_wrapit\u001b[0m\u001b[1;33m(\u001b[0m\u001b[0ma\u001b[0m\u001b[1;33m,\u001b[0m \u001b[1;34m'reshape'\u001b[0m\u001b[1;33m,\u001b[0m \u001b[0mnewshape\u001b[0m\u001b[1;33m,\u001b[0m \u001b[0morder\u001b[0m\u001b[1;33m=\u001b[0m\u001b[0morder\u001b[0m\u001b[1;33m)\u001b[0m\u001b[1;33m\u001b[0m\u001b[0m\n\u001b[0m\u001b[0;32m    225\u001b[0m     \u001b[1;32mreturn\u001b[0m \u001b[0mreshape\u001b[0m\u001b[1;33m(\u001b[0m\u001b[0mnewshape\u001b[0m\u001b[1;33m,\u001b[0m \u001b[0morder\u001b[0m\u001b[1;33m=\u001b[0m\u001b[0morder\u001b[0m\u001b[1;33m)\u001b[0m\u001b[1;33m\u001b[0m\u001b[0m\n\u001b[0;32m    226\u001b[0m \u001b[1;33m\u001b[0m\u001b[0m\n",
      "\u001b[1;32mC:\\Anaconda2\\lib\\site-packages\\numpy\\core\\fromnumeric.pyc\u001b[0m in \u001b[0;36m_wrapit\u001b[1;34m(obj, method, *args, **kwds)\u001b[0m\n\u001b[0;32m     46\u001b[0m     \u001b[1;32mexcept\u001b[0m \u001b[0mAttributeError\u001b[0m\u001b[1;33m:\u001b[0m\u001b[1;33m\u001b[0m\u001b[0m\n\u001b[0;32m     47\u001b[0m         \u001b[0mwrap\u001b[0m \u001b[1;33m=\u001b[0m \u001b[0mNone\u001b[0m\u001b[1;33m\u001b[0m\u001b[0m\n\u001b[1;32m---> 48\u001b[1;33m     \u001b[0mresult\u001b[0m \u001b[1;33m=\u001b[0m \u001b[0mgetattr\u001b[0m\u001b[1;33m(\u001b[0m\u001b[0masarray\u001b[0m\u001b[1;33m(\u001b[0m\u001b[0mobj\u001b[0m\u001b[1;33m)\u001b[0m\u001b[1;33m,\u001b[0m \u001b[0mmethod\u001b[0m\u001b[1;33m)\u001b[0m\u001b[1;33m(\u001b[0m\u001b[1;33m*\u001b[0m\u001b[0margs\u001b[0m\u001b[1;33m,\u001b[0m \u001b[1;33m**\u001b[0m\u001b[0mkwds\u001b[0m\u001b[1;33m)\u001b[0m\u001b[1;33m\u001b[0m\u001b[0m\n\u001b[0m\u001b[0;32m     49\u001b[0m     \u001b[1;32mif\u001b[0m \u001b[0mwrap\u001b[0m\u001b[1;33m:\u001b[0m\u001b[1;33m\u001b[0m\u001b[0m\n\u001b[0;32m     50\u001b[0m         \u001b[1;32mif\u001b[0m \u001b[1;32mnot\u001b[0m \u001b[0misinstance\u001b[0m\u001b[1;33m(\u001b[0m\u001b[0mresult\u001b[0m\u001b[1;33m,\u001b[0m \u001b[0mmu\u001b[0m\u001b[1;33m.\u001b[0m\u001b[0mndarray\u001b[0m\u001b[1;33m)\u001b[0m\u001b[1;33m:\u001b[0m\u001b[1;33m\u001b[0m\u001b[0m\n",
      "\u001b[1;31mValueError\u001b[0m: total size of new array must be unchanged"
     ]
    }
   ],
   "source": [
    "'''Reconstruct and interpolate'''\n",
    "X = np.reshape(c,((N/deg),deg))\n",
    "X = np.sum(X,axis=1)\n",
    "X = np.reshape(X,(k*n,l),order='F')\n",
    "X  = np.product(X,axis=1)\n",
    "X = np.reshape(X,(k,n))\n",
    "X"
   ]
  },
  {
   "cell_type": "code",
   "execution_count": 355,
   "metadata": {
    "collapsed": false
   },
   "outputs": [
    {
     "data": {
      "text/plain": [
       "5"
      ]
     },
     "execution_count": 355,
     "metadata": {},
     "output_type": "execute_result"
    }
   ],
   "source": [
    "c[30]"
   ]
  },
  {
   "cell_type": "code",
   "execution_count": 37,
   "metadata": {
    "collapsed": false
   },
   "outputs": [
    {
     "data": {
      "text/plain": [
       "18"
      ]
     },
     "execution_count": 37,
     "metadata": {},
     "output_type": "execute_result"
    }
   ],
   "source": [
    "72/4"
   ]
  },
  {
   "cell_type": "code",
   "execution_count": 352,
   "metadata": {
    "collapsed": false
   },
   "outputs": [
    {
     "name": "stdout",
     "output_type": "stream",
     "text": [
      "100\n"
     ]
    }
   ],
   "source": [
    "M = 2*int(max(np.abs(aCoef)))*int(max(np.abs(bCoef)) )\n",
    "M = 2*M\n",
    "print M"
   ]
  },
  {
   "cell_type": "markdown",
   "metadata": {},
   "source": [
    "## Polynomial Multplication"
   ]
  },
  {
   "cell_type": "code",
   "execution_count": 602,
   "metadata": {
    "collapsed": false
   },
   "outputs": [
    {
     "data": {
      "text/plain": [
       "2.0"
      ]
     },
     "execution_count": 602,
     "metadata": {},
     "output_type": "execute_result"
    }
   ],
   "source": [
    "cDegree"
   ]
  },
  {
   "cell_type": "code",
   "execution_count": 610,
   "metadata": {
    "collapsed": false,
    "scrolled": true
   },
   "outputs": [
    {
     "name": "stdout",
     "output_type": "stream",
     "text": [
      "60\n",
      "The coefficients are [  2.   6.   4.  15.]\n",
      "The full poly is: 2x^3 6x^2 4x^1 15x^0\n",
      "Sympy's Solution is: Poly(x**4 + 6*x**3 + 7*x**2 + 22*x - 15, x, domain='ZZ')\n"
     ]
    }
   ],
   "source": [
    "'Univariate Case'\n",
    "from sympy.abc import x, y, u, v\n",
    "\n",
    "\n",
    "a = '2x^2  + 5'\n",
    "b = '1 x + 3'\n",
    "a_sym = Poly('x**2 + x + 5',x)\n",
    "b_sym = Poly('x**2 + 5*x - 3',x)\n",
    "\n",
    "#a = '7 x + 5'\n",
    "#b = '2 x - 3'\n",
    "aCoef,aVars = parsePolynomialString(a)\n",
    "bCoef,bVars = parsePolynomialString(b)\n",
    "\n",
    "aCoef = [2,0,5]\n",
    "bCoef = [0,1,3]\n",
    "\n",
    "aDegree = max([np.sum(_) for _ in buildDegrees(aVars)])\n",
    "bDegree = max([np.sum(_) for _ in buildDegrees(bVars)])\n",
    "cDegree = aDegree+bDegree\n",
    "a\n",
    "''' setup '''\n",
    "M = 2*int(max(np.abs(aCoef)))*int(max(np.abs(bCoef)) )\n",
    "M = 2*M\n",
    "print M\n",
    "#Calculate homomorphisms\n",
    "# syntax: x_'i' where i corresponds to mod reduction and x is the polynomial in question i.e (a,b)\n",
    "# for this example we use m = 5,7\n",
    "m = get_mod_primes(100,M)\n",
    "#m = [3,5,7,11]\n",
    "is_symmetric = True\n",
    "''' reduce polynomials'''\n",
    "ab = np.hstack([np.hstack([np.mod(_Coef[::-1],mi) for mi in m]) for _Coef in [aCoef,bCoef]])\n",
    "\n",
    "''' Set up CUDA parameters'''\n",
    "#a = np.hstack([a_5[::-1],a_7[::-1]])\n",
    "bpg = 50\n",
    "tpb = 16\n",
    "deg = cDegree\n",
    "k=len(m)\n",
    "n=deg+1 # the number of evaluation points\n",
    "l=2  # the number of polies\n",
    "alpha_os = 0\n",
    "alphas = np.arange(n)+alpha_os\n",
    "d_test = aDegree+1\n",
    "N = d_test*k*n*l\n",
    "\n",
    "c = np.empty(N,dtype=np.int32)\n",
    "\n",
    "evaluate_polynomial[bpg,tpb](ab,c,n,d_test,k,l,alpha_os)\n",
    "\n",
    "'''Reconstruct and interpolate'''\n",
    "X = np.reshape(c,((N/d_test),d_test))\n",
    "X = np.sum(X,axis=1)\n",
    "X = np.reshape(X,(k*n,l),order='F')\n",
    "X  = np.product(X,axis=1)\n",
    "X = np.reshape(X,(k,n)) # final \n",
    "\n",
    "from sympy.polys.polyfuncs import interpolate\n",
    "from sympy.abc import x\n",
    "\n",
    "Y = np.empty_like(X)\n",
    "for i,row in enumerate(X):\n",
    "    Y[i,:] = newton_interp_univariate(x=alphas,b=row,d=deg)%m[i]\n",
    "    Y[i,:] = Y[i,:][::-1]\n",
    "    #Y[i,:] = Poly(interpolate(row,x)).all_coeffs()\n",
    "   \n",
    "gamma = [0] + [EGCD(reduce(lambda x,y:x*y,m[0:k_+1]),mi)[1] for (k_,mi) in enumerate(m[1:])]\n",
    "d=2\n",
    "u = np.zeros(deg+1)\n",
    "for i,row in enumerate(Y.T):\n",
    "    vv,M = MRC_alg(row,m,gamma)\n",
    "    G = reduce(lambda x,y: x*y,m)\n",
    "    temp = homer_scheme(m,vv,0)%G\n",
    "    if is_symmetric:\n",
    "        u[i] = symmetric_residue(temp,G)\n",
    "    else:\n",
    "        u[i] = temp\n",
    "    \n",
    "print \"The coefficients are {}\".format(u)\n",
    "\n",
    "var_list = ['{}x^{}'.format(int(cf),p) for cf,p in zip(u,range(len(u))[::-1])]\n",
    "print \"The full poly is: {}\".format(reduce(lambda x,y:x+' '+y,var_list))\n",
    "print \"Sympy's Solution is: {}\".format(a_sym.mul(b_sym))"
   ]
  },
  {
   "cell_type": "code",
   "execution_count": 608,
   "metadata": {
    "collapsed": false
   },
   "outputs": [
    {
     "data": {
      "text/plain": [
       "array([3, 5, 7], dtype=int64)"
      ]
     },
     "execution_count": 608,
     "metadata": {},
     "output_type": "execute_result"
    }
   ],
   "source": [
    "m"
   ]
  },
  {
   "cell_type": "code",
   "execution_count": 573,
   "metadata": {
    "collapsed": false
   },
   "outputs": [
    {
     "data": {
      "text/plain": [
       "3"
      ]
     },
     "execution_count": 573,
     "metadata": {},
     "output_type": "execute_result"
    }
   ],
   "source": [
    "np.int(3.2)"
   ]
  },
  {
   "cell_type": "code",
   "execution_count": 560,
   "metadata": {
    "collapsed": false
   },
   "outputs": [
    {
     "data": {
      "text/plain": [
       "array([ 0.,  4.,  4.])"
      ]
     },
     "execution_count": 560,
     "metadata": {},
     "output_type": "execute_result"
    }
   ],
   "source": [
    "newton_interp_univariate(x=alphas,b=X[1,:],d=2)%5"
   ]
  },
  {
   "cell_type": "code",
   "execution_count": 562,
   "metadata": {
    "collapsed": false
   },
   "outputs": [
    {
     "data": {
      "text/plain": [
       "array([[0, 1, 2],\n",
       "       [0, 4, 4],\n",
       "       [6, 3, 0]])"
      ]
     },
     "execution_count": 562,
     "metadata": {},
     "output_type": "execute_result"
    }
   ],
   "source": [
    "Y"
   ]
  },
  {
   "cell_type": "code",
   "execution_count": 561,
   "metadata": {
    "collapsed": false
   },
   "outputs": [
    {
     "data": {
      "text/plain": [
       "array([[ 0,  6, 16],\n",
       "       [ 0,  8, 24],\n",
       "       [20, 30, 40]])"
      ]
     },
     "execution_count": 561,
     "metadata": {},
     "output_type": "execute_result"
    }
   ],
   "source": [
    "X"
   ]
  },
  {
   "cell_type": "code",
   "execution_count": 418,
   "metadata": {
    "collapsed": false
   },
   "outputs": [
    {
     "data": {
      "text/plain": [
       "[3, -9, 6]"
      ]
     },
     "execution_count": 418,
     "metadata": {},
     "output_type": "execute_result"
    }
   ],
   "source": [
    "Poly(interpolate(row,x)).coeffs()"
   ]
  },
  {
   "cell_type": "code",
   "execution_count": 447,
   "metadata": {
    "collapsed": false
   },
   "outputs": [
    {
     "data": {
      "text/plain": [
       "array([0, 0, 6])"
      ]
     },
     "execution_count": 447,
     "metadata": {},
     "output_type": "execute_result"
    }
   ],
   "source": [
    "row"
   ]
  },
  {
   "cell_type": "code",
   "execution_count": 444,
   "metadata": {
    "collapsed": false
   },
   "outputs": [],
   "source": [
    "\n",
    "alpha = [0,1,2]\n",
    "def newton_interp_mod(uvect,alpha,c,p):\n",
    "    k = len(uvect)\n",
    "    gamma = np.empty(k,dtype=np.int32)\n",
    "    gamma[0] = uvect[0]\n",
    "\n",
    "    M = np.ones(k,dtype=np.int32)\n",
    "\n",
    "    for i in range(1,k):\n",
    "        gamma[i] = ((uvect[i] - gamma[0])*c[i]) % p\n",
    "        M[i] = ((alpha[i]-alpha[0])*c[i]) % p\n",
    "\n",
    "    for i in range(1,k-1):\n",
    "        for j in range(i+1,k):\n",
    "            gamma[j] = (gamma[j] - gamma[i]*M[j]) %p\n",
    "            M[j] = (M[j]*(alpha[j]-alpha[i])) % p\n",
    "\n",
    "    return gamma,M\n",
    "\n",
    "def homer_scheme_newton(alphas,gammas,i):\n",
    "    if i == len(alphas):\n",
    "        return 1\n",
    "    return gammas[i]+(alphas[-1]-alphas[i])*(homer_scheme_newton(alphas,gammas,i+1))\n",
    "\n",
    "# p=5\n",
    "# aa = [(alpha[-1] - alpha[i]) for i in range(len(alpha))]\n",
    "# gamma2 = [0] + [EGCD(reduce(lambda x,y:x*y,aa[0:k_+1]),ai)[1] for (k_,ai) in enumerate(aa[1:])]\n",
    "# vv = newton_interp_mod([0,3,4],[0,1,2],gamma2,p)[0]\n",
    "# #G = reduce(lambda x,y: x*y,m)\n",
    "# temp = homer_scheme(aa,vv,0)%p"
   ]
  },
  {
   "cell_type": "code",
   "execution_count": 445,
   "metadata": {
    "collapsed": false
   },
   "outputs": [
    {
     "data": {
      "text/plain": [
       "3"
      ]
     },
     "execution_count": 445,
     "metadata": {},
     "output_type": "execute_result"
    }
   ],
   "source": [
    "temp"
   ]
  },
  {
   "cell_type": "code",
   "execution_count": 436,
   "metadata": {
    "collapsed": false
   },
   "outputs": [
    {
     "data": {
      "text/plain": [
       "96"
      ]
     },
     "execution_count": 436,
     "metadata": {},
     "output_type": "execute_result"
    }
   ],
   "source": [
    "temp"
   ]
  },
  {
   "cell_type": "code",
   "execution_count": 391,
   "metadata": {
    "collapsed": false
   },
   "outputs": [
    {
     "data": {
      "text/plain": [
       "x**4 - x**3 + x**2 + x - 2"
      ]
     },
     "execution_count": 391,
     "metadata": {},
     "output_type": "execute_result"
    }
   ],
   "source": [
    "from sympy.polys.polyfuncs import interpolate\n",
    "from sympy.abc import x\n"
   ]
  },
  {
   "cell_type": "code",
   "execution_count": 262,
   "metadata": {
    "collapsed": false
   },
   "outputs": [
    {
     "name": "stdout",
     "output_type": "stream",
     "text": [
      "x^2 + x + 5\n",
      "x^2 + 5 x - 3\n"
     ]
    }
   ],
   "source": [
    "print a\n",
    "print b"
   ]
  },
  {
   "cell_type": "code",
   "execution_count": 265,
   "metadata": {
    "collapsed": false
   },
   "outputs": [
    {
     "data": {
      "text/plain": [
       "3"
      ]
     },
     "execution_count": 265,
     "metadata": {},
     "output_type": "execute_result"
    }
   ],
   "source": [
    "d_test"
   ]
  },
  {
   "cell_type": "code",
   "execution_count": 260,
   "metadata": {
    "collapsed": false
   },
   "outputs": [
    {
     "data": {
      "text/plain": [
       "array([ 2,  0,  0,  2,  1,  1,  2,  2,  4,  2,  3,  9,  2,  4, 16,  0,  0,\n",
       "        0,  0,  1,  1,  0,  2,  4,  0,  3,  9,  0,  4, 16,  5,  0,  0,  5,\n",
       "        1,  1,  5,  2,  4,  5,  3,  9,  5,  4, 16,  0,  0,  0,  0,  2,  1,\n",
       "        0,  4,  4,  0,  6,  9,  0,  8, 16,  2,  0,  0,  2,  0,  1,  2,  0,\n",
       "        4,  2,  0,  9,  2,  0, 16,  4,  0,  0,  4,  5,  1,  4, 10,  4,  4,\n",
       "       15,  9,  4, 20, 16])"
      ]
     },
     "execution_count": 260,
     "metadata": {},
     "output_type": "execute_result"
    }
   ],
   "source": [
    "c"
   ]
  },
  {
   "cell_type": "code",
   "execution_count": 230,
   "metadata": {
    "collapsed": false
   },
   "outputs": [
    {
     "data": {
      "text/plain": [
       "3"
      ]
     },
     "execution_count": 230,
     "metadata": {},
     "output_type": "execute_result"
    }
   ],
   "source": [
    "'Univariate Case'\n",
    "from sympy.abc import x, y, u, v\n",
    "\n",
    "\n",
    "a = 'x^2 + x + 5'\n",
    "b = 'x^2 + 5 x - 3'\n",
    "a_sym = Poly('x**2 + x + 5',x)\n",
    "b_sym = Poly('x**2 + 5*x - 3',x)\n",
    "\n",
    "a = '7 x + 5'\n",
    "b = '2 x - 3'\n",
    "aCoef,aVars = parsePolynomialString(a)\n",
    "bCoef,bVars = parsePolynomialString(b)\n",
    "\n",
    "aDegree = max([np.sum(_) for _ in buildDegrees(aVars)])\n",
    "bDegree = max([np.sum(_) for _ in buildDegrees(bVars)])\n",
    "cDegree = aDegree+bDegree\n",
    "\n",
    "''' setup '''\n",
    "M = 2*int(max(np.abs(aCoef)))*int(max(np.abs(bCoef)) )\n",
    "M = 2*M\n",
    "print M\n",
    "#Calculate homomorphisms\n",
    "# syntax: x_'i' where i corresponds to mod reduction and x is the polynomial in question i.e (a,b)\n",
    "# for this example we use m = 5,7\n",
    "m = get_mod_primes(100,M)\n",
    "m = [5,7]\n",
    "is_symmetric = True\n",
    "''' reduce polynomials'''\n",
    "ab = np.hstack([np.hstack([np.mod(_Coef[::-1],mi) for mi in m]) for _Coef in [aCoef,bCoef]])\n",
    "\n",
    "''' Set up CUDA parameters'''\n",
    "#a = np.hstack([a_5[::-1],a_7[::-1]])\n",
    "bpg = 50\n",
    "tpb = 16\n",
    "deg = cDegree\n",
    "k=len(m)\n",
    "n=deg+1 # the number of evaluation points\n",
    "l=2  # the number of polies\n",
    "alphas = np.arange(n)\n",
    "d_test = aDegree+1\n",
    "N = d_test*k*n*l\n",
    "\n",
    "c = np.empty(N,dtype=np.int32)\n",
    "\n",
    "evaluate_polynomial[bpg,tpb](ab,c,n,d_test,k,l)\n",
    "\n",
    "'''Reconstruct and interpolate'''\n",
    "X = np.reshape(c,((N/d_test),d_test))\n",
    "X = np.sum(X,axis=1)\n",
    "X = np.reshape(X,(k*n,l),order='F')\n",
    "X  = np.product(X,axis=1)\n",
    "X = np.reshape(X,(k,n)) # final \n",
    "\n",
    "\n",
    "Y = np.empty_like(X)\n",
    "for i,row in enumerate(X):\n",
    "    Y[i,:] = newton_interp_univariate(x=alphas,b=row,d=deg)%m[i]\n",
    "   \n",
    "gamma = [0] + [EGCD(reduce(lambda x,y:x*y,m[0:k_+1]),mi)[1] for (k_,mi) in enumerate(m[1:])]\n",
    "d=2\n",
    "u = np.zeros(deg+1)\n",
    "for i,row in enumerate(Y.T):\n",
    "    vv,M = MRC_alg(row,m,gamma)\n",
    "    G = reduce(lambda x,y: x*y,m)\n",
    "    temp = homer_scheme(m,vv,0)%G\n",
    "    if is_symmetric:\n",
    "        u[i] = symmetric_residue(temp,G)\n",
    "    else:\n",
    "        u[i] = temp\n",
    "    \n",
    "print \"The coefficients are {}\".format(u)\n",
    "\n",
    "var_list = ['{}x^{}'.format(int(cf),p) for cf,p in zip(u,range(len(u))[::-1])]\n",
    "print \"The full poly is: {}\".format(reduce(lambda x,y:x+' '+y,var_list))\n",
    "print \"Sympy's Solution is: {}\".format(a_sym.mul(b_sym))"
   ]
  },
  {
   "cell_type": "code",
   "execution_count": 199,
   "metadata": {
    "collapsed": false
   },
   "outputs": [
    {
     "data": {
      "text/plain": [
       "2"
      ]
     },
     "execution_count": 199,
     "metadata": {},
     "output_type": "execute_result"
    }
   ],
   "source": [
    "d_test"
   ]
  },
  {
   "cell_type": "code",
   "execution_count": 167,
   "metadata": {
    "collapsed": false
   },
   "outputs": [
    {
     "data": {
      "text/plain": [
       "array([0, 2, 5, 0, 2, 2, 4, 2])"
      ]
     },
     "execution_count": 167,
     "metadata": {},
     "output_type": "execute_result"
    }
   ],
   "source": [
    "ab"
   ]
  },
  {
   "cell_type": "code",
   "execution_count": 163,
   "metadata": {
    "collapsed": false
   },
   "outputs": [
    {
     "data": {
      "text/plain": [
       "4"
      ]
     },
     "execution_count": 163,
     "metadata": {},
     "output_type": "execute_result"
    }
   ],
   "source": [
    "c[23]"
   ]
  },
  {
   "cell_type": "code",
   "execution_count": 134,
   "metadata": {
    "collapsed": false
   },
   "outputs": [
    {
     "name": "stdout",
     "output_type": "stream",
     "text": [
      "[0 1 2 3 4]\n"
     ]
    },
    {
     "data": {
      "text/plain": [
       "array([   4,   28,  304, 1666, 6028])"
      ]
     },
     "execution_count": 134,
     "metadata": {},
     "output_type": "execute_result"
    }
   ],
   "source": [
    "print alphas\n",
    "row"
   ]
  },
  {
   "cell_type": "code",
   "execution_count": 133,
   "metadata": {
    "collapsed": false
   },
   "outputs": [
    {
     "data": {
      "text/plain": [
       "2417851639229258349412352L"
      ]
     },
     "execution_count": 133,
     "metadata": {},
     "output_type": "execute_result"
    }
   ],
   "source": [
    "2**81"
   ]
  },
  {
   "cell_type": "code",
   "execution_count": null,
   "metadata": {
    "collapsed": true
   },
   "outputs": [],
   "source": []
  },
  {
   "cell_type": "code",
   "execution_count": null,
   "metadata": {
    "collapsed": false
   },
   "outputs": [],
   "source": [
    "print a_sym.mul(b_sym)"
   ]
  },
  {
   "cell_type": "code",
   "execution_count": null,
   "metadata": {
    "collapsed": false
   },
   "outputs": [],
   "source": [
    "\n",
    "a_t = Poly('5*x + 3',x,y)\n"
   ]
  },
  {
   "cell_type": "code",
   "execution_count": null,
   "metadata": {
    "collapsed": false
   },
   "outputs": [],
   "source": [
    "a_t.mul(Poly('5*x + 3',x,y))"
   ]
  },
  {
   "cell_type": "code",
   "execution_count": null,
   "metadata": {
    "collapsed": false
   },
   "outputs": [],
   "source": [
    "\n",
    "\n",
    "\n",
    "X = np.reshape(c,((N/deg),deg))\n",
    "X = np.sum(X,axis=1)\n",
    "X = np.reshape(X,(k*n,l),order='F')\n",
    "X  = np.product(X,axis=1)\n",
    "X = np.reshape(X,(k,n))"
   ]
  },
  {
   "cell_type": "code",
   "execution_count": null,
   "metadata": {
    "collapsed": true
   },
   "outputs": [],
   "source": []
  }
 ],
 "metadata": {
  "kernelspec": {
   "display_name": "Python 2",
   "language": "python",
   "name": "python2"
  },
  "language_info": {
   "codemirror_mode": {
    "name": "ipython",
    "version": 2
   },
   "file_extension": ".py",
   "mimetype": "text/x-python",
   "name": "python",
   "nbconvert_exporter": "python",
   "pygments_lexer": "ipython2",
   "version": "2.7.11"
  }
 },
 "nbformat": 4,
 "nbformat_minor": 0
}
