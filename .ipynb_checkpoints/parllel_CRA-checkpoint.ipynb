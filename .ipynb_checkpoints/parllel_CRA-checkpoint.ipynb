{
 "cells": [
  {
   "cell_type": "code",
   "execution_count": null,
   "metadata": {
    "collapsed": true
   },
   "outputs": [],
   "source": [
    "numBlocks = 2\n",
    "n = len(a)\n",
    "blockdim = n//numBlocks\n",
    "griddim = numBlocks\n",
    "@cuda.jit(argtypes=[float32[:], float32[:],float32[:]], target='gpu')\n",
    "def CRA_kernel(a,b,c):\n",
    "    sa = cuda.shared.array(shape=(256,), dtype=int32) # residue array\n",
    "    sc = cuda.shared.array(shape=(256,),dtype=int32) # precomputed coefficient array\n",
    "    sM = cuda.shared.array(shape=(256,),dtype=int32) # M coefficient array\n",
    "    tx = cuda.threadIdx.x\n",
    "    bx = cuda.blockIdx.x\n",
    "    bw = cuda.blockDim.x\n",
    "    k = bw\n",
    "    i = cuda.grid(1)\n",
    "    if i < len(a):\n",
    "        sa[tx] = a[i]\n",
    "        sc[tx] = c[tx]\n",
    "        sM[tx] = 1\n",
    "        if tx==0:\n",
    "            # start from the first thread in the block\n",
    "            \n",
    "            for i in range(1,k):\n",
    "                gamma[i] = ((rvect[i] - gamma[0])*c[i]) % mvect[i]\n",
    "                M[i] = (mvect[0]*c[i]) % mvect[i]\n",
    "\n",
    "            for i in range(1,k-1):\n",
    "                for j in range(i+1,k):\n",
    "                    gamma[j] = (gamma[j] - gamma[i]*M[j]) % mvect[j]\n",
    "                        M[j] = (M[j]*mvect[i]) % mvect[j]\n",
    "                \n",
    "            \n",
    "        "
   ]
  }
 ],
 "metadata": {
  "kernelspec": {
   "display_name": "Python 2",
   "language": "python",
   "name": "python2"
  },
  "language_info": {
   "codemirror_mode": {
    "name": "ipython",
    "version": 2
   },
   "file_extension": ".py",
   "mimetype": "text/x-python",
   "name": "python",
   "nbconvert_exporter": "python",
   "pygments_lexer": "ipython2",
   "version": "2.7.11"
  }
 },
 "nbformat": 4,
 "nbformat_minor": 0
}
