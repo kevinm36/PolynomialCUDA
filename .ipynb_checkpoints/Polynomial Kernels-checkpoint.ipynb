{
 "cells": [
  {
   "cell_type": "markdown",
   "metadata": {},
   "source": [
    "This serves as the main source code for writing all the CUDA kernels for polynomial GPU computations. All of the code was written using the numba cuda library, which compiles the python syntax to C code. The main advantage to this approach is that it allows us to debug easier using the Cuda python debugger and call Numpy pyton serial code which is easier than working with C directly."
   ]
  },
  {
   "cell_type": "code",
   "execution_count": 1,
   "metadata": {
    "collapsed": true
   },
   "outputs": [],
   "source": [
    "from numba import cuda\n",
    "from numba import float32,int32,int64\n",
    "import numpy as np"
   ]
  },
  {
   "cell_type": "code",
   "execution_count": 2,
   "metadata": {
    "collapsed": true
   },
   "outputs": [],
   "source": [
    "samplePolyMathematica = \"176717776189025974273681640625 - 524822996828991154174804687500 x^4 + 515033918625080621034667968750 x^8 - 163334210731862516738592187500 x^12 - 2736239170293783025519921875 x^16 - 853567945260137903985750000 x^20 - 3332100748804904946375000 x^24 - 1366093540832634465390000 x^28 + 19097129680976733491250 x^32 - 1070178180326028037800 x^36 + 30307759123324511700 x^40 - 684287794892518696 x^44 + 15919723498675794 x^48 - 261616202648496 x^52 + 4039702363304 x^56 - 52707284976 x^60 + 541355421 x^64 - 5241644 x^68 + 36846 x^72 - 204 x^76 + x^80 - 524822996828991154174804687500 y^4 + 1358410577665290835983398437500 x^4 y^4 - 1121410871803655000470926562500 x^8 y^4 + 268366792559331875120012632500 x^12 y^4 + 18009207366928841424033090000 x^16 y^4 + 1409967474860596621252172400 x^20 y^4 + 37093896071304807884698800 x^24 y^4 + 277169016416649937196688 x^28 y^4 - 45399599055456194122344 x^32 y^4 - 2051064742836371588856 x^36 y^4 - 48917341932402832184 x^40 y^4 + 719118621286728408 x^44 y^4 + 7261206066155664 x^48 y^4 + 1067560459184560 x^52 y^4 - 23159945652624 x^56 y^4 + 34631561424 x^60 y^4 + 1691958932 x^64 y^4 - 8367012 x^68 y^4 - 3876 x^72 y^4 + 20 x^76 y^4 + 515033918625080621034667968750 y^8 - 1121410871803655000470926562500 x^4 y^8 + 692306784034766888513561268750 x^8 y^8 - 70467501514363192927331426016 x^12 y^8 - 14370383052763752759083552808 x^16 y^8 - 1035070187757372853125068016 x^20 y^8 - 55157327620514497044014472 x^24 y^8 - 1692867176854213729029408 x^28 y^8 - 25586983740542496806844 x^32 y^8 - 349299037145852985880 x^36 y^8 + 30001458887173320228 x^40 y^8 - 245641547333553696 x^44 y^8 + 16518615637243832 x^48 y^8 - 382503122607600 x^52 y^8 + 2410846944408 x^56 y^8 - 1844368352 x^60 y^8 + 3264318 x^64 y^8 - 34884 x^68 y^8 + 190 x^72 y^8 - 163334210731862516738592187500 y^12 + 268366792559331875120012632500 x^4 y^12 - 70467501514363192927331426016 x^8 y^12 - 35185880544130730526680680416 x^12 y^12 + 125471981964006724254562800 x^16 y^12 - 39370878297880423433887248 x^20 y^12 + 1325658903120916100843616 x^24 y^12 + 58762465861640264048736 x^28 y^12 - 4133441494425443083464 x^32 y^12 + 132187048341776912760 x^36 y^12 - 7477154238671894304 x^40 y^12 + 196380621346972640 x^44 y^12 - 2444481539437200 x^48 y^12 + 16380609978480 x^52 y^12 - 89650392160 x^56 y^12 + 481233312 x^60 y^12 - 197676 x^64 y^12 + 1140 x^68 y^12 - 2736239170293783025519921875 y^16 + 18009207366928841424033090000 x^4 y^16 - 14370383052763752759083552808 x^8 y^16 + 125471981964006724254562800 x^12 y^16 + 45518134102085647099665324 x^16 y^16 - 1346162509203426484265520 x^20 y^16 + 494713301530700458341864 x^24 y^16 - 30478852648930649485200 x^28 y^16 + 766117785480879991950 x^32 y^16 - 49257912432071129616 x^36 y^16 + 996667975969477864 x^40 y^16 - 14969308168692144 x^44 y^16 + 134140483792428 x^48 y^16 - 396080727440 x^52 y^16 + 2530838232 x^56 y^16 - 790704 x^60 y^16 + 4845 x^64 y^16 - 853567945260137903985750000 y^20 + 1409967474860596621252172400 x^4 y^20 - 1035070187757372853125068016 x^8 y^20 - 39370878297880423433887248 x^12 y^20 - 1346162509203426484265520 x^16 y^20 + 792862389474747514213680 x^20 y^20 - 40989447228398294589744 x^24 y^20 + 2506315850072195314608 x^28 y^20 - 82027905924457512144 x^32 y^20 + 2239974538199165264 x^36 y^20 - 28272809343820752 x^40 y^20 + 259034505245136 x^44 y^20 - 675093398800 x^48 y^20 + 5595177744 x^52 y^20 - 2372112 x^56 y^20 + 15504 x^60 y^20 - 3332100748804904946375000 y^24 + 37093896071304807884698800 x^4 y^24 - 55157327620514497044014472 x^8 y^24 + 1325658903120916100843616 x^12 y^24 + 494713301530700458341864 x^16 y^24 - 40989447228398294589744 x^20 y^24 + 3726751869705254575608 x^24 y^24 - 90010365014082472128 x^28 y^24 + 2402962713127941816 x^32 y^24 - 40695673243715760 x^36 y^24 + 245438792649768 x^40 y^24 + 44423703136 x^44 y^24 + 3446804664 x^48 y^24 - 5534928 x^52 y^24 + 38760 x^56 y^24 - 1366093540832634465390000 y^28 + 277169016416649937196688 x^4 y^28 - 1692867176854213729029408 x^8 y^28 + 58762465861640264048736 x^12 y^28 - 30478852648930649485200 x^16 y^28 + 2506315850072195314608 x^20 y^28 - 90010365014082472128 x^24 y^28 + 1957461248863408704 x^28 y^28 - 67415042002427856 x^32 y^28 + 472305304845552 x^36 y^28 + 2315994778592 x^40 y^28 - 11739293856 x^44 y^28 - 10279152 x^48 y^28 + 77520 x^52 y^28 + 19097129680976733491250 y^32 - 45399599055456194122344 x^4 y^32 - 25586983740542496806844 x^8 y^32 - 4133441494425443083464 x^12 y^32 + 766117785480879991950 x^16 y^32 - 82027905924457512144 x^20 y^32 + 2402962713127941816 x^24 y^32 - 67415042002427856 x^28 y^32 + 731528773777134 x^32 y^32 + 4628229542200 x^36 y^32 - 35100554940 x^40 y^32 - 15418728 x^44 y^32 + 125970 x^48 y^32 - 1070178180326028037800 y^36 - 2051064742836371588856 x^4 y^36 - 349299037145852985880 x^8 y^36 + 132187048341776912760 x^12 y^36 - 49257912432071129616 x^16 y^36 + 2239974538199165264 x^20 y^36 - 40695673243715760 x^24 y^36 + 472305304845552 x^28 y^36 + 4628229542200 x^32 y^36 - 46896722136 x^36 y^36 - 18845112 x^40 y^36 + 167960 x^44 y^36 + 30307759123324511700 y^40 - 48917341932402832184 x^4 y^40 + 30001458887173320228 x^8 y^40 - 7477154238671894304 x^12 y^40 + 996667975969477864 x^16 y^40 - 28272809343820752 x^20 y^40 + 245438792649768 x^24 y^40 + 2315994778592 x^28 y^40 - 35100554940 x^32 y^40 - 18845112 x^36 y^40 + 184756 x^40 y^40 - 684287794892518696 y^44 + 719118621286728408 x^4 y^44 - 245641547333553696 x^8 y^44 + 196380621346972640 x^12 y^44 - 14969308168692144 x^16 y^44 + 259034505245136 x^20 y^44 + 44423703136 x^24 y^44 - 11739293856 x^28 y^44 - 15418728 x^32 y^44 + 167960 x^36 y^44 + 15919723498675794 y^48 + 7261206066155664 x^4 y^48 + 16518615637243832 x^8 y^48 - 2444481539437200 x^12 y^48 + 134140483792428 x^16 y^48 - 675093398800 x^20 y^48 + 3446804664 x^24 y^48 - 10279152 x^28 y^48 + 125970 x^32 y^48 - 261616202648496 y^52 + 1067560459184560 x^4 y^52 - 382503122607600 x^8 y^52 + 16380609978480 x^12 y^52 - 396080727440 x^16 y^52 + 5595177744 x^20 y^52 - 5534928 x^24 y^52 + 77520 x^28 y^52 + 4039702363304 y^56 - 23159945652624 x^4 y^56 + 2410846944408 x^8 y^56 - 89650392160 x^12 y^56 + 2530838232 x^16 y^56 - 2372112 x^20 y^56 + 38760 x^24 y^56 - 52707284976 y^60 + 34631561424 x^4 y^60 - 1844368352 x^8 y^60 + 481233312 x^12 y^60 - 790704 x^16 y^60 + 15504 x^20 y^60 + 541355421 y^64 + 1691958932 x^4 y^64 + 3264318 x^8 y^64 - 197676 x^12 y^64 + 4845 x^16 y^64 - 5241644 y^68 - 8367012 x^4 y^68 - 34884 x^8 y^68 + 1140 x^12 y^68 + 36846 y^72 - 3876 x^4 y^72 + 190 x^8 y^72 - 204 y^76 + 20 x^4 y^76 + y^80\"\n",
    "samplePolyMathematica = unicode(samplePolyMathematica, \"utf-8\")"
   ]
  },
  {
   "cell_type": "markdown",
   "metadata": {},
   "source": [
    "Before doing any work with kernals its nice if we have a concrete way to represnt the polynomial."
   ]
  },
  {
   "cell_type": "code",
   "execution_count": 3,
   "metadata": {
    "collapsed": true
   },
   "outputs": [],
   "source": [
    "def parsePolynomialString(polyString):\n",
    "    \n",
    "    \n",
    "    try:\n",
    "        polyString = unicode(polyString,\"utf-8\")\n",
    "    except TypeError: #check if already unicode\n",
    "        pass\n",
    "    \n",
    "    repls = ('+', '!'), ('-', '!')\n",
    "    temp = [l.strip() for l in reduce(lambda a, kv: a.replace(*kv), repls, polyString ).split('!')]\n",
    "    temp2 = np.asarray([split_coefficient_variable(t) for t in temp])\n",
    "    temp2[:,0] = map(lambda x: u'1' if x==u'' else x,temp2[:,0])\n",
    "    \n",
    "    signs = ''.join(ch for ch in polyString if ch == '+' or ch == '-')\n",
    "    if len(signs)==len(temp2)-1:\n",
    "        signs = '+'+signs\n",
    "    signs = np.asarray([c for c in signs])\n",
    "    \n",
    "    \n",
    "    coeffs = [int(s+val) for (s,val) in zip(signs,temp2[:,0])]\n",
    "    variables = temp2[:,1]\n",
    "    \n",
    "    return coeffs,variables\n",
    "\n",
    "def split_coefficient_variable(string):\n",
    "    n = len(string)\n",
    "    for ind,c in enumerate(string):\n",
    "        if c.isnumeric():\n",
    "            if ind == n-1:\n",
    "                return (string,u'0')\n",
    "            else:\n",
    "                continue\n",
    "        else:\n",
    "            return (string[0:ind],string[ind+1::])\n",
    "        \n",
    "def findDegreeUnivariate(v):\n",
    "    end_ind = -1 # a hack way for a flag\n",
    "    start_ind = -1\n",
    "    for i,c in enumerate(v):\n",
    "        if c.isnumeric() and start_ind == -1:\n",
    "            start_ind = i\n",
    "            if start_ind == len(v) -1:\n",
    "                end_ind = start_ind\n",
    "                break\n",
    "        elif (not c.isnumeric() and end_ind == -1 and not start_ind  == -1) or i == len(v)-1:\n",
    "            end_ind = i\n",
    "            break\n",
    "\n",
    "        else:\n",
    "            continue\n",
    "    #pdb.set_trace()\n",
    "    if not start_ind == end_ind:\n",
    "         if end_ind == 0 and start_ind == -1:\n",
    "            return 1\n",
    "         else:\n",
    "            t = v[start_ind:end_ind+1]\n",
    "       \n",
    "    else:\n",
    "        t = v[start_ind]\n",
    "    \n",
    "    return int(t)\n",
    "\n",
    "def buildDegrees(varsfull):\n",
    "    ''' Simple wrapper function that builds a list of list for all the degrees of each univariate variable '''\n",
    "    degreeLists = [[findDegreeUnivariate(var) for var in vars.split()] for vars in varsfull]\n",
    "    return degreeLists"
   ]
  },
  {
   "cell_type": "code",
   "execution_count": 4,
   "metadata": {
    "collapsed": true
   },
   "outputs": [],
   "source": [
    "def vandermonde_interp():\n",
    "    ''' Uses the generator approach to solve the multivariate interpolation problem f(x_i) = y_i '''\n",
    "\n",
    "def evaluate_polynomial():\n",
    "    ''' uses the reduce function to quickly evaluate a polynomial '''\n",
    "\n",
    "def parallel_modular_reduce():\n",
    "    ''' reduces all the coefficients by mod'''\n",
    "    \n",
    "def extended_eucledian():\n",
    "    ''' computes the modular inverse'''\n",
    "    \n",
    "def parallel_chinese_remaindering():\n",
    "    ''' Performs parallel chinese remaindering on each set of coefficients '''\n",
    "    \n",
    "\n",
    "def primesfrom3to(n):\n",
    "    \"\"\" Returns a array of primes, 3 <= p < n \"\"\"\n",
    "    sieve = np.ones(n/2, dtype=np.bool)\n",
    "    for i in xrange(3,int(n**0.5)+1,2):\n",
    "        if sieve[i/2]:\n",
    "            sieve[i*i/2::i] = False\n",
    "    return 2*np.nonzero(sieve)[0][1::]+1\n",
    "    \n",
    "def get_mod_primes(N,M):\n",
    "    primes = primesfrom3to(N)\n",
    "    primes = primes.tolist()\n",
    "    total = 1L\n",
    "    mvect = np.array([],dtype=np.int32)\n",
    "    for p in primes:\n",
    "        total *= p\n",
    "        mvect = np.append(mvect,p)\n",
    "        #print total\n",
    "        if total > M:\n",
    "            return mvect\n",
    "    return mvect\n",
    "\n",
    "def generate_evaluationpoints(degreeResult):\n",
    "    return np.arange(1,degreeResult)"
   ]
  },
  {
   "cell_type": "code",
   "execution_count": 5,
   "metadata": {
    "collapsed": false
   },
   "outputs": [
    {
     "data": {
      "text/plain": [
       "1.251216261616316e+26"
      ]
     },
     "execution_count": 5,
     "metadata": {},
     "output_type": "execute_result"
    }
   ],
   "source": [
    "float(125121626161631613631613136)"
   ]
  },
  {
   "cell_type": "code",
   "execution_count": null,
   "metadata": {
    "collapsed": true
   },
   "outputs": [],
   "source": []
  },
  {
   "cell_type": "code",
   "execution_count": 6,
   "metadata": {
    "collapsed": false
   },
   "outputs": [],
   "source": [
    "import pdb\n",
    "from math import floor\n",
    "from decimal import *\n",
    "def EGCD(a,b):\n",
    "    cc = a\n",
    "    dd = b\n",
    "    c1 = 1\n",
    "    c2 =0\n",
    "    d1 =0\n",
    "    d2 = 1\n",
    "    \n",
    "    while not dd==0:\n",
    "        try:\n",
    "            q = cc/dd\n",
    "        except TypeError:\n",
    "            pdb.set_trace()\n",
    "            \n",
    "        r = cc - int(q*dd)\n",
    "        r = int(r)\n",
    "        cc = dd\n",
    "        dd = r\n",
    "\n",
    "        r1 = c1 - int(q*d1)\n",
    "        r1 = int(r1)\n",
    "        c1 = d1\n",
    "        d1 = r1\n",
    "\n",
    "        r2 = c2 - int(q*d2)\n",
    "        r2 = int(r2)\n",
    "        c2 = d2\n",
    "        d2 = r2\n",
    "    \n",
    "    return (cc,c1,c2)\n",
    "\n",
    "def cra_incremental(rvect,mvect):\n",
    "    k = len(rvect)\n",
    "    assert(len(rvect) == len(mvect))\n",
    "    \n",
    "    M = mvect[0]\n",
    "    res = rvect[0]\n",
    "    M_invs = []\n",
    "    for i in range(1,k):\n",
    "        M_inv = EGCD(M,mvect[i])[1] \n",
    "        if M_inv == 0: pdb.set_trace()\n",
    "        M_invs.append(M_inv)\n",
    "        c = int(M_inv%mvect[i])\n",
    "        rprime = int(res%mvect[i])\n",
    "        s = c*(rvect[i] - rprime)%mvect[i]\n",
    "        s = int(s)\n",
    "        res = int(res+s*M)\n",
    "        #import pdb; pdb.set_trace()\n",
    "        M = int(M*mvect[i])\n",
    "    return res\n",
    "\n"
   ]
  },
  {
   "cell_type": "code",
   "execution_count": 7,
   "metadata": {
    "collapsed": false
   },
   "outputs": [],
   "source": [
    "def MRCoeff(rvect,mvect,gamma):\n",
    "    n = len(rvect)\n",
    "    #v = np.zeros(n,dtype=np.int32)\n",
    "    #v[0] = rvect[0]\n",
    "    v = list()\n",
    "    v.append(1L*rvect[0])\n",
    "    \n",
    "    for k in range(1,n):\n",
    "        temp = v[k-1]\n",
    "        for j in range(k-2,-1,-1):\n",
    "            temp = int(temp*mvect[j] + v[j]) % mvect[k]\n",
    "        #v[k] = int((rvect[k] - temp) * gamma[k])%mvect[k]\n",
    "        v.append(((rvect[k] - temp) * gamma[k])%mvect[k])\n",
    "    \n",
    "    \n",
    "#     u = v[n-1]\n",
    "#     for k in range(n-2,-1,-1):\n",
    "#         u = u*mvect[k]+v[k]\n",
    "        \n",
    "        \n",
    "    \n",
    "    return v\n",
    "            "
   ]
  },
  {
   "cell_type": "code",
   "execution_count": 8,
   "metadata": {
    "collapsed": false
   },
   "outputs": [],
   "source": [
    "def MRC_alg(rvect,mvect,c):\n",
    "    k = len(rvect)\n",
    "    gamma = np.empty(k,dtype = np.int32)\n",
    "    gamma[0] = rvect[0]\n",
    "    #gamma[0] = rvect[0]\n",
    "    M = np.ones(k,dtype=np.int32)\n",
    "\n",
    "    for i in range(1,k):\n",
    "        gamma[i] = ((rvect[i] - gamma[0])*c[i]) % mvect[i]\n",
    "        M[i] = (mvect[0]*c[i]) % mvect[i]\n",
    "\n",
    "\n",
    "\n",
    "    for i in range(1,k-1):\n",
    "        for j in range(i+1,k):\n",
    "            gamma[j] = (gamma[j] - gamma[i]*M[j]) % mvect[j]\n",
    "            M[j] = (M[j]*mvect[i]) % mvect[j]\n",
    "    return gamma,M\n",
    "\n",
    "def homer_scheme(mvect,gammas,i):\n",
    "    if i==len(mvect):\n",
    "        return 1\n",
    "    return gammas[i]+mvect[i]*(homer_scheme(mvect,gammas,i+1))\n",
    "\n",
    "    "
   ]
  },
  {
   "cell_type": "code",
   "execution_count": 9,
   "metadata": {
    "collapsed": false
   },
   "outputs": [
    {
     "name": "stdout",
     "output_type": "stream",
     "text": [
      "[0, 2, 3, 9, 2, 3, 7, 9, 1, 8, 19, 24, 38, 21, 44, 30, 37, 25, 29, 69, 26, 16, 39, 77]\n",
      "[0, 2, 3, 9, 2, 3, 7, 9, 1, 8, 19, 24, 38, 21, 44, 30, 37, 25, 29, 69, 26, 16, 39, 77]\n"
     ]
    }
   ],
   "source": [
    "'''Lets take a look at some modular arthimitic'''\n",
    "num = 515033918625080621034667968750231312\n",
    "#num = 32\n",
    "mvect = get_mod_primes(10000,num).tolist()\n",
    "residues =[int(num%m) for m in mvect] \n",
    "#residues = [r%m for (r,m) in zip(residues,mvect)]\n",
    "c = [0] + [EGCD(reduce(lambda x,y:x*y,mvect[0:k+1]),m)[1] for (k,m) in enumerate(mvect[1:])]\n",
    "#mvect = mvect.tolist()\n",
    "#vv,M = MRC_alg(residues,mvect,c)\n",
    "vv,M = MRC_alg(residues,mvect,c)\n",
    "vv = vv.tolist()\n",
    "M = M.tolist()\n",
    "\n",
    "u = homer_scheme(mvect,vv,0)%reduce(lambda x,y: x*y,mvect)\n",
    "\n",
    "mvect2 = get_mod_primes(10000,u).tolist()\n",
    "residues2 =[int(u%m) for m in mvect2]\n",
    "print residues\n",
    "print residues2"
   ]
  },
  {
   "cell_type": "code",
   "execution_count": 588,
   "metadata": {
    "collapsed": false
   },
   "outputs": [],
   "source": [
    "'Univariate Case'\n",
    "a = '7 x + 5'\n",
    "b = '2 x - 3'\n",
    "\n",
    "aCoef,aVars = parsePolynomialString(a)\n",
    "bCoef,bVars = parsePolynomialString(b)\n",
    "\n",
    "aDegree = max([np.sum(_) for _ in buildDegrees(aVars)])\n",
    "bDegree = max([np.sum(_) for _ in buildDegrees(bVars)])\n",
    "cDegree = aDegree+bDegree\n",
    "\n",
    "# Setup\n",
    "M = 2*max(np.abs(aCoef))*max(np.abs(bCoef)) \n",
    "M = 2*M\n",
    "\n",
    "#Calculate homomorphisms\n",
    "# syntax: x_'i' where i corresponds to mod reduction and x is the polynomial in question i.e (a,b)\n",
    "\n",
    "# for this example we use m = 5,7\n",
    "m = [5,7]\n",
    "\n",
    "a_5 = [x%5 for x in aCoef]\n",
    "a_7 = [x%7 for x in aCoef]\n",
    "b_5 = [x%5 for x in bCoef]\n",
    "b_7 = [x%7 for x in bCoef]\n",
    "\n",
    "\n",
    "\n",
    "\n"
   ]
  },
  {
   "cell_type": "code",
   "execution_count": 58,
   "metadata": {
    "collapsed": false
   },
   "outputs": [
    {
     "data": {
      "text/plain": [
       "array([[1, 2, 3],\n",
       "       [1, 2, 3]])"
      ]
     },
     "execution_count": 58,
     "metadata": {},
     "output_type": "execute_result"
    }
   ],
   "source": [
    "np.array([[1,2,3],[1,2,3]])"
   ]
  },
  {
   "cell_type": "code",
   "execution_count": 60,
   "metadata": {
    "collapsed": false
   },
   "outputs": [
    {
     "data": {
      "text/plain": [
       "array([2, 0, 2, 2])"
      ]
     },
     "execution_count": 60,
     "metadata": {},
     "output_type": "execute_result"
    }
   ],
   "source": [
    "np.hstack([a_5,b_5])"
   ]
  },
  {
   "cell_type": "code",
   "execution_count": 64,
   "metadata": {
    "collapsed": false
   },
   "outputs": [
    {
     "data": {
      "text/plain": [
       "array([[2, 0, 2, 2],\n",
       "       [0, 5, 2, 4]])"
      ]
     },
     "execution_count": 64,
     "metadata": {},
     "output_type": "execute_result"
    }
   ],
   "source": [
    "X = np.array([np.hstack([a_5,b_5]),np.hstack([a_7,b_7])])\n",
    "X"
   ]
  },
  {
   "cell_type": "code",
   "execution_count": 589,
   "metadata": {
    "collapsed": false
   },
   "outputs": [
    {
     "name": "stdout",
     "output_type": "stream",
     "text": [
      "[2, 0]\n",
      "[0, 5]\n",
      "[2, 2]\n",
      "[2, 4]\n"
     ]
    }
   ],
   "source": [
    "print a_5\n",
    "print a_7\n",
    "print b_5\n",
    "print b_7"
   ]
  },
  {
   "cell_type": "code",
   "execution_count": 266,
   "metadata": {
    "collapsed": true
   },
   "outputs": [],
   "source": [
    "bpg = 50\n",
    "tpb = 16\n",
    "@cuda.jit\n",
    "def matmul(A, B, C):\n",
    "    \"\"\"Perform square matrix multiplication of C = A * B\n",
    "    \"\"\"\n",
    "    i, j = cuda.grid(2)\n",
    "    if i < C.shape[0] and j < C.shape[1]:\n",
    "        tmp = 0.\n",
    "        for k in range(A.shape[1]):\n",
    "            tmp += A[i, k] * B[k, j]\n",
    "        C[i, j] = tmp"
   ]
  },
  {
   "cell_type": "code",
   "execution_count": 298,
   "metadata": {
    "collapsed": false
   },
   "outputs": [
    {
     "name": "stdout",
     "output_type": "stream",
     "text": [
      "[2, 0]\n",
      "[0, 5]\n"
     ]
    }
   ],
   "source": [
    "print a_5\n",
    "print a_7"
   ]
  },
  {
   "cell_type": "code",
   "execution_count": 691,
   "metadata": {
    "collapsed": true
   },
   "outputs": [],
   "source": [
    "@cuda.jit(argtypes=[int32[:],int32[:],int32,int32,int32,int32], target='gpu')\n",
    "def evaluate_polynomial(a,c,n,d,k,l):\n",
    "    i = cuda.grid(1)\n",
    "    N = n*d*k*l\n",
    "    #we need a representation for the polynomial (x^(p-1),x^p,...x^0)\n",
    "    \n",
    "    if i<N:\n",
    "        #alpha = i%n\n",
    "        alpha = i%6/d\n",
    "        degree = i%d\n",
    "        ind = degree #it just so happens that the degree is equal to the index in this case\n",
    "        offset = (i/(n*d)*d)\n",
    "        #cuda.syncthreads()\n",
    "        c[i] = a[ind+offset]*(alpha**degree)\n",
    "        "
   ]
  },
  {
   "cell_type": "code",
   "execution_count": 695,
   "metadata": {
    "collapsed": false
   },
   "outputs": [
    {
     "data": {
      "text/plain": [
       "array([[0, 3, 4],\n",
       "       [6, 2, 5]])"
      ]
     },
     "execution_count": 695,
     "metadata": {},
     "output_type": "execute_result"
    }
   ],
   "source": [
    "#a = np.hstack([a_5[::-1],a_7[::-1]])\n",
    "m = [5,7]\n",
    "N = 24\n",
    "a = np.hstack([a_5[::-1],a_7[::-1]])\n",
    "b = np.hstack([b_5[::-1],b_7[::-1]])\n",
    "ab = np.hstack([a,b])\n",
    "c = np.empty(N,dtype=np.int32)\n",
    "deg = 2\n",
    "k=2\n",
    "n=3\n",
    "l=2  # the number of polies\n",
    "evaluate_polynomial[bpg,tpb](ab,c,n,2,2,2)\n",
    "\n",
    "\n",
    "X = np.reshape(c,((N/deg),deg))\n",
    "X = np.sum(X,axis=1)\n",
    "X = np.reshape(X,(k*n,l),order='F')\n",
    "X  = np.product(X,axis=1)\n",
    "#X = np.reshape(X,(3,2))\n",
    "X = np.reshape(X,(k,n))\n",
    "for i,row in enumerate(X[:,:]):\n",
    "    X[i,:] = X[i,:]%m[i]\n",
    "\n",
    "X"
   ]
  },
  {
   "cell_type": "code",
   "execution_count": null,
   "metadata": {
    "collapsed": true
   },
   "outputs": [],
   "source": []
  },
  {
   "cell_type": "code",
   "execution_count": 694,
   "metadata": {
    "collapsed": false
   },
   "outputs": [
    {
     "data": {
      "text/plain": [
       "array([[ 0,  3],\n",
       "       [ 3,  6],\n",
       "       [30, 40]])"
      ]
     },
     "execution_count": 694,
     "metadata": {},
     "output_type": "execute_result"
    }
   ],
   "source": [
    "X"
   ]
  },
  {
   "cell_type": "code",
   "execution_count": 690,
   "metadata": {
    "collapsed": false
   },
   "outputs": [
    {
     "data": {
      "text/plain": [
       "array([0, 2, 4, 5, 5, 5, 2, 4, 6, 4, 6, 8])"
      ]
     },
     "execution_count": 690,
     "metadata": {},
     "output_type": "execute_result"
    }
   ],
   "source": [
    "X = np.reshape(c,((N/deg),deg))\n",
    "X = np.sum(X,axis=1)\n",
    "X"
   ]
  },
  {
   "cell_type": "code",
   "execution_count": 656,
   "metadata": {
    "collapsed": false
   },
   "outputs": [
    {
     "data": {
      "text/plain": [
       "2"
      ]
     },
     "execution_count": 656,
     "metadata": {},
     "output_type": "execute_result"
    }
   ],
   "source": [
    "array([0, 2, 0, 0, 0, 4, 5, 0, 5, 0, 5, 0, 2, 2, 2, 0, 2, 4, 4, 2, 4, 0, 4,\n",
    "       4])"
   ]
  },
  {
   "cell_type": "code",
   "execution_count": 632,
   "metadata": {
    "collapsed": false
   },
   "outputs": [
    {
     "data": {
      "text/plain": [
       "array([[0, 2],\n",
       "       [0, 0],\n",
       "       [0, 4],\n",
       "       [5, 0],\n",
       "       [5, 0],\n",
       "       [5, 0],\n",
       "       [2, 2],\n",
       "       [2, 0],\n",
       "       [2, 4],\n",
       "       [4, 2],\n",
       "       [4, 0],\n",
       "       [4, 4]])"
      ]
     },
     "execution_count": 632,
     "metadata": {},
     "output_type": "execute_result"
    }
   ],
   "source": [
    "X = np.reshape(c,((N/deg),deg))\n",
    "X"
   ]
  },
  {
   "cell_type": "code",
   "execution_count": 672,
   "metadata": {
    "collapsed": false
   },
   "outputs": [],
   "source": []
  },
  {
   "cell_type": "code",
   "execution_count": 674,
   "metadata": {
    "collapsed": false
   },
   "outputs": [
    {
     "data": {
      "text/plain": [
       "array([[0, 3, 4],\n",
       "       [6, 2, 5]])"
      ]
     },
     "execution_count": 674,
     "metadata": {},
     "output_type": "execute_result"
    }
   ],
   "source": [
    "X"
   ]
  },
  {
   "cell_type": "code",
   "execution_count": 631,
   "metadata": {
    "collapsed": false
   },
   "outputs": [
    {
     "data": {
      "text/plain": [
       "6"
      ]
     },
     "execution_count": 631,
     "metadata": {},
     "output_type": "execute_result"
    }
   ],
   "source": [
    "30%7\n",
    "20%7"
   ]
  },
  {
   "cell_type": "code",
   "execution_count": 587,
   "metadata": {
    "collapsed": false
   },
   "outputs": [
    {
     "data": {
      "text/plain": [
       "[0, 2]"
      ]
     },
     "execution_count": 587,
     "metadata": {},
     "output_type": "execute_result"
    }
   ],
   "source": [
    "array([0, 2, 0, 0, 0, 4, 5, 0, 5, 0, 5, 0, 2, 2, 2, 0, 2, 4, 4, 2, 4, 0, 4,\n",
    "       4])"
   ]
  },
  {
   "cell_type": "code",
   "execution_count": 543,
   "metadata": {
    "collapsed": false
   },
   "outputs": [
    {
     "data": {
      "text/plain": [
       "array([0, 2, 5, 0, 2, 2, 4, 2])"
      ]
     },
     "execution_count": 543,
     "metadata": {},
     "output_type": "execute_result"
    }
   ],
   "source": [
    "ab"
   ]
  },
  {
   "cell_type": "code",
   "execution_count": 514,
   "metadata": {
    "collapsed": false
   },
   "outputs": [
    {
     "data": {
      "text/plain": [
       "[4, 2]"
      ]
     },
     "execution_count": 514,
     "metadata": {},
     "output_type": "execute_result"
    }
   ],
   "source": [
    "array([2, 2, 2, 0, 2, 4, 4, 2, 4, 0, 4, 4])"
   ]
  },
  {
   "cell_type": "code",
   "execution_count": 581,
   "metadata": {
    "collapsed": false
   },
   "outputs": [],
   "source": [
    "@cuda.jit(argtypes=[int32[:],int32[:],int32,int32,int32], target='gpu')\n",
    "def evaluate_polynomial(a,c,n,d,k):\n",
    "    i = cuda.grid(1)\n",
    "    N = n*d*k\n",
    "    #we need a representation for the polynomial (x^(p-1),x^p,...x^0)\n",
    "    \n",
    "    if i<N:\n",
    "        alpha = i%n\n",
    "        degree = i%d\n",
    "        ind = degree #it just so happens that the degree is equal to the index in this case\n",
    "        offset = i/(n*d)*d\n",
    "        #offset2 = \n",
    "        #cuda.syncthreads()\n",
    "        c[i] = a[ind+offset]*(alpha**degree)\n",
    "        "
   ]
  },
  {
   "cell_type": "code",
   "execution_count": 513,
   "metadata": {
    "collapsed": false
   },
   "outputs": [
    {
     "data": {
      "text/plain": [
       "[2, 2]"
      ]
     },
     "execution_count": 513,
     "metadata": {},
     "output_type": "execute_result"
    }
   ],
   "source": [
    "b_5[::-1]"
   ]
  },
  {
   "cell_type": "code",
   "execution_count": 512,
   "metadata": {
    "collapsed": false
   },
   "outputs": [
    {
     "data": {
      "text/plain": [
       "array([2, 2, 4, 2])"
      ]
     },
     "execution_count": 512,
     "metadata": {},
     "output_type": "execute_result"
    }
   ],
   "source": []
  },
  {
   "cell_type": "code",
   "execution_count": 501,
   "metadata": {
    "collapsed": false
   },
   "outputs": [
    {
     "data": {
      "text/plain": [
       "([2, 2], [2, 4])"
      ]
     },
     "execution_count": 501,
     "metadata": {},
     "output_type": "execute_result"
    }
   ],
   "source": [
    "b_5,b_7"
   ]
  },
  {
   "cell_type": "code",
   "execution_count": 477,
   "metadata": {
    "collapsed": true
   },
   "outputs": [],
   "source": [
    "def test(a,c,m_i,n):\n",
    "    i = cuda.grid(1)\n",
    "    N = 12\n",
    "    #we need a representation for the polynomial (x^(p-1),x^p,...x^0)\n",
    "    \n",
    "    if i<N:\n",
    "        \n",
    "        c[i] = i\n",
    "        "
   ]
  },
  {
   "cell_type": "code",
   "execution_count": 435,
   "metadata": {
    "collapsed": false
   },
   "outputs": [
    {
     "ename": "TypeError",
     "evalue": "'Macro' object is not callable",
     "output_type": "error",
     "traceback": [
      "\u001b[1;31m---------------------------------------------------------------------------\u001b[0m",
      "\u001b[1;31mTypeError\u001b[0m                                 Traceback (most recent call last)",
      "\u001b[1;32m<ipython-input-435-a1e60ba1cb8e>\u001b[0m in \u001b[0;36m<module>\u001b[1;34m()\u001b[0m\n\u001b[1;32m----> 1\u001b[1;33m \u001b[0mtest\u001b[0m\u001b[1;33m(\u001b[0m\u001b[0ma\u001b[0m\u001b[1;33m,\u001b[0m\u001b[0mc\u001b[0m\u001b[1;33m,\u001b[0m\u001b[1;36m0\u001b[0m\u001b[1;33m,\u001b[0m\u001b[1;36m0\u001b[0m\u001b[1;33m)\u001b[0m\u001b[1;33m\u001b[0m\u001b[0m\n\u001b[0m\u001b[0;32m      2\u001b[0m \u001b[0mc\u001b[0m\u001b[1;33m\u001b[0m\u001b[0m\n",
      "\u001b[1;32m<ipython-input-431-08097018bafb>\u001b[0m in \u001b[0;36mtest\u001b[1;34m(a, c, m_i, n)\u001b[0m\n\u001b[0;32m      1\u001b[0m \u001b[1;32mdef\u001b[0m \u001b[0mtest\u001b[0m\u001b[1;33m(\u001b[0m\u001b[0ma\u001b[0m\u001b[1;33m,\u001b[0m\u001b[0mc\u001b[0m\u001b[1;33m,\u001b[0m\u001b[0mm_i\u001b[0m\u001b[1;33m,\u001b[0m\u001b[0mn\u001b[0m\u001b[1;33m)\u001b[0m\u001b[1;33m:\u001b[0m\u001b[1;33m\u001b[0m\u001b[0m\n\u001b[1;32m----> 2\u001b[1;33m     \u001b[0mi\u001b[0m \u001b[1;33m=\u001b[0m \u001b[0mcuda\u001b[0m\u001b[1;33m.\u001b[0m\u001b[0mgrid\u001b[0m\u001b[1;33m(\u001b[0m\u001b[1;36m1\u001b[0m\u001b[1;33m)\u001b[0m\u001b[1;33m\u001b[0m\u001b[0m\n\u001b[0m\u001b[0;32m      3\u001b[0m     \u001b[0mN\u001b[0m \u001b[1;33m=\u001b[0m \u001b[1;36m12\u001b[0m\u001b[1;33m\u001b[0m\u001b[0m\n\u001b[0;32m      4\u001b[0m     \u001b[1;31m#we need a representation for the polynomial (x^(p-1),x^p,...x^0)\u001b[0m\u001b[1;33m\u001b[0m\u001b[1;33m\u001b[0m\u001b[0m\n\u001b[0;32m      5\u001b[0m \u001b[1;33m\u001b[0m\u001b[0m\n",
      "\u001b[1;31mTypeError\u001b[0m: 'Macro' object is not callable"
     ]
    }
   ],
   "source": [
    "test(a,c,0,0)\n",
    "c"
   ]
  },
  {
   "cell_type": "code",
   "execution_count": 399,
   "metadata": {
    "collapsed": false
   },
   "outputs": [],
   "source": [
    "a = np.arange(4,dtype = np.int32)\n",
    "b = np.arange(3,dtype = np.int32)\n",
    "N=12\n",
    "c = np.empty(N,dtype = np.int32)\n",
    "evaluate_polynomial[bpg,tpb](a,c,0,0)"
   ]
  },
  {
   "cell_type": "code",
   "execution_count": 400,
   "metadata": {
    "collapsed": false
   },
   "outputs": [
    {
     "data": {
      "text/plain": [
       "array([0, 1, 0, 0, 0, 2, 2, 3, 2, 0, 2, 6])"
      ]
     },
     "execution_count": 400,
     "metadata": {},
     "output_type": "execute_result"
    }
   ],
   "source": [
    "c"
   ]
  },
  {
   "cell_type": "code",
   "execution_count": 376,
   "metadata": {
    "collapsed": false
   },
   "outputs": [
    {
     "data": {
      "text/plain": [
       "array([2, 0, 0, 5])"
      ]
     },
     "execution_count": 376,
     "metadata": {},
     "output_type": "execute_result"
    }
   ],
   "source": []
  },
  {
   "cell_type": "code",
   "execution_count": 355,
   "metadata": {
    "collapsed": false
   },
   "outputs": [],
   "source": []
  },
  {
   "cell_type": "code",
   "execution_count": 357,
   "metadata": {
    "collapsed": false
   },
   "outputs": [
    {
     "ename": "NameError",
     "evalue": "name 'a_3' is not defined",
     "output_type": "error",
     "traceback": [
      "\u001b[1;31m---------------------------------------------------------------------------\u001b[0m",
      "\u001b[1;31mNameError\u001b[0m                                 Traceback (most recent call last)",
      "\u001b[1;32m<ipython-input-357-58bc101ad9b2>\u001b[0m in \u001b[0;36m<module>\u001b[1;34m()\u001b[0m\n\u001b[1;32m----> 1\u001b[1;33m \u001b[0ma_3\u001b[0m\u001b[1;33m\u001b[0m\u001b[0m\n\u001b[0m",
      "\u001b[1;31mNameError\u001b[0m: name 'a_3' is not defined"
     ]
    }
   ],
   "source": [
    "a_3"
   ]
  },
  {
   "cell_type": "code",
   "execution_count": 342,
   "metadata": {
    "collapsed": false
   },
   "outputs": [
    {
     "data": {
      "text/plain": [
       "array([2, 2, 2, 2, 2, 2])"
      ]
     },
     "execution_count": 342,
     "metadata": {},
     "output_type": "execute_result"
    }
   ],
   "source": [
    "c"
   ]
  },
  {
   "cell_type": "code",
   "execution_count": 293,
   "metadata": {
    "collapsed": false
   },
   "outputs": [
    {
     "data": {
      "text/plain": [
       "array([0, 2, 4])"
      ]
     },
     "execution_count": 293,
     "metadata": {},
     "output_type": "execute_result"
    }
   ],
   "source": [
    "c"
   ]
  },
  {
   "cell_type": "code",
   "execution_count": 288,
   "metadata": {
    "collapsed": false
   },
   "outputs": [],
   "source": [
    "n = tpb*bpg\n",
    "A = np.random.rand(n,n).astype(np.float32)*10\n",
    "B = np.random.rand(n,n).astype(np.float32)*10\n",
    "C = np.empty_like(A)\n",
    "griddim = bpg,bpg\n",
    "blockdim = tpb,tpb\n",
    "matmul[griddim,blockdim](A,B,C)"
   ]
  },
  {
   "cell_type": "code",
   "execution_count": 283,
   "metadata": {
    "collapsed": false
   },
   "outputs": [
    {
     "data": {
      "text/plain": [
       "array([[ 20730.80078125,  20616.0703125 ,  20420.48828125, ...,\n",
       "         21465.83984375,  21071.57421875,  21225.83789062],\n",
       "       [ 20197.94726562,  20379.00585938,  19203.54101562, ...,\n",
       "         19770.06835938,  20253.38085938,  19888.62695312],\n",
       "       [ 19224.87109375,  19752.73242188,  18745.109375  , ...,\n",
       "         19927.33007812,  20449.4921875 ,  20040.81445312],\n",
       "       ..., \n",
       "       [ 20676.72070312,  21098.375     ,  20046.03320312, ...,\n",
       "         20805.05273438,  21192.85351562,  21036.24609375],\n",
       "       [ 20173.58203125,  20437.49023438,  19533.52929688, ...,\n",
       "         20087.29882812,  20808.890625  ,  19968.26171875],\n",
       "       [ 19657.12109375,  19997.8359375 ,  18818.859375  , ...,\n",
       "         19581.7890625 ,  19905.37695312,  19658.87890625]], dtype=float32)"
      ]
     },
     "execution_count": 283,
     "metadata": {},
     "output_type": "execute_result"
    }
   ],
   "source": [
    "C"
   ]
  },
  {
   "cell_type": "code",
   "execution_count": 285,
   "metadata": {
    "collapsed": false
   },
   "outputs": [
    {
     "data": {
      "text/plain": [
       "array([[ 20730.80273438,  20616.0703125 ,  20420.49414062, ...,\n",
       "         21465.84375   ,  21071.57617188,  21225.83789062],\n",
       "       [ 20197.9453125 ,  20379.00390625,  19203.53710938, ...,\n",
       "         19770.06640625,  20253.38085938,  19888.62890625],\n",
       "       [ 19224.87109375,  19752.73632812,  18745.109375  , ...,\n",
       "         19927.328125  ,  20449.48828125,  20040.81640625],\n",
       "       ..., \n",
       "       [ 20676.72070312,  21098.37304688,  20046.02929688, ...,\n",
       "         20805.05273438,  21192.85742188,  21036.24804688],\n",
       "       [ 20173.5859375 ,  20437.48828125,  19533.52734375, ...,\n",
       "         20087.296875  ,  20808.88671875,  19968.26367188],\n",
       "       [ 19657.12304688,  19997.83203125,  18818.86328125, ...,\n",
       "         19581.7890625 ,  19905.37304688,  19658.87890625]], dtype=float32)"
      ]
     },
     "execution_count": 285,
     "metadata": {},
     "output_type": "execute_result"
    }
   ],
   "source": [
    "np.dot(A,B)"
   ]
  },
  {
   "cell_type": "code",
   "execution_count": 281,
   "metadata": {
    "collapsed": false
   },
   "outputs": [
    {
     "data": {
      "text/plain": [
       "False"
      ]
     },
     "execution_count": 281,
     "metadata": {},
     "output_type": "execute_result"
    }
   ],
   "source": [
    "np.all(np.dot(A,B) == C)"
   ]
  },
  {
   "cell_type": "code",
   "execution_count": null,
   "metadata": {
    "collapsed": true
   },
   "outputs": [],
   "source": []
  },
  {
   "cell_type": "code",
   "execution_count": 262,
   "metadata": {
    "collapsed": false
   },
   "outputs": [],
   "source": [
    "bpg = 50\n",
    "tpb = 16\n",
    "n = bpg * tpb\n",
    "\n",
    "@cuda.jit(argtypes=[float32[:,:], float32[:,:], float32[:,:]], target='gpu')\n",
    "def cu_square_matrix_mul(A, B, C):\n",
    "    sA = cuda.shared.array(shape=(tpb, tpb), dtype=float32)\n",
    "    sB = cuda.shared.array(shape=(tpb, tpb), dtype=float32)\n",
    "\n",
    "    tx = cuda.threadIdx.x\n",
    "    ty = cuda.threadIdx.y\n",
    "    bx = cuda.blockIdx.x\n",
    "    by = cuda.blockIdx.y\n",
    "    bw = cuda.blockDim.x\n",
    "    bh = cuda.blockDim.y\n",
    "    \n",
    "    #x = tx + bx * bw\n",
    "    #y = ty + by * bh\n",
    "    (x,y) = cuda.grid(2)\n",
    "\n",
    "    acc = 0.\n",
    "    for i in range(bpg):\n",
    "        if x < n and y < n:\n",
    "            sA[ty, tx] = A[y, tx + i * tpb]\n",
    "            sB[ty, tx] = B[ty + i * tpb, x]\n",
    "\n",
    "        cuda.syncthreads()\n",
    "\n",
    "        if x < n and y < n:\n",
    "            for j in range(tpb):\n",
    "                acc += sA[ty, j] * sB[j, tx]\n",
    "        if tx == 0:\n",
    "            acc *= 0\n",
    "\n",
    "        cuda.syncthreads()\n",
    "\n",
    "    if x < n and y < n:\n",
    "        C[y, x] = acc"
   ]
  },
  {
   "cell_type": "code",
   "execution_count": 484,
   "metadata": {
    "collapsed": false
   },
   "outputs": [],
   "source": [
    "@cuda.jit(argtypes=[int32[:],int32[:],int32,int32], target='gpu')\n",
    "def evaluate_polynomial(a,c,k,d):\n",
    "    i = cuda.grid(1)\n",
    "    N = 12\n",
    "    #we need a representation for the polynomial (x^(p-1),x^p,...x^0)\n",
    "    \n",
    "    if i<N:\n",
    "        alpha = i%3\n",
    "        degree = i%2\n",
    "        ind = degree #it just so happens that the degree is equal to the index in this case\n",
    "        offset = i/6*2\n",
    "        #cuda.syncthreads()\n",
    "        c[i] = a[ind+offset]*(alpha**degree)\n",
    "        "
   ]
  },
  {
   "cell_type": "code",
   "execution_count": 263,
   "metadata": {
    "collapsed": false
   },
   "outputs": [],
   "source": [
    "A = np.random.rand(n,n).astype(np.float32)*10\n",
    "B = np.random.rand(n,n).astype(np.float32)*10\n",
    "C = np.empty_like(A)\n",
    "griddim = bpg,bpg\n",
    "blockdim = tpb,tpb\n",
    "cu_square_matrix_mul[griddim,blockdim](A,B,C)"
   ]
  },
  {
   "cell_type": "code",
   "execution_count": 265,
   "metadata": {
    "collapsed": false
   },
   "outputs": [
    {
     "data": {
      "text/html": [
       "<div>\n",
       "<table border=\"1\" class=\"dataframe\">\n",
       "  <thead>\n",
       "    <tr style=\"text-align: right;\">\n",
       "      <th></th>\n",
       "      <th>0</th>\n",
       "      <th>1</th>\n",
       "      <th>2</th>\n",
       "      <th>3</th>\n",
       "      <th>4</th>\n",
       "      <th>5</th>\n",
       "      <th>6</th>\n",
       "      <th>7</th>\n",
       "      <th>8</th>\n",
       "      <th>9</th>\n",
       "      <th>...</th>\n",
       "      <th>790</th>\n",
       "      <th>791</th>\n",
       "      <th>792</th>\n",
       "      <th>793</th>\n",
       "      <th>794</th>\n",
       "      <th>795</th>\n",
       "      <th>796</th>\n",
       "      <th>797</th>\n",
       "      <th>798</th>\n",
       "      <th>799</th>\n",
       "    </tr>\n",
       "  </thead>\n",
       "  <tbody>\n",
       "    <tr>\n",
       "      <th>0</th>\n",
       "      <td>0</td>\n",
       "      <td>20362.650391</td>\n",
       "      <td>20100.792969</td>\n",
       "      <td>19768.201172</td>\n",
       "      <td>20530.488281</td>\n",
       "      <td>20244.927734</td>\n",
       "      <td>20384.294922</td>\n",
       "      <td>20056.382812</td>\n",
       "      <td>20390.447266</td>\n",
       "      <td>20159.640625</td>\n",
       "      <td>...</td>\n",
       "      <td>19276.900391</td>\n",
       "      <td>20322.943359</td>\n",
       "      <td>19087.113281</td>\n",
       "      <td>20006.199219</td>\n",
       "      <td>20350.349609</td>\n",
       "      <td>19951.314453</td>\n",
       "      <td>20290.951172</td>\n",
       "      <td>19695.160156</td>\n",
       "      <td>20291.625000</td>\n",
       "      <td>20094.509766</td>\n",
       "    </tr>\n",
       "    <tr>\n",
       "      <th>1</th>\n",
       "      <td>0</td>\n",
       "      <td>20055.414062</td>\n",
       "      <td>20186.660156</td>\n",
       "      <td>19293.089844</td>\n",
       "      <td>20403.470703</td>\n",
       "      <td>19843.544922</td>\n",
       "      <td>19791.513672</td>\n",
       "      <td>19606.222656</td>\n",
       "      <td>19765.492188</td>\n",
       "      <td>19458.404297</td>\n",
       "      <td>...</td>\n",
       "      <td>18887.158203</td>\n",
       "      <td>20150.824219</td>\n",
       "      <td>18659.615234</td>\n",
       "      <td>19401.031250</td>\n",
       "      <td>19912.220703</td>\n",
       "      <td>19665.724609</td>\n",
       "      <td>19528.138672</td>\n",
       "      <td>19724.552734</td>\n",
       "      <td>19799.296875</td>\n",
       "      <td>19608.214844</td>\n",
       "    </tr>\n",
       "    <tr>\n",
       "      <th>2</th>\n",
       "      <td>0</td>\n",
       "      <td>20707.853516</td>\n",
       "      <td>20214.939453</td>\n",
       "      <td>19541.041016</td>\n",
       "      <td>20315.896484</td>\n",
       "      <td>20232.890625</td>\n",
       "      <td>20275.398438</td>\n",
       "      <td>19392.457031</td>\n",
       "      <td>20062.890625</td>\n",
       "      <td>19926.275391</td>\n",
       "      <td>...</td>\n",
       "      <td>19600.943359</td>\n",
       "      <td>20725.890625</td>\n",
       "      <td>18938.816406</td>\n",
       "      <td>18923.156250</td>\n",
       "      <td>20555.671875</td>\n",
       "      <td>19434.953125</td>\n",
       "      <td>19554.935547</td>\n",
       "      <td>19563.421875</td>\n",
       "      <td>19774.462891</td>\n",
       "      <td>19749.224609</td>\n",
       "    </tr>\n",
       "    <tr>\n",
       "      <th>3</th>\n",
       "      <td>0</td>\n",
       "      <td>19691.238281</td>\n",
       "      <td>19895.681641</td>\n",
       "      <td>18834.558594</td>\n",
       "      <td>20747.060547</td>\n",
       "      <td>19778.761719</td>\n",
       "      <td>19847.716797</td>\n",
       "      <td>19330.638672</td>\n",
       "      <td>20018.460938</td>\n",
       "      <td>20103.580078</td>\n",
       "      <td>...</td>\n",
       "      <td>19363.470703</td>\n",
       "      <td>20119.822266</td>\n",
       "      <td>18732.691406</td>\n",
       "      <td>18618.119141</td>\n",
       "      <td>20073.287109</td>\n",
       "      <td>19322.267578</td>\n",
       "      <td>19546.138672</td>\n",
       "      <td>19494.853516</td>\n",
       "      <td>19573.187500</td>\n",
       "      <td>19718.779297</td>\n",
       "    </tr>\n",
       "    <tr>\n",
       "      <th>4</th>\n",
       "      <td>0</td>\n",
       "      <td>20639.193359</td>\n",
       "      <td>20154.216797</td>\n",
       "      <td>18697.433594</td>\n",
       "      <td>20161.287109</td>\n",
       "      <td>20075.093750</td>\n",
       "      <td>20356.810547</td>\n",
       "      <td>19439.128906</td>\n",
       "      <td>19762.087891</td>\n",
       "      <td>19904.197266</td>\n",
       "      <td>...</td>\n",
       "      <td>19412.005859</td>\n",
       "      <td>20328.662109</td>\n",
       "      <td>19184.884766</td>\n",
       "      <td>18938.683594</td>\n",
       "      <td>20732.824219</td>\n",
       "      <td>20049.052734</td>\n",
       "      <td>20278.728516</td>\n",
       "      <td>19809.185547</td>\n",
       "      <td>19977.134766</td>\n",
       "      <td>20387.929688</td>\n",
       "    </tr>\n",
       "    <tr>\n",
       "      <th>5</th>\n",
       "      <td>0</td>\n",
       "      <td>20147.878906</td>\n",
       "      <td>19821.455078</td>\n",
       "      <td>18962.316406</td>\n",
       "      <td>20248.271484</td>\n",
       "      <td>19746.658203</td>\n",
       "      <td>19736.589844</td>\n",
       "      <td>19281.320312</td>\n",
       "      <td>19469.625000</td>\n",
       "      <td>19564.835938</td>\n",
       "      <td>...</td>\n",
       "      <td>19012.289062</td>\n",
       "      <td>20177.892578</td>\n",
       "      <td>18471.351562</td>\n",
       "      <td>19050.263672</td>\n",
       "      <td>19880.244141</td>\n",
       "      <td>19509.244141</td>\n",
       "      <td>20044.957031</td>\n",
       "      <td>18862.291016</td>\n",
       "      <td>19622.939453</td>\n",
       "      <td>19301.957031</td>\n",
       "    </tr>\n",
       "    <tr>\n",
       "      <th>6</th>\n",
       "      <td>0</td>\n",
       "      <td>20052.316406</td>\n",
       "      <td>19630.699219</td>\n",
       "      <td>18783.880859</td>\n",
       "      <td>19949.861328</td>\n",
       "      <td>20127.962891</td>\n",
       "      <td>19645.029297</td>\n",
       "      <td>18788.250000</td>\n",
       "      <td>19682.906250</td>\n",
       "      <td>19472.875000</td>\n",
       "      <td>...</td>\n",
       "      <td>18736.179688</td>\n",
       "      <td>20214.146484</td>\n",
       "      <td>18596.597656</td>\n",
       "      <td>19357.259766</td>\n",
       "      <td>19811.771484</td>\n",
       "      <td>19750.281250</td>\n",
       "      <td>19425.003906</td>\n",
       "      <td>19403.146484</td>\n",
       "      <td>19435.419922</td>\n",
       "      <td>19297.482422</td>\n",
       "    </tr>\n",
       "    <tr>\n",
       "      <th>7</th>\n",
       "      <td>0</td>\n",
       "      <td>22339.070312</td>\n",
       "      <td>22472.082031</td>\n",
       "      <td>21044.437500</td>\n",
       "      <td>22265.775391</td>\n",
       "      <td>22001.998047</td>\n",
       "      <td>22055.500000</td>\n",
       "      <td>21124.679688</td>\n",
       "      <td>21789.013672</td>\n",
       "      <td>21846.953125</td>\n",
       "      <td>...</td>\n",
       "      <td>21125.046875</td>\n",
       "      <td>22349.501953</td>\n",
       "      <td>20611.765625</td>\n",
       "      <td>20554.156250</td>\n",
       "      <td>22065.246094</td>\n",
       "      <td>21771.664062</td>\n",
       "      <td>21886.376953</td>\n",
       "      <td>20990.476562</td>\n",
       "      <td>21457.593750</td>\n",
       "      <td>21445.583984</td>\n",
       "    </tr>\n",
       "    <tr>\n",
       "      <th>8</th>\n",
       "      <td>0</td>\n",
       "      <td>20268.765625</td>\n",
       "      <td>20448.960938</td>\n",
       "      <td>19743.246094</td>\n",
       "      <td>20362.857422</td>\n",
       "      <td>20509.505859</td>\n",
       "      <td>19973.861328</td>\n",
       "      <td>19170.621094</td>\n",
       "      <td>20343.980469</td>\n",
       "      <td>19863.318359</td>\n",
       "      <td>...</td>\n",
       "      <td>19395.992188</td>\n",
       "      <td>20530.421875</td>\n",
       "      <td>18943.650391</td>\n",
       "      <td>19578.744141</td>\n",
       "      <td>20271.685547</td>\n",
       "      <td>20051.953125</td>\n",
       "      <td>20477.320312</td>\n",
       "      <td>19426.335938</td>\n",
       "      <td>19854.173828</td>\n",
       "      <td>19742.974609</td>\n",
       "    </tr>\n",
       "    <tr>\n",
       "      <th>9</th>\n",
       "      <td>0</td>\n",
       "      <td>20797.853516</td>\n",
       "      <td>20656.160156</td>\n",
       "      <td>19447.646484</td>\n",
       "      <td>20990.689453</td>\n",
       "      <td>20311.443359</td>\n",
       "      <td>20573.222656</td>\n",
       "      <td>19810.064453</td>\n",
       "      <td>20770.765625</td>\n",
       "      <td>20085.246094</td>\n",
       "      <td>...</td>\n",
       "      <td>20158.218750</td>\n",
       "      <td>20728.765625</td>\n",
       "      <td>18993.894531</td>\n",
       "      <td>20071.326172</td>\n",
       "      <td>20718.576172</td>\n",
       "      <td>19688.435547</td>\n",
       "      <td>20580.890625</td>\n",
       "      <td>19916.207031</td>\n",
       "      <td>20251.070312</td>\n",
       "      <td>20300.306641</td>\n",
       "    </tr>\n",
       "    <tr>\n",
       "      <th>10</th>\n",
       "      <td>0</td>\n",
       "      <td>20147.123047</td>\n",
       "      <td>20044.410156</td>\n",
       "      <td>19093.521484</td>\n",
       "      <td>20325.917969</td>\n",
       "      <td>20471.923828</td>\n",
       "      <td>20483.759766</td>\n",
       "      <td>19880.699219</td>\n",
       "      <td>20539.857422</td>\n",
       "      <td>20123.734375</td>\n",
       "      <td>...</td>\n",
       "      <td>19558.578125</td>\n",
       "      <td>20251.242188</td>\n",
       "      <td>18798.863281</td>\n",
       "      <td>19498.048828</td>\n",
       "      <td>20458.335938</td>\n",
       "      <td>19882.550781</td>\n",
       "      <td>20031.259766</td>\n",
       "      <td>19264.736328</td>\n",
       "      <td>20067.513672</td>\n",
       "      <td>20099.121094</td>\n",
       "    </tr>\n",
       "    <tr>\n",
       "      <th>11</th>\n",
       "      <td>0</td>\n",
       "      <td>20876.259766</td>\n",
       "      <td>20914.222656</td>\n",
       "      <td>20069.447266</td>\n",
       "      <td>20916.009766</td>\n",
       "      <td>20138.029297</td>\n",
       "      <td>21117.748047</td>\n",
       "      <td>20102.839844</td>\n",
       "      <td>20756.015625</td>\n",
       "      <td>20806.654297</td>\n",
       "      <td>...</td>\n",
       "      <td>20121.609375</td>\n",
       "      <td>20642.230469</td>\n",
       "      <td>19570.445312</td>\n",
       "      <td>19775.054688</td>\n",
       "      <td>20483.642578</td>\n",
       "      <td>20111.248047</td>\n",
       "      <td>21165.910156</td>\n",
       "      <td>20397.115234</td>\n",
       "      <td>20849.044922</td>\n",
       "      <td>20819.435547</td>\n",
       "    </tr>\n",
       "    <tr>\n",
       "      <th>12</th>\n",
       "      <td>0</td>\n",
       "      <td>20624.796875</td>\n",
       "      <td>20317.830078</td>\n",
       "      <td>19857.240234</td>\n",
       "      <td>20050.783203</td>\n",
       "      <td>20363.919922</td>\n",
       "      <td>20681.478516</td>\n",
       "      <td>19878.039062</td>\n",
       "      <td>20391.765625</td>\n",
       "      <td>19893.515625</td>\n",
       "      <td>...</td>\n",
       "      <td>19366.833984</td>\n",
       "      <td>20811.603516</td>\n",
       "      <td>19291.611328</td>\n",
       "      <td>19979.429688</td>\n",
       "      <td>20194.015625</td>\n",
       "      <td>19661.486328</td>\n",
       "      <td>20306.769531</td>\n",
       "      <td>19913.044922</td>\n",
       "      <td>19492.828125</td>\n",
       "      <td>19805.109375</td>\n",
       "    </tr>\n",
       "    <tr>\n",
       "      <th>13</th>\n",
       "      <td>0</td>\n",
       "      <td>20710.476562</td>\n",
       "      <td>20212.931641</td>\n",
       "      <td>19541.167969</td>\n",
       "      <td>20422.060547</td>\n",
       "      <td>20541.521484</td>\n",
       "      <td>20135.759766</td>\n",
       "      <td>19840.972656</td>\n",
       "      <td>20617.119141</td>\n",
       "      <td>20058.107422</td>\n",
       "      <td>...</td>\n",
       "      <td>20021.998047</td>\n",
       "      <td>20659.011719</td>\n",
       "      <td>18866.876953</td>\n",
       "      <td>19613.925781</td>\n",
       "      <td>20193.080078</td>\n",
       "      <td>20201.177734</td>\n",
       "      <td>20012.867188</td>\n",
       "      <td>20242.935547</td>\n",
       "      <td>20210.218750</td>\n",
       "      <td>20035.041016</td>\n",
       "    </tr>\n",
       "    <tr>\n",
       "      <th>14</th>\n",
       "      <td>0</td>\n",
       "      <td>19706.089844</td>\n",
       "      <td>20045.427734</td>\n",
       "      <td>18976.519531</td>\n",
       "      <td>20307.027344</td>\n",
       "      <td>19982.707031</td>\n",
       "      <td>19824.871094</td>\n",
       "      <td>19066.189453</td>\n",
       "      <td>19524.542969</td>\n",
       "      <td>19648.039062</td>\n",
       "      <td>...</td>\n",
       "      <td>18821.275391</td>\n",
       "      <td>19870.378906</td>\n",
       "      <td>18621.900391</td>\n",
       "      <td>19212.363281</td>\n",
       "      <td>19647.115234</td>\n",
       "      <td>19714.830078</td>\n",
       "      <td>19649.337891</td>\n",
       "      <td>19361.130859</td>\n",
       "      <td>19558.113281</td>\n",
       "      <td>19847.310547</td>\n",
       "    </tr>\n",
       "    <tr>\n",
       "      <th>15</th>\n",
       "      <td>0</td>\n",
       "      <td>19459.529297</td>\n",
       "      <td>19862.791016</td>\n",
       "      <td>18712.890625</td>\n",
       "      <td>19685.314453</td>\n",
       "      <td>19498.417969</td>\n",
       "      <td>20206.998047</td>\n",
       "      <td>18395.527344</td>\n",
       "      <td>19449.304688</td>\n",
       "      <td>19453.496094</td>\n",
       "      <td>...</td>\n",
       "      <td>19043.814453</td>\n",
       "      <td>18889.441406</td>\n",
       "      <td>18191.095703</td>\n",
       "      <td>18462.748047</td>\n",
       "      <td>19462.669922</td>\n",
       "      <td>19240.173828</td>\n",
       "      <td>19650.642578</td>\n",
       "      <td>18927.119141</td>\n",
       "      <td>19318.207031</td>\n",
       "      <td>19651.101562</td>\n",
       "    </tr>\n",
       "    <tr>\n",
       "      <th>16</th>\n",
       "      <td>0</td>\n",
       "      <td>19684.785156</td>\n",
       "      <td>19568.501953</td>\n",
       "      <td>18827.714844</td>\n",
       "      <td>20371.230469</td>\n",
       "      <td>19544.226562</td>\n",
       "      <td>19864.576172</td>\n",
       "      <td>18814.822266</td>\n",
       "      <td>19919.232422</td>\n",
       "      <td>19903.908203</td>\n",
       "      <td>...</td>\n",
       "      <td>18828.742188</td>\n",
       "      <td>20402.734375</td>\n",
       "      <td>18511.630859</td>\n",
       "      <td>18980.560547</td>\n",
       "      <td>19826.947266</td>\n",
       "      <td>19611.968750</td>\n",
       "      <td>19441.396484</td>\n",
       "      <td>19263.343750</td>\n",
       "      <td>19580.794922</td>\n",
       "      <td>19194.429688</td>\n",
       "    </tr>\n",
       "    <tr>\n",
       "      <th>17</th>\n",
       "      <td>0</td>\n",
       "      <td>20836.628906</td>\n",
       "      <td>20559.646484</td>\n",
       "      <td>20080.722656</td>\n",
       "      <td>20728.984375</td>\n",
       "      <td>20338.742188</td>\n",
       "      <td>20433.599609</td>\n",
       "      <td>20312.289062</td>\n",
       "      <td>20417.498047</td>\n",
       "      <td>20169.015625</td>\n",
       "      <td>...</td>\n",
       "      <td>20103.880859</td>\n",
       "      <td>20478.912109</td>\n",
       "      <td>19014.617188</td>\n",
       "      <td>19601.267578</td>\n",
       "      <td>20461.023438</td>\n",
       "      <td>20288.031250</td>\n",
       "      <td>20195.253906</td>\n",
       "      <td>19744.802734</td>\n",
       "      <td>20042.972656</td>\n",
       "      <td>19974.908203</td>\n",
       "    </tr>\n",
       "    <tr>\n",
       "      <th>18</th>\n",
       "      <td>0</td>\n",
       "      <td>19942.740234</td>\n",
       "      <td>19678.150391</td>\n",
       "      <td>19247.347656</td>\n",
       "      <td>19604.964844</td>\n",
       "      <td>19761.738281</td>\n",
       "      <td>19753.716797</td>\n",
       "      <td>19223.849609</td>\n",
       "      <td>19680.933594</td>\n",
       "      <td>19863.615234</td>\n",
       "      <td>...</td>\n",
       "      <td>19465.419922</td>\n",
       "      <td>20202.896484</td>\n",
       "      <td>18785.214844</td>\n",
       "      <td>18924.531250</td>\n",
       "      <td>20009.576172</td>\n",
       "      <td>19685.326172</td>\n",
       "      <td>19723.222656</td>\n",
       "      <td>19768.037109</td>\n",
       "      <td>19381.179688</td>\n",
       "      <td>19431.380859</td>\n",
       "    </tr>\n",
       "    <tr>\n",
       "      <th>19</th>\n",
       "      <td>0</td>\n",
       "      <td>20130.519531</td>\n",
       "      <td>20002.107422</td>\n",
       "      <td>19352.976562</td>\n",
       "      <td>20370.035156</td>\n",
       "      <td>20042.148438</td>\n",
       "      <td>20282.500000</td>\n",
       "      <td>19156.443359</td>\n",
       "      <td>19927.808594</td>\n",
       "      <td>19924.875000</td>\n",
       "      <td>...</td>\n",
       "      <td>19041.468750</td>\n",
       "      <td>20245.351562</td>\n",
       "      <td>18763.869141</td>\n",
       "      <td>19495.164062</td>\n",
       "      <td>19576.662109</td>\n",
       "      <td>19251.498047</td>\n",
       "      <td>19820.148438</td>\n",
       "      <td>19523.449219</td>\n",
       "      <td>19721.857422</td>\n",
       "      <td>19997.130859</td>\n",
       "    </tr>\n",
       "    <tr>\n",
       "      <th>20</th>\n",
       "      <td>0</td>\n",
       "      <td>20242.960938</td>\n",
       "      <td>20791.509766</td>\n",
       "      <td>19639.783203</td>\n",
       "      <td>21007.216797</td>\n",
       "      <td>20001.375000</td>\n",
       "      <td>20482.847656</td>\n",
       "      <td>19487.617188</td>\n",
       "      <td>19877.558594</td>\n",
       "      <td>20435.880859</td>\n",
       "      <td>...</td>\n",
       "      <td>19783.611328</td>\n",
       "      <td>20235.400391</td>\n",
       "      <td>19247.359375</td>\n",
       "      <td>19066.351562</td>\n",
       "      <td>20110.037109</td>\n",
       "      <td>19995.285156</td>\n",
       "      <td>20310.861328</td>\n",
       "      <td>19549.271484</td>\n",
       "      <td>20251.623047</td>\n",
       "      <td>20052.146484</td>\n",
       "    </tr>\n",
       "    <tr>\n",
       "      <th>21</th>\n",
       "      <td>0</td>\n",
       "      <td>20168.166016</td>\n",
       "      <td>20484.822266</td>\n",
       "      <td>19808.044922</td>\n",
       "      <td>20599.656250</td>\n",
       "      <td>20332.080078</td>\n",
       "      <td>20298.968750</td>\n",
       "      <td>19966.664062</td>\n",
       "      <td>20099.519531</td>\n",
       "      <td>20218.595703</td>\n",
       "      <td>...</td>\n",
       "      <td>19595.710938</td>\n",
       "      <td>20691.650391</td>\n",
       "      <td>19192.611328</td>\n",
       "      <td>19184.527344</td>\n",
       "      <td>20167.511719</td>\n",
       "      <td>20110.250000</td>\n",
       "      <td>20000.976562</td>\n",
       "      <td>19775.908203</td>\n",
       "      <td>19964.021484</td>\n",
       "      <td>20195.996094</td>\n",
       "    </tr>\n",
       "    <tr>\n",
       "      <th>22</th>\n",
       "      <td>0</td>\n",
       "      <td>20914.750000</td>\n",
       "      <td>20068.779297</td>\n",
       "      <td>19088.968750</td>\n",
       "      <td>20699.251953</td>\n",
       "      <td>20037.640625</td>\n",
       "      <td>20695.199219</td>\n",
       "      <td>19833.056641</td>\n",
       "      <td>20835.892578</td>\n",
       "      <td>20321.710938</td>\n",
       "      <td>...</td>\n",
       "      <td>19306.054688</td>\n",
       "      <td>20279.296875</td>\n",
       "      <td>19048.744141</td>\n",
       "      <td>19788.730469</td>\n",
       "      <td>20395.767578</td>\n",
       "      <td>19862.386719</td>\n",
       "      <td>20032.304688</td>\n",
       "      <td>19845.333984</td>\n",
       "      <td>20529.412109</td>\n",
       "      <td>19795.363281</td>\n",
       "    </tr>\n",
       "    <tr>\n",
       "      <th>23</th>\n",
       "      <td>0</td>\n",
       "      <td>20606.958984</td>\n",
       "      <td>20471.166016</td>\n",
       "      <td>19428.765625</td>\n",
       "      <td>20881.572266</td>\n",
       "      <td>20414.771484</td>\n",
       "      <td>20413.667969</td>\n",
       "      <td>20063.810547</td>\n",
       "      <td>20492.648438</td>\n",
       "      <td>20642.607422</td>\n",
       "      <td>...</td>\n",
       "      <td>19397.628906</td>\n",
       "      <td>20391.158203</td>\n",
       "      <td>19497.107422</td>\n",
       "      <td>19755.949219</td>\n",
       "      <td>20572.996094</td>\n",
       "      <td>20220.439453</td>\n",
       "      <td>20080.587891</td>\n",
       "      <td>19879.886719</td>\n",
       "      <td>19955.888672</td>\n",
       "      <td>20061.662109</td>\n",
       "    </tr>\n",
       "    <tr>\n",
       "      <th>24</th>\n",
       "      <td>0</td>\n",
       "      <td>20695.078125</td>\n",
       "      <td>19983.464844</td>\n",
       "      <td>19716.294922</td>\n",
       "      <td>20402.755859</td>\n",
       "      <td>19979.732422</td>\n",
       "      <td>20212.884766</td>\n",
       "      <td>19514.701172</td>\n",
       "      <td>19999.583984</td>\n",
       "      <td>19807.603516</td>\n",
       "      <td>...</td>\n",
       "      <td>19505.417969</td>\n",
       "      <td>20584.890625</td>\n",
       "      <td>19339.394531</td>\n",
       "      <td>19357.195312</td>\n",
       "      <td>19826.363281</td>\n",
       "      <td>19556.695312</td>\n",
       "      <td>20374.167969</td>\n",
       "      <td>20268.058594</td>\n",
       "      <td>20120.501953</td>\n",
       "      <td>20304.046875</td>\n",
       "    </tr>\n",
       "    <tr>\n",
       "      <th>25</th>\n",
       "      <td>0</td>\n",
       "      <td>20345.605469</td>\n",
       "      <td>20092.164062</td>\n",
       "      <td>19185.716797</td>\n",
       "      <td>20391.828125</td>\n",
       "      <td>19677.695312</td>\n",
       "      <td>20015.757812</td>\n",
       "      <td>19448.958984</td>\n",
       "      <td>19928.156250</td>\n",
       "      <td>19806.125000</td>\n",
       "      <td>...</td>\n",
       "      <td>19302.189453</td>\n",
       "      <td>20015.562500</td>\n",
       "      <td>19082.964844</td>\n",
       "      <td>19294.369141</td>\n",
       "      <td>20060.603516</td>\n",
       "      <td>18978.431641</td>\n",
       "      <td>19861.542969</td>\n",
       "      <td>19768.205078</td>\n",
       "      <td>19667.941406</td>\n",
       "      <td>20118.513672</td>\n",
       "    </tr>\n",
       "    <tr>\n",
       "      <th>26</th>\n",
       "      <td>0</td>\n",
       "      <td>20662.777344</td>\n",
       "      <td>20739.873047</td>\n",
       "      <td>19671.832031</td>\n",
       "      <td>20669.675781</td>\n",
       "      <td>20000.152344</td>\n",
       "      <td>20276.769531</td>\n",
       "      <td>19923.669922</td>\n",
       "      <td>20345.781250</td>\n",
       "      <td>19781.050781</td>\n",
       "      <td>...</td>\n",
       "      <td>19463.078125</td>\n",
       "      <td>20398.748047</td>\n",
       "      <td>19270.958984</td>\n",
       "      <td>19594.062500</td>\n",
       "      <td>20254.365234</td>\n",
       "      <td>20128.837891</td>\n",
       "      <td>20406.503906</td>\n",
       "      <td>19327.017578</td>\n",
       "      <td>20158.039062</td>\n",
       "      <td>19827.505859</td>\n",
       "    </tr>\n",
       "    <tr>\n",
       "      <th>27</th>\n",
       "      <td>0</td>\n",
       "      <td>22096.378906</td>\n",
       "      <td>21616.583984</td>\n",
       "      <td>20648.171875</td>\n",
       "      <td>21804.705078</td>\n",
       "      <td>21523.265625</td>\n",
       "      <td>21664.705078</td>\n",
       "      <td>21088.343750</td>\n",
       "      <td>21251.203125</td>\n",
       "      <td>21503.970703</td>\n",
       "      <td>...</td>\n",
       "      <td>19914.710938</td>\n",
       "      <td>21631.515625</td>\n",
       "      <td>19967.017578</td>\n",
       "      <td>20923.650391</td>\n",
       "      <td>21488.765625</td>\n",
       "      <td>21341.746094</td>\n",
       "      <td>21260.724609</td>\n",
       "      <td>20944.019531</td>\n",
       "      <td>20969.878906</td>\n",
       "      <td>20905.558594</td>\n",
       "    </tr>\n",
       "    <tr>\n",
       "      <th>28</th>\n",
       "      <td>0</td>\n",
       "      <td>20586.210938</td>\n",
       "      <td>20824.130859</td>\n",
       "      <td>20408.886719</td>\n",
       "      <td>20645.712891</td>\n",
       "      <td>20408.714844</td>\n",
       "      <td>20693.560547</td>\n",
       "      <td>19769.408203</td>\n",
       "      <td>20143.937500</td>\n",
       "      <td>19935.474609</td>\n",
       "      <td>...</td>\n",
       "      <td>19589.531250</td>\n",
       "      <td>21020.896484</td>\n",
       "      <td>19512.625000</td>\n",
       "      <td>19860.339844</td>\n",
       "      <td>20370.337891</td>\n",
       "      <td>20362.849609</td>\n",
       "      <td>20363.558594</td>\n",
       "      <td>20000.218750</td>\n",
       "      <td>20253.896484</td>\n",
       "      <td>20108.607422</td>\n",
       "    </tr>\n",
       "    <tr>\n",
       "      <th>29</th>\n",
       "      <td>0</td>\n",
       "      <td>21033.845703</td>\n",
       "      <td>20379.037109</td>\n",
       "      <td>19956.236328</td>\n",
       "      <td>21276.570312</td>\n",
       "      <td>20535.443359</td>\n",
       "      <td>20332.888672</td>\n",
       "      <td>20223.339844</td>\n",
       "      <td>20253.144531</td>\n",
       "      <td>20500.708984</td>\n",
       "      <td>...</td>\n",
       "      <td>19755.832031</td>\n",
       "      <td>21443.423828</td>\n",
       "      <td>19165.068359</td>\n",
       "      <td>19770.734375</td>\n",
       "      <td>20664.687500</td>\n",
       "      <td>20312.826172</td>\n",
       "      <td>20646.966797</td>\n",
       "      <td>20121.894531</td>\n",
       "      <td>20286.656250</td>\n",
       "      <td>20716.453125</td>\n",
       "    </tr>\n",
       "    <tr>\n",
       "      <th>...</th>\n",
       "      <td>...</td>\n",
       "      <td>...</td>\n",
       "      <td>...</td>\n",
       "      <td>...</td>\n",
       "      <td>...</td>\n",
       "      <td>...</td>\n",
       "      <td>...</td>\n",
       "      <td>...</td>\n",
       "      <td>...</td>\n",
       "      <td>...</td>\n",
       "      <td>...</td>\n",
       "      <td>...</td>\n",
       "      <td>...</td>\n",
       "      <td>...</td>\n",
       "      <td>...</td>\n",
       "      <td>...</td>\n",
       "      <td>...</td>\n",
       "      <td>...</td>\n",
       "      <td>...</td>\n",
       "      <td>...</td>\n",
       "      <td>...</td>\n",
       "    </tr>\n",
       "    <tr>\n",
       "      <th>770</th>\n",
       "      <td>0</td>\n",
       "      <td>20786.759766</td>\n",
       "      <td>20845.816406</td>\n",
       "      <td>19540.873047</td>\n",
       "      <td>20913.947266</td>\n",
       "      <td>20341.033203</td>\n",
       "      <td>21123.847656</td>\n",
       "      <td>19952.937500</td>\n",
       "      <td>20657.130859</td>\n",
       "      <td>20398.876953</td>\n",
       "      <td>...</td>\n",
       "      <td>19585.980469</td>\n",
       "      <td>20553.093750</td>\n",
       "      <td>19979.521484</td>\n",
       "      <td>19849.042969</td>\n",
       "      <td>20918.580078</td>\n",
       "      <td>20176.769531</td>\n",
       "      <td>19910.779297</td>\n",
       "      <td>19948.457031</td>\n",
       "      <td>20429.501953</td>\n",
       "      <td>20439.880859</td>\n",
       "    </tr>\n",
       "    <tr>\n",
       "      <th>771</th>\n",
       "      <td>0</td>\n",
       "      <td>20753.185547</td>\n",
       "      <td>20412.712891</td>\n",
       "      <td>19265.775391</td>\n",
       "      <td>20694.794922</td>\n",
       "      <td>20187.789062</td>\n",
       "      <td>20418.271484</td>\n",
       "      <td>19128.482422</td>\n",
       "      <td>20128.369141</td>\n",
       "      <td>20323.601562</td>\n",
       "      <td>...</td>\n",
       "      <td>19524.367188</td>\n",
       "      <td>20131.058594</td>\n",
       "      <td>18728.365234</td>\n",
       "      <td>18991.972656</td>\n",
       "      <td>20528.730469</td>\n",
       "      <td>20280.224609</td>\n",
       "      <td>19869.175781</td>\n",
       "      <td>19798.935547</td>\n",
       "      <td>20028.212891</td>\n",
       "      <td>19955.015625</td>\n",
       "    </tr>\n",
       "    <tr>\n",
       "      <th>772</th>\n",
       "      <td>0</td>\n",
       "      <td>20950.714844</td>\n",
       "      <td>21037.302734</td>\n",
       "      <td>20184.546875</td>\n",
       "      <td>20957.794922</td>\n",
       "      <td>20962.482422</td>\n",
       "      <td>21000.281250</td>\n",
       "      <td>20251.064453</td>\n",
       "      <td>20614.601562</td>\n",
       "      <td>20536.750000</td>\n",
       "      <td>...</td>\n",
       "      <td>20170.015625</td>\n",
       "      <td>20612.388672</td>\n",
       "      <td>19874.791016</td>\n",
       "      <td>20146.587891</td>\n",
       "      <td>20984.146484</td>\n",
       "      <td>20496.941406</td>\n",
       "      <td>20556.906250</td>\n",
       "      <td>20190.814453</td>\n",
       "      <td>20480.986328</td>\n",
       "      <td>20604.808594</td>\n",
       "    </tr>\n",
       "    <tr>\n",
       "      <th>773</th>\n",
       "      <td>0</td>\n",
       "      <td>20029.167969</td>\n",
       "      <td>20509.822266</td>\n",
       "      <td>19440.238281</td>\n",
       "      <td>20094.851562</td>\n",
       "      <td>20269.138672</td>\n",
       "      <td>19831.287109</td>\n",
       "      <td>19065.062500</td>\n",
       "      <td>19599.070312</td>\n",
       "      <td>19517.113281</td>\n",
       "      <td>...</td>\n",
       "      <td>19003.351562</td>\n",
       "      <td>20460.113281</td>\n",
       "      <td>18538.058594</td>\n",
       "      <td>18703.052734</td>\n",
       "      <td>19865.599609</td>\n",
       "      <td>19610.347656</td>\n",
       "      <td>19525.195312</td>\n",
       "      <td>19004.292969</td>\n",
       "      <td>19676.693359</td>\n",
       "      <td>19513.302734</td>\n",
       "    </tr>\n",
       "    <tr>\n",
       "      <th>774</th>\n",
       "      <td>0</td>\n",
       "      <td>20549.560547</td>\n",
       "      <td>20090.482422</td>\n",
       "      <td>19574.578125</td>\n",
       "      <td>20765.730469</td>\n",
       "      <td>19931.787109</td>\n",
       "      <td>20715.173828</td>\n",
       "      <td>19558.457031</td>\n",
       "      <td>20315.130859</td>\n",
       "      <td>19907.847656</td>\n",
       "      <td>...</td>\n",
       "      <td>19627.544922</td>\n",
       "      <td>20678.644531</td>\n",
       "      <td>19132.757812</td>\n",
       "      <td>19240.367188</td>\n",
       "      <td>20196.203125</td>\n",
       "      <td>20188.070312</td>\n",
       "      <td>20281.675781</td>\n",
       "      <td>19594.892578</td>\n",
       "      <td>20260.306641</td>\n",
       "      <td>19901.013672</td>\n",
       "    </tr>\n",
       "    <tr>\n",
       "      <th>775</th>\n",
       "      <td>0</td>\n",
       "      <td>20492.861328</td>\n",
       "      <td>20786.982422</td>\n",
       "      <td>19433.757812</td>\n",
       "      <td>20520.085938</td>\n",
       "      <td>20411.609375</td>\n",
       "      <td>20195.099609</td>\n",
       "      <td>19677.546875</td>\n",
       "      <td>20764.683594</td>\n",
       "      <td>20372.326172</td>\n",
       "      <td>...</td>\n",
       "      <td>19757.689453</td>\n",
       "      <td>20870.146484</td>\n",
       "      <td>18916.972656</td>\n",
       "      <td>19415.527344</td>\n",
       "      <td>20616.185547</td>\n",
       "      <td>20036.357422</td>\n",
       "      <td>20265.511719</td>\n",
       "      <td>19835.931641</td>\n",
       "      <td>19986.435547</td>\n",
       "      <td>19829.718750</td>\n",
       "    </tr>\n",
       "    <tr>\n",
       "      <th>776</th>\n",
       "      <td>0</td>\n",
       "      <td>20319.167969</td>\n",
       "      <td>19749.220703</td>\n",
       "      <td>19061.015625</td>\n",
       "      <td>19766.345703</td>\n",
       "      <td>19688.156250</td>\n",
       "      <td>19954.460938</td>\n",
       "      <td>18617.166016</td>\n",
       "      <td>19496.150391</td>\n",
       "      <td>19451.943359</td>\n",
       "      <td>...</td>\n",
       "      <td>19091.443359</td>\n",
       "      <td>19674.953125</td>\n",
       "      <td>18472.169922</td>\n",
       "      <td>18922.291016</td>\n",
       "      <td>19366.503906</td>\n",
       "      <td>19480.546875</td>\n",
       "      <td>19751.437500</td>\n",
       "      <td>19651.183594</td>\n",
       "      <td>19035.148438</td>\n",
       "      <td>19395.367188</td>\n",
       "    </tr>\n",
       "    <tr>\n",
       "      <th>777</th>\n",
       "      <td>0</td>\n",
       "      <td>21466.521484</td>\n",
       "      <td>21772.914062</td>\n",
       "      <td>20550.027344</td>\n",
       "      <td>21828.867188</td>\n",
       "      <td>21025.363281</td>\n",
       "      <td>21180.173828</td>\n",
       "      <td>20387.353516</td>\n",
       "      <td>21567.271484</td>\n",
       "      <td>20763.621094</td>\n",
       "      <td>...</td>\n",
       "      <td>20471.505859</td>\n",
       "      <td>21195.623047</td>\n",
       "      <td>19821.945312</td>\n",
       "      <td>20081.796875</td>\n",
       "      <td>21492.275391</td>\n",
       "      <td>20694.371094</td>\n",
       "      <td>21187.500000</td>\n",
       "      <td>20606.603516</td>\n",
       "      <td>20678.003906</td>\n",
       "      <td>21378.097656</td>\n",
       "    </tr>\n",
       "    <tr>\n",
       "      <th>778</th>\n",
       "      <td>0</td>\n",
       "      <td>19959.605469</td>\n",
       "      <td>20364.765625</td>\n",
       "      <td>19123.923828</td>\n",
       "      <td>20624.478516</td>\n",
       "      <td>20017.722656</td>\n",
       "      <td>20212.658203</td>\n",
       "      <td>19113.824219</td>\n",
       "      <td>20227.691406</td>\n",
       "      <td>20260.236328</td>\n",
       "      <td>...</td>\n",
       "      <td>19640.939453</td>\n",
       "      <td>20174.429688</td>\n",
       "      <td>18481.861328</td>\n",
       "      <td>19042.070312</td>\n",
       "      <td>20007.220703</td>\n",
       "      <td>19638.658203</td>\n",
       "      <td>20060.597656</td>\n",
       "      <td>19872.298828</td>\n",
       "      <td>19711.794922</td>\n",
       "      <td>19316.160156</td>\n",
       "    </tr>\n",
       "    <tr>\n",
       "      <th>779</th>\n",
       "      <td>0</td>\n",
       "      <td>19502.529297</td>\n",
       "      <td>19471.326172</td>\n",
       "      <td>18993.085938</td>\n",
       "      <td>19847.207031</td>\n",
       "      <td>19374.353516</td>\n",
       "      <td>19660.113281</td>\n",
       "      <td>18925.650391</td>\n",
       "      <td>19460.953125</td>\n",
       "      <td>19426.458984</td>\n",
       "      <td>...</td>\n",
       "      <td>19221.863281</td>\n",
       "      <td>19574.773438</td>\n",
       "      <td>18285.583984</td>\n",
       "      <td>18749.367188</td>\n",
       "      <td>19527.923828</td>\n",
       "      <td>19505.156250</td>\n",
       "      <td>19625.919922</td>\n",
       "      <td>18937.626953</td>\n",
       "      <td>19125.109375</td>\n",
       "      <td>19329.849609</td>\n",
       "    </tr>\n",
       "    <tr>\n",
       "      <th>780</th>\n",
       "      <td>0</td>\n",
       "      <td>21076.531250</td>\n",
       "      <td>21393.267578</td>\n",
       "      <td>20040.695312</td>\n",
       "      <td>21262.787109</td>\n",
       "      <td>20715.291016</td>\n",
       "      <td>20883.615234</td>\n",
       "      <td>20584.683594</td>\n",
       "      <td>20859.808594</td>\n",
       "      <td>20815.041016</td>\n",
       "      <td>...</td>\n",
       "      <td>20457.287109</td>\n",
       "      <td>21142.109375</td>\n",
       "      <td>19838.339844</td>\n",
       "      <td>19535.902344</td>\n",
       "      <td>21357.941406</td>\n",
       "      <td>20528.023438</td>\n",
       "      <td>20942.822266</td>\n",
       "      <td>20581.228516</td>\n",
       "      <td>20840.132812</td>\n",
       "      <td>20799.625000</td>\n",
       "    </tr>\n",
       "    <tr>\n",
       "      <th>781</th>\n",
       "      <td>0</td>\n",
       "      <td>20696.689453</td>\n",
       "      <td>20520.195312</td>\n",
       "      <td>19862.974609</td>\n",
       "      <td>20589.531250</td>\n",
       "      <td>20137.707031</td>\n",
       "      <td>20162.511719</td>\n",
       "      <td>19634.158203</td>\n",
       "      <td>20428.541016</td>\n",
       "      <td>20291.449219</td>\n",
       "      <td>...</td>\n",
       "      <td>19690.767578</td>\n",
       "      <td>20282.878906</td>\n",
       "      <td>19085.390625</td>\n",
       "      <td>19182.849609</td>\n",
       "      <td>20454.337891</td>\n",
       "      <td>19938.228516</td>\n",
       "      <td>20471.927734</td>\n",
       "      <td>20050.324219</td>\n",
       "      <td>19971.285156</td>\n",
       "      <td>20188.980469</td>\n",
       "    </tr>\n",
       "    <tr>\n",
       "      <th>782</th>\n",
       "      <td>0</td>\n",
       "      <td>20686.068359</td>\n",
       "      <td>20561.587891</td>\n",
       "      <td>19782.679688</td>\n",
       "      <td>20996.701172</td>\n",
       "      <td>20884.632812</td>\n",
       "      <td>20469.988281</td>\n",
       "      <td>20001.066406</td>\n",
       "      <td>20784.171875</td>\n",
       "      <td>20476.439453</td>\n",
       "      <td>...</td>\n",
       "      <td>20015.884766</td>\n",
       "      <td>20429.652344</td>\n",
       "      <td>19372.480469</td>\n",
       "      <td>19529.033203</td>\n",
       "      <td>20684.736328</td>\n",
       "      <td>20397.449219</td>\n",
       "      <td>20330.878906</td>\n",
       "      <td>20033.101562</td>\n",
       "      <td>20236.496094</td>\n",
       "      <td>20557.966797</td>\n",
       "    </tr>\n",
       "    <tr>\n",
       "      <th>783</th>\n",
       "      <td>0</td>\n",
       "      <td>20983.496094</td>\n",
       "      <td>20285.224609</td>\n",
       "      <td>19676.445312</td>\n",
       "      <td>20750.943359</td>\n",
       "      <td>20349.318359</td>\n",
       "      <td>20425.191406</td>\n",
       "      <td>19807.390625</td>\n",
       "      <td>20387.130859</td>\n",
       "      <td>20141.007812</td>\n",
       "      <td>...</td>\n",
       "      <td>19839.763672</td>\n",
       "      <td>20259.767578</td>\n",
       "      <td>19488.757812</td>\n",
       "      <td>19512.076172</td>\n",
       "      <td>20582.392578</td>\n",
       "      <td>20256.003906</td>\n",
       "      <td>20309.369141</td>\n",
       "      <td>19266.396484</td>\n",
       "      <td>19913.458984</td>\n",
       "      <td>20264.130859</td>\n",
       "    </tr>\n",
       "    <tr>\n",
       "      <th>784</th>\n",
       "      <td>0</td>\n",
       "      <td>20794.283203</td>\n",
       "      <td>20418.396484</td>\n",
       "      <td>19357.111328</td>\n",
       "      <td>21116.873047</td>\n",
       "      <td>20014.568359</td>\n",
       "      <td>20592.972656</td>\n",
       "      <td>19629.441406</td>\n",
       "      <td>20587.304688</td>\n",
       "      <td>20368.232422</td>\n",
       "      <td>...</td>\n",
       "      <td>20201.105469</td>\n",
       "      <td>20934.376953</td>\n",
       "      <td>19164.353516</td>\n",
       "      <td>19875.722656</td>\n",
       "      <td>20512.626953</td>\n",
       "      <td>20315.812500</td>\n",
       "      <td>20256.931641</td>\n",
       "      <td>20007.289062</td>\n",
       "      <td>20307.808594</td>\n",
       "      <td>19795.949219</td>\n",
       "    </tr>\n",
       "    <tr>\n",
       "      <th>785</th>\n",
       "      <td>0</td>\n",
       "      <td>20815.490234</td>\n",
       "      <td>20222.343750</td>\n",
       "      <td>19702.072266</td>\n",
       "      <td>20325.460938</td>\n",
       "      <td>20426.060547</td>\n",
       "      <td>20595.136719</td>\n",
       "      <td>20282.490234</td>\n",
       "      <td>20351.490234</td>\n",
       "      <td>20102.513672</td>\n",
       "      <td>...</td>\n",
       "      <td>19709.093750</td>\n",
       "      <td>21027.935547</td>\n",
       "      <td>19091.921875</td>\n",
       "      <td>19506.748047</td>\n",
       "      <td>20362.611328</td>\n",
       "      <td>19635.283203</td>\n",
       "      <td>20208.585938</td>\n",
       "      <td>19672.460938</td>\n",
       "      <td>20542.882812</td>\n",
       "      <td>19739.388672</td>\n",
       "    </tr>\n",
       "    <tr>\n",
       "      <th>786</th>\n",
       "      <td>0</td>\n",
       "      <td>21027.876953</td>\n",
       "      <td>20067.126953</td>\n",
       "      <td>19824.589844</td>\n",
       "      <td>20760.466797</td>\n",
       "      <td>20647.595703</td>\n",
       "      <td>21009.361328</td>\n",
       "      <td>20177.650391</td>\n",
       "      <td>20744.173828</td>\n",
       "      <td>20306.615234</td>\n",
       "      <td>...</td>\n",
       "      <td>19194.115234</td>\n",
       "      <td>21119.121094</td>\n",
       "      <td>19302.703125</td>\n",
       "      <td>19413.464844</td>\n",
       "      <td>20320.333984</td>\n",
       "      <td>20073.369141</td>\n",
       "      <td>20292.628906</td>\n",
       "      <td>19955.945312</td>\n",
       "      <td>20181.166016</td>\n",
       "      <td>20625.970703</td>\n",
       "    </tr>\n",
       "    <tr>\n",
       "      <th>787</th>\n",
       "      <td>0</td>\n",
       "      <td>20759.830078</td>\n",
       "      <td>20450.613281</td>\n",
       "      <td>19858.447266</td>\n",
       "      <td>20258.134766</td>\n",
       "      <td>20138.140625</td>\n",
       "      <td>20864.058594</td>\n",
       "      <td>19542.455078</td>\n",
       "      <td>20619.556641</td>\n",
       "      <td>20029.052734</td>\n",
       "      <td>...</td>\n",
       "      <td>19205.455078</td>\n",
       "      <td>20589.246094</td>\n",
       "      <td>19264.322266</td>\n",
       "      <td>19972.648438</td>\n",
       "      <td>19895.542969</td>\n",
       "      <td>19545.568359</td>\n",
       "      <td>20245.380859</td>\n",
       "      <td>19928.478516</td>\n",
       "      <td>20094.691406</td>\n",
       "      <td>19873.972656</td>\n",
       "    </tr>\n",
       "    <tr>\n",
       "      <th>788</th>\n",
       "      <td>0</td>\n",
       "      <td>20094.753906</td>\n",
       "      <td>20052.199219</td>\n",
       "      <td>19521.468750</td>\n",
       "      <td>19645.507812</td>\n",
       "      <td>20099.828125</td>\n",
       "      <td>20249.404297</td>\n",
       "      <td>19592.474609</td>\n",
       "      <td>20112.789062</td>\n",
       "      <td>20215.240234</td>\n",
       "      <td>...</td>\n",
       "      <td>19370.378906</td>\n",
       "      <td>20304.726562</td>\n",
       "      <td>19155.685547</td>\n",
       "      <td>19316.382812</td>\n",
       "      <td>20045.769531</td>\n",
       "      <td>18979.121094</td>\n",
       "      <td>20075.865234</td>\n",
       "      <td>19510.507812</td>\n",
       "      <td>19909.884766</td>\n",
       "      <td>19491.310547</td>\n",
       "    </tr>\n",
       "    <tr>\n",
       "      <th>789</th>\n",
       "      <td>0</td>\n",
       "      <td>19686.238281</td>\n",
       "      <td>19479.898438</td>\n",
       "      <td>18981.714844</td>\n",
       "      <td>19809.507812</td>\n",
       "      <td>19811.898438</td>\n",
       "      <td>19953.949219</td>\n",
       "      <td>19621.126953</td>\n",
       "      <td>20062.115234</td>\n",
       "      <td>19645.193359</td>\n",
       "      <td>...</td>\n",
       "      <td>19126.066406</td>\n",
       "      <td>19934.421875</td>\n",
       "      <td>18782.794922</td>\n",
       "      <td>19238.691406</td>\n",
       "      <td>19973.906250</td>\n",
       "      <td>19297.187500</td>\n",
       "      <td>19452.066406</td>\n",
       "      <td>19167.738281</td>\n",
       "      <td>19729.779297</td>\n",
       "      <td>19735.119141</td>\n",
       "    </tr>\n",
       "    <tr>\n",
       "      <th>790</th>\n",
       "      <td>0</td>\n",
       "      <td>20188.726562</td>\n",
       "      <td>20136.166016</td>\n",
       "      <td>19260.658203</td>\n",
       "      <td>20210.117188</td>\n",
       "      <td>20262.386719</td>\n",
       "      <td>19833.312500</td>\n",
       "      <td>19290.548828</td>\n",
       "      <td>19565.142578</td>\n",
       "      <td>19759.333984</td>\n",
       "      <td>...</td>\n",
       "      <td>19212.402344</td>\n",
       "      <td>20440.078125</td>\n",
       "      <td>18870.570312</td>\n",
       "      <td>19324.714844</td>\n",
       "      <td>20271.857422</td>\n",
       "      <td>20104.085938</td>\n",
       "      <td>19803.263672</td>\n",
       "      <td>19662.072266</td>\n",
       "      <td>19509.212891</td>\n",
       "      <td>19846.230469</td>\n",
       "    </tr>\n",
       "    <tr>\n",
       "      <th>791</th>\n",
       "      <td>0</td>\n",
       "      <td>19750.074219</td>\n",
       "      <td>19478.207031</td>\n",
       "      <td>18461.609375</td>\n",
       "      <td>19714.037109</td>\n",
       "      <td>19332.691406</td>\n",
       "      <td>19488.638672</td>\n",
       "      <td>18414.814453</td>\n",
       "      <td>19313.710938</td>\n",
       "      <td>18907.957031</td>\n",
       "      <td>...</td>\n",
       "      <td>18729.482422</td>\n",
       "      <td>19659.171875</td>\n",
       "      <td>18334.966797</td>\n",
       "      <td>19125.515625</td>\n",
       "      <td>19016.253906</td>\n",
       "      <td>18785.353516</td>\n",
       "      <td>19397.828125</td>\n",
       "      <td>18911.736328</td>\n",
       "      <td>19096.675781</td>\n",
       "      <td>19123.615234</td>\n",
       "    </tr>\n",
       "    <tr>\n",
       "      <th>792</th>\n",
       "      <td>0</td>\n",
       "      <td>20733.796875</td>\n",
       "      <td>20508.242188</td>\n",
       "      <td>19632.041016</td>\n",
       "      <td>20717.806641</td>\n",
       "      <td>20110.593750</td>\n",
       "      <td>19944.623047</td>\n",
       "      <td>19729.847656</td>\n",
       "      <td>20380.425781</td>\n",
       "      <td>20189.767578</td>\n",
       "      <td>...</td>\n",
       "      <td>19299.779297</td>\n",
       "      <td>20050.281250</td>\n",
       "      <td>19262.474609</td>\n",
       "      <td>19247.277344</td>\n",
       "      <td>20461.693359</td>\n",
       "      <td>20021.986328</td>\n",
       "      <td>20609.263672</td>\n",
       "      <td>19532.285156</td>\n",
       "      <td>19982.406250</td>\n",
       "      <td>19872.980469</td>\n",
       "    </tr>\n",
       "    <tr>\n",
       "      <th>793</th>\n",
       "      <td>0</td>\n",
       "      <td>20841.658203</td>\n",
       "      <td>20488.273438</td>\n",
       "      <td>19904.435547</td>\n",
       "      <td>20667.371094</td>\n",
       "      <td>20814.074219</td>\n",
       "      <td>20663.785156</td>\n",
       "      <td>19928.853516</td>\n",
       "      <td>20608.917969</td>\n",
       "      <td>19798.691406</td>\n",
       "      <td>...</td>\n",
       "      <td>19640.857422</td>\n",
       "      <td>20627.388672</td>\n",
       "      <td>19290.970703</td>\n",
       "      <td>19445.052734</td>\n",
       "      <td>20703.898438</td>\n",
       "      <td>20432.949219</td>\n",
       "      <td>20413.322266</td>\n",
       "      <td>20050.175781</td>\n",
       "      <td>20221.644531</td>\n",
       "      <td>20273.689453</td>\n",
       "    </tr>\n",
       "    <tr>\n",
       "      <th>794</th>\n",
       "      <td>0</td>\n",
       "      <td>19787.820312</td>\n",
       "      <td>19839.791016</td>\n",
       "      <td>19087.898438</td>\n",
       "      <td>20299.746094</td>\n",
       "      <td>19399.076172</td>\n",
       "      <td>19497.564453</td>\n",
       "      <td>19357.294922</td>\n",
       "      <td>19822.019531</td>\n",
       "      <td>19763.332031</td>\n",
       "      <td>...</td>\n",
       "      <td>19386.171875</td>\n",
       "      <td>19656.886719</td>\n",
       "      <td>18352.628906</td>\n",
       "      <td>19323.751953</td>\n",
       "      <td>19410.824219</td>\n",
       "      <td>18760.248047</td>\n",
       "      <td>19553.964844</td>\n",
       "      <td>19466.859375</td>\n",
       "      <td>19673.767578</td>\n",
       "      <td>19410.001953</td>\n",
       "    </tr>\n",
       "    <tr>\n",
       "      <th>795</th>\n",
       "      <td>0</td>\n",
       "      <td>20296.486328</td>\n",
       "      <td>20099.224609</td>\n",
       "      <td>19323.480469</td>\n",
       "      <td>20020.824219</td>\n",
       "      <td>19945.916016</td>\n",
       "      <td>20087.914062</td>\n",
       "      <td>19811.646484</td>\n",
       "      <td>19863.228516</td>\n",
       "      <td>19710.419922</td>\n",
       "      <td>...</td>\n",
       "      <td>19473.076172</td>\n",
       "      <td>20074.349609</td>\n",
       "      <td>18892.312500</td>\n",
       "      <td>19316.083984</td>\n",
       "      <td>19858.814453</td>\n",
       "      <td>19476.205078</td>\n",
       "      <td>19580.949219</td>\n",
       "      <td>19358.517578</td>\n",
       "      <td>20023.169922</td>\n",
       "      <td>19735.146484</td>\n",
       "    </tr>\n",
       "    <tr>\n",
       "      <th>796</th>\n",
       "      <td>0</td>\n",
       "      <td>19947.193359</td>\n",
       "      <td>19989.058594</td>\n",
       "      <td>19260.207031</td>\n",
       "      <td>20302.890625</td>\n",
       "      <td>19872.605469</td>\n",
       "      <td>19886.478516</td>\n",
       "      <td>19111.234375</td>\n",
       "      <td>20269.322266</td>\n",
       "      <td>20140.697266</td>\n",
       "      <td>...</td>\n",
       "      <td>19057.587891</td>\n",
       "      <td>20058.791016</td>\n",
       "      <td>18768.507812</td>\n",
       "      <td>18811.500000</td>\n",
       "      <td>19815.076172</td>\n",
       "      <td>19494.166016</td>\n",
       "      <td>20087.250000</td>\n",
       "      <td>19153.619141</td>\n",
       "      <td>19650.037109</td>\n",
       "      <td>19740.843750</td>\n",
       "    </tr>\n",
       "    <tr>\n",
       "      <th>797</th>\n",
       "      <td>0</td>\n",
       "      <td>20542.271484</td>\n",
       "      <td>20465.378906</td>\n",
       "      <td>19986.855469</td>\n",
       "      <td>20471.412109</td>\n",
       "      <td>20050.058594</td>\n",
       "      <td>20301.421875</td>\n",
       "      <td>19703.822266</td>\n",
       "      <td>20177.955078</td>\n",
       "      <td>20299.900391</td>\n",
       "      <td>...</td>\n",
       "      <td>19972.671875</td>\n",
       "      <td>20313.144531</td>\n",
       "      <td>18511.261719</td>\n",
       "      <td>19393.152344</td>\n",
       "      <td>20156.927734</td>\n",
       "      <td>19836.619141</td>\n",
       "      <td>19795.230469</td>\n",
       "      <td>19422.357422</td>\n",
       "      <td>20021.873047</td>\n",
       "      <td>20170.642578</td>\n",
       "    </tr>\n",
       "    <tr>\n",
       "      <th>798</th>\n",
       "      <td>0</td>\n",
       "      <td>20722.193359</td>\n",
       "      <td>20532.908203</td>\n",
       "      <td>19608.789062</td>\n",
       "      <td>20686.177734</td>\n",
       "      <td>20559.353516</td>\n",
       "      <td>20659.929688</td>\n",
       "      <td>19610.498047</td>\n",
       "      <td>20398.781250</td>\n",
       "      <td>20290.509766</td>\n",
       "      <td>...</td>\n",
       "      <td>19327.574219</td>\n",
       "      <td>21000.599609</td>\n",
       "      <td>19222.783203</td>\n",
       "      <td>19831.066406</td>\n",
       "      <td>20512.251953</td>\n",
       "      <td>20266.017578</td>\n",
       "      <td>20413.718750</td>\n",
       "      <td>20159.419922</td>\n",
       "      <td>20622.191406</td>\n",
       "      <td>20524.636719</td>\n",
       "    </tr>\n",
       "    <tr>\n",
       "      <th>799</th>\n",
       "      <td>0</td>\n",
       "      <td>20882.966797</td>\n",
       "      <td>20878.132812</td>\n",
       "      <td>19109.031250</td>\n",
       "      <td>20788.251953</td>\n",
       "      <td>20309.544922</td>\n",
       "      <td>20031.730469</td>\n",
       "      <td>19858.513672</td>\n",
       "      <td>20258.066406</td>\n",
       "      <td>20185.990234</td>\n",
       "      <td>...</td>\n",
       "      <td>19651.818359</td>\n",
       "      <td>20465.701172</td>\n",
       "      <td>18956.679688</td>\n",
       "      <td>19477.958984</td>\n",
       "      <td>20446.080078</td>\n",
       "      <td>20122.257812</td>\n",
       "      <td>20544.769531</td>\n",
       "      <td>19792.126953</td>\n",
       "      <td>19885.541016</td>\n",
       "      <td>20087.111328</td>\n",
       "    </tr>\n",
       "  </tbody>\n",
       "</table>\n",
       "<p>800 rows × 800 columns</p>\n",
       "</div>"
      ],
      "text/plain": [
       "     0             1             2             3             4    \\\n",
       "0      0  20362.650391  20100.792969  19768.201172  20530.488281   \n",
       "1      0  20055.414062  20186.660156  19293.089844  20403.470703   \n",
       "2      0  20707.853516  20214.939453  19541.041016  20315.896484   \n",
       "3      0  19691.238281  19895.681641  18834.558594  20747.060547   \n",
       "4      0  20639.193359  20154.216797  18697.433594  20161.287109   \n",
       "5      0  20147.878906  19821.455078  18962.316406  20248.271484   \n",
       "6      0  20052.316406  19630.699219  18783.880859  19949.861328   \n",
       "7      0  22339.070312  22472.082031  21044.437500  22265.775391   \n",
       "8      0  20268.765625  20448.960938  19743.246094  20362.857422   \n",
       "9      0  20797.853516  20656.160156  19447.646484  20990.689453   \n",
       "10     0  20147.123047  20044.410156  19093.521484  20325.917969   \n",
       "11     0  20876.259766  20914.222656  20069.447266  20916.009766   \n",
       "12     0  20624.796875  20317.830078  19857.240234  20050.783203   \n",
       "13     0  20710.476562  20212.931641  19541.167969  20422.060547   \n",
       "14     0  19706.089844  20045.427734  18976.519531  20307.027344   \n",
       "15     0  19459.529297  19862.791016  18712.890625  19685.314453   \n",
       "16     0  19684.785156  19568.501953  18827.714844  20371.230469   \n",
       "17     0  20836.628906  20559.646484  20080.722656  20728.984375   \n",
       "18     0  19942.740234  19678.150391  19247.347656  19604.964844   \n",
       "19     0  20130.519531  20002.107422  19352.976562  20370.035156   \n",
       "20     0  20242.960938  20791.509766  19639.783203  21007.216797   \n",
       "21     0  20168.166016  20484.822266  19808.044922  20599.656250   \n",
       "22     0  20914.750000  20068.779297  19088.968750  20699.251953   \n",
       "23     0  20606.958984  20471.166016  19428.765625  20881.572266   \n",
       "24     0  20695.078125  19983.464844  19716.294922  20402.755859   \n",
       "25     0  20345.605469  20092.164062  19185.716797  20391.828125   \n",
       "26     0  20662.777344  20739.873047  19671.832031  20669.675781   \n",
       "27     0  22096.378906  21616.583984  20648.171875  21804.705078   \n",
       "28     0  20586.210938  20824.130859  20408.886719  20645.712891   \n",
       "29     0  21033.845703  20379.037109  19956.236328  21276.570312   \n",
       "..   ...           ...           ...           ...           ...   \n",
       "770    0  20786.759766  20845.816406  19540.873047  20913.947266   \n",
       "771    0  20753.185547  20412.712891  19265.775391  20694.794922   \n",
       "772    0  20950.714844  21037.302734  20184.546875  20957.794922   \n",
       "773    0  20029.167969  20509.822266  19440.238281  20094.851562   \n",
       "774    0  20549.560547  20090.482422  19574.578125  20765.730469   \n",
       "775    0  20492.861328  20786.982422  19433.757812  20520.085938   \n",
       "776    0  20319.167969  19749.220703  19061.015625  19766.345703   \n",
       "777    0  21466.521484  21772.914062  20550.027344  21828.867188   \n",
       "778    0  19959.605469  20364.765625  19123.923828  20624.478516   \n",
       "779    0  19502.529297  19471.326172  18993.085938  19847.207031   \n",
       "780    0  21076.531250  21393.267578  20040.695312  21262.787109   \n",
       "781    0  20696.689453  20520.195312  19862.974609  20589.531250   \n",
       "782    0  20686.068359  20561.587891  19782.679688  20996.701172   \n",
       "783    0  20983.496094  20285.224609  19676.445312  20750.943359   \n",
       "784    0  20794.283203  20418.396484  19357.111328  21116.873047   \n",
       "785    0  20815.490234  20222.343750  19702.072266  20325.460938   \n",
       "786    0  21027.876953  20067.126953  19824.589844  20760.466797   \n",
       "787    0  20759.830078  20450.613281  19858.447266  20258.134766   \n",
       "788    0  20094.753906  20052.199219  19521.468750  19645.507812   \n",
       "789    0  19686.238281  19479.898438  18981.714844  19809.507812   \n",
       "790    0  20188.726562  20136.166016  19260.658203  20210.117188   \n",
       "791    0  19750.074219  19478.207031  18461.609375  19714.037109   \n",
       "792    0  20733.796875  20508.242188  19632.041016  20717.806641   \n",
       "793    0  20841.658203  20488.273438  19904.435547  20667.371094   \n",
       "794    0  19787.820312  19839.791016  19087.898438  20299.746094   \n",
       "795    0  20296.486328  20099.224609  19323.480469  20020.824219   \n",
       "796    0  19947.193359  19989.058594  19260.207031  20302.890625   \n",
       "797    0  20542.271484  20465.378906  19986.855469  20471.412109   \n",
       "798    0  20722.193359  20532.908203  19608.789062  20686.177734   \n",
       "799    0  20882.966797  20878.132812  19109.031250  20788.251953   \n",
       "\n",
       "              5             6             7             8             9    \\\n",
       "0    20244.927734  20384.294922  20056.382812  20390.447266  20159.640625   \n",
       "1    19843.544922  19791.513672  19606.222656  19765.492188  19458.404297   \n",
       "2    20232.890625  20275.398438  19392.457031  20062.890625  19926.275391   \n",
       "3    19778.761719  19847.716797  19330.638672  20018.460938  20103.580078   \n",
       "4    20075.093750  20356.810547  19439.128906  19762.087891  19904.197266   \n",
       "5    19746.658203  19736.589844  19281.320312  19469.625000  19564.835938   \n",
       "6    20127.962891  19645.029297  18788.250000  19682.906250  19472.875000   \n",
       "7    22001.998047  22055.500000  21124.679688  21789.013672  21846.953125   \n",
       "8    20509.505859  19973.861328  19170.621094  20343.980469  19863.318359   \n",
       "9    20311.443359  20573.222656  19810.064453  20770.765625  20085.246094   \n",
       "10   20471.923828  20483.759766  19880.699219  20539.857422  20123.734375   \n",
       "11   20138.029297  21117.748047  20102.839844  20756.015625  20806.654297   \n",
       "12   20363.919922  20681.478516  19878.039062  20391.765625  19893.515625   \n",
       "13   20541.521484  20135.759766  19840.972656  20617.119141  20058.107422   \n",
       "14   19982.707031  19824.871094  19066.189453  19524.542969  19648.039062   \n",
       "15   19498.417969  20206.998047  18395.527344  19449.304688  19453.496094   \n",
       "16   19544.226562  19864.576172  18814.822266  19919.232422  19903.908203   \n",
       "17   20338.742188  20433.599609  20312.289062  20417.498047  20169.015625   \n",
       "18   19761.738281  19753.716797  19223.849609  19680.933594  19863.615234   \n",
       "19   20042.148438  20282.500000  19156.443359  19927.808594  19924.875000   \n",
       "20   20001.375000  20482.847656  19487.617188  19877.558594  20435.880859   \n",
       "21   20332.080078  20298.968750  19966.664062  20099.519531  20218.595703   \n",
       "22   20037.640625  20695.199219  19833.056641  20835.892578  20321.710938   \n",
       "23   20414.771484  20413.667969  20063.810547  20492.648438  20642.607422   \n",
       "24   19979.732422  20212.884766  19514.701172  19999.583984  19807.603516   \n",
       "25   19677.695312  20015.757812  19448.958984  19928.156250  19806.125000   \n",
       "26   20000.152344  20276.769531  19923.669922  20345.781250  19781.050781   \n",
       "27   21523.265625  21664.705078  21088.343750  21251.203125  21503.970703   \n",
       "28   20408.714844  20693.560547  19769.408203  20143.937500  19935.474609   \n",
       "29   20535.443359  20332.888672  20223.339844  20253.144531  20500.708984   \n",
       "..            ...           ...           ...           ...           ...   \n",
       "770  20341.033203  21123.847656  19952.937500  20657.130859  20398.876953   \n",
       "771  20187.789062  20418.271484  19128.482422  20128.369141  20323.601562   \n",
       "772  20962.482422  21000.281250  20251.064453  20614.601562  20536.750000   \n",
       "773  20269.138672  19831.287109  19065.062500  19599.070312  19517.113281   \n",
       "774  19931.787109  20715.173828  19558.457031  20315.130859  19907.847656   \n",
       "775  20411.609375  20195.099609  19677.546875  20764.683594  20372.326172   \n",
       "776  19688.156250  19954.460938  18617.166016  19496.150391  19451.943359   \n",
       "777  21025.363281  21180.173828  20387.353516  21567.271484  20763.621094   \n",
       "778  20017.722656  20212.658203  19113.824219  20227.691406  20260.236328   \n",
       "779  19374.353516  19660.113281  18925.650391  19460.953125  19426.458984   \n",
       "780  20715.291016  20883.615234  20584.683594  20859.808594  20815.041016   \n",
       "781  20137.707031  20162.511719  19634.158203  20428.541016  20291.449219   \n",
       "782  20884.632812  20469.988281  20001.066406  20784.171875  20476.439453   \n",
       "783  20349.318359  20425.191406  19807.390625  20387.130859  20141.007812   \n",
       "784  20014.568359  20592.972656  19629.441406  20587.304688  20368.232422   \n",
       "785  20426.060547  20595.136719  20282.490234  20351.490234  20102.513672   \n",
       "786  20647.595703  21009.361328  20177.650391  20744.173828  20306.615234   \n",
       "787  20138.140625  20864.058594  19542.455078  20619.556641  20029.052734   \n",
       "788  20099.828125  20249.404297  19592.474609  20112.789062  20215.240234   \n",
       "789  19811.898438  19953.949219  19621.126953  20062.115234  19645.193359   \n",
       "790  20262.386719  19833.312500  19290.548828  19565.142578  19759.333984   \n",
       "791  19332.691406  19488.638672  18414.814453  19313.710938  18907.957031   \n",
       "792  20110.593750  19944.623047  19729.847656  20380.425781  20189.767578   \n",
       "793  20814.074219  20663.785156  19928.853516  20608.917969  19798.691406   \n",
       "794  19399.076172  19497.564453  19357.294922  19822.019531  19763.332031   \n",
       "795  19945.916016  20087.914062  19811.646484  19863.228516  19710.419922   \n",
       "796  19872.605469  19886.478516  19111.234375  20269.322266  20140.697266   \n",
       "797  20050.058594  20301.421875  19703.822266  20177.955078  20299.900391   \n",
       "798  20559.353516  20659.929688  19610.498047  20398.781250  20290.509766   \n",
       "799  20309.544922  20031.730469  19858.513672  20258.066406  20185.990234   \n",
       "\n",
       "         ...                790           791           792           793  \\\n",
       "0        ...       19276.900391  20322.943359  19087.113281  20006.199219   \n",
       "1        ...       18887.158203  20150.824219  18659.615234  19401.031250   \n",
       "2        ...       19600.943359  20725.890625  18938.816406  18923.156250   \n",
       "3        ...       19363.470703  20119.822266  18732.691406  18618.119141   \n",
       "4        ...       19412.005859  20328.662109  19184.884766  18938.683594   \n",
       "5        ...       19012.289062  20177.892578  18471.351562  19050.263672   \n",
       "6        ...       18736.179688  20214.146484  18596.597656  19357.259766   \n",
       "7        ...       21125.046875  22349.501953  20611.765625  20554.156250   \n",
       "8        ...       19395.992188  20530.421875  18943.650391  19578.744141   \n",
       "9        ...       20158.218750  20728.765625  18993.894531  20071.326172   \n",
       "10       ...       19558.578125  20251.242188  18798.863281  19498.048828   \n",
       "11       ...       20121.609375  20642.230469  19570.445312  19775.054688   \n",
       "12       ...       19366.833984  20811.603516  19291.611328  19979.429688   \n",
       "13       ...       20021.998047  20659.011719  18866.876953  19613.925781   \n",
       "14       ...       18821.275391  19870.378906  18621.900391  19212.363281   \n",
       "15       ...       19043.814453  18889.441406  18191.095703  18462.748047   \n",
       "16       ...       18828.742188  20402.734375  18511.630859  18980.560547   \n",
       "17       ...       20103.880859  20478.912109  19014.617188  19601.267578   \n",
       "18       ...       19465.419922  20202.896484  18785.214844  18924.531250   \n",
       "19       ...       19041.468750  20245.351562  18763.869141  19495.164062   \n",
       "20       ...       19783.611328  20235.400391  19247.359375  19066.351562   \n",
       "21       ...       19595.710938  20691.650391  19192.611328  19184.527344   \n",
       "22       ...       19306.054688  20279.296875  19048.744141  19788.730469   \n",
       "23       ...       19397.628906  20391.158203  19497.107422  19755.949219   \n",
       "24       ...       19505.417969  20584.890625  19339.394531  19357.195312   \n",
       "25       ...       19302.189453  20015.562500  19082.964844  19294.369141   \n",
       "26       ...       19463.078125  20398.748047  19270.958984  19594.062500   \n",
       "27       ...       19914.710938  21631.515625  19967.017578  20923.650391   \n",
       "28       ...       19589.531250  21020.896484  19512.625000  19860.339844   \n",
       "29       ...       19755.832031  21443.423828  19165.068359  19770.734375   \n",
       "..       ...                ...           ...           ...           ...   \n",
       "770      ...       19585.980469  20553.093750  19979.521484  19849.042969   \n",
       "771      ...       19524.367188  20131.058594  18728.365234  18991.972656   \n",
       "772      ...       20170.015625  20612.388672  19874.791016  20146.587891   \n",
       "773      ...       19003.351562  20460.113281  18538.058594  18703.052734   \n",
       "774      ...       19627.544922  20678.644531  19132.757812  19240.367188   \n",
       "775      ...       19757.689453  20870.146484  18916.972656  19415.527344   \n",
       "776      ...       19091.443359  19674.953125  18472.169922  18922.291016   \n",
       "777      ...       20471.505859  21195.623047  19821.945312  20081.796875   \n",
       "778      ...       19640.939453  20174.429688  18481.861328  19042.070312   \n",
       "779      ...       19221.863281  19574.773438  18285.583984  18749.367188   \n",
       "780      ...       20457.287109  21142.109375  19838.339844  19535.902344   \n",
       "781      ...       19690.767578  20282.878906  19085.390625  19182.849609   \n",
       "782      ...       20015.884766  20429.652344  19372.480469  19529.033203   \n",
       "783      ...       19839.763672  20259.767578  19488.757812  19512.076172   \n",
       "784      ...       20201.105469  20934.376953  19164.353516  19875.722656   \n",
       "785      ...       19709.093750  21027.935547  19091.921875  19506.748047   \n",
       "786      ...       19194.115234  21119.121094  19302.703125  19413.464844   \n",
       "787      ...       19205.455078  20589.246094  19264.322266  19972.648438   \n",
       "788      ...       19370.378906  20304.726562  19155.685547  19316.382812   \n",
       "789      ...       19126.066406  19934.421875  18782.794922  19238.691406   \n",
       "790      ...       19212.402344  20440.078125  18870.570312  19324.714844   \n",
       "791      ...       18729.482422  19659.171875  18334.966797  19125.515625   \n",
       "792      ...       19299.779297  20050.281250  19262.474609  19247.277344   \n",
       "793      ...       19640.857422  20627.388672  19290.970703  19445.052734   \n",
       "794      ...       19386.171875  19656.886719  18352.628906  19323.751953   \n",
       "795      ...       19473.076172  20074.349609  18892.312500  19316.083984   \n",
       "796      ...       19057.587891  20058.791016  18768.507812  18811.500000   \n",
       "797      ...       19972.671875  20313.144531  18511.261719  19393.152344   \n",
       "798      ...       19327.574219  21000.599609  19222.783203  19831.066406   \n",
       "799      ...       19651.818359  20465.701172  18956.679688  19477.958984   \n",
       "\n",
       "              794           795           796           797           798  \\\n",
       "0    20350.349609  19951.314453  20290.951172  19695.160156  20291.625000   \n",
       "1    19912.220703  19665.724609  19528.138672  19724.552734  19799.296875   \n",
       "2    20555.671875  19434.953125  19554.935547  19563.421875  19774.462891   \n",
       "3    20073.287109  19322.267578  19546.138672  19494.853516  19573.187500   \n",
       "4    20732.824219  20049.052734  20278.728516  19809.185547  19977.134766   \n",
       "5    19880.244141  19509.244141  20044.957031  18862.291016  19622.939453   \n",
       "6    19811.771484  19750.281250  19425.003906  19403.146484  19435.419922   \n",
       "7    22065.246094  21771.664062  21886.376953  20990.476562  21457.593750   \n",
       "8    20271.685547  20051.953125  20477.320312  19426.335938  19854.173828   \n",
       "9    20718.576172  19688.435547  20580.890625  19916.207031  20251.070312   \n",
       "10   20458.335938  19882.550781  20031.259766  19264.736328  20067.513672   \n",
       "11   20483.642578  20111.248047  21165.910156  20397.115234  20849.044922   \n",
       "12   20194.015625  19661.486328  20306.769531  19913.044922  19492.828125   \n",
       "13   20193.080078  20201.177734  20012.867188  20242.935547  20210.218750   \n",
       "14   19647.115234  19714.830078  19649.337891  19361.130859  19558.113281   \n",
       "15   19462.669922  19240.173828  19650.642578  18927.119141  19318.207031   \n",
       "16   19826.947266  19611.968750  19441.396484  19263.343750  19580.794922   \n",
       "17   20461.023438  20288.031250  20195.253906  19744.802734  20042.972656   \n",
       "18   20009.576172  19685.326172  19723.222656  19768.037109  19381.179688   \n",
       "19   19576.662109  19251.498047  19820.148438  19523.449219  19721.857422   \n",
       "20   20110.037109  19995.285156  20310.861328  19549.271484  20251.623047   \n",
       "21   20167.511719  20110.250000  20000.976562  19775.908203  19964.021484   \n",
       "22   20395.767578  19862.386719  20032.304688  19845.333984  20529.412109   \n",
       "23   20572.996094  20220.439453  20080.587891  19879.886719  19955.888672   \n",
       "24   19826.363281  19556.695312  20374.167969  20268.058594  20120.501953   \n",
       "25   20060.603516  18978.431641  19861.542969  19768.205078  19667.941406   \n",
       "26   20254.365234  20128.837891  20406.503906  19327.017578  20158.039062   \n",
       "27   21488.765625  21341.746094  21260.724609  20944.019531  20969.878906   \n",
       "28   20370.337891  20362.849609  20363.558594  20000.218750  20253.896484   \n",
       "29   20664.687500  20312.826172  20646.966797  20121.894531  20286.656250   \n",
       "..            ...           ...           ...           ...           ...   \n",
       "770  20918.580078  20176.769531  19910.779297  19948.457031  20429.501953   \n",
       "771  20528.730469  20280.224609  19869.175781  19798.935547  20028.212891   \n",
       "772  20984.146484  20496.941406  20556.906250  20190.814453  20480.986328   \n",
       "773  19865.599609  19610.347656  19525.195312  19004.292969  19676.693359   \n",
       "774  20196.203125  20188.070312  20281.675781  19594.892578  20260.306641   \n",
       "775  20616.185547  20036.357422  20265.511719  19835.931641  19986.435547   \n",
       "776  19366.503906  19480.546875  19751.437500  19651.183594  19035.148438   \n",
       "777  21492.275391  20694.371094  21187.500000  20606.603516  20678.003906   \n",
       "778  20007.220703  19638.658203  20060.597656  19872.298828  19711.794922   \n",
       "779  19527.923828  19505.156250  19625.919922  18937.626953  19125.109375   \n",
       "780  21357.941406  20528.023438  20942.822266  20581.228516  20840.132812   \n",
       "781  20454.337891  19938.228516  20471.927734  20050.324219  19971.285156   \n",
       "782  20684.736328  20397.449219  20330.878906  20033.101562  20236.496094   \n",
       "783  20582.392578  20256.003906  20309.369141  19266.396484  19913.458984   \n",
       "784  20512.626953  20315.812500  20256.931641  20007.289062  20307.808594   \n",
       "785  20362.611328  19635.283203  20208.585938  19672.460938  20542.882812   \n",
       "786  20320.333984  20073.369141  20292.628906  19955.945312  20181.166016   \n",
       "787  19895.542969  19545.568359  20245.380859  19928.478516  20094.691406   \n",
       "788  20045.769531  18979.121094  20075.865234  19510.507812  19909.884766   \n",
       "789  19973.906250  19297.187500  19452.066406  19167.738281  19729.779297   \n",
       "790  20271.857422  20104.085938  19803.263672  19662.072266  19509.212891   \n",
       "791  19016.253906  18785.353516  19397.828125  18911.736328  19096.675781   \n",
       "792  20461.693359  20021.986328  20609.263672  19532.285156  19982.406250   \n",
       "793  20703.898438  20432.949219  20413.322266  20050.175781  20221.644531   \n",
       "794  19410.824219  18760.248047  19553.964844  19466.859375  19673.767578   \n",
       "795  19858.814453  19476.205078  19580.949219  19358.517578  20023.169922   \n",
       "796  19815.076172  19494.166016  20087.250000  19153.619141  19650.037109   \n",
       "797  20156.927734  19836.619141  19795.230469  19422.357422  20021.873047   \n",
       "798  20512.251953  20266.017578  20413.718750  20159.419922  20622.191406   \n",
       "799  20446.080078  20122.257812  20544.769531  19792.126953  19885.541016   \n",
       "\n",
       "              799  \n",
       "0    20094.509766  \n",
       "1    19608.214844  \n",
       "2    19749.224609  \n",
       "3    19718.779297  \n",
       "4    20387.929688  \n",
       "5    19301.957031  \n",
       "6    19297.482422  \n",
       "7    21445.583984  \n",
       "8    19742.974609  \n",
       "9    20300.306641  \n",
       "10   20099.121094  \n",
       "11   20819.435547  \n",
       "12   19805.109375  \n",
       "13   20035.041016  \n",
       "14   19847.310547  \n",
       "15   19651.101562  \n",
       "16   19194.429688  \n",
       "17   19974.908203  \n",
       "18   19431.380859  \n",
       "19   19997.130859  \n",
       "20   20052.146484  \n",
       "21   20195.996094  \n",
       "22   19795.363281  \n",
       "23   20061.662109  \n",
       "24   20304.046875  \n",
       "25   20118.513672  \n",
       "26   19827.505859  \n",
       "27   20905.558594  \n",
       "28   20108.607422  \n",
       "29   20716.453125  \n",
       "..            ...  \n",
       "770  20439.880859  \n",
       "771  19955.015625  \n",
       "772  20604.808594  \n",
       "773  19513.302734  \n",
       "774  19901.013672  \n",
       "775  19829.718750  \n",
       "776  19395.367188  \n",
       "777  21378.097656  \n",
       "778  19316.160156  \n",
       "779  19329.849609  \n",
       "780  20799.625000  \n",
       "781  20188.980469  \n",
       "782  20557.966797  \n",
       "783  20264.130859  \n",
       "784  19795.949219  \n",
       "785  19739.388672  \n",
       "786  20625.970703  \n",
       "787  19873.972656  \n",
       "788  19491.310547  \n",
       "789  19735.119141  \n",
       "790  19846.230469  \n",
       "791  19123.615234  \n",
       "792  19872.980469  \n",
       "793  20273.689453  \n",
       "794  19410.001953  \n",
       "795  19735.146484  \n",
       "796  19740.843750  \n",
       "797  20170.642578  \n",
       "798  20524.636719  \n",
       "799  20087.111328  \n",
       "\n",
       "[800 rows x 800 columns]"
      ]
     },
     "execution_count": 265,
     "metadata": {},
     "output_type": "execute_result"
    }
   ],
   "source": [
    "import pandas as pd\n",
    "pd.DataFrame(C)"
   ]
  },
  {
   "cell_type": "code",
   "execution_count": 261,
   "metadata": {
    "collapsed": false
   },
   "outputs": [
    {
     "ename": "TypeError",
     "evalue": "only support 1D array",
     "output_type": "error",
     "traceback": [
      "\u001b[1;31m---------------------------------------------------------------------------\u001b[0m",
      "\u001b[1;31mTypeError\u001b[0m                                 Traceback (most recent call last)",
      "\u001b[1;32m<ipython-input-261-a04a7076f517>\u001b[0m in \u001b[0;36m<module>\u001b[1;34m()\u001b[0m\n\u001b[0;32m     21\u001b[0m \u001b[0mb\u001b[0m \u001b[1;33m=\u001b[0m \u001b[0mnp\u001b[0m\u001b[1;33m.\u001b[0m\u001b[0marange\u001b[0m\u001b[1;33m(\u001b[0m\u001b[1;36m5\u001b[0m\u001b[1;33m)\u001b[0m\u001b[1;33m\u001b[0m\u001b[0m\n\u001b[0;32m     22\u001b[0m \u001b[0mA\u001b[0m \u001b[1;33m=\u001b[0m \u001b[0mnp\u001b[0m\u001b[1;33m.\u001b[0m\u001b[0marray\u001b[0m\u001b[1;33m(\u001b[0m\u001b[1;33m[\u001b[0m\u001b[0ma\u001b[0m\u001b[1;33m,\u001b[0m\u001b[0mb\u001b[0m\u001b[1;33m]\u001b[0m\u001b[1;33m)\u001b[0m\u001b[1;33m\u001b[0m\u001b[0m\n\u001b[1;32m---> 23\u001b[1;33m \u001b[0mans\u001b[0m \u001b[1;33m=\u001b[0m \u001b[0mtest_reduce\u001b[0m\u001b[1;33m(\u001b[0m\u001b[0mA\u001b[0m\u001b[1;33m)\u001b[0m   \u001b[1;31m# cuda sum reduction\u001b[0m\u001b[1;33m\u001b[0m\u001b[0m\n\u001b[0m",
      "\u001b[1;32mC:\\Anaconda2\\lib\\site-packages\\numba\\cuda\\kernels\\reduction.pyc\u001b[0m in \u001b[0;36m__call__\u001b[1;34m(self, arr, res, size, init, stream)\u001b[0m\n\u001b[0;32m    293\u001b[0m \u001b[1;33m\u001b[0m\u001b[0m\n\u001b[0;32m    294\u001b[0m         \u001b[1;32mif\u001b[0m \u001b[0marr\u001b[0m\u001b[1;33m.\u001b[0m\u001b[0mndim\u001b[0m \u001b[1;33m!=\u001b[0m \u001b[1;36m1\u001b[0m\u001b[1;33m:\u001b[0m\u001b[1;33m\u001b[0m\u001b[0m\n\u001b[1;32m--> 295\u001b[1;33m             \u001b[1;32mraise\u001b[0m \u001b[0mTypeError\u001b[0m\u001b[1;33m(\u001b[0m\u001b[1;34m\"only support 1D array\"\u001b[0m\u001b[1;33m)\u001b[0m\u001b[1;33m\u001b[0m\u001b[0m\n\u001b[0m\u001b[0;32m    296\u001b[0m \u001b[1;33m\u001b[0m\u001b[0m\n\u001b[0;32m    297\u001b[0m         \u001b[1;31m# Avoid computation for zero-length input\u001b[0m\u001b[1;33m\u001b[0m\u001b[1;33m\u001b[0m\u001b[0m\n",
      "\u001b[1;31mTypeError\u001b[0m: only support 1D array"
     ]
    }
   ],
   "source": [
    "@cuda.jit('int32(int32, int32)', device=True, inline=True)\n",
    "def sum(a, b):\n",
    "    if a > b:\n",
    "        return a\n",
    "    else:\n",
    "        return b\n",
    "\n",
    "@cuda.jit('int32(int32[:])', device=True, inline=True)\n",
    "def test(a):\n",
    "    out = 0\n",
    "    for i in a:\n",
    "        out+=i\n",
    "    return out\n",
    "\n",
    "\n",
    "@cuda.reduce\n",
    "def test_reduce(a, b):  \n",
    "    return test(a) * test(b)\n",
    "\n",
    "a = np.arange(5)\n",
    "b = np.arange(5)\n",
    "A = np.array([a,b])\n",
    "ans = test_reduce(A)   # cuda sum reduction\n"
   ]
  },
  {
   "cell_type": "code",
   "execution_count": 260,
   "metadata": {
    "collapsed": false
   },
   "outputs": [
    {
     "data": {
      "text/plain": [
       "array([[0, 1, 2, 3, 4],\n",
       "       [0, 1, 2, 3, 4]])"
      ]
     },
     "execution_count": 260,
     "metadata": {},
     "output_type": "execute_result"
    }
   ],
   "source": []
  },
  {
   "cell_type": "code",
   "execution_count": 259,
   "metadata": {
    "collapsed": false
   },
   "outputs": [
    {
     "data": {
      "text/plain": [
       "[array([0, 1, 2, 3, 4]), array([0, 1, 2, 3, 4])]"
      ]
     },
     "execution_count": 259,
     "metadata": {},
     "output_type": "execute_result"
    }
   ],
   "source": [
    "A"
   ]
  },
  {
   "cell_type": "code",
   "execution_count": 256,
   "metadata": {
    "collapsed": false
   },
   "outputs": [
    {
     "data": {
      "text/plain": [
       "6.0"
      ]
     },
     "execution_count": 256,
     "metadata": {},
     "output_type": "execute_result"
    }
   ],
   "source": [
    "ans"
   ]
  },
  {
   "cell_type": "code",
   "execution_count": 240,
   "metadata": {
    "collapsed": false
   },
   "outputs": [
    {
     "data": {
      "text/plain": [
       "499500.0"
      ]
     },
     "execution_count": 240,
     "metadata": {},
     "output_type": "execute_result"
    }
   ],
   "source": [
    "a1 = [1,2,3]\n",
    "a2 = [4,5,6]\n",
    "# we want to compute sum(a1)*sum(a2)"
   ]
  },
  {
   "cell_type": "code",
   "execution_count": null,
   "metadata": {
    "collapsed": true
   },
   "outputs": [],
   "source": []
  },
  {
   "cell_type": "code",
   "execution_count": 228,
   "metadata": {
    "collapsed": false
   },
   "outputs": [
    {
     "data": {
      "text/html": [
       "<div>\n",
       "<table border=\"1\" class=\"dataframe\">\n",
       "  <thead>\n",
       "    <tr style=\"text-align: right;\">\n",
       "      <th></th>\n",
       "      <th>0</th>\n",
       "      <th>1</th>\n",
       "      <th>2</th>\n",
       "      <th>3</th>\n",
       "      <th>4</th>\n",
       "      <th>5</th>\n",
       "      <th>6</th>\n",
       "      <th>7</th>\n",
       "      <th>8</th>\n",
       "      <th>9</th>\n",
       "      <th>...</th>\n",
       "      <th>790</th>\n",
       "      <th>791</th>\n",
       "      <th>792</th>\n",
       "      <th>793</th>\n",
       "      <th>794</th>\n",
       "      <th>795</th>\n",
       "      <th>796</th>\n",
       "      <th>797</th>\n",
       "      <th>798</th>\n",
       "      <th>799</th>\n",
       "    </tr>\n",
       "  </thead>\n",
       "  <tbody>\n",
       "    <tr>\n",
       "      <th>0</th>\n",
       "      <td>0</td>\n",
       "      <td>19338.820312</td>\n",
       "      <td>18948.253906</td>\n",
       "      <td>19671.093750</td>\n",
       "      <td>20039.664062</td>\n",
       "      <td>20134.105469</td>\n",
       "      <td>20184.142578</td>\n",
       "      <td>19951.529297</td>\n",
       "      <td>19327.763672</td>\n",
       "      <td>20095.109375</td>\n",
       "      <td>...</td>\n",
       "      <td>20215.667969</td>\n",
       "      <td>18420.777344</td>\n",
       "      <td>18958.363281</td>\n",
       "      <td>20354.455078</td>\n",
       "      <td>18981.792969</td>\n",
       "      <td>19624.810547</td>\n",
       "      <td>20248.763672</td>\n",
       "      <td>20025.281250</td>\n",
       "      <td>19815.654297</td>\n",
       "      <td>19957.220703</td>\n",
       "    </tr>\n",
       "    <tr>\n",
       "      <th>1</th>\n",
       "      <td>0</td>\n",
       "      <td>20402.644531</td>\n",
       "      <td>20326.423828</td>\n",
       "      <td>21154.830078</td>\n",
       "      <td>21248.126953</td>\n",
       "      <td>21218.875000</td>\n",
       "      <td>21056.281250</td>\n",
       "      <td>20767.853516</td>\n",
       "      <td>20294.386719</td>\n",
       "      <td>21444.029297</td>\n",
       "      <td>...</td>\n",
       "      <td>20733.142578</td>\n",
       "      <td>19985.195312</td>\n",
       "      <td>20700.250000</td>\n",
       "      <td>20960.851562</td>\n",
       "      <td>19820.261719</td>\n",
       "      <td>20646.039062</td>\n",
       "      <td>20914.964844</td>\n",
       "      <td>21458.554688</td>\n",
       "      <td>21098.937500</td>\n",
       "      <td>21133.974609</td>\n",
       "    </tr>\n",
       "    <tr>\n",
       "      <th>2</th>\n",
       "      <td>0</td>\n",
       "      <td>18974.431641</td>\n",
       "      <td>18574.505859</td>\n",
       "      <td>19918.867188</td>\n",
       "      <td>19574.441406</td>\n",
       "      <td>20027.769531</td>\n",
       "      <td>19400.048828</td>\n",
       "      <td>20075.271484</td>\n",
       "      <td>19021.761719</td>\n",
       "      <td>20237.445312</td>\n",
       "      <td>...</td>\n",
       "      <td>19728.126953</td>\n",
       "      <td>18589.199219</td>\n",
       "      <td>18794.566406</td>\n",
       "      <td>19562.742188</td>\n",
       "      <td>19016.472656</td>\n",
       "      <td>20057.156250</td>\n",
       "      <td>19757.695312</td>\n",
       "      <td>20680.773438</td>\n",
       "      <td>19635.421875</td>\n",
       "      <td>20151.958984</td>\n",
       "    </tr>\n",
       "    <tr>\n",
       "      <th>3</th>\n",
       "      <td>0</td>\n",
       "      <td>19763.068359</td>\n",
       "      <td>19715.703125</td>\n",
       "      <td>20769.664062</td>\n",
       "      <td>19929.425781</td>\n",
       "      <td>20419.009766</td>\n",
       "      <td>20650.433594</td>\n",
       "      <td>20425.615234</td>\n",
       "      <td>19854.888672</td>\n",
       "      <td>20988.417969</td>\n",
       "      <td>...</td>\n",
       "      <td>20186.943359</td>\n",
       "      <td>18957.107422</td>\n",
       "      <td>19699.267578</td>\n",
       "      <td>20990.869141</td>\n",
       "      <td>19384.425781</td>\n",
       "      <td>20507.029297</td>\n",
       "      <td>20583.031250</td>\n",
       "      <td>20607.787109</td>\n",
       "      <td>20450.503906</td>\n",
       "      <td>20432.765625</td>\n",
       "    </tr>\n",
       "    <tr>\n",
       "      <th>4</th>\n",
       "      <td>0</td>\n",
       "      <td>19530.750000</td>\n",
       "      <td>19534.341797</td>\n",
       "      <td>20433.923828</td>\n",
       "      <td>19612.488281</td>\n",
       "      <td>20277.220703</td>\n",
       "      <td>19808.958984</td>\n",
       "      <td>20103.748047</td>\n",
       "      <td>19723.578125</td>\n",
       "      <td>20003.531250</td>\n",
       "      <td>...</td>\n",
       "      <td>19648.832031</td>\n",
       "      <td>18635.841797</td>\n",
       "      <td>19367.279297</td>\n",
       "      <td>19965.740234</td>\n",
       "      <td>19196.480469</td>\n",
       "      <td>19794.943359</td>\n",
       "      <td>20177.460938</td>\n",
       "      <td>19868.179688</td>\n",
       "      <td>20261.166016</td>\n",
       "      <td>20101.968750</td>\n",
       "    </tr>\n",
       "    <tr>\n",
       "      <th>5</th>\n",
       "      <td>0</td>\n",
       "      <td>18978.230469</td>\n",
       "      <td>18663.246094</td>\n",
       "      <td>19755.708984</td>\n",
       "      <td>19856.136719</td>\n",
       "      <td>19900.279297</td>\n",
       "      <td>19653.443359</td>\n",
       "      <td>20015.964844</td>\n",
       "      <td>19090.158203</td>\n",
       "      <td>20634.691406</td>\n",
       "      <td>...</td>\n",
       "      <td>19688.455078</td>\n",
       "      <td>18399.029297</td>\n",
       "      <td>19257.910156</td>\n",
       "      <td>20160.462891</td>\n",
       "      <td>19158.031250</td>\n",
       "      <td>20181.484375</td>\n",
       "      <td>20015.609375</td>\n",
       "      <td>20221.564453</td>\n",
       "      <td>19571.064453</td>\n",
       "      <td>19975.582031</td>\n",
       "    </tr>\n",
       "    <tr>\n",
       "      <th>6</th>\n",
       "      <td>0</td>\n",
       "      <td>20491.267578</td>\n",
       "      <td>19875.562500</td>\n",
       "      <td>21123.001953</td>\n",
       "      <td>20375.425781</td>\n",
       "      <td>20977.630859</td>\n",
       "      <td>20919.431641</td>\n",
       "      <td>20639.681641</td>\n",
       "      <td>19787.414062</td>\n",
       "      <td>21139.894531</td>\n",
       "      <td>...</td>\n",
       "      <td>20504.695312</td>\n",
       "      <td>19172.330078</td>\n",
       "      <td>20283.574219</td>\n",
       "      <td>21089.677734</td>\n",
       "      <td>19896.519531</td>\n",
       "      <td>20929.806641</td>\n",
       "      <td>21127.289062</td>\n",
       "      <td>21462.998047</td>\n",
       "      <td>20870.609375</td>\n",
       "      <td>20760.570312</td>\n",
       "    </tr>\n",
       "    <tr>\n",
       "      <th>7</th>\n",
       "      <td>0</td>\n",
       "      <td>19962.316406</td>\n",
       "      <td>19812.443359</td>\n",
       "      <td>20665.583984</td>\n",
       "      <td>20047.921875</td>\n",
       "      <td>20713.982422</td>\n",
       "      <td>20258.673828</td>\n",
       "      <td>20200.500000</td>\n",
       "      <td>19569.189453</td>\n",
       "      <td>21002.683594</td>\n",
       "      <td>...</td>\n",
       "      <td>20204.921875</td>\n",
       "      <td>19005.607422</td>\n",
       "      <td>19486.060547</td>\n",
       "      <td>21404.351562</td>\n",
       "      <td>19486.957031</td>\n",
       "      <td>20159.119141</td>\n",
       "      <td>20784.412109</td>\n",
       "      <td>20690.330078</td>\n",
       "      <td>20540.062500</td>\n",
       "      <td>20433.984375</td>\n",
       "    </tr>\n",
       "    <tr>\n",
       "      <th>8</th>\n",
       "      <td>0</td>\n",
       "      <td>19250.896484</td>\n",
       "      <td>19384.732422</td>\n",
       "      <td>20067.013672</td>\n",
       "      <td>20232.304688</td>\n",
       "      <td>20387.125000</td>\n",
       "      <td>20318.275391</td>\n",
       "      <td>19785.632812</td>\n",
       "      <td>19531.726562</td>\n",
       "      <td>20439.966797</td>\n",
       "      <td>...</td>\n",
       "      <td>19999.603516</td>\n",
       "      <td>18836.201172</td>\n",
       "      <td>19522.287109</td>\n",
       "      <td>20166.072266</td>\n",
       "      <td>19999.607422</td>\n",
       "      <td>20453.283203</td>\n",
       "      <td>19994.164062</td>\n",
       "      <td>20376.250000</td>\n",
       "      <td>19978.373047</td>\n",
       "      <td>20716.539062</td>\n",
       "    </tr>\n",
       "    <tr>\n",
       "      <th>9</th>\n",
       "      <td>0</td>\n",
       "      <td>18848.146484</td>\n",
       "      <td>18475.363281</td>\n",
       "      <td>20021.603516</td>\n",
       "      <td>19445.378906</td>\n",
       "      <td>19815.628906</td>\n",
       "      <td>19656.150391</td>\n",
       "      <td>19072.974609</td>\n",
       "      <td>18945.976562</td>\n",
       "      <td>19741.343750</td>\n",
       "      <td>...</td>\n",
       "      <td>19246.470703</td>\n",
       "      <td>18354.443359</td>\n",
       "      <td>18881.785156</td>\n",
       "      <td>19636.734375</td>\n",
       "      <td>18792.984375</td>\n",
       "      <td>19023.291016</td>\n",
       "      <td>19355.605469</td>\n",
       "      <td>19744.654297</td>\n",
       "      <td>19208.892578</td>\n",
       "      <td>19533.318359</td>\n",
       "    </tr>\n",
       "    <tr>\n",
       "      <th>10</th>\n",
       "      <td>0</td>\n",
       "      <td>19637.318359</td>\n",
       "      <td>19135.679688</td>\n",
       "      <td>20452.880859</td>\n",
       "      <td>20045.464844</td>\n",
       "      <td>20146.337891</td>\n",
       "      <td>20050.984375</td>\n",
       "      <td>20154.849609</td>\n",
       "      <td>19219.037109</td>\n",
       "      <td>20665.822266</td>\n",
       "      <td>...</td>\n",
       "      <td>19659.664062</td>\n",
       "      <td>19066.570312</td>\n",
       "      <td>19455.404297</td>\n",
       "      <td>20317.250000</td>\n",
       "      <td>19197.414062</td>\n",
       "      <td>19988.619141</td>\n",
       "      <td>20325.261719</td>\n",
       "      <td>20656.277344</td>\n",
       "      <td>20064.597656</td>\n",
       "      <td>20439.328125</td>\n",
       "    </tr>\n",
       "    <tr>\n",
       "      <th>11</th>\n",
       "      <td>0</td>\n",
       "      <td>19589.408203</td>\n",
       "      <td>19621.271484</td>\n",
       "      <td>20052.863281</td>\n",
       "      <td>20437.375000</td>\n",
       "      <td>20922.968750</td>\n",
       "      <td>20664.822266</td>\n",
       "      <td>20339.046875</td>\n",
       "      <td>19937.371094</td>\n",
       "      <td>20857.945312</td>\n",
       "      <td>...</td>\n",
       "      <td>20419.441406</td>\n",
       "      <td>18953.417969</td>\n",
       "      <td>19687.740234</td>\n",
       "      <td>20876.761719</td>\n",
       "      <td>19502.197266</td>\n",
       "      <td>20634.869141</td>\n",
       "      <td>20497.466797</td>\n",
       "      <td>21089.923828</td>\n",
       "      <td>20710.621094</td>\n",
       "      <td>20487.826172</td>\n",
       "    </tr>\n",
       "    <tr>\n",
       "      <th>12</th>\n",
       "      <td>0</td>\n",
       "      <td>19884.275391</td>\n",
       "      <td>19551.361328</td>\n",
       "      <td>21010.187500</td>\n",
       "      <td>20779.466797</td>\n",
       "      <td>20442.720703</td>\n",
       "      <td>21006.880859</td>\n",
       "      <td>20308.263672</td>\n",
       "      <td>20144.068359</td>\n",
       "      <td>21138.640625</td>\n",
       "      <td>...</td>\n",
       "      <td>20396.929688</td>\n",
       "      <td>19555.150391</td>\n",
       "      <td>19997.068359</td>\n",
       "      <td>20882.923828</td>\n",
       "      <td>19661.773438</td>\n",
       "      <td>20191.519531</td>\n",
       "      <td>20969.041016</td>\n",
       "      <td>20975.308594</td>\n",
       "      <td>20234.113281</td>\n",
       "      <td>20277.669922</td>\n",
       "    </tr>\n",
       "    <tr>\n",
       "      <th>13</th>\n",
       "      <td>0</td>\n",
       "      <td>20198.220703</td>\n",
       "      <td>19637.126953</td>\n",
       "      <td>20832.240234</td>\n",
       "      <td>19896.277344</td>\n",
       "      <td>20216.728516</td>\n",
       "      <td>20128.917969</td>\n",
       "      <td>20556.033203</td>\n",
       "      <td>19503.292969</td>\n",
       "      <td>20740.664062</td>\n",
       "      <td>...</td>\n",
       "      <td>19823.519531</td>\n",
       "      <td>19455.113281</td>\n",
       "      <td>19570.765625</td>\n",
       "      <td>20691.193359</td>\n",
       "      <td>19480.658203</td>\n",
       "      <td>20112.496094</td>\n",
       "      <td>20390.447266</td>\n",
       "      <td>20567.431641</td>\n",
       "      <td>19903.464844</td>\n",
       "      <td>20908.105469</td>\n",
       "    </tr>\n",
       "    <tr>\n",
       "      <th>14</th>\n",
       "      <td>0</td>\n",
       "      <td>19518.689453</td>\n",
       "      <td>18592.626953</td>\n",
       "      <td>20283.857422</td>\n",
       "      <td>20201.873047</td>\n",
       "      <td>20574.503906</td>\n",
       "      <td>19871.830078</td>\n",
       "      <td>20141.445312</td>\n",
       "      <td>19415.957031</td>\n",
       "      <td>20185.855469</td>\n",
       "      <td>...</td>\n",
       "      <td>19774.826172</td>\n",
       "      <td>19320.488281</td>\n",
       "      <td>19600.966797</td>\n",
       "      <td>20143.398438</td>\n",
       "      <td>19576.640625</td>\n",
       "      <td>19913.503906</td>\n",
       "      <td>20387.892578</td>\n",
       "      <td>20674.791016</td>\n",
       "      <td>19959.671875</td>\n",
       "      <td>20289.230469</td>\n",
       "    </tr>\n",
       "    <tr>\n",
       "      <th>15</th>\n",
       "      <td>0</td>\n",
       "      <td>19138.332031</td>\n",
       "      <td>19543.250000</td>\n",
       "      <td>20394.744141</td>\n",
       "      <td>20115.306641</td>\n",
       "      <td>20047.693359</td>\n",
       "      <td>20311.302734</td>\n",
       "      <td>19986.599609</td>\n",
       "      <td>19292.857422</td>\n",
       "      <td>20296.320312</td>\n",
       "      <td>...</td>\n",
       "      <td>19994.541016</td>\n",
       "      <td>18827.324219</td>\n",
       "      <td>19151.724609</td>\n",
       "      <td>20283.906250</td>\n",
       "      <td>19477.798828</td>\n",
       "      <td>20379.632812</td>\n",
       "      <td>20260.480469</td>\n",
       "      <td>20080.513672</td>\n",
       "      <td>20228.617188</td>\n",
       "      <td>20063.439453</td>\n",
       "    </tr>\n",
       "    <tr>\n",
       "      <th>16</th>\n",
       "      <td>0</td>\n",
       "      <td>19991.986328</td>\n",
       "      <td>19520.521484</td>\n",
       "      <td>20770.054688</td>\n",
       "      <td>20502.060547</td>\n",
       "      <td>20713.406250</td>\n",
       "      <td>20747.626953</td>\n",
       "      <td>20004.734375</td>\n",
       "      <td>19490.630859</td>\n",
       "      <td>20832.322266</td>\n",
       "      <td>...</td>\n",
       "      <td>20480.623047</td>\n",
       "      <td>18946.505859</td>\n",
       "      <td>19537.224609</td>\n",
       "      <td>20585.019531</td>\n",
       "      <td>19447.310547</td>\n",
       "      <td>20550.417969</td>\n",
       "      <td>20458.599609</td>\n",
       "      <td>21510.771484</td>\n",
       "      <td>20203.453125</td>\n",
       "      <td>20701.550781</td>\n",
       "    </tr>\n",
       "    <tr>\n",
       "      <th>17</th>\n",
       "      <td>0</td>\n",
       "      <td>19513.708984</td>\n",
       "      <td>18727.763672</td>\n",
       "      <td>20357.318359</td>\n",
       "      <td>19743.304688</td>\n",
       "      <td>19915.746094</td>\n",
       "      <td>20111.474609</td>\n",
       "      <td>19580.472656</td>\n",
       "      <td>19507.640625</td>\n",
       "      <td>19901.478516</td>\n",
       "      <td>...</td>\n",
       "      <td>19511.279297</td>\n",
       "      <td>18761.802734</td>\n",
       "      <td>19179.255859</td>\n",
       "      <td>20257.527344</td>\n",
       "      <td>18908.716797</td>\n",
       "      <td>19707.468750</td>\n",
       "      <td>20165.394531</td>\n",
       "      <td>20106.800781</td>\n",
       "      <td>19297.828125</td>\n",
       "      <td>19762.855469</td>\n",
       "    </tr>\n",
       "    <tr>\n",
       "      <th>18</th>\n",
       "      <td>0</td>\n",
       "      <td>20006.619141</td>\n",
       "      <td>18935.707031</td>\n",
       "      <td>20345.076172</td>\n",
       "      <td>19469.466797</td>\n",
       "      <td>19945.759766</td>\n",
       "      <td>19455.802734</td>\n",
       "      <td>19472.574219</td>\n",
       "      <td>19114.917969</td>\n",
       "      <td>20183.335938</td>\n",
       "      <td>...</td>\n",
       "      <td>19177.966797</td>\n",
       "      <td>18283.548828</td>\n",
       "      <td>18681.808594</td>\n",
       "      <td>20365.085938</td>\n",
       "      <td>19055.281250</td>\n",
       "      <td>19520.101562</td>\n",
       "      <td>19602.759766</td>\n",
       "      <td>20318.035156</td>\n",
       "      <td>19525.988281</td>\n",
       "      <td>20034.953125</td>\n",
       "    </tr>\n",
       "    <tr>\n",
       "      <th>19</th>\n",
       "      <td>0</td>\n",
       "      <td>18950.255859</td>\n",
       "      <td>18584.173828</td>\n",
       "      <td>19448.958984</td>\n",
       "      <td>19187.960938</td>\n",
       "      <td>19343.384766</td>\n",
       "      <td>19104.068359</td>\n",
       "      <td>19287.820312</td>\n",
       "      <td>18997.259766</td>\n",
       "      <td>19541.154297</td>\n",
       "      <td>...</td>\n",
       "      <td>19832.519531</td>\n",
       "      <td>18660.537109</td>\n",
       "      <td>18407.554688</td>\n",
       "      <td>19599.160156</td>\n",
       "      <td>18799.783203</td>\n",
       "      <td>19028.898438</td>\n",
       "      <td>19246.603516</td>\n",
       "      <td>19734.562500</td>\n",
       "      <td>19729.566406</td>\n",
       "      <td>19507.806641</td>\n",
       "    </tr>\n",
       "    <tr>\n",
       "      <th>20</th>\n",
       "      <td>0</td>\n",
       "      <td>19997.890625</td>\n",
       "      <td>19111.611328</td>\n",
       "      <td>21066.085938</td>\n",
       "      <td>20223.160156</td>\n",
       "      <td>20491.740234</td>\n",
       "      <td>20189.300781</td>\n",
       "      <td>20202.259766</td>\n",
       "      <td>19729.873047</td>\n",
       "      <td>21030.236328</td>\n",
       "      <td>...</td>\n",
       "      <td>19863.617188</td>\n",
       "      <td>19149.832031</td>\n",
       "      <td>19906.560547</td>\n",
       "      <td>20791.406250</td>\n",
       "      <td>19613.253906</td>\n",
       "      <td>20467.703125</td>\n",
       "      <td>20755.582031</td>\n",
       "      <td>21234.294922</td>\n",
       "      <td>20547.771484</td>\n",
       "      <td>20418.648438</td>\n",
       "    </tr>\n",
       "    <tr>\n",
       "      <th>21</th>\n",
       "      <td>0</td>\n",
       "      <td>19101.332031</td>\n",
       "      <td>18558.902344</td>\n",
       "      <td>19937.904297</td>\n",
       "      <td>19401.935547</td>\n",
       "      <td>19547.746094</td>\n",
       "      <td>19219.384766</td>\n",
       "      <td>19642.757812</td>\n",
       "      <td>18815.437500</td>\n",
       "      <td>20064.529297</td>\n",
       "      <td>...</td>\n",
       "      <td>19417.929688</td>\n",
       "      <td>18000.474609</td>\n",
       "      <td>18689.890625</td>\n",
       "      <td>19560.931641</td>\n",
       "      <td>18766.652344</td>\n",
       "      <td>19542.029297</td>\n",
       "      <td>19801.289062</td>\n",
       "      <td>20211.802734</td>\n",
       "      <td>19812.011719</td>\n",
       "      <td>19760.988281</td>\n",
       "    </tr>\n",
       "    <tr>\n",
       "      <th>22</th>\n",
       "      <td>0</td>\n",
       "      <td>19623.152344</td>\n",
       "      <td>19302.251953</td>\n",
       "      <td>20411.828125</td>\n",
       "      <td>19308.017578</td>\n",
       "      <td>20156.291016</td>\n",
       "      <td>19851.763672</td>\n",
       "      <td>20089.626953</td>\n",
       "      <td>19232.722656</td>\n",
       "      <td>20214.167969</td>\n",
       "      <td>...</td>\n",
       "      <td>19635.501953</td>\n",
       "      <td>18718.587891</td>\n",
       "      <td>18792.195312</td>\n",
       "      <td>20219.845703</td>\n",
       "      <td>19207.630859</td>\n",
       "      <td>19551.388672</td>\n",
       "      <td>19471.574219</td>\n",
       "      <td>20315.412109</td>\n",
       "      <td>19432.970703</td>\n",
       "      <td>20147.699219</td>\n",
       "    </tr>\n",
       "    <tr>\n",
       "      <th>23</th>\n",
       "      <td>0</td>\n",
       "      <td>18834.480469</td>\n",
       "      <td>18642.859375</td>\n",
       "      <td>19614.718750</td>\n",
       "      <td>19506.845703</td>\n",
       "      <td>19546.101562</td>\n",
       "      <td>19304.113281</td>\n",
       "      <td>19114.216797</td>\n",
       "      <td>18785.015625</td>\n",
       "      <td>19570.580078</td>\n",
       "      <td>...</td>\n",
       "      <td>19695.951172</td>\n",
       "      <td>18239.300781</td>\n",
       "      <td>19042.744141</td>\n",
       "      <td>19590.464844</td>\n",
       "      <td>18895.392578</td>\n",
       "      <td>19559.705078</td>\n",
       "      <td>19538.949219</td>\n",
       "      <td>20697.212891</td>\n",
       "      <td>19526.960938</td>\n",
       "      <td>20296.287109</td>\n",
       "    </tr>\n",
       "    <tr>\n",
       "      <th>24</th>\n",
       "      <td>0</td>\n",
       "      <td>19687.496094</td>\n",
       "      <td>19485.289062</td>\n",
       "      <td>20578.591797</td>\n",
       "      <td>20366.177734</td>\n",
       "      <td>20404.632812</td>\n",
       "      <td>20450.787109</td>\n",
       "      <td>20688.462891</td>\n",
       "      <td>19715.644531</td>\n",
       "      <td>20842.183594</td>\n",
       "      <td>...</td>\n",
       "      <td>20131.943359</td>\n",
       "      <td>19179.386719</td>\n",
       "      <td>19925.402344</td>\n",
       "      <td>21084.542969</td>\n",
       "      <td>19607.402344</td>\n",
       "      <td>20675.050781</td>\n",
       "      <td>20622.841797</td>\n",
       "      <td>20800.408203</td>\n",
       "      <td>20346.541016</td>\n",
       "      <td>20792.650391</td>\n",
       "    </tr>\n",
       "    <tr>\n",
       "      <th>25</th>\n",
       "      <td>0</td>\n",
       "      <td>19272.457031</td>\n",
       "      <td>19436.476562</td>\n",
       "      <td>20332.890625</td>\n",
       "      <td>19828.509766</td>\n",
       "      <td>20188.966797</td>\n",
       "      <td>20234.433594</td>\n",
       "      <td>20301.835938</td>\n",
       "      <td>19693.960938</td>\n",
       "      <td>20619.759766</td>\n",
       "      <td>...</td>\n",
       "      <td>20147.505859</td>\n",
       "      <td>18995.123047</td>\n",
       "      <td>19556.796875</td>\n",
       "      <td>20219.556641</td>\n",
       "      <td>18900.857422</td>\n",
       "      <td>20042.023438</td>\n",
       "      <td>20576.361328</td>\n",
       "      <td>20718.937500</td>\n",
       "      <td>20133.828125</td>\n",
       "      <td>20325.535156</td>\n",
       "    </tr>\n",
       "    <tr>\n",
       "      <th>26</th>\n",
       "      <td>0</td>\n",
       "      <td>19867.910156</td>\n",
       "      <td>19499.453125</td>\n",
       "      <td>20188.646484</td>\n",
       "      <td>20145.642578</td>\n",
       "      <td>20215.537109</td>\n",
       "      <td>20035.099609</td>\n",
       "      <td>20225.445312</td>\n",
       "      <td>19820.173828</td>\n",
       "      <td>20556.029297</td>\n",
       "      <td>...</td>\n",
       "      <td>20137.710938</td>\n",
       "      <td>18919.105469</td>\n",
       "      <td>19724.546875</td>\n",
       "      <td>20971.257812</td>\n",
       "      <td>19209.769531</td>\n",
       "      <td>20337.929688</td>\n",
       "      <td>20560.974609</td>\n",
       "      <td>21089.167969</td>\n",
       "      <td>20141.263672</td>\n",
       "      <td>20894.503906</td>\n",
       "    </tr>\n",
       "    <tr>\n",
       "      <th>27</th>\n",
       "      <td>0</td>\n",
       "      <td>19264.111328</td>\n",
       "      <td>18739.714844</td>\n",
       "      <td>20159.673828</td>\n",
       "      <td>19570.177734</td>\n",
       "      <td>19967.115234</td>\n",
       "      <td>19746.775391</td>\n",
       "      <td>19798.023438</td>\n",
       "      <td>19590.867188</td>\n",
       "      <td>20200.193359</td>\n",
       "      <td>...</td>\n",
       "      <td>19543.001953</td>\n",
       "      <td>18655.886719</td>\n",
       "      <td>19282.525391</td>\n",
       "      <td>19909.142578</td>\n",
       "      <td>19206.244141</td>\n",
       "      <td>20119.623047</td>\n",
       "      <td>20187.513672</td>\n",
       "      <td>20428.376953</td>\n",
       "      <td>20145.851562</td>\n",
       "      <td>20030.300781</td>\n",
       "    </tr>\n",
       "    <tr>\n",
       "      <th>28</th>\n",
       "      <td>0</td>\n",
       "      <td>19604.068359</td>\n",
       "      <td>18894.107422</td>\n",
       "      <td>20425.419922</td>\n",
       "      <td>20052.355469</td>\n",
       "      <td>19994.769531</td>\n",
       "      <td>19969.125000</td>\n",
       "      <td>20240.972656</td>\n",
       "      <td>19439.929688</td>\n",
       "      <td>20243.773438</td>\n",
       "      <td>...</td>\n",
       "      <td>19974.628906</td>\n",
       "      <td>19080.326172</td>\n",
       "      <td>19293.023438</td>\n",
       "      <td>20642.644531</td>\n",
       "      <td>19652.486328</td>\n",
       "      <td>19937.011719</td>\n",
       "      <td>20876.734375</td>\n",
       "      <td>19949.666016</td>\n",
       "      <td>20286.902344</td>\n",
       "      <td>20249.583984</td>\n",
       "    </tr>\n",
       "    <tr>\n",
       "      <th>29</th>\n",
       "      <td>0</td>\n",
       "      <td>19716.822266</td>\n",
       "      <td>19439.662109</td>\n",
       "      <td>20610.033203</td>\n",
       "      <td>20441.093750</td>\n",
       "      <td>21023.091797</td>\n",
       "      <td>20786.777344</td>\n",
       "      <td>20060.753906</td>\n",
       "      <td>20077.259766</td>\n",
       "      <td>21003.394531</td>\n",
       "      <td>...</td>\n",
       "      <td>20103.939453</td>\n",
       "      <td>19409.705078</td>\n",
       "      <td>19982.074219</td>\n",
       "      <td>20487.832031</td>\n",
       "      <td>19577.380859</td>\n",
       "      <td>20195.005859</td>\n",
       "      <td>21181.441406</td>\n",
       "      <td>20769.314453</td>\n",
       "      <td>20862.222656</td>\n",
       "      <td>20763.492188</td>\n",
       "    </tr>\n",
       "    <tr>\n",
       "      <th>...</th>\n",
       "      <td>...</td>\n",
       "      <td>...</td>\n",
       "      <td>...</td>\n",
       "      <td>...</td>\n",
       "      <td>...</td>\n",
       "      <td>...</td>\n",
       "      <td>...</td>\n",
       "      <td>...</td>\n",
       "      <td>...</td>\n",
       "      <td>...</td>\n",
       "      <td>...</td>\n",
       "      <td>...</td>\n",
       "      <td>...</td>\n",
       "      <td>...</td>\n",
       "      <td>...</td>\n",
       "      <td>...</td>\n",
       "      <td>...</td>\n",
       "      <td>...</td>\n",
       "      <td>...</td>\n",
       "      <td>...</td>\n",
       "      <td>...</td>\n",
       "    </tr>\n",
       "    <tr>\n",
       "      <th>770</th>\n",
       "      <td>0</td>\n",
       "      <td>19772.097656</td>\n",
       "      <td>19196.886719</td>\n",
       "      <td>20446.906250</td>\n",
       "      <td>20014.099609</td>\n",
       "      <td>20356.134766</td>\n",
       "      <td>20311.570312</td>\n",
       "      <td>20403.140625</td>\n",
       "      <td>19319.902344</td>\n",
       "      <td>21025.529297</td>\n",
       "      <td>...</td>\n",
       "      <td>19757.656250</td>\n",
       "      <td>19487.960938</td>\n",
       "      <td>19877.906250</td>\n",
       "      <td>20400.640625</td>\n",
       "      <td>19151.927734</td>\n",
       "      <td>20337.658203</td>\n",
       "      <td>20695.296875</td>\n",
       "      <td>20992.193359</td>\n",
       "      <td>19757.789062</td>\n",
       "      <td>20509.164062</td>\n",
       "    </tr>\n",
       "    <tr>\n",
       "      <th>771</th>\n",
       "      <td>0</td>\n",
       "      <td>19186.613281</td>\n",
       "      <td>18747.757812</td>\n",
       "      <td>20375.572266</td>\n",
       "      <td>19445.308594</td>\n",
       "      <td>19815.234375</td>\n",
       "      <td>20104.619141</td>\n",
       "      <td>19562.525391</td>\n",
       "      <td>19081.021484</td>\n",
       "      <td>20461.675781</td>\n",
       "      <td>...</td>\n",
       "      <td>19398.810547</td>\n",
       "      <td>18557.013672</td>\n",
       "      <td>19602.542969</td>\n",
       "      <td>20159.009766</td>\n",
       "      <td>19170.458984</td>\n",
       "      <td>19853.986328</td>\n",
       "      <td>19782.539062</td>\n",
       "      <td>20194.390625</td>\n",
       "      <td>19927.267578</td>\n",
       "      <td>19597.371094</td>\n",
       "    </tr>\n",
       "    <tr>\n",
       "      <th>772</th>\n",
       "      <td>0</td>\n",
       "      <td>19532.777344</td>\n",
       "      <td>18985.429688</td>\n",
       "      <td>20153.000000</td>\n",
       "      <td>19549.498047</td>\n",
       "      <td>19728.500000</td>\n",
       "      <td>20237.072266</td>\n",
       "      <td>20635.474609</td>\n",
       "      <td>19482.771484</td>\n",
       "      <td>20802.363281</td>\n",
       "      <td>...</td>\n",
       "      <td>20112.246094</td>\n",
       "      <td>19000.722656</td>\n",
       "      <td>19605.835938</td>\n",
       "      <td>20186.060547</td>\n",
       "      <td>19503.498047</td>\n",
       "      <td>20146.855469</td>\n",
       "      <td>20263.316406</td>\n",
       "      <td>20550.474609</td>\n",
       "      <td>19956.289062</td>\n",
       "      <td>20184.093750</td>\n",
       "    </tr>\n",
       "    <tr>\n",
       "      <th>773</th>\n",
       "      <td>0</td>\n",
       "      <td>19751.492188</td>\n",
       "      <td>19555.773438</td>\n",
       "      <td>20077.662109</td>\n",
       "      <td>19715.750000</td>\n",
       "      <td>19891.927734</td>\n",
       "      <td>20108.609375</td>\n",
       "      <td>19903.255859</td>\n",
       "      <td>19337.787109</td>\n",
       "      <td>20393.275391</td>\n",
       "      <td>...</td>\n",
       "      <td>19851.205078</td>\n",
       "      <td>19381.505859</td>\n",
       "      <td>19420.630859</td>\n",
       "      <td>20502.421875</td>\n",
       "      <td>19078.638672</td>\n",
       "      <td>20001.847656</td>\n",
       "      <td>20298.074219</td>\n",
       "      <td>20428.371094</td>\n",
       "      <td>19559.289062</td>\n",
       "      <td>20370.371094</td>\n",
       "    </tr>\n",
       "    <tr>\n",
       "      <th>774</th>\n",
       "      <td>0</td>\n",
       "      <td>19463.386719</td>\n",
       "      <td>18543.990234</td>\n",
       "      <td>20406.662109</td>\n",
       "      <td>19582.767578</td>\n",
       "      <td>19967.603516</td>\n",
       "      <td>19805.621094</td>\n",
       "      <td>20000.990234</td>\n",
       "      <td>18822.695312</td>\n",
       "      <td>20543.501953</td>\n",
       "      <td>...</td>\n",
       "      <td>19659.099609</td>\n",
       "      <td>18626.207031</td>\n",
       "      <td>19590.396484</td>\n",
       "      <td>20377.201172</td>\n",
       "      <td>19062.294922</td>\n",
       "      <td>19979.699219</td>\n",
       "      <td>20037.123047</td>\n",
       "      <td>20539.849609</td>\n",
       "      <td>20049.146484</td>\n",
       "      <td>19928.515625</td>\n",
       "    </tr>\n",
       "    <tr>\n",
       "      <th>775</th>\n",
       "      <td>0</td>\n",
       "      <td>18904.669922</td>\n",
       "      <td>18044.224609</td>\n",
       "      <td>19126.716797</td>\n",
       "      <td>19112.693359</td>\n",
       "      <td>19484.208984</td>\n",
       "      <td>19153.943359</td>\n",
       "      <td>19592.908203</td>\n",
       "      <td>18436.787109</td>\n",
       "      <td>20060.951172</td>\n",
       "      <td>...</td>\n",
       "      <td>19589.435547</td>\n",
       "      <td>18208.521484</td>\n",
       "      <td>18634.845703</td>\n",
       "      <td>19414.310547</td>\n",
       "      <td>18873.023438</td>\n",
       "      <td>19595.500000</td>\n",
       "      <td>19711.810547</td>\n",
       "      <td>19809.830078</td>\n",
       "      <td>19443.791016</td>\n",
       "      <td>19551.160156</td>\n",
       "    </tr>\n",
       "    <tr>\n",
       "      <th>776</th>\n",
       "      <td>0</td>\n",
       "      <td>19431.832031</td>\n",
       "      <td>19133.933594</td>\n",
       "      <td>20236.726562</td>\n",
       "      <td>19853.519531</td>\n",
       "      <td>20234.000000</td>\n",
       "      <td>20314.269531</td>\n",
       "      <td>19845.171875</td>\n",
       "      <td>19363.023438</td>\n",
       "      <td>20482.875000</td>\n",
       "      <td>...</td>\n",
       "      <td>19630.291016</td>\n",
       "      <td>18966.292969</td>\n",
       "      <td>19656.863281</td>\n",
       "      <td>20512.890625</td>\n",
       "      <td>19306.564453</td>\n",
       "      <td>20245.207031</td>\n",
       "      <td>20126.734375</td>\n",
       "      <td>19975.480469</td>\n",
       "      <td>19586.689453</td>\n",
       "      <td>20127.230469</td>\n",
       "    </tr>\n",
       "    <tr>\n",
       "      <th>777</th>\n",
       "      <td>0</td>\n",
       "      <td>19227.988281</td>\n",
       "      <td>19162.347656</td>\n",
       "      <td>19930.789062</td>\n",
       "      <td>19509.503906</td>\n",
       "      <td>20156.142578</td>\n",
       "      <td>19937.689453</td>\n",
       "      <td>19875.361328</td>\n",
       "      <td>19074.271484</td>\n",
       "      <td>20149.806641</td>\n",
       "      <td>...</td>\n",
       "      <td>19690.582031</td>\n",
       "      <td>18438.650391</td>\n",
       "      <td>18956.646484</td>\n",
       "      <td>20354.810547</td>\n",
       "      <td>19195.603516</td>\n",
       "      <td>19947.259766</td>\n",
       "      <td>19769.660156</td>\n",
       "      <td>20028.812500</td>\n",
       "      <td>19795.751953</td>\n",
       "      <td>20235.916016</td>\n",
       "    </tr>\n",
       "    <tr>\n",
       "      <th>778</th>\n",
       "      <td>0</td>\n",
       "      <td>19753.322266</td>\n",
       "      <td>19583.359375</td>\n",
       "      <td>20610.437500</td>\n",
       "      <td>20432.291016</td>\n",
       "      <td>20540.630859</td>\n",
       "      <td>20258.541016</td>\n",
       "      <td>20576.044922</td>\n",
       "      <td>19994.521484</td>\n",
       "      <td>21624.822266</td>\n",
       "      <td>...</td>\n",
       "      <td>20252.896484</td>\n",
       "      <td>18795.347656</td>\n",
       "      <td>19766.210938</td>\n",
       "      <td>21108.037109</td>\n",
       "      <td>19631.097656</td>\n",
       "      <td>20519.048828</td>\n",
       "      <td>20485.542969</td>\n",
       "      <td>20523.820312</td>\n",
       "      <td>20529.574219</td>\n",
       "      <td>20619.271484</td>\n",
       "    </tr>\n",
       "    <tr>\n",
       "      <th>779</th>\n",
       "      <td>0</td>\n",
       "      <td>19226.675781</td>\n",
       "      <td>19039.947266</td>\n",
       "      <td>19941.701172</td>\n",
       "      <td>19685.947266</td>\n",
       "      <td>19762.802734</td>\n",
       "      <td>19763.449219</td>\n",
       "      <td>19764.337891</td>\n",
       "      <td>18982.666016</td>\n",
       "      <td>20010.556641</td>\n",
       "      <td>...</td>\n",
       "      <td>19601.134766</td>\n",
       "      <td>18799.593750</td>\n",
       "      <td>19343.238281</td>\n",
       "      <td>19817.017578</td>\n",
       "      <td>18672.507812</td>\n",
       "      <td>19758.232422</td>\n",
       "      <td>19495.685547</td>\n",
       "      <td>20130.224609</td>\n",
       "      <td>19816.248047</td>\n",
       "      <td>19731.359375</td>\n",
       "    </tr>\n",
       "    <tr>\n",
       "      <th>780</th>\n",
       "      <td>0</td>\n",
       "      <td>19621.693359</td>\n",
       "      <td>18997.503906</td>\n",
       "      <td>19733.105469</td>\n",
       "      <td>19849.455078</td>\n",
       "      <td>19684.009766</td>\n",
       "      <td>19521.804688</td>\n",
       "      <td>20003.048828</td>\n",
       "      <td>18976.003906</td>\n",
       "      <td>20141.361328</td>\n",
       "      <td>...</td>\n",
       "      <td>19205.320312</td>\n",
       "      <td>18658.785156</td>\n",
       "      <td>19438.107422</td>\n",
       "      <td>20425.421875</td>\n",
       "      <td>18955.380859</td>\n",
       "      <td>20253.617188</td>\n",
       "      <td>19913.164062</td>\n",
       "      <td>20286.826172</td>\n",
       "      <td>19926.712891</td>\n",
       "      <td>19942.054688</td>\n",
       "    </tr>\n",
       "    <tr>\n",
       "      <th>781</th>\n",
       "      <td>0</td>\n",
       "      <td>18910.457031</td>\n",
       "      <td>18314.460938</td>\n",
       "      <td>19814.810547</td>\n",
       "      <td>19471.742188</td>\n",
       "      <td>20125.265625</td>\n",
       "      <td>19438.171875</td>\n",
       "      <td>19646.775391</td>\n",
       "      <td>19048.439453</td>\n",
       "      <td>20347.173828</td>\n",
       "      <td>...</td>\n",
       "      <td>19583.285156</td>\n",
       "      <td>18525.384766</td>\n",
       "      <td>18830.914062</td>\n",
       "      <td>20227.185547</td>\n",
       "      <td>18963.140625</td>\n",
       "      <td>19359.458984</td>\n",
       "      <td>19910.894531</td>\n",
       "      <td>20195.824219</td>\n",
       "      <td>19953.894531</td>\n",
       "      <td>19489.261719</td>\n",
       "    </tr>\n",
       "    <tr>\n",
       "      <th>782</th>\n",
       "      <td>0</td>\n",
       "      <td>19932.398438</td>\n",
       "      <td>19035.083984</td>\n",
       "      <td>20375.148438</td>\n",
       "      <td>20105.296875</td>\n",
       "      <td>20366.468750</td>\n",
       "      <td>19854.308594</td>\n",
       "      <td>20292.728516</td>\n",
       "      <td>19380.759766</td>\n",
       "      <td>20815.326172</td>\n",
       "      <td>...</td>\n",
       "      <td>20483.523438</td>\n",
       "      <td>19105.964844</td>\n",
       "      <td>19855.685547</td>\n",
       "      <td>20444.453125</td>\n",
       "      <td>19112.353516</td>\n",
       "      <td>20661.816406</td>\n",
       "      <td>19771.603516</td>\n",
       "      <td>21120.955078</td>\n",
       "      <td>20312.718750</td>\n",
       "      <td>20622.255859</td>\n",
       "    </tr>\n",
       "    <tr>\n",
       "      <th>783</th>\n",
       "      <td>0</td>\n",
       "      <td>19299.720703</td>\n",
       "      <td>19427.111328</td>\n",
       "      <td>19783.074219</td>\n",
       "      <td>20005.451172</td>\n",
       "      <td>20251.181641</td>\n",
       "      <td>20139.917969</td>\n",
       "      <td>19732.068359</td>\n",
       "      <td>19448.955078</td>\n",
       "      <td>20833.089844</td>\n",
       "      <td>...</td>\n",
       "      <td>19632.607422</td>\n",
       "      <td>18631.847656</td>\n",
       "      <td>18913.541016</td>\n",
       "      <td>20370.701172</td>\n",
       "      <td>19269.345703</td>\n",
       "      <td>20004.544922</td>\n",
       "      <td>19926.246094</td>\n",
       "      <td>20907.904297</td>\n",
       "      <td>20272.763672</td>\n",
       "      <td>20310.216797</td>\n",
       "    </tr>\n",
       "    <tr>\n",
       "      <th>784</th>\n",
       "      <td>0</td>\n",
       "      <td>20544.005859</td>\n",
       "      <td>19776.701172</td>\n",
       "      <td>21337.972656</td>\n",
       "      <td>20396.435547</td>\n",
       "      <td>20765.775391</td>\n",
       "      <td>21073.691406</td>\n",
       "      <td>20543.058594</td>\n",
       "      <td>19959.230469</td>\n",
       "      <td>20992.519531</td>\n",
       "      <td>...</td>\n",
       "      <td>20703.886719</td>\n",
       "      <td>19540.609375</td>\n",
       "      <td>20503.996094</td>\n",
       "      <td>21109.548828</td>\n",
       "      <td>19641.546875</td>\n",
       "      <td>20437.082031</td>\n",
       "      <td>20873.792969</td>\n",
       "      <td>21087.546875</td>\n",
       "      <td>20343.742188</td>\n",
       "      <td>20967.005859</td>\n",
       "    </tr>\n",
       "    <tr>\n",
       "      <th>785</th>\n",
       "      <td>0</td>\n",
       "      <td>20262.464844</td>\n",
       "      <td>19998.287109</td>\n",
       "      <td>20771.593750</td>\n",
       "      <td>20471.437500</td>\n",
       "      <td>20567.425781</td>\n",
       "      <td>20759.730469</td>\n",
       "      <td>20538.734375</td>\n",
       "      <td>20167.810547</td>\n",
       "      <td>21273.958984</td>\n",
       "      <td>...</td>\n",
       "      <td>19942.609375</td>\n",
       "      <td>19650.142578</td>\n",
       "      <td>20615.554688</td>\n",
       "      <td>20902.933594</td>\n",
       "      <td>19754.664062</td>\n",
       "      <td>20407.261719</td>\n",
       "      <td>20917.625000</td>\n",
       "      <td>21234.261719</td>\n",
       "      <td>20834.642578</td>\n",
       "      <td>20624.492188</td>\n",
       "    </tr>\n",
       "    <tr>\n",
       "      <th>786</th>\n",
       "      <td>0</td>\n",
       "      <td>18495.990234</td>\n",
       "      <td>18223.187500</td>\n",
       "      <td>19365.031250</td>\n",
       "      <td>19081.488281</td>\n",
       "      <td>19566.199219</td>\n",
       "      <td>19526.230469</td>\n",
       "      <td>19066.945312</td>\n",
       "      <td>18402.003906</td>\n",
       "      <td>19567.708984</td>\n",
       "      <td>...</td>\n",
       "      <td>19083.664062</td>\n",
       "      <td>18466.994141</td>\n",
       "      <td>18868.000000</td>\n",
       "      <td>19764.345703</td>\n",
       "      <td>18498.837891</td>\n",
       "      <td>19175.050781</td>\n",
       "      <td>19579.248047</td>\n",
       "      <td>20152.363281</td>\n",
       "      <td>18819.263672</td>\n",
       "      <td>19412.132812</td>\n",
       "    </tr>\n",
       "    <tr>\n",
       "      <th>787</th>\n",
       "      <td>0</td>\n",
       "      <td>19616.365234</td>\n",
       "      <td>19195.332031</td>\n",
       "      <td>20825.703125</td>\n",
       "      <td>19986.177734</td>\n",
       "      <td>19915.699219</td>\n",
       "      <td>20395.199219</td>\n",
       "      <td>20061.455078</td>\n",
       "      <td>19523.964844</td>\n",
       "      <td>20677.787109</td>\n",
       "      <td>...</td>\n",
       "      <td>19747.187500</td>\n",
       "      <td>18897.232422</td>\n",
       "      <td>19504.656250</td>\n",
       "      <td>20643.099609</td>\n",
       "      <td>19580.056641</td>\n",
       "      <td>20063.886719</td>\n",
       "      <td>20426.339844</td>\n",
       "      <td>20689.457031</td>\n",
       "      <td>20246.894531</td>\n",
       "      <td>20230.156250</td>\n",
       "    </tr>\n",
       "    <tr>\n",
       "      <th>788</th>\n",
       "      <td>0</td>\n",
       "      <td>19113.773438</td>\n",
       "      <td>18802.242188</td>\n",
       "      <td>20258.416016</td>\n",
       "      <td>19575.218750</td>\n",
       "      <td>20105.951172</td>\n",
       "      <td>20069.451172</td>\n",
       "      <td>19175.404297</td>\n",
       "      <td>19083.048828</td>\n",
       "      <td>19889.523438</td>\n",
       "      <td>...</td>\n",
       "      <td>19451.185547</td>\n",
       "      <td>18251.492188</td>\n",
       "      <td>19130.320312</td>\n",
       "      <td>19798.259766</td>\n",
       "      <td>18874.492188</td>\n",
       "      <td>19385.335938</td>\n",
       "      <td>19581.750000</td>\n",
       "      <td>20029.769531</td>\n",
       "      <td>19275.900391</td>\n",
       "      <td>19521.855469</td>\n",
       "    </tr>\n",
       "    <tr>\n",
       "      <th>789</th>\n",
       "      <td>0</td>\n",
       "      <td>19647.494141</td>\n",
       "      <td>19537.160156</td>\n",
       "      <td>20174.675781</td>\n",
       "      <td>20096.535156</td>\n",
       "      <td>20204.386719</td>\n",
       "      <td>20216.593750</td>\n",
       "      <td>19989.152344</td>\n",
       "      <td>19434.865234</td>\n",
       "      <td>21065.767578</td>\n",
       "      <td>...</td>\n",
       "      <td>19809.394531</td>\n",
       "      <td>18531.537109</td>\n",
       "      <td>19393.648438</td>\n",
       "      <td>20326.556641</td>\n",
       "      <td>19399.822266</td>\n",
       "      <td>20538.072266</td>\n",
       "      <td>20477.560547</td>\n",
       "      <td>20279.916016</td>\n",
       "      <td>20406.146484</td>\n",
       "      <td>20105.861328</td>\n",
       "    </tr>\n",
       "    <tr>\n",
       "      <th>790</th>\n",
       "      <td>0</td>\n",
       "      <td>19759.458984</td>\n",
       "      <td>20059.873047</td>\n",
       "      <td>21136.642578</td>\n",
       "      <td>20819.863281</td>\n",
       "      <td>20749.685547</td>\n",
       "      <td>20595.117188</td>\n",
       "      <td>20481.404297</td>\n",
       "      <td>20097.771484</td>\n",
       "      <td>21054.050781</td>\n",
       "      <td>...</td>\n",
       "      <td>20623.927734</td>\n",
       "      <td>19665.695312</td>\n",
       "      <td>20346.263672</td>\n",
       "      <td>20977.095703</td>\n",
       "      <td>19884.283203</td>\n",
       "      <td>20689.660156</td>\n",
       "      <td>21021.634766</td>\n",
       "      <td>21160.216797</td>\n",
       "      <td>20703.308594</td>\n",
       "      <td>21209.492188</td>\n",
       "    </tr>\n",
       "    <tr>\n",
       "      <th>791</th>\n",
       "      <td>0</td>\n",
       "      <td>20095.595703</td>\n",
       "      <td>19859.822266</td>\n",
       "      <td>20931.601562</td>\n",
       "      <td>20701.277344</td>\n",
       "      <td>20715.250000</td>\n",
       "      <td>20435.798828</td>\n",
       "      <td>20422.853516</td>\n",
       "      <td>20144.140625</td>\n",
       "      <td>21630.875000</td>\n",
       "      <td>...</td>\n",
       "      <td>20875.658203</td>\n",
       "      <td>19633.103516</td>\n",
       "      <td>20730.851562</td>\n",
       "      <td>21122.921875</td>\n",
       "      <td>19777.236328</td>\n",
       "      <td>20943.150391</td>\n",
       "      <td>20993.205078</td>\n",
       "      <td>21541.546875</td>\n",
       "      <td>20864.302734</td>\n",
       "      <td>21063.064453</td>\n",
       "    </tr>\n",
       "    <tr>\n",
       "      <th>792</th>\n",
       "      <td>0</td>\n",
       "      <td>19941.523438</td>\n",
       "      <td>19432.447266</td>\n",
       "      <td>20738.613281</td>\n",
       "      <td>20548.205078</td>\n",
       "      <td>20433.789062</td>\n",
       "      <td>19889.992188</td>\n",
       "      <td>19850.156250</td>\n",
       "      <td>19393.017578</td>\n",
       "      <td>20696.099609</td>\n",
       "      <td>...</td>\n",
       "      <td>20193.078125</td>\n",
       "      <td>19272.115234</td>\n",
       "      <td>19666.554688</td>\n",
       "      <td>20486.757812</td>\n",
       "      <td>19831.554688</td>\n",
       "      <td>19909.341797</td>\n",
       "      <td>20547.972656</td>\n",
       "      <td>20659.642578</td>\n",
       "      <td>20503.316406</td>\n",
       "      <td>20318.593750</td>\n",
       "    </tr>\n",
       "    <tr>\n",
       "      <th>793</th>\n",
       "      <td>0</td>\n",
       "      <td>19689.160156</td>\n",
       "      <td>19909.316406</td>\n",
       "      <td>20727.169922</td>\n",
       "      <td>20605.246094</td>\n",
       "      <td>20707.687500</td>\n",
       "      <td>20514.792969</td>\n",
       "      <td>20557.197266</td>\n",
       "      <td>20282.111328</td>\n",
       "      <td>21366.949219</td>\n",
       "      <td>...</td>\n",
       "      <td>20652.474609</td>\n",
       "      <td>19718.248047</td>\n",
       "      <td>20561.316406</td>\n",
       "      <td>21178.498047</td>\n",
       "      <td>19705.412109</td>\n",
       "      <td>21181.027344</td>\n",
       "      <td>21034.966797</td>\n",
       "      <td>21345.000000</td>\n",
       "      <td>20542.091797</td>\n",
       "      <td>20934.775391</td>\n",
       "    </tr>\n",
       "    <tr>\n",
       "      <th>794</th>\n",
       "      <td>0</td>\n",
       "      <td>19061.671875</td>\n",
       "      <td>19178.207031</td>\n",
       "      <td>20805.837891</td>\n",
       "      <td>20101.693359</td>\n",
       "      <td>20311.751953</td>\n",
       "      <td>20127.062500</td>\n",
       "      <td>20748.472656</td>\n",
       "      <td>20003.685547</td>\n",
       "      <td>21105.513672</td>\n",
       "      <td>...</td>\n",
       "      <td>20314.697266</td>\n",
       "      <td>18890.302734</td>\n",
       "      <td>19649.705078</td>\n",
       "      <td>20811.859375</td>\n",
       "      <td>19533.750000</td>\n",
       "      <td>20837.820312</td>\n",
       "      <td>20277.287109</td>\n",
       "      <td>20593.794922</td>\n",
       "      <td>19948.158203</td>\n",
       "      <td>20433.839844</td>\n",
       "    </tr>\n",
       "    <tr>\n",
       "      <th>795</th>\n",
       "      <td>0</td>\n",
       "      <td>19897.091797</td>\n",
       "      <td>18771.994141</td>\n",
       "      <td>20393.308594</td>\n",
       "      <td>19666.119141</td>\n",
       "      <td>19676.566406</td>\n",
       "      <td>19539.445312</td>\n",
       "      <td>19662.667969</td>\n",
       "      <td>18620.644531</td>\n",
       "      <td>20247.796875</td>\n",
       "      <td>...</td>\n",
       "      <td>19558.125000</td>\n",
       "      <td>18732.199219</td>\n",
       "      <td>19216.800781</td>\n",
       "      <td>20328.103516</td>\n",
       "      <td>18396.705078</td>\n",
       "      <td>19786.447266</td>\n",
       "      <td>19803.351562</td>\n",
       "      <td>20511.570312</td>\n",
       "      <td>19468.068359</td>\n",
       "      <td>19494.951172</td>\n",
       "    </tr>\n",
       "    <tr>\n",
       "      <th>796</th>\n",
       "      <td>0</td>\n",
       "      <td>20024.328125</td>\n",
       "      <td>19321.091797</td>\n",
       "      <td>21153.968750</td>\n",
       "      <td>20492.228516</td>\n",
       "      <td>21080.626953</td>\n",
       "      <td>20843.263672</td>\n",
       "      <td>20737.304688</td>\n",
       "      <td>20175.824219</td>\n",
       "      <td>21172.031250</td>\n",
       "      <td>...</td>\n",
       "      <td>20301.312500</td>\n",
       "      <td>19612.716797</td>\n",
       "      <td>20276.210938</td>\n",
       "      <td>21096.660156</td>\n",
       "      <td>20011.363281</td>\n",
       "      <td>20949.822266</td>\n",
       "      <td>20978.839844</td>\n",
       "      <td>20834.839844</td>\n",
       "      <td>20694.410156</td>\n",
       "      <td>21123.289062</td>\n",
       "    </tr>\n",
       "    <tr>\n",
       "      <th>797</th>\n",
       "      <td>0</td>\n",
       "      <td>19651.339844</td>\n",
       "      <td>19068.152344</td>\n",
       "      <td>20364.029297</td>\n",
       "      <td>19941.156250</td>\n",
       "      <td>20477.429688</td>\n",
       "      <td>20348.179688</td>\n",
       "      <td>20303.943359</td>\n",
       "      <td>19630.324219</td>\n",
       "      <td>20725.628906</td>\n",
       "      <td>...</td>\n",
       "      <td>19952.501953</td>\n",
       "      <td>19628.767578</td>\n",
       "      <td>20048.691406</td>\n",
       "      <td>20773.267578</td>\n",
       "      <td>19516.250000</td>\n",
       "      <td>20689.384766</td>\n",
       "      <td>20573.607422</td>\n",
       "      <td>20972.203125</td>\n",
       "      <td>20380.310547</td>\n",
       "      <td>20171.078125</td>\n",
       "    </tr>\n",
       "    <tr>\n",
       "      <th>798</th>\n",
       "      <td>0</td>\n",
       "      <td>19277.910156</td>\n",
       "      <td>18597.138672</td>\n",
       "      <td>20218.046875</td>\n",
       "      <td>19481.505859</td>\n",
       "      <td>19956.251953</td>\n",
       "      <td>19885.521484</td>\n",
       "      <td>19607.332031</td>\n",
       "      <td>18773.894531</td>\n",
       "      <td>20019.193359</td>\n",
       "      <td>...</td>\n",
       "      <td>19908.648438</td>\n",
       "      <td>18324.960938</td>\n",
       "      <td>19204.394531</td>\n",
       "      <td>20515.718750</td>\n",
       "      <td>19131.496094</td>\n",
       "      <td>19820.599609</td>\n",
       "      <td>20164.064453</td>\n",
       "      <td>20432.197266</td>\n",
       "      <td>19943.957031</td>\n",
       "      <td>20312.611328</td>\n",
       "    </tr>\n",
       "    <tr>\n",
       "      <th>799</th>\n",
       "      <td>0</td>\n",
       "      <td>19687.390625</td>\n",
       "      <td>19218.705078</td>\n",
       "      <td>20176.216797</td>\n",
       "      <td>19374.423828</td>\n",
       "      <td>20132.148438</td>\n",
       "      <td>19663.849609</td>\n",
       "      <td>19689.259766</td>\n",
       "      <td>19163.896484</td>\n",
       "      <td>20742.781250</td>\n",
       "      <td>...</td>\n",
       "      <td>20205.388672</td>\n",
       "      <td>18888.417969</td>\n",
       "      <td>19604.298828</td>\n",
       "      <td>20473.195312</td>\n",
       "      <td>19052.423828</td>\n",
       "      <td>20212.498047</td>\n",
       "      <td>20582.093750</td>\n",
       "      <td>20658.074219</td>\n",
       "      <td>20350.531250</td>\n",
       "      <td>19854.568359</td>\n",
       "    </tr>\n",
       "  </tbody>\n",
       "</table>\n",
       "<p>800 rows × 800 columns</p>\n",
       "</div>"
      ],
      "text/plain": [
       "     0             1             2             3             4    \\\n",
       "0      0  19338.820312  18948.253906  19671.093750  20039.664062   \n",
       "1      0  20402.644531  20326.423828  21154.830078  21248.126953   \n",
       "2      0  18974.431641  18574.505859  19918.867188  19574.441406   \n",
       "3      0  19763.068359  19715.703125  20769.664062  19929.425781   \n",
       "4      0  19530.750000  19534.341797  20433.923828  19612.488281   \n",
       "5      0  18978.230469  18663.246094  19755.708984  19856.136719   \n",
       "6      0  20491.267578  19875.562500  21123.001953  20375.425781   \n",
       "7      0  19962.316406  19812.443359  20665.583984  20047.921875   \n",
       "8      0  19250.896484  19384.732422  20067.013672  20232.304688   \n",
       "9      0  18848.146484  18475.363281  20021.603516  19445.378906   \n",
       "10     0  19637.318359  19135.679688  20452.880859  20045.464844   \n",
       "11     0  19589.408203  19621.271484  20052.863281  20437.375000   \n",
       "12     0  19884.275391  19551.361328  21010.187500  20779.466797   \n",
       "13     0  20198.220703  19637.126953  20832.240234  19896.277344   \n",
       "14     0  19518.689453  18592.626953  20283.857422  20201.873047   \n",
       "15     0  19138.332031  19543.250000  20394.744141  20115.306641   \n",
       "16     0  19991.986328  19520.521484  20770.054688  20502.060547   \n",
       "17     0  19513.708984  18727.763672  20357.318359  19743.304688   \n",
       "18     0  20006.619141  18935.707031  20345.076172  19469.466797   \n",
       "19     0  18950.255859  18584.173828  19448.958984  19187.960938   \n",
       "20     0  19997.890625  19111.611328  21066.085938  20223.160156   \n",
       "21     0  19101.332031  18558.902344  19937.904297  19401.935547   \n",
       "22     0  19623.152344  19302.251953  20411.828125  19308.017578   \n",
       "23     0  18834.480469  18642.859375  19614.718750  19506.845703   \n",
       "24     0  19687.496094  19485.289062  20578.591797  20366.177734   \n",
       "25     0  19272.457031  19436.476562  20332.890625  19828.509766   \n",
       "26     0  19867.910156  19499.453125  20188.646484  20145.642578   \n",
       "27     0  19264.111328  18739.714844  20159.673828  19570.177734   \n",
       "28     0  19604.068359  18894.107422  20425.419922  20052.355469   \n",
       "29     0  19716.822266  19439.662109  20610.033203  20441.093750   \n",
       "..   ...           ...           ...           ...           ...   \n",
       "770    0  19772.097656  19196.886719  20446.906250  20014.099609   \n",
       "771    0  19186.613281  18747.757812  20375.572266  19445.308594   \n",
       "772    0  19532.777344  18985.429688  20153.000000  19549.498047   \n",
       "773    0  19751.492188  19555.773438  20077.662109  19715.750000   \n",
       "774    0  19463.386719  18543.990234  20406.662109  19582.767578   \n",
       "775    0  18904.669922  18044.224609  19126.716797  19112.693359   \n",
       "776    0  19431.832031  19133.933594  20236.726562  19853.519531   \n",
       "777    0  19227.988281  19162.347656  19930.789062  19509.503906   \n",
       "778    0  19753.322266  19583.359375  20610.437500  20432.291016   \n",
       "779    0  19226.675781  19039.947266  19941.701172  19685.947266   \n",
       "780    0  19621.693359  18997.503906  19733.105469  19849.455078   \n",
       "781    0  18910.457031  18314.460938  19814.810547  19471.742188   \n",
       "782    0  19932.398438  19035.083984  20375.148438  20105.296875   \n",
       "783    0  19299.720703  19427.111328  19783.074219  20005.451172   \n",
       "784    0  20544.005859  19776.701172  21337.972656  20396.435547   \n",
       "785    0  20262.464844  19998.287109  20771.593750  20471.437500   \n",
       "786    0  18495.990234  18223.187500  19365.031250  19081.488281   \n",
       "787    0  19616.365234  19195.332031  20825.703125  19986.177734   \n",
       "788    0  19113.773438  18802.242188  20258.416016  19575.218750   \n",
       "789    0  19647.494141  19537.160156  20174.675781  20096.535156   \n",
       "790    0  19759.458984  20059.873047  21136.642578  20819.863281   \n",
       "791    0  20095.595703  19859.822266  20931.601562  20701.277344   \n",
       "792    0  19941.523438  19432.447266  20738.613281  20548.205078   \n",
       "793    0  19689.160156  19909.316406  20727.169922  20605.246094   \n",
       "794    0  19061.671875  19178.207031  20805.837891  20101.693359   \n",
       "795    0  19897.091797  18771.994141  20393.308594  19666.119141   \n",
       "796    0  20024.328125  19321.091797  21153.968750  20492.228516   \n",
       "797    0  19651.339844  19068.152344  20364.029297  19941.156250   \n",
       "798    0  19277.910156  18597.138672  20218.046875  19481.505859   \n",
       "799    0  19687.390625  19218.705078  20176.216797  19374.423828   \n",
       "\n",
       "              5             6             7             8             9    \\\n",
       "0    20134.105469  20184.142578  19951.529297  19327.763672  20095.109375   \n",
       "1    21218.875000  21056.281250  20767.853516  20294.386719  21444.029297   \n",
       "2    20027.769531  19400.048828  20075.271484  19021.761719  20237.445312   \n",
       "3    20419.009766  20650.433594  20425.615234  19854.888672  20988.417969   \n",
       "4    20277.220703  19808.958984  20103.748047  19723.578125  20003.531250   \n",
       "5    19900.279297  19653.443359  20015.964844  19090.158203  20634.691406   \n",
       "6    20977.630859  20919.431641  20639.681641  19787.414062  21139.894531   \n",
       "7    20713.982422  20258.673828  20200.500000  19569.189453  21002.683594   \n",
       "8    20387.125000  20318.275391  19785.632812  19531.726562  20439.966797   \n",
       "9    19815.628906  19656.150391  19072.974609  18945.976562  19741.343750   \n",
       "10   20146.337891  20050.984375  20154.849609  19219.037109  20665.822266   \n",
       "11   20922.968750  20664.822266  20339.046875  19937.371094  20857.945312   \n",
       "12   20442.720703  21006.880859  20308.263672  20144.068359  21138.640625   \n",
       "13   20216.728516  20128.917969  20556.033203  19503.292969  20740.664062   \n",
       "14   20574.503906  19871.830078  20141.445312  19415.957031  20185.855469   \n",
       "15   20047.693359  20311.302734  19986.599609  19292.857422  20296.320312   \n",
       "16   20713.406250  20747.626953  20004.734375  19490.630859  20832.322266   \n",
       "17   19915.746094  20111.474609  19580.472656  19507.640625  19901.478516   \n",
       "18   19945.759766  19455.802734  19472.574219  19114.917969  20183.335938   \n",
       "19   19343.384766  19104.068359  19287.820312  18997.259766  19541.154297   \n",
       "20   20491.740234  20189.300781  20202.259766  19729.873047  21030.236328   \n",
       "21   19547.746094  19219.384766  19642.757812  18815.437500  20064.529297   \n",
       "22   20156.291016  19851.763672  20089.626953  19232.722656  20214.167969   \n",
       "23   19546.101562  19304.113281  19114.216797  18785.015625  19570.580078   \n",
       "24   20404.632812  20450.787109  20688.462891  19715.644531  20842.183594   \n",
       "25   20188.966797  20234.433594  20301.835938  19693.960938  20619.759766   \n",
       "26   20215.537109  20035.099609  20225.445312  19820.173828  20556.029297   \n",
       "27   19967.115234  19746.775391  19798.023438  19590.867188  20200.193359   \n",
       "28   19994.769531  19969.125000  20240.972656  19439.929688  20243.773438   \n",
       "29   21023.091797  20786.777344  20060.753906  20077.259766  21003.394531   \n",
       "..            ...           ...           ...           ...           ...   \n",
       "770  20356.134766  20311.570312  20403.140625  19319.902344  21025.529297   \n",
       "771  19815.234375  20104.619141  19562.525391  19081.021484  20461.675781   \n",
       "772  19728.500000  20237.072266  20635.474609  19482.771484  20802.363281   \n",
       "773  19891.927734  20108.609375  19903.255859  19337.787109  20393.275391   \n",
       "774  19967.603516  19805.621094  20000.990234  18822.695312  20543.501953   \n",
       "775  19484.208984  19153.943359  19592.908203  18436.787109  20060.951172   \n",
       "776  20234.000000  20314.269531  19845.171875  19363.023438  20482.875000   \n",
       "777  20156.142578  19937.689453  19875.361328  19074.271484  20149.806641   \n",
       "778  20540.630859  20258.541016  20576.044922  19994.521484  21624.822266   \n",
       "779  19762.802734  19763.449219  19764.337891  18982.666016  20010.556641   \n",
       "780  19684.009766  19521.804688  20003.048828  18976.003906  20141.361328   \n",
       "781  20125.265625  19438.171875  19646.775391  19048.439453  20347.173828   \n",
       "782  20366.468750  19854.308594  20292.728516  19380.759766  20815.326172   \n",
       "783  20251.181641  20139.917969  19732.068359  19448.955078  20833.089844   \n",
       "784  20765.775391  21073.691406  20543.058594  19959.230469  20992.519531   \n",
       "785  20567.425781  20759.730469  20538.734375  20167.810547  21273.958984   \n",
       "786  19566.199219  19526.230469  19066.945312  18402.003906  19567.708984   \n",
       "787  19915.699219  20395.199219  20061.455078  19523.964844  20677.787109   \n",
       "788  20105.951172  20069.451172  19175.404297  19083.048828  19889.523438   \n",
       "789  20204.386719  20216.593750  19989.152344  19434.865234  21065.767578   \n",
       "790  20749.685547  20595.117188  20481.404297  20097.771484  21054.050781   \n",
       "791  20715.250000  20435.798828  20422.853516  20144.140625  21630.875000   \n",
       "792  20433.789062  19889.992188  19850.156250  19393.017578  20696.099609   \n",
       "793  20707.687500  20514.792969  20557.197266  20282.111328  21366.949219   \n",
       "794  20311.751953  20127.062500  20748.472656  20003.685547  21105.513672   \n",
       "795  19676.566406  19539.445312  19662.667969  18620.644531  20247.796875   \n",
       "796  21080.626953  20843.263672  20737.304688  20175.824219  21172.031250   \n",
       "797  20477.429688  20348.179688  20303.943359  19630.324219  20725.628906   \n",
       "798  19956.251953  19885.521484  19607.332031  18773.894531  20019.193359   \n",
       "799  20132.148438  19663.849609  19689.259766  19163.896484  20742.781250   \n",
       "\n",
       "         ...                790           791           792           793  \\\n",
       "0        ...       20215.667969  18420.777344  18958.363281  20354.455078   \n",
       "1        ...       20733.142578  19985.195312  20700.250000  20960.851562   \n",
       "2        ...       19728.126953  18589.199219  18794.566406  19562.742188   \n",
       "3        ...       20186.943359  18957.107422  19699.267578  20990.869141   \n",
       "4        ...       19648.832031  18635.841797  19367.279297  19965.740234   \n",
       "5        ...       19688.455078  18399.029297  19257.910156  20160.462891   \n",
       "6        ...       20504.695312  19172.330078  20283.574219  21089.677734   \n",
       "7        ...       20204.921875  19005.607422  19486.060547  21404.351562   \n",
       "8        ...       19999.603516  18836.201172  19522.287109  20166.072266   \n",
       "9        ...       19246.470703  18354.443359  18881.785156  19636.734375   \n",
       "10       ...       19659.664062  19066.570312  19455.404297  20317.250000   \n",
       "11       ...       20419.441406  18953.417969  19687.740234  20876.761719   \n",
       "12       ...       20396.929688  19555.150391  19997.068359  20882.923828   \n",
       "13       ...       19823.519531  19455.113281  19570.765625  20691.193359   \n",
       "14       ...       19774.826172  19320.488281  19600.966797  20143.398438   \n",
       "15       ...       19994.541016  18827.324219  19151.724609  20283.906250   \n",
       "16       ...       20480.623047  18946.505859  19537.224609  20585.019531   \n",
       "17       ...       19511.279297  18761.802734  19179.255859  20257.527344   \n",
       "18       ...       19177.966797  18283.548828  18681.808594  20365.085938   \n",
       "19       ...       19832.519531  18660.537109  18407.554688  19599.160156   \n",
       "20       ...       19863.617188  19149.832031  19906.560547  20791.406250   \n",
       "21       ...       19417.929688  18000.474609  18689.890625  19560.931641   \n",
       "22       ...       19635.501953  18718.587891  18792.195312  20219.845703   \n",
       "23       ...       19695.951172  18239.300781  19042.744141  19590.464844   \n",
       "24       ...       20131.943359  19179.386719  19925.402344  21084.542969   \n",
       "25       ...       20147.505859  18995.123047  19556.796875  20219.556641   \n",
       "26       ...       20137.710938  18919.105469  19724.546875  20971.257812   \n",
       "27       ...       19543.001953  18655.886719  19282.525391  19909.142578   \n",
       "28       ...       19974.628906  19080.326172  19293.023438  20642.644531   \n",
       "29       ...       20103.939453  19409.705078  19982.074219  20487.832031   \n",
       "..       ...                ...           ...           ...           ...   \n",
       "770      ...       19757.656250  19487.960938  19877.906250  20400.640625   \n",
       "771      ...       19398.810547  18557.013672  19602.542969  20159.009766   \n",
       "772      ...       20112.246094  19000.722656  19605.835938  20186.060547   \n",
       "773      ...       19851.205078  19381.505859  19420.630859  20502.421875   \n",
       "774      ...       19659.099609  18626.207031  19590.396484  20377.201172   \n",
       "775      ...       19589.435547  18208.521484  18634.845703  19414.310547   \n",
       "776      ...       19630.291016  18966.292969  19656.863281  20512.890625   \n",
       "777      ...       19690.582031  18438.650391  18956.646484  20354.810547   \n",
       "778      ...       20252.896484  18795.347656  19766.210938  21108.037109   \n",
       "779      ...       19601.134766  18799.593750  19343.238281  19817.017578   \n",
       "780      ...       19205.320312  18658.785156  19438.107422  20425.421875   \n",
       "781      ...       19583.285156  18525.384766  18830.914062  20227.185547   \n",
       "782      ...       20483.523438  19105.964844  19855.685547  20444.453125   \n",
       "783      ...       19632.607422  18631.847656  18913.541016  20370.701172   \n",
       "784      ...       20703.886719  19540.609375  20503.996094  21109.548828   \n",
       "785      ...       19942.609375  19650.142578  20615.554688  20902.933594   \n",
       "786      ...       19083.664062  18466.994141  18868.000000  19764.345703   \n",
       "787      ...       19747.187500  18897.232422  19504.656250  20643.099609   \n",
       "788      ...       19451.185547  18251.492188  19130.320312  19798.259766   \n",
       "789      ...       19809.394531  18531.537109  19393.648438  20326.556641   \n",
       "790      ...       20623.927734  19665.695312  20346.263672  20977.095703   \n",
       "791      ...       20875.658203  19633.103516  20730.851562  21122.921875   \n",
       "792      ...       20193.078125  19272.115234  19666.554688  20486.757812   \n",
       "793      ...       20652.474609  19718.248047  20561.316406  21178.498047   \n",
       "794      ...       20314.697266  18890.302734  19649.705078  20811.859375   \n",
       "795      ...       19558.125000  18732.199219  19216.800781  20328.103516   \n",
       "796      ...       20301.312500  19612.716797  20276.210938  21096.660156   \n",
       "797      ...       19952.501953  19628.767578  20048.691406  20773.267578   \n",
       "798      ...       19908.648438  18324.960938  19204.394531  20515.718750   \n",
       "799      ...       20205.388672  18888.417969  19604.298828  20473.195312   \n",
       "\n",
       "              794           795           796           797           798  \\\n",
       "0    18981.792969  19624.810547  20248.763672  20025.281250  19815.654297   \n",
       "1    19820.261719  20646.039062  20914.964844  21458.554688  21098.937500   \n",
       "2    19016.472656  20057.156250  19757.695312  20680.773438  19635.421875   \n",
       "3    19384.425781  20507.029297  20583.031250  20607.787109  20450.503906   \n",
       "4    19196.480469  19794.943359  20177.460938  19868.179688  20261.166016   \n",
       "5    19158.031250  20181.484375  20015.609375  20221.564453  19571.064453   \n",
       "6    19896.519531  20929.806641  21127.289062  21462.998047  20870.609375   \n",
       "7    19486.957031  20159.119141  20784.412109  20690.330078  20540.062500   \n",
       "8    19999.607422  20453.283203  19994.164062  20376.250000  19978.373047   \n",
       "9    18792.984375  19023.291016  19355.605469  19744.654297  19208.892578   \n",
       "10   19197.414062  19988.619141  20325.261719  20656.277344  20064.597656   \n",
       "11   19502.197266  20634.869141  20497.466797  21089.923828  20710.621094   \n",
       "12   19661.773438  20191.519531  20969.041016  20975.308594  20234.113281   \n",
       "13   19480.658203  20112.496094  20390.447266  20567.431641  19903.464844   \n",
       "14   19576.640625  19913.503906  20387.892578  20674.791016  19959.671875   \n",
       "15   19477.798828  20379.632812  20260.480469  20080.513672  20228.617188   \n",
       "16   19447.310547  20550.417969  20458.599609  21510.771484  20203.453125   \n",
       "17   18908.716797  19707.468750  20165.394531  20106.800781  19297.828125   \n",
       "18   19055.281250  19520.101562  19602.759766  20318.035156  19525.988281   \n",
       "19   18799.783203  19028.898438  19246.603516  19734.562500  19729.566406   \n",
       "20   19613.253906  20467.703125  20755.582031  21234.294922  20547.771484   \n",
       "21   18766.652344  19542.029297  19801.289062  20211.802734  19812.011719   \n",
       "22   19207.630859  19551.388672  19471.574219  20315.412109  19432.970703   \n",
       "23   18895.392578  19559.705078  19538.949219  20697.212891  19526.960938   \n",
       "24   19607.402344  20675.050781  20622.841797  20800.408203  20346.541016   \n",
       "25   18900.857422  20042.023438  20576.361328  20718.937500  20133.828125   \n",
       "26   19209.769531  20337.929688  20560.974609  21089.167969  20141.263672   \n",
       "27   19206.244141  20119.623047  20187.513672  20428.376953  20145.851562   \n",
       "28   19652.486328  19937.011719  20876.734375  19949.666016  20286.902344   \n",
       "29   19577.380859  20195.005859  21181.441406  20769.314453  20862.222656   \n",
       "..            ...           ...           ...           ...           ...   \n",
       "770  19151.927734  20337.658203  20695.296875  20992.193359  19757.789062   \n",
       "771  19170.458984  19853.986328  19782.539062  20194.390625  19927.267578   \n",
       "772  19503.498047  20146.855469  20263.316406  20550.474609  19956.289062   \n",
       "773  19078.638672  20001.847656  20298.074219  20428.371094  19559.289062   \n",
       "774  19062.294922  19979.699219  20037.123047  20539.849609  20049.146484   \n",
       "775  18873.023438  19595.500000  19711.810547  19809.830078  19443.791016   \n",
       "776  19306.564453  20245.207031  20126.734375  19975.480469  19586.689453   \n",
       "777  19195.603516  19947.259766  19769.660156  20028.812500  19795.751953   \n",
       "778  19631.097656  20519.048828  20485.542969  20523.820312  20529.574219   \n",
       "779  18672.507812  19758.232422  19495.685547  20130.224609  19816.248047   \n",
       "780  18955.380859  20253.617188  19913.164062  20286.826172  19926.712891   \n",
       "781  18963.140625  19359.458984  19910.894531  20195.824219  19953.894531   \n",
       "782  19112.353516  20661.816406  19771.603516  21120.955078  20312.718750   \n",
       "783  19269.345703  20004.544922  19926.246094  20907.904297  20272.763672   \n",
       "784  19641.546875  20437.082031  20873.792969  21087.546875  20343.742188   \n",
       "785  19754.664062  20407.261719  20917.625000  21234.261719  20834.642578   \n",
       "786  18498.837891  19175.050781  19579.248047  20152.363281  18819.263672   \n",
       "787  19580.056641  20063.886719  20426.339844  20689.457031  20246.894531   \n",
       "788  18874.492188  19385.335938  19581.750000  20029.769531  19275.900391   \n",
       "789  19399.822266  20538.072266  20477.560547  20279.916016  20406.146484   \n",
       "790  19884.283203  20689.660156  21021.634766  21160.216797  20703.308594   \n",
       "791  19777.236328  20943.150391  20993.205078  21541.546875  20864.302734   \n",
       "792  19831.554688  19909.341797  20547.972656  20659.642578  20503.316406   \n",
       "793  19705.412109  21181.027344  21034.966797  21345.000000  20542.091797   \n",
       "794  19533.750000  20837.820312  20277.287109  20593.794922  19948.158203   \n",
       "795  18396.705078  19786.447266  19803.351562  20511.570312  19468.068359   \n",
       "796  20011.363281  20949.822266  20978.839844  20834.839844  20694.410156   \n",
       "797  19516.250000  20689.384766  20573.607422  20972.203125  20380.310547   \n",
       "798  19131.496094  19820.599609  20164.064453  20432.197266  19943.957031   \n",
       "799  19052.423828  20212.498047  20582.093750  20658.074219  20350.531250   \n",
       "\n",
       "              799  \n",
       "0    19957.220703  \n",
       "1    21133.974609  \n",
       "2    20151.958984  \n",
       "3    20432.765625  \n",
       "4    20101.968750  \n",
       "5    19975.582031  \n",
       "6    20760.570312  \n",
       "7    20433.984375  \n",
       "8    20716.539062  \n",
       "9    19533.318359  \n",
       "10   20439.328125  \n",
       "11   20487.826172  \n",
       "12   20277.669922  \n",
       "13   20908.105469  \n",
       "14   20289.230469  \n",
       "15   20063.439453  \n",
       "16   20701.550781  \n",
       "17   19762.855469  \n",
       "18   20034.953125  \n",
       "19   19507.806641  \n",
       "20   20418.648438  \n",
       "21   19760.988281  \n",
       "22   20147.699219  \n",
       "23   20296.287109  \n",
       "24   20792.650391  \n",
       "25   20325.535156  \n",
       "26   20894.503906  \n",
       "27   20030.300781  \n",
       "28   20249.583984  \n",
       "29   20763.492188  \n",
       "..            ...  \n",
       "770  20509.164062  \n",
       "771  19597.371094  \n",
       "772  20184.093750  \n",
       "773  20370.371094  \n",
       "774  19928.515625  \n",
       "775  19551.160156  \n",
       "776  20127.230469  \n",
       "777  20235.916016  \n",
       "778  20619.271484  \n",
       "779  19731.359375  \n",
       "780  19942.054688  \n",
       "781  19489.261719  \n",
       "782  20622.255859  \n",
       "783  20310.216797  \n",
       "784  20967.005859  \n",
       "785  20624.492188  \n",
       "786  19412.132812  \n",
       "787  20230.156250  \n",
       "788  19521.855469  \n",
       "789  20105.861328  \n",
       "790  21209.492188  \n",
       "791  21063.064453  \n",
       "792  20318.593750  \n",
       "793  20934.775391  \n",
       "794  20433.839844  \n",
       "795  19494.951172  \n",
       "796  21123.289062  \n",
       "797  20171.078125  \n",
       "798  20312.611328  \n",
       "799  19854.568359  \n",
       "\n",
       "[800 rows x 800 columns]"
      ]
     },
     "execution_count": 228,
     "metadata": {},
     "output_type": "execute_result"
    }
   ],
   "source": []
  },
  {
   "cell_type": "code",
   "execution_count": 211,
   "metadata": {
    "collapsed": false
   },
   "outputs": [
    {
     "data": {
      "text/plain": [
       "19769.258"
      ]
     },
     "execution_count": 211,
     "metadata": {},
     "output_type": "execute_result"
    }
   ],
   "source": [
    "C2 =np.dot(A,B)\n",
    "C2[-1,-1]"
   ]
  },
  {
   "cell_type": "code",
   "execution_count": 190,
   "metadata": {
    "collapsed": false
   },
   "outputs": [
    {
     "data": {
      "text/plain": [
       "4104.3211859306321"
      ]
     },
     "execution_count": 190,
     "metadata": {},
     "output_type": "execute_result"
    }
   ],
   "source": [
    "sum((A)[0,:])"
   ]
  },
  {
   "cell_type": "code",
   "execution_count": 171,
   "metadata": {
    "collapsed": false
   },
   "outputs": [
    {
     "data": {
      "text/plain": [
       "array([[ 1337.88842773,     0.        ,     0.        , ...,\n",
       "            0.        ,     0.        ,     0.        ],\n",
       "       [    0.        ,     0.        ,     0.        , ...,\n",
       "            0.        ,     0.        ,     0.        ],\n",
       "       [    0.        ,     0.        ,     0.        , ...,\n",
       "            0.        ,     0.        ,     0.        ],\n",
       "       ..., \n",
       "       [    0.        ,     0.        ,     0.        , ...,\n",
       "            0.        ,     0.        ,     0.        ],\n",
       "       [    0.        ,     0.        ,     0.        , ...,\n",
       "            0.        ,     0.        ,     0.        ],\n",
       "       [    0.        ,     0.        ,     0.        , ...,\n",
       "            0.        ,     0.        ,     0.        ]], dtype=float32)"
      ]
     },
     "execution_count": 171,
     "metadata": {},
     "output_type": "execute_result"
    }
   ],
   "source": [
    "C"
   ]
  },
  {
   "cell_type": "code",
   "execution_count": 154,
   "metadata": {
    "collapsed": false
   },
   "outputs": [
    {
     "data": {
      "text/plain": [
       "6.0296946"
      ]
     },
     "execution_count": 154,
     "metadata": {},
     "output_type": "execute_result"
    }
   ],
   "source": [
    "A[0,0]*B[0,0]"
   ]
  },
  {
   "cell_type": "code",
   "execution_count": 81,
   "metadata": {
    "collapsed": false
   },
   "outputs": [
    {
     "data": {
      "text/plain": [
       "array([[ 0.13690704,  0.15780275,  0.16038589,  0.14639316,  0.07471563,\n",
       "         0.17613412,  0.05036956,  0.03969185,  0.12471844,  0.19932678],\n",
       "       [ 0.30503559,  0.00879565,  0.10697126,  0.52589166,  0.39518183,\n",
       "         0.02045024,  0.82565844,  0.46636474,  0.00382667,  0.08289061],\n",
       "       [ 0.15176536,  0.2622833 ,  0.53220826,  0.8946656 ,  0.01307231,\n",
       "         0.07737056,  0.33479446,  0.1139865 ,  0.15976289,  0.41695428],\n",
       "       [ 0.55979735,  0.10429091,  0.18455163,  0.65808594,  0.43310434,\n",
       "         0.26133183,  0.09266995,  0.25462094,  0.05073188,  0.01599277],\n",
       "       [ 0.15481941,  0.07390842,  0.17031613,  0.29221374,  0.00197615,\n",
       "         0.77740699,  0.20520084,  0.03498841,  0.14344779,  0.24039632],\n",
       "       [ 0.36570153,  0.03308162,  0.40504581,  0.17549804,  0.04901603,\n",
       "         0.17601608,  0.42584431,  0.02565288,  0.27958959,  0.01039498],\n",
       "       [ 0.25421378,  0.57697403,  0.06310637,  0.61780804,  0.21948349,\n",
       "         0.0523921 ,  0.32464069,  0.20715676,  0.02822599,  0.68693268],\n",
       "       [ 0.0292009 ,  0.03773   ,  0.00171366,  0.31774834,  0.11243635,\n",
       "         0.20127547,  0.60561234,  0.19670683,  0.52535653,  0.10713352],\n",
       "       [ 0.13515495,  0.11630987,  0.42702296,  0.02125769,  0.37304971,\n",
       "         0.0318153 ,  0.03203605,  0.04989228,  0.05432982,  0.07423443],\n",
       "       [ 0.16690877,  0.00709018,  0.56228548,  0.02369628,  0.0184    ,\n",
       "         0.01814953,  0.09910493,  0.00520394,  0.35269567,  0.26072952]], dtype=float32)"
      ]
     },
     "execution_count": 81,
     "metadata": {},
     "output_type": "execute_result"
    }
   ],
   "source": [
    "A*B"
   ]
  },
  {
   "cell_type": "code",
   "execution_count": null,
   "metadata": {
    "collapsed": true
   },
   "outputs": [],
   "source": [
    "@cuda.jit(argtypes=[float32[:,:], float32[:,:], float32[:,:]], target='gpu')\n",
    "def add_matrix_row(A, B, C):\n",
    "    sA = cuda.shared.array(shape=(tpb, tpb), dtype=float32)\n",
    "    sB = cuda.shared.array(shape=(tpb, tpb), dtype=float32)\n",
    "\n",
    "    tx = cuda.threadIdx.x\n",
    "    ty = cuda.threadIdx.y\n",
    "    bx = cuda.blockIdx.x\n",
    "    by = cuda.blockIdx.y\n",
    "    bw = cuda.blockDim.x\n",
    "    bh = cuda.blockDim.y\n",
    "\n",
    "    (x,y) = cuda.grid(2)\n",
    "\n",
    "    acc = 0.\n",
    "    for i in range(bpg):\n",
    "        if x < n and y < n:\n",
    "            sA[ty, tx] = A[y, tx + i * tpb]\n",
    "            sB[ty, tx] = B[ty + i * tpb, x]\n",
    "\n",
    "        cuda.syncthreads()\n",
    "\n",
    "        if x < n and y < n:\n",
    "            for j in range(tpb):\n",
    "                acc += sA[ty, j] * sB[j, tx]\n",
    "\n",
    "        cuda.syncthreads()\n",
    "\n",
    "    if x < n and y < n:\n",
    "        C[y, x] = acc"
   ]
  },
  {
   "cell_type": "code",
   "execution_count": 69,
   "metadata": {
    "collapsed": false
   },
   "outputs": [
    {
     "data": {
      "text/plain": [
       "array([ 0.36751449,  0.72761947,  0.83771068,  0.69905257,  0.96372646,\n",
       "        0.86328846,  0.13826723,  0.42228767,  0.25019705,  0.3150101 ], dtype=float32)"
      ]
     },
     "execution_count": 69,
     "metadata": {},
     "output_type": "execute_result"
    }
   ],
   "source": [
    "A[0,:]"
   ]
  },
  {
   "cell_type": "code",
   "execution_count": 44,
   "metadata": {
    "collapsed": false
   },
   "outputs": [
    {
     "data": {
      "text/plain": [
       "array([[ 0.13690704,  0.15780275,  0.16038589,  0.14639316,  0.07471563,\n",
       "         0.17613412,  0.05036956,  0.03969185,  0.12471844,  0.19932678],\n",
       "       [ 0.30503559,  0.00879565,  0.10697126,  0.52589166,  0.39518183,\n",
       "         0.02045024,  0.82565844,  0.46636474,  0.00382667,  0.08289061],\n",
       "       [ 0.15176536,  0.2622833 ,  0.53220826,  0.8946656 ,  0.01307231,\n",
       "         0.07737056,  0.33479446,  0.1139865 ,  0.15976289,  0.41695428],\n",
       "       [ 0.55979735,  0.10429091,  0.18455163,  0.65808594,  0.43310434,\n",
       "         0.26133183,  0.09266995,  0.25462094,  0.05073188,  0.01599277],\n",
       "       [ 0.15481941,  0.07390842,  0.17031613,  0.29221374,  0.00197615,\n",
       "         0.77740699,  0.20520084,  0.03498841,  0.14344779,  0.24039632],\n",
       "       [ 0.36570153,  0.03308162,  0.40504581,  0.17549804,  0.04901603,\n",
       "         0.17601608,  0.42584431,  0.02565288,  0.27958959,  0.01039498],\n",
       "       [ 0.25421378,  0.57697403,  0.06310637,  0.61780804,  0.21948349,\n",
       "         0.0523921 ,  0.32464069,  0.20715676,  0.02822599,  0.68693268],\n",
       "       [ 0.0292009 ,  0.03773   ,  0.00171366,  0.31774834,  0.11243635,\n",
       "         0.20127547,  0.60561234,  0.19670683,  0.52535653,  0.10713352],\n",
       "       [ 0.13515495,  0.11630987,  0.42702296,  0.02125769,  0.37304971,\n",
       "         0.0318153 ,  0.03203605,  0.04989228,  0.05432982,  0.07423443],\n",
       "       [ 0.16690877,  0.00709018,  0.56228548,  0.02369628,  0.0184    ,\n",
       "         0.01814953,  0.09910493,  0.00520394,  0.35269567,  0.26072952]], dtype=float32)"
      ]
     },
     "execution_count": 44,
     "metadata": {},
     "output_type": "execute_result"
    }
   ],
   "source": [
    "A*B"
   ]
  },
  {
   "cell_type": "code",
   "execution_count": 43,
   "metadata": {
    "collapsed": false
   },
   "outputs": [
    {
     "data": {
      "text/plain": [
       "array([[ 2.24099922,  1.77301455,  2.65949869,  3.43336821,  1.68796277,\n",
       "         2.40511727,  3.49401712,  2.20606256,  1.98351812,  2.77357054],\n",
       "       [ 2.48035407,  1.72320306,  1.65477026,  2.66861963,  1.54199958,\n",
       "         1.8704443 ,  2.49201965,  1.46566105,  2.24080086,  3.25429797],\n",
       "       [ 3.38507628,  2.40767503,  3.18510532,  4.09742975,  2.43625021,\n",
       "         2.32860541,  3.69326687,  2.48687434,  2.4077003 ,  3.99572086],\n",
       "       [ 2.14462924,  1.73311913,  1.73244095,  3.1824019 ,  1.37521064,\n",
       "         2.0045383 ,  2.73703408,  1.64927995,  2.3570044 ,  2.84271145],\n",
       "       [ 2.17978024,  1.00682056,  1.92636001,  1.84516883,  1.21978295,\n",
       "         1.40635645,  2.16311431,  0.92149639,  1.61307859,  2.14134169],\n",
       "       [ 2.69269514,  1.97830415,  3.03063416,  3.66912627,  1.79989159,\n",
       "         2.61569238,  3.8501749 ,  2.49782038,  2.56505466,  3.89123082],\n",
       "       [ 2.77370715,  1.84013093,  2.6381259 ,  3.55149531,  2.05855346,\n",
       "         2.46567845,  3.65449286,  2.25237131,  2.38174415,  3.61383724],\n",
       "       [ 2.85642672,  2.08081603,  2.36907125,  3.56652617,  2.23009324,\n",
       "         1.89544058,  3.3099947 ,  2.09338188,  2.21485734,  3.41983199],\n",
       "       [ 1.76758718,  1.46376181,  2.57179809,  2.90834284,  1.61633086,\n",
       "         1.82678342,  3.00674963,  2.20162535,  1.34836423,  2.39392591],\n",
       "       [ 1.47749484,  0.72193897,  1.73492432,  1.66418409,  1.1285758 ,\n",
       "         0.7686131 ,  1.55564964,  1.0767467 ,  0.98983556,  1.65805745]], dtype=float32)"
      ]
     },
     "execution_count": 43,
     "metadata": {},
     "output_type": "execute_result"
    }
   ],
   "source": [
    "np.dot(A,B)"
   ]
  },
  {
   "cell_type": "code",
   "execution_count": 42,
   "metadata": {
    "collapsed": false
   },
   "outputs": [
    {
     "data": {
      "text/plain": [
       "array([[ 0.13690704,  0.15780275,  0.16038589,  0.14639316,  0.07471563,\n",
       "         0.17613412,  0.05036956,  0.03969185,  0.12471844,  0.19932678],\n",
       "       [ 0.30503559,  0.00879565,  0.10697126,  0.52589166,  0.39518183,\n",
       "         0.02045024,  0.82565844,  0.46636474,  0.00382667,  0.08289061],\n",
       "       [ 0.15176536,  0.2622833 ,  0.53220826,  0.8946656 ,  0.01307231,\n",
       "         0.07737056,  0.33479446,  0.1139865 ,  0.15976289,  0.41695428],\n",
       "       [ 0.55979735,  0.10429091,  0.18455163,  0.65808594,  0.43310434,\n",
       "         0.26133183,  0.09266995,  0.25462094,  0.05073188,  0.01599277],\n",
       "       [ 0.15481941,  0.07390842,  0.17031613,  0.29221374,  0.00197615,\n",
       "         0.77740699,  0.20520084,  0.03498841,  0.14344779,  0.24039632],\n",
       "       [ 0.36570153,  0.03308162,  0.40504581,  0.17549804,  0.04901603,\n",
       "         0.17601608,  0.42584431,  0.02565288,  0.27958959,  0.01039498],\n",
       "       [ 0.25421378,  0.57697403,  0.06310637,  0.61780804,  0.21948349,\n",
       "         0.0523921 ,  0.32464069,  0.20715676,  0.02822599,  0.68693268],\n",
       "       [ 0.0292009 ,  0.03773   ,  0.00171366,  0.31774834,  0.11243635,\n",
       "         0.20127547,  0.60561234,  0.19670683,  0.52535653,  0.10713352],\n",
       "       [ 0.13515495,  0.11630987,  0.42702296,  0.02125769,  0.37304971,\n",
       "         0.0318153 ,  0.03203605,  0.04989228,  0.05432982,  0.07423443],\n",
       "       [ 0.16690877,  0.00709018,  0.56228548,  0.02369628,  0.0184    ,\n",
       "         0.01814953,  0.09910493,  0.00520394,  0.35269567,  0.26072952]], dtype=float32)"
      ]
     },
     "execution_count": 42,
     "metadata": {},
     "output_type": "execute_result"
    }
   ],
   "source": [
    "C"
   ]
  },
  {
   "cell_type": "code",
   "execution_count": 94,
   "metadata": {
    "collapsed": true
   },
   "outputs": [],
   "source": [
    "import os\n",
    "#os.environ['NUMBA_ENABLE_CUDASIM'] = '1'\n",
    "A = np.random.rand(10,10).astype(np.float32)\n",
    "B = np.random.rand(10,10).astype(np.float32)\n",
    "C = np.zeros([10,10],dtype=np.float32)\n",
    "griddim = 1,1\n",
    "blockdim = 10,10\n",
    "matmul[griddim,blockdim](A,B,C)"
   ]
  },
  {
   "cell_type": "code",
   "execution_count": null,
   "metadata": {
    "collapsed": true
   },
   "outputs": [],
   "source": []
  },
  {
   "cell_type": "code",
   "execution_count": 95,
   "metadata": {
    "collapsed": false
   },
   "outputs": [
    {
     "data": {
      "text/plain": [
       "array([[  4.65442896e-01,   5.05892813e-01,   4.61268425e-01,\n",
       "          3.06628466e-01,   3.16563070e-01,   8.20996240e-02,\n",
       "          2.12497041e-01,   5.60549438e-01,   4.87776287e-02,\n",
       "          6.56635940e-01],\n",
       "       [  6.50183082e-01,   8.60133115e-03,   3.25698406e-01,\n",
       "          7.26709003e-03,   1.63424209e-01,   2.04963788e-01,\n",
       "          1.47900492e-01,   9.15236771e-03,   1.00388443e-02,\n",
       "          2.15082556e-01],\n",
       "       [  8.77482533e-01,   1.46281436e-01,   2.64463760e-02,\n",
       "          5.04277408e-01,   5.58434352e-02,   3.26909453e-01,\n",
       "          1.02571761e-02,   1.07958458e-01,   5.55694140e-02,\n",
       "          9.25844163e-02],\n",
       "       [  7.04561844e-02,   8.91316608e-02,   8.59826431e-02,\n",
       "          2.78028190e-01,   3.56522165e-02,   7.30443239e-01,\n",
       "          3.83448064e-01,   1.27421901e-01,   9.70021822e-03,\n",
       "          1.15200207e-01],\n",
       "       [  7.35897347e-02,   8.77224877e-02,   7.98180476e-02,\n",
       "          2.80209512e-01,   6.70158148e-01,   4.91348714e-01,\n",
       "          2.88769379e-02,   3.79903018e-02,   4.60325927e-01,\n",
       "          2.68464267e-01],\n",
       "       [  1.33099094e-01,   6.12483770e-02,   2.30608448e-01,\n",
       "          1.91236645e-01,   6.35101557e-01,   3.10893983e-01,\n",
       "          8.60224605e-01,   1.31340474e-01,   1.63405389e-01,\n",
       "          9.57905315e-03],\n",
       "       [  2.00308561e-01,   3.43442075e-02,   1.68756947e-01,\n",
       "          2.08574370e-01,   7.70375952e-02,   6.04241371e-01,\n",
       "          1.13228314e-01,   5.76760806e-02,   1.54926404e-01,\n",
       "          1.07610323e-01],\n",
       "       [  3.54445390e-02,   5.48847020e-01,   2.68674761e-01,\n",
       "          1.42913446e-01,   1.33960441e-01,   2.80994847e-02,\n",
       "          5.68209123e-03,   4.29403871e-01,   1.37965858e-01,\n",
       "          2.86484540e-01],\n",
       "       [  4.65585560e-01,   8.97689760e-02,   1.54147567e-02,\n",
       "          1.77016571e-01,   2.54982468e-02,   4.00504261e-01,\n",
       "          4.95352983e-01,   3.40184383e-02,   4.19218481e-01,\n",
       "          7.01384008e-01],\n",
       "       [  4.44406159e-02,   1.47628233e-01,   2.71788985e-02,\n",
       "          5.08542717e-01,   1.26662315e-03,   2.50585675e-01,\n",
       "          2.00607136e-01,   4.78923351e-01,   3.97203118e-01,\n",
       "          5.04175550e-04]], dtype=float32)"
      ]
     },
     "execution_count": 95,
     "metadata": {},
     "output_type": "execute_result"
    }
   ],
   "source": [
    "C"
   ]
  },
  {
   "cell_type": "code",
   "execution_count": 22,
   "metadata": {
    "collapsed": false
   },
   "outputs": [
    {
     "data": {
      "text/plain": [
       "array([[ 3.00476265,  3.35871077,  1.57399905,  2.55752969,  3.00688791,\n",
       "         2.27018642,  2.02393222,  2.84381723,  3.09884644,  2.70224047],\n",
       "       [ 3.06552148,  2.13093853,  1.91202402,  1.95552182,  2.48850965,\n",
       "         2.09819245,  2.561831  ,  2.72748637,  1.94387591,  2.00002241],\n",
       "       [ 3.35360765,  3.01639795,  2.27619982,  3.10811663,  2.86711287,\n",
       "         2.57682347,  2.71806097,  2.96942496,  3.2294817 ,  2.86511517],\n",
       "       [ 3.58684826,  3.20459461,  2.2715168 ,  2.51269007,  3.06844592,\n",
       "         2.94995522,  2.59395194,  2.98315334,  2.74776602,  3.01982665],\n",
       "       [ 3.38010526,  3.17983675,  2.05682373,  3.17262721,  2.69850636,\n",
       "         2.57781267,  3.08232498,  3.18620706,  3.22671032,  2.73384833],\n",
       "       [ 3.33356118,  2.64442015,  1.95927763,  1.78774965,  2.70843363,\n",
       "         2.60898948,  2.43013287,  2.9552381 ,  2.20211005,  2.372895  ],\n",
       "       [ 3.6653831 ,  3.20907593,  2.18912148,  2.86173725,  3.22517419,\n",
       "         2.85678101,  3.08049345,  3.35723352,  2.83221817,  2.8534193 ],\n",
       "       [ 4.28557014,  3.64257288,  2.50283122,  3.32724762,  3.50335908,\n",
       "         3.21288586,  3.11176991,  3.50207281,  3.36357689,  3.68400645],\n",
       "       [ 2.61712718,  2.62722397,  2.02532387,  2.00793552,  2.29708171,\n",
       "         2.59735441,  2.07402754,  2.31134081,  2.41599393,  2.36447906],\n",
       "       [ 3.77599859,  3.88426733,  2.47225356,  2.98935175,  3.78360677,\n",
       "         3.07322264,  2.82691121,  3.56122923,  3.5039835 ,  3.09261203]], dtype=float32)"
      ]
     },
     "execution_count": 22,
     "metadata": {},
     "output_type": "execute_result"
    }
   ],
   "source": [
    "np.dot(A,B)"
   ]
  },
  {
   "cell_type": "code",
   "execution_count": 20,
   "metadata": {
    "collapsed": false
   },
   "outputs": [
    {
     "ename": "NameError",
     "evalue": "name 'dotKernel' is not defined",
     "output_type": "error",
     "traceback": [
      "\u001b[1;31m---------------------------------------------------------------------------\u001b[0m",
      "\u001b[1;31mNameError\u001b[0m                                 Traceback (most recent call last)",
      "\u001b[1;32m<ipython-input-20-a9bc645e5902>\u001b[0m in \u001b[0;36m<module>\u001b[1;34m()\u001b[0m\n\u001b[1;32m----> 1\u001b[1;33m \u001b[0mdotKernel\u001b[0m\u001b[1;33m(\u001b[0m\u001b[0mnp\u001b[0m\u001b[1;33m.\u001b[0m\u001b[0mzeros\u001b[0m\u001b[1;33m(\u001b[0m\u001b[1;33m[\u001b[0m\u001b[1;36m16\u001b[0m\u001b[1;33m,\u001b[0m\u001b[1;36m16\u001b[0m\u001b[1;33m]\u001b[0m\u001b[1;33m)\u001b[0m\u001b[1;33m,\u001b[0m\u001b[0mnp\u001b[0m\u001b[1;33m.\u001b[0m\u001b[0mones\u001b[0m\u001b[1;33m(\u001b[0m\u001b[1;33m[\u001b[0m\u001b[1;36m16\u001b[0m\u001b[1;33m,\u001b[0m\u001b[1;36m16\u001b[0m\u001b[1;33m]\u001b[0m\u001b[1;33m)\u001b[0m\u001b[1;33m,\u001b[0m\u001b[0mnp\u001b[0m\u001b[1;33m.\u001b[0m\u001b[0mones\u001b[0m\u001b[1;33m(\u001b[0m\u001b[1;33m[\u001b[0m\u001b[1;36m16\u001b[0m\u001b[1;33m,\u001b[0m\u001b[1;36m16\u001b[0m\u001b[1;33m]\u001b[0m\u001b[1;33m)\u001b[0m\u001b[1;33m)\u001b[0m\u001b[1;33m\u001b[0m\u001b[0m\n\u001b[0m",
      "\u001b[1;31mNameError\u001b[0m: name 'dotKernel' is not defined"
     ]
    }
   ],
   "source": [
    "dotKernel(np.zeros([16,16]),np.ones([16,16]),np.ones([16,16]))"
   ]
  },
  {
   "cell_type": "code",
   "execution_count": 396,
   "metadata": {
    "collapsed": false
   },
   "outputs": [
    {
     "data": {
      "text/plain": [
       "0L"
      ]
     },
     "execution_count": 396,
     "metadata": {},
     "output_type": "execute_result"
    }
   ],
   "source": [
    "num/1025228867564895324627517087881976107L"
   ]
  },
  {
   "cell_type": "code",
   "execution_count": 382,
   "metadata": {
    "collapsed": false
   },
   "outputs": [
    {
     "data": {
      "text/plain": [
       "466628751144605863598648567117829546L"
      ]
     },
     "execution_count": 382,
     "metadata": {},
     "output_type": "execute_result"
    }
   ],
   "source": [
    "933257502289211727197297134235659092L/2"
   ]
  },
  {
   "cell_type": "code",
   "execution_count": 345,
   "metadata": {
    "collapsed": false
   },
   "outputs": [
    {
     "data": {
      "text/plain": [
       "105L"
      ]
     },
     "execution_count": 345,
     "metadata": {},
     "output_type": "execute_result"
    }
   ],
   "source": [
    "reduce(lambda x,y: x*y,mvect)"
   ]
  },
  {
   "cell_type": "code",
   "execution_count": 346,
   "metadata": {
    "collapsed": false
   },
   "outputs": [
    {
     "data": {
      "text/plain": [
       "105"
      ]
     },
     "execution_count": 346,
     "metadata": {},
     "output_type": "execute_result"
    }
   ],
   "source": [
    "np.product(mvect)"
   ]
  },
  {
   "cell_type": "code",
   "execution_count": 333,
   "metadata": {
    "collapsed": false
   },
   "outputs": [
    {
     "data": {
      "text/plain": [
       "[2, 0, 2]"
      ]
     },
     "execution_count": 333,
     "metadata": {},
     "output_type": "execute_result"
    }
   ],
   "source": [
    "M\n",
    "vv"
   ]
  },
  {
   "cell_type": "code",
   "execution_count": 334,
   "metadata": {
    "collapsed": false
   },
   "outputs": [
    {
     "data": {
      "text/plain": [
       "4"
      ]
     },
     "execution_count": 334,
     "metadata": {},
     "output_type": "execute_result"
    }
   ],
   "source": [
    "np.dot(M,vv)"
   ]
  },
  {
   "cell_type": "code",
   "execution_count": 335,
   "metadata": {
    "collapsed": false
   },
   "outputs": [
    {
     "name": "stdout",
     "output_type": "stream",
     "text": [
      "[3L, 5L, 7L]\n",
      "[2, 0, 2]\n"
     ]
    }
   ],
   "source": [
    "print mvect\n",
    "print vv"
   ]
  },
  {
   "cell_type": "code",
   "execution_count": 336,
   "metadata": {
    "collapsed": false
   },
   "outputs": [
    {
     "data": {
      "text/plain": [
       "137L"
      ]
     },
     "execution_count": 336,
     "metadata": {},
     "output_type": "execute_result"
    }
   ],
   "source": [
    "homer_scheme(mvect,vv,0) "
   ]
  },
  {
   "cell_type": "code",
   "execution_count": 337,
   "metadata": {
    "collapsed": false
   },
   "outputs": [
    {
     "data": {
      "text/plain": [
       "32"
      ]
     },
     "execution_count": 337,
     "metadata": {},
     "output_type": "execute_result"
    }
   ],
   "source": [
    "2+(3*(0+5*(2+7)))%()"
   ]
  },
  {
   "cell_type": "markdown",
   "metadata": {},
   "source": [
    "5150339186250806210346679687503131313123131L + 2"
   ]
  },
  {
   "cell_type": "code",
   "execution_count": 295,
   "metadata": {
    "collapsed": false
   },
   "outputs": [
    {
     "name": "stdout",
     "output_type": "stream",
     "text": [
      "[2L, 2L, 4L]\n",
      "[2, 2, 4]\n"
     ]
    }
   ],
   "source": [
    "#print map(int,mvect)\n",
    "print residues\n",
    "print residues2"
   ]
  },
  {
   "cell_type": "code",
   "execution_count": null,
   "metadata": {
    "collapsed": false
   },
   "outputs": [],
   "source": []
  },
  {
   "cell_type": "code",
   "execution_count": 52,
   "metadata": {
    "collapsed": false
   },
   "outputs": [
    {
     "data": {
      "text/plain": [
       "51503391862508062103466796875023131231L"
      ]
     },
     "execution_count": 52,
     "metadata": {},
     "output_type": "execute_result"
    }
   ],
   "source": [
    "51503391862508062103466796875023131231231L/1000"
   ]
  },
  {
   "cell_type": "code",
   "execution_count": 51,
   "metadata": {
    "collapsed": false
   },
   "outputs": [
    {
     "data": {
      "text/plain": [
       "51503391862508062103466796875023131462L"
      ]
     },
     "execution_count": 51,
     "metadata": {},
     "output_type": "execute_result"
    }
   ],
   "source": [
    "51503391862508062103466796875023131231L + r"
   ]
  },
  {
   "cell_type": "code",
   "execution_count": null,
   "metadata": {
    "collapsed": true
   },
   "outputs": [],
   "source": [
    "def mod(a,b):\n",
    "    # we seek to find an x such that a = bx+r\n",
    "    "
   ]
  },
  {
   "cell_type": "code",
   "execution_count": null,
   "metadata": {
    "collapsed": true
   },
   "outputs": [],
   "source": [
    "51503391862508062103466796875023131L"
   ]
  },
  {
   "cell_type": "code",
   "execution_count": 42,
   "metadata": {
    "collapsed": false
   },
   "outputs": [
    {
     "data": {
      "text/plain": [
       "7"
      ]
     },
     "execution_count": 42,
     "metadata": {},
     "output_type": "execute_result"
    }
   ],
   "source": [
    "3*int(floor(float(7)/3)) + 7%3"
   ]
  },
  {
   "cell_type": "code",
   "execution_count": 37,
   "metadata": {
    "collapsed": false
   },
   "outputs": [
    {
     "data": {
      "text/plain": [
       "51503391862508065409344126788304897L"
      ]
     },
     "execution_count": 37,
     "metadata": {},
     "output_type": "execute_result"
    }
   ],
   "source": [
    "3*int(floor(Decimal(51503391862508062103466796875023131)/Decimal(3))) + 1"
   ]
  },
  {
   "cell_type": "code",
   "execution_count": 15,
   "metadata": {
    "collapsed": false
   },
   "outputs": [
    {
     "data": {
      "text/plain": [
       "Decimal('3')"
      ]
     },
     "execution_count": 15,
     "metadata": {},
     "output_type": "execute_result"
    }
   ],
   "source": [
    "a=3L\n",
    "Decimal(a)"
   ]
  },
  {
   "cell_type": "code",
   "execution_count": 16,
   "metadata": {
    "collapsed": false
   },
   "outputs": [
    {
     "name": "stdout",
     "output_type": "stream",
     "text": [
      "[1, 1, 5, 4, 0, 12, 10, 3, 26, 13, 35, 35, 38, 16, 36, 50, 34, 9, 24, 14, 34, 18, 66, 56]\n",
      "[1, 1, 5, 4, 0, 12, 10, 3, 26, 13, 35, 35, 38, 16, 38, 28, 39, 46, 24, 38, 43, 81, 29, 79]\n"
     ]
    }
   ],
   "source": [
    "print residues\n",
    "print residues2"
   ]
  },
  {
   "cell_type": "code",
   "execution_count": 1130,
   "metadata": {
    "collapsed": false
   },
   "outputs": [
    {
     "data": {
      "text/plain": [
       "15"
      ]
     },
     "execution_count": 1130,
     "metadata": {},
     "output_type": "execute_result"
    }
   ],
   "source": [
    "\n",
    "len([2, 0, 3, 3, 10, 12, 16, 6, 26, 27, 27, 2, 28, 20, 35])"
   ]
  },
  {
   "cell_type": "code",
   "execution_count": 1113,
   "metadata": {
    "collapsed": false
   },
   "outputs": [
    {
     "data": {
      "text/plain": [
       "12L"
      ]
     },
     "execution_count": 1113,
     "metadata": {},
     "output_type": "execute_result"
    }
   ],
   "source": [
    "num%96"
   ]
  },
  {
   "cell_type": "code",
   "execution_count": null,
   "metadata": {
    "collapsed": true
   },
   "outputs": [],
   "source": []
  },
  {
   "cell_type": "code",
   "execution_count": 1093,
   "metadata": {
    "collapsed": true
   },
   "outputs": [],
   "source": [
    "from math import floor"
   ]
  },
  {
   "cell_type": "code",
   "execution_count": 1097,
   "metadata": {
    "collapsed": false
   },
   "outputs": [
    {
     "data": {
      "text/plain": [
       "524822996828991184901557452800L"
      ]
     },
     "execution_count": 1097,
     "metadata": {},
     "output_type": "execute_result"
    }
   ],
   "source": [
    "100*int(floor(num/100))+num%100"
   ]
  },
  {
   "cell_type": "code",
   "execution_count": 1098,
   "metadata": {
    "collapsed": false
   },
   "outputs": [
    {
     "data": {
      "text/plain": [
       "524822996828991184901557452800L"
      ]
     },
     "execution_count": 1098,
     "metadata": {},
     "output_type": "execute_result"
    }
   ],
   "source": [
    "100*int(floor(float(num)/100)) + (num%100)"
   ]
  },
  {
   "cell_type": "code",
   "execution_count": 146,
   "metadata": {
    "collapsed": false
   },
   "outputs": [
    {
     "name": "stdout",
     "output_type": "stream",
     "text": [
      "[1, 1, 5, 4, 0, 12, 10, 3, 26, 13, 35, 35, 38, 16, 36, 50, 34, 9, 24, 14, 34, 18, 66, 56]\n"
     ]
    }
   ],
   "source": [
    "num2 = cra_incremental(residues,mvect)\n",
    "mvect3 = get_mod_primes(10000,num2).tolist()\n",
    "residues3 =[int(num2%m) for m in mvect3] \n",
    "print residues3"
   ]
  },
  {
   "cell_type": "code",
   "execution_count": 148,
   "metadata": {
    "collapsed": false
   },
   "outputs": [
    {
     "data": {
      "text/plain": [
       "51503391862508062103466796875023131L"
      ]
     },
     "execution_count": 148,
     "metadata": {},
     "output_type": "execute_result"
    }
   ],
   "source": [
    "num2"
   ]
  },
  {
   "cell_type": "code",
   "execution_count": 966,
   "metadata": {
    "collapsed": false
   },
   "outputs": [],
   "source": [
    "num3 = u\n",
    "mvect3 = get_mod_primes(10000,num3).tolist()\n",
    "residues3 =[int(num3%m) for m in mvect3] "
   ]
  },
  {
   "cell_type": "code",
   "execution_count": 147,
   "metadata": {
    "collapsed": false
   },
   "outputs": [
    {
     "name": "stdout",
     "output_type": "stream",
     "text": [
      "[1L, 1L, 5L, 4L, 0L, 12L, 10L, 3L, 26L, 13L, 35L, 35L, 38L, 16L, 36L, 50L, 34L, 9L, 24L, 14L, 34L, 18L, 66L, 56L]\n",
      "[1, 1, 5, 4, 0, 12, 10, 3, 26, 13, 35, 35, 38, 16, 36, 26, 15, 0, 24, 29, 15, 25, 65, 34]\n",
      "[1, 1, 5, 4, 0, 12, 10, 3, 26, 13, 35, 35, 38, 16, 36, 50, 34, 9, 24, 14, 34, 18, 66, 56]\n"
     ]
    }
   ],
   "source": [
    "print residues\n",
    "print residues2\n",
    "print residues3\n",
    "#print mvect\n",
    "#print mvect2"
   ]
  },
  {
   "cell_type": "code",
   "execution_count": 831,
   "metadata": {
    "collapsed": false
   },
   "outputs": [
    {
     "data": {
      "text/plain": [
       "14"
      ]
     },
     "execution_count": 831,
     "metadata": {},
     "output_type": "execute_result"
    }
   ],
   "source": [
    "[1, 1, 5, 4, 0, 12, 10, 3, 26, 13, 35, 35, 38, 16, 36, 50, 34, 9, 24, 14, 34, 18, 66, 56]\n"
   ]
  },
  {
   "cell_type": "code",
   "execution_count": 691,
   "metadata": {
    "collapsed": false
   },
   "outputs": [
    {
     "data": {
      "text/plain": [
       "67"
      ]
     },
     "execution_count": 691,
     "metadata": {},
     "output_type": "execute_result"
    }
   ],
   "source": [
    "-28 % 95"
   ]
  },
  {
   "cell_type": "code",
   "execution_count": 660,
   "metadata": {
    "collapsed": false
   },
   "outputs": [
    {
     "data": {
      "text/plain": [
       "62"
      ]
     },
     "execution_count": 660,
     "metadata": {},
     "output_type": "execute_result"
    }
   ],
   "source": [
    "-35 % 97"
   ]
  },
  {
   "cell_type": "code",
   "execution_count": 632,
   "metadata": {
    "collapsed": false
   },
   "outputs": [
    {
     "data": {
      "text/plain": [
       "3735"
      ]
     },
     "execution_count": 632,
     "metadata": {},
     "output_type": "execute_result"
    }
   ],
   "source": [
    "gamma[0] + gamma[1]*mvect[1]"
   ]
  },
  {
   "cell_type": "code",
   "execution_count": 569,
   "metadata": {
    "collapsed": false
   },
   "outputs": [],
   "source": [
    "\n",
    "c = [0]\n",
    "for i in range(1,len(mvect)):\n",
    "    Mmult = reduce(lambda x,y: x*y,mvect[0:i+1])\n",
    "    c.append(EGCD(Mmult,mvect[i])[1])"
   ]
  },
  {
   "cell_type": "code",
   "execution_count": 525,
   "metadata": {
    "collapsed": false
   },
   "outputs": [
    {
     "data": {
      "text/plain": [
       "[0, 0, 0, 0, 0, 0, 0, 0, 0, 0, 0, 0, 0, 0, 0, 0, 0, 0, 0, 0, 0]"
      ]
     },
     "execution_count": 525,
     "metadata": {},
     "output_type": "execute_result"
    }
   ],
   "source": [
    "c"
   ]
  },
  {
   "cell_type": "code",
   "execution_count": 503,
   "metadata": {
    "collapsed": false
   },
   "outputs": [
    {
     "name": "stderr",
     "output_type": "stream",
     "text": [
      "C:\\Anaconda2\\lib\\site-packages\\ipykernel\\__main__.py:2: RuntimeWarning: overflow encountered in longlong_scalars\n",
      "  from ipykernel import kernelapp as app\n"
     ]
    }
   ],
   "source": [
    "i = \n",
    "Mmult = reduce(lambda x,y: x*y, mvect[:i-1])"
   ]
  },
  {
   "cell_type": "code",
   "execution_count": null,
   "metadata": {
    "collapsed": true
   },
   "outputs": [],
   "source": []
  },
  {
   "cell_type": "code",
   "execution_count": 485,
   "metadata": {
    "collapsed": false
   },
   "outputs": [
    {
     "data": {
      "text/plain": [
       "[3L,\n",
       " 5L,\n",
       " 7L,\n",
       " 11L,\n",
       " 13L,\n",
       " 17L,\n",
       " 19L,\n",
       " 23L,\n",
       " 29L,\n",
       " 31L,\n",
       " 37L,\n",
       " 41L,\n",
       " 43L,\n",
       " 47L,\n",
       " 53L,\n",
       " 59L,\n",
       " 61L,\n",
       " 67L,\n",
       " 71L,\n",
       " 73L]"
      ]
     },
     "execution_count": 485,
     "metadata": {},
     "output_type": "execute_result"
    }
   ],
   "source": [
    "mvect.tolist()[:-1]"
   ]
  },
  {
   "cell_type": "code",
   "execution_count": 444,
   "metadata": {
    "collapsed": false
   },
   "outputs": [],
   "source": [
    "(coeff,var) = parsePolynomialString('51251251251225125105123123 x - 213213213123213232313232321')\n",
    "(coeff2,var2) = parsePolynomialString('5125125215215215125125215125 y x + 231232132132132131231212313 x + 23151251251')"
   ]
  },
  {
   "cell_type": "code",
   "execution_count": 446,
   "metadata": {
    "collapsed": false
   },
   "outputs": [
    {
     "data": {
      "text/plain": [
       "[[1, 1], [1], [0]]"
      ]
     },
     "execution_count": 446,
     "metadata": {},
     "output_type": "execute_result"
    }
   ],
   "source": [
    "buildDegrees(var2)"
   ]
  },
  {
   "cell_type": "code",
   "execution_count": 447,
   "metadata": {
    "collapsed": false
   },
   "outputs": [
    {
     "data": {
      "text/plain": [
       "array([u'y x', u'x', u'0'], \n",
       "      dtype='<U28')"
      ]
     },
     "execution_count": 447,
     "metadata": {},
     "output_type": "execute_result"
    }
   ],
   "source": [
    "ss"
   ]
  },
  {
   "cell_type": "code",
   "execution_count": 470,
   "metadata": {
    "collapsed": false
   },
   "outputs": [],
   "source": [
    "acoeffs,avars = parsePolynomialString('7 x^2 + 5')\n",
    "bcoeffs,bvars = parsePolynomialString('50 y^1000 z^40 x^3 - 3')\n",
    "\n",
    "mm = get_mod_primes(100,M*2)\n",
    "\n",
    "adegree = max([np.sum(_) for _ in buildDegrees(avars)])\n",
    "bdegree = max([np.sum(_) for _ in buildDegrees(bvars)])"
   ]
  },
  {
   "cell_type": "code",
   "execution_count": 472,
   "metadata": {
    "collapsed": false
   },
   "outputs": [
    {
     "data": {
      "text/plain": [
       "1043"
      ]
     },
     "execution_count": 472,
     "metadata": {},
     "output_type": "execute_result"
    }
   ],
   "source": [
    "bdegree"
   ]
  },
  {
   "cell_type": "code",
   "execution_count": 975,
   "metadata": {
    "collapsed": false
   },
   "outputs": [
    {
     "name": "stdout",
     "output_type": "stream",
     "text": [
      "430945705614427796230659834487134286\n"
     ]
    }
   ],
   "source": [
    "'''Lets take a look at some modular arthimitic'''\n",
    "num = 51503391862508062103466796875023131\n",
    "mvect = get_mod_primes(10000,num)\n",
    "residues =[int(num%m) for m in mvect] \n",
    "num2 = cra_incremental(residues,mvect.tolist())\n",
    "print num2"
   ]
  },
  {
   "cell_type": "code",
   "execution_count": 976,
   "metadata": {
    "collapsed": true
   },
   "outputs": [],
   "source": [
    "mvect2 = get_mod_primes(10000,num2)\n",
    "residues2 =[int(num2%m) for m in mvect2]"
   ]
  },
  {
   "cell_type": "code",
   "execution_count": 977,
   "metadata": {
    "collapsed": false
   },
   "outputs": [
    {
     "name": "stdout",
     "output_type": "stream",
     "text": [
      "[ 3  5  7 11 13 17 19 23 29 31 37 41 43 47 53 59 61 67 71 73 79 83 89 97]\n",
      "[ 3  5  7 11 13 17 19 23 29 31 37 41 43 47 53 59 61 67 71 73 79 83 89 97]\n"
     ]
    }
   ],
   "source": [
    "print mvect\n",
    "print mvect2"
   ]
  },
  {
   "cell_type": "code",
   "execution_count": 978,
   "metadata": {
    "collapsed": false
   },
   "outputs": [
    {
     "name": "stdout",
     "output_type": "stream",
     "text": [
      "[1, 1, 5, 4, 0, 12, 10, 3, 26, 13, 35, 35, 38, 16, 36, 50, 34, 9, 24, 14, 34, 18, 66, 56]\n",
      "[1, 1, 5, 4, 0, 12, 10, 3, 26, 13, 35, 35, 38, 16, 38, 39, 58, 59, 6, 14, 54, 20, 66, 56]\n"
     ]
    }
   ],
   "source": [
    "print residues\n",
    "print residues2"
   ]
  },
  {
   "cell_type": "code",
   "execution_count": 979,
   "metadata": {
    "collapsed": false
   },
   "outputs": [
    {
     "data": {
      "text/plain": [
       "24"
      ]
     },
     "execution_count": 979,
     "metadata": {},
     "output_type": "execute_result"
    }
   ],
   "source": [
    "len(residues2)"
   ]
  },
  {
   "cell_type": "code",
   "execution_count": 430,
   "metadata": {
    "collapsed": false
   },
   "outputs": [
    {
     "data": {
      "text/plain": [
       "11884370948172775385325268800679155L"
      ]
     },
     "execution_count": 430,
     "metadata": {},
     "output_type": "execute_result"
    }
   ],
   "source": [
    "reduce(lambda x,y:x*y,mvect2.tolist()) "
   ]
  },
  {
   "cell_type": "code",
   "execution_count": 438,
   "metadata": {
    "collapsed": false
   },
   "outputs": [
    {
     "data": {
      "text/plain": [
       "array([ 3,  5,  7, 11, 13, 17, 19, 23, 29, 31, 37, 41, 43, 47, 53, 59, 61,\n",
       "       67, 71, 73, 79, 83], dtype=int64)"
      ]
     },
     "execution_count": 438,
     "metadata": {},
     "output_type": "execute_result"
    }
   ],
   "source": [
    "mvect"
   ]
  },
  {
   "cell_type": "code",
   "execution_count": 288,
   "metadata": {
    "collapsed": false
   },
   "outputs": [
    {
     "data": {
      "text/plain": [
       "56.472777613085164"
      ]
     },
     "execution_count": 288,
     "metadata": {},
     "output_type": "execute_result"
    }
   ],
   "source": [
    "np.log(100000000000000000)/np.log(2)"
   ]
  },
  {
   "cell_type": "code",
   "execution_count": 294,
   "metadata": {
    "collapsed": false
   },
   "outputs": [
    {
     "data": {
      "text/plain": [
       "72057594037927936L"
      ]
     },
     "execution_count": 294,
     "metadata": {},
     "output_type": "execute_result"
    }
   ],
   "source": [
    "2L**56"
   ]
  },
  {
   "cell_type": "code",
   "execution_count": 255,
   "metadata": {
    "collapsed": false
   },
   "outputs": [
    {
     "data": {
      "text/plain": [
       "True"
      ]
     },
     "execution_count": 255,
     "metadata": {},
     "output_type": "execute_result"
    }
   ],
   "source": [
    "reduce(lambda x,y: x*y,mvect.tolist()) > num"
   ]
  },
  {
   "cell_type": "code",
   "execution_count": 286,
   "metadata": {
    "collapsed": false
   },
   "outputs": [
    {
     "data": {
      "text/plain": [
       "2.0"
      ]
     },
     "execution_count": 286,
     "metadata": {},
     "output_type": "execute_result"
    }
   ],
   "source": [
    "np.log(4)/np.log(2)"
   ]
  },
  {
   "cell_type": "code",
   "execution_count": 195,
   "metadata": {
    "collapsed": false
   },
   "outputs": [
    {
     "data": {
      "text/plain": [
       "array([ 3,  5,  7, 11, 13, 17, 19, 23, 29, 31, 37, 41, 43, 47, 53, 59, 61,\n",
       "       67, 71, 73, 79], dtype=int64)"
      ]
     },
     "execution_count": 195,
     "metadata": {},
     "output_type": "execute_result"
    }
   ],
   "source": [
    "mvect"
   ]
  },
  {
   "cell_type": "code",
   "execution_count": 185,
   "metadata": {
    "collapsed": false
   },
   "outputs": [
    {
     "name": "stdout",
     "output_type": "stream",
     "text": [
      "3929160775540133527939545\n",
      "176717776189025974273681640625\n"
     ]
    }
   ],
   "source": [
    "print reduce(lambda x,y: x*y,mvect.tolist()) \n",
    "print num"
   ]
  },
  {
   "cell_type": "code",
   "execution_count": null,
   "metadata": {
    "collapsed": true
   },
   "outputs": [],
   "source": []
  },
  {
   "cell_type": "code",
   "execution_count": 200,
   "metadata": {
    "collapsed": false
   },
   "outputs": [],
   "source": []
  },
  {
   "cell_type": "code",
   "execution_count": 234,
   "metadata": {
    "collapsed": false
   },
   "outputs": [
    {
     "data": {
      "text/plain": [
       "[3L,\n",
       " 5L,\n",
       " 7L,\n",
       " 11L,\n",
       " 13L,\n",
       " 17L,\n",
       " 19L,\n",
       " 23L,\n",
       " 29L,\n",
       " 31L,\n",
       " 37L,\n",
       " 41L,\n",
       " 43L,\n",
       " 47L,\n",
       " 53L,\n",
       " 59L,\n",
       " 61L,\n",
       " 67L,\n",
       " 71L,\n",
       " 73L,\n",
       " 79L]"
      ]
     },
     "execution_count": 234,
     "metadata": {},
     "output_type": "execute_result"
    }
   ],
   "source": []
  },
  {
   "cell_type": "code",
   "execution_count": 226,
   "metadata": {
    "collapsed": false
   },
   "outputs": [
    {
     "ename": "AssertionError",
     "evalue": "",
     "output_type": "error",
     "traceback": [
      "\u001b[1;31m---------------------------------------------------------------------------\u001b[0m",
      "\u001b[1;31mAssertionError\u001b[0m                            Traceback (most recent call last)",
      "\u001b[1;32m<ipython-input-226-c169886f2a5d>\u001b[0m in \u001b[0;36m<module>\u001b[1;34m()\u001b[0m\n\u001b[1;32m----> 1\u001b[1;33m \u001b[1;32massert\u001b[0m\u001b[1;33m(\u001b[0m\u001b[1;36m1\u001b[0m\u001b[1;33m==\u001b[0m\u001b[1;36m2\u001b[0m\u001b[1;33m)\u001b[0m\u001b[1;33m\u001b[0m\u001b[0m\n\u001b[0m",
      "\u001b[1;31mAssertionError\u001b[0m: "
     ]
    }
   ],
   "source": [
    "assert(1==2)"
   ]
  },
  {
   "cell_type": "code",
   "execution_count": 148,
   "metadata": {
    "collapsed": false
   },
   "outputs": [
    {
     "data": {
      "text/plain": [
       "14.0"
      ]
     },
     "execution_count": 148,
     "metadata": {},
     "output_type": "execute_result"
    }
   ],
   "source": [
    "cra_incremental([4,0],[5,7])"
   ]
  },
  {
   "cell_type": "code",
   "execution_count": null,
   "metadata": {
    "collapsed": true
   },
   "outputs": [],
   "source": [
    "307444891294245705"
   ]
  },
  {
   "cell_type": "code",
   "execution_count": 201,
   "metadata": {
    "collapsed": false
   },
   "outputs": [
    {
     "data": {
      "text/plain": [
       "1608822383670336453949542277065L"
      ]
     },
     "execution_count": 201,
     "metadata": {},
     "output_type": "execute_result"
    }
   ],
   "source": []
  },
  {
   "cell_type": "code",
   "execution_count": 111,
   "metadata": {
    "collapsed": false
   },
   "outputs": [
    {
     "ename": "AttributeError",
     "evalue": "'module' object has no attribute 'astype'",
     "output_type": "error",
     "traceback": [
      "\u001b[1;31m---------------------------------------------------------------------------\u001b[0m",
      "\u001b[1;31mAttributeError\u001b[0m                            Traceback (most recent call last)",
      "\u001b[1;32m<ipython-input-111-b5f790917e5a>\u001b[0m in \u001b[0;36m<module>\u001b[1;34m()\u001b[0m\n\u001b[1;32m----> 1\u001b[1;33m \u001b[0mnp\u001b[0m\u001b[1;33m.\u001b[0m\u001b[0mastype\u001b[0m\u001b[1;33m\u001b[0m\u001b[0m\n\u001b[0m",
      "\u001b[1;31mAttributeError\u001b[0m: 'module' object has no attribute 'astype'"
     ]
    }
   ],
   "source": []
  },
  {
   "cell_type": "code",
   "execution_count": 31,
   "metadata": {
    "collapsed": false
   },
   "outputs": [
    {
     "data": {
      "text/plain": [
       "[1043, 0]"
      ]
     },
     "execution_count": 31,
     "metadata": {},
     "output_type": "execute_result"
    }
   ],
   "source": [
    "[np.sum(_) for _ in buildDegrees(bvars)]"
   ]
  },
  {
   "cell_type": "code",
   "execution_count": 28,
   "metadata": {
    "collapsed": false
   },
   "outputs": [
    {
     "data": {
      "text/plain": [
       "1043"
      ]
     },
     "execution_count": 28,
     "metadata": {},
     "output_type": "execute_result"
    }
   ],
   "source": [
    "reduce(lambda x,y:x+y,)"
   ]
  },
  {
   "cell_type": "code",
   "execution_count": 26,
   "metadata": {
    "collapsed": false
   },
   "outputs": [
    {
     "ename": "TypeError",
     "evalue": "can only concatenate list (not \"int\") to list",
     "output_type": "error",
     "traceback": [
      "\u001b[1;31m---------------------------------------------------------------------------\u001b[0m",
      "\u001b[1;31mTypeError\u001b[0m                                 Traceback (most recent call last)",
      "\u001b[1;32m<ipython-input-26-bd08f8a34c68>\u001b[0m in \u001b[0;36m<module>\u001b[1;34m()\u001b[0m\n\u001b[1;32m----> 1\u001b[1;33m \u001b[0mreduce\u001b[0m\u001b[1;33m(\u001b[0m\u001b[0msum\u001b[0m\u001b[1;33m,\u001b[0m\u001b[0mbuildDegrees\u001b[0m\u001b[1;33m(\u001b[0m\u001b[0mbvars\u001b[0m\u001b[1;33m)\u001b[0m\u001b[1;33m)\u001b[0m\u001b[1;33m\u001b[0m\u001b[0m\n\u001b[0m",
      "\u001b[1;31mTypeError\u001b[0m: can only concatenate list (not \"int\") to list"
     ]
    }
   ],
   "source": [
    "reduce(sum,buildDegrees(bvars))"
   ]
  },
  {
   "cell_type": "code",
   "execution_count": 14,
   "metadata": {
    "collapsed": false
   },
   "outputs": [
    {
     "data": {
      "text/plain": [
       "[[1000, 40, 3], [0]]"
      ]
     },
     "execution_count": 14,
     "metadata": {},
     "output_type": "execute_result"
    }
   ],
   "source": [
    "degreeList for degreeList in buildDegrees(bvars)]"
   ]
  },
  {
   "cell_type": "code",
   "execution_count": 212,
   "metadata": {
    "collapsed": false
   },
   "outputs": [
    {
     "name": "stdout",
     "output_type": "stream",
     "text": [
      "hey\n"
     ]
    }
   ],
   "source": [
    "varsfull = bvars\n"
   ]
  },
  {
   "cell_type": "code",
   "execution_count": 213,
   "metadata": {
    "collapsed": false
   },
   "outputs": [
    {
     "data": {
      "text/plain": [
       "[[1000, 3], [0]]"
      ]
     },
     "execution_count": 213,
     "metadata": {},
     "output_type": "execute_result"
    }
   ],
   "source": [
    "degreeLists"
   ]
  },
  {
   "cell_type": "code",
   "execution_count": 179,
   "metadata": {
    "collapsed": false
   },
   "outputs": [
    {
     "data": {
      "text/plain": [
       "2"
      ]
     },
     "execution_count": 179,
     "metadata": {},
     "output_type": "execute_result"
    }
   ],
   "source": [
    "findDegreeUnivariate(avars[0])"
   ]
  },
  {
   "cell_type": "code",
   "execution_count": 197,
   "metadata": {
    "collapsed": false
   },
   "outputs": [],
   "source": [
    "test = u\"y^5 x^3\""
   ]
  },
  {
   "cell_type": "code",
   "execution_count": 200,
   "metadata": {
    "collapsed": false
   },
   "outputs": [
    {
     "data": {
      "text/plain": [
       "[5, 3]"
      ]
     },
     "execution_count": 200,
     "metadata": {},
     "output_type": "execute_result"
    }
   ],
   "source": [
    "[findDegreeUnivariate(x) for x in test.split()]"
   ]
  },
  {
   "cell_type": "code",
   "execution_count": 186,
   "metadata": {
    "collapsed": false
   },
   "outputs": [
    {
     "name": "stdout",
     "output_type": "stream",
     "text": [
      "5\n",
      "0\n"
     ]
    }
   ],
   "source": [
    "for vars in avars:\n",
    "     print findDegreeUnivariate(vars)"
   ]
  },
  {
   "cell_type": "code",
   "execution_count": 216,
   "metadata": {
    "collapsed": false
   },
   "outputs": [],
   "source": []
  },
  {
   "cell_type": "code",
   "execution_count": 135,
   "metadata": {
    "collapsed": false
   },
   "outputs": [
    {
     "data": {
      "text/plain": [
       "u'3'"
      ]
     },
     "execution_count": 135,
     "metadata": {},
     "output_type": "execute_result"
    }
   ],
   "source": [
    "findDegreeUnivariate(v)"
   ]
  },
  {
   "cell_type": "code",
   "execution_count": 122,
   "metadata": {
    "collapsed": false
   },
   "outputs": [
    {
     "data": {
      "text/plain": [
       "True"
      ]
     },
     "execution_count": 122,
     "metadata": {},
     "output_type": "execute_result"
    }
   ],
   "source": [
    "start_ind == len(v) -1"
   ]
  },
  {
   "cell_type": "code",
   "execution_count": 115,
   "metadata": {
    "collapsed": false
   },
   "outputs": [
    {
     "data": {
      "text/plain": [
       "True"
      ]
     },
     "execution_count": 115,
     "metadata": {},
     "output_type": "execute_result"
    }
   ],
   "source": [
    "(not c.isnumeric() and end_ind == -1 and not start_ind  == -1) or i == len(v)-1"
   ]
  },
  {
   "cell_type": "code",
   "execution_count": 117,
   "metadata": {
    "collapsed": false
   },
   "outputs": [
    {
     "data": {
      "text/plain": [
       "2"
      ]
     },
     "execution_count": 117,
     "metadata": {},
     "output_type": "execute_result"
    }
   ],
   "source": []
  },
  {
   "cell_type": "code",
   "execution_count": 107,
   "metadata": {
    "collapsed": false
   },
   "outputs": [
    {
     "data": {
      "text/plain": [
       "2"
      ]
     },
     "execution_count": 107,
     "metadata": {},
     "output_type": "execute_result"
    }
   ],
   "source": [
    "start_i"
   ]
  },
  {
   "cell_type": "code",
   "execution_count": 81,
   "metadata": {
    "collapsed": false
   },
   "outputs": [
    {
     "data": {
      "text/plain": [
       "array([u'y x^3', u'0'], \n",
       "      dtype='<U5')"
      ]
     },
     "execution_count": 81,
     "metadata": {},
     "output_type": "execute_result"
    }
   ],
   "source": [
    "calcDegree(varString):\n",
    "    \n",
    "    "
   ]
  },
  {
   "cell_type": "code",
   "execution_count": 60,
   "metadata": {
    "collapsed": false
   },
   "outputs": [],
   "source": [
    "''' For our first example we consider the problem of multiplying the two polynomials a*b (7x+5)(2x-3) '''\n",
    "a = np.array([7,5])\n",
    "b = np.array([2,-3])\n",
    "\n",
    "\n",
    "\n",
    "# For multiplication the degree result is simply the degree of a and b.\n",
    "range(1,degreeResult)\n",
    "\n",
    "\n",
    "\n"
   ]
  },
  {
   "cell_type": "code",
   "execution_count": 63,
   "metadata": {
    "collapsed": false
   },
   "outputs": [],
   "source": []
  },
  {
   "cell_type": "code",
   "execution_count": 64,
   "metadata": {
    "collapsed": false
   },
   "outputs": [
    {
     "data": {
      "text/plain": [
       "'176717776189025974273681640625 - 524822996828991154174804687500 x^4 + 515033918625080621034667968750 x^8 - 163334210731862516738592187500 x^12 - 2736239170293783025519921875 x^16 - 853567945260137903985750000 x^20 - 3332100748804904946375000 x^24 - 1366093540832634465390000 x^28 + 19097129680976733491250 x^32 - 1070178180326028037800 x^36 + 30307759123324511700 x^40 - 684287794892518696 x^44 + 15919723498675794 x^48 - 261616202648496 x^52 + 4039702363304 x^56 - 52707284976 x^60 + 541355421 x^64 - 5241644 x^68 + 36846 x^72 - 204 x^76 + x^80 - 524822996828991154174804687500 y^4 + 1358410577665290835983398437500 x^4 y^4 - 1121410871803655000470926562500 x^8 y^4 + 268366792559331875120012632500 x^12 y^4 + 18009207366928841424033090000 x^16 y^4 + 1409967474860596621252172400 x^20 y^4 + 37093896071304807884698800 x^24 y^4 + 277169016416649937196688 x^28 y^4 - 45399599055456194122344 x^32 y^4 - 2051064742836371588856 x^36 y^4 - 48917341932402832184 x^40 y^4 + 719118621286728408 x^44 y^4 + 7261206066155664 x^48 y^4 + 1067560459184560 x^52 y^4 - 23159945652624 x^56 y^4 + 34631561424 x^60 y^4 + 1691958932 x^64 y^4 - 8367012 x^68 y^4 - 3876 x^72 y^4 + 20 x^76 y^4 + 515033918625080621034667968750 y^8 - 1121410871803655000470926562500 x^4 y^8 + 692306784034766888513561268750 x^8 y^8 - 70467501514363192927331426016 x^12 y^8 - 14370383052763752759083552808 x^16 y^8 - 1035070187757372853125068016 x^20 y^8 - 55157327620514497044014472 x^24 y^8 - 1692867176854213729029408 x^28 y^8 - 25586983740542496806844 x^32 y^8 - 349299037145852985880 x^36 y^8 + 30001458887173320228 x^40 y^8 - 245641547333553696 x^44 y^8 + 16518615637243832 x^48 y^8 - 382503122607600 x^52 y^8 + 2410846944408 x^56 y^8 - 1844368352 x^60 y^8 + 3264318 x^64 y^8 - 34884 x^68 y^8 + 190 x^72 y^8 - 163334210731862516738592187500 y^12 + 268366792559331875120012632500 x^4 y^12 - 70467501514363192927331426016 x^8 y^12 - 35185880544130730526680680416 x^12 y^12 + 125471981964006724254562800 x^16 y^12 - 39370878297880423433887248 x^20 y^12 + 1325658903120916100843616 x^24 y^12 + 58762465861640264048736 x^28 y^12 - 4133441494425443083464 x^32 y^12 + 132187048341776912760 x^36 y^12 - 7477154238671894304 x^40 y^12 + 196380621346972640 x^44 y^12 - 2444481539437200 x^48 y^12 + 16380609978480 x^52 y^12 - 89650392160 x^56 y^12 + 481233312 x^60 y^12 - 197676 x^64 y^12 + 1140 x^68 y^12 - 2736239170293783025519921875 y^16 + 18009207366928841424033090000 x^4 y^16 - 14370383052763752759083552808 x^8 y^16 + 125471981964006724254562800 x^12 y^16 + 45518134102085647099665324 x^16 y^16 - 1346162509203426484265520 x^20 y^16 + 494713301530700458341864 x^24 y^16 - 30478852648930649485200 x^28 y^16 + 766117785480879991950 x^32 y^16 - 49257912432071129616 x^36 y^16 + 996667975969477864 x^40 y^16 - 14969308168692144 x^44 y^16 + 134140483792428 x^48 y^16 - 396080727440 x^52 y^16 + 2530838232 x^56 y^16 - 790704 x^60 y^16 + 4845 x^64 y^16 - 853567945260137903985750000 y^20 + 1409967474860596621252172400 x^4 y^20 - 1035070187757372853125068016 x^8 y^20 - 39370878297880423433887248 x^12 y^20 - 1346162509203426484265520 x^16 y^20 + 792862389474747514213680 x^20 y^20 - 40989447228398294589744 x^24 y^20 + 2506315850072195314608 x^28 y^20 - 82027905924457512144 x^32 y^20 + 2239974538199165264 x^36 y^20 - 28272809343820752 x^40 y^20 + 259034505245136 x^44 y^20 - 675093398800 x^48 y^20 + 5595177744 x^52 y^20 - 2372112 x^56 y^20 + 15504 x^60 y^20 - 3332100748804904946375000 y^24 + 37093896071304807884698800 x^4 y^24 - 55157327620514497044014472 x^8 y^24 + 1325658903120916100843616 x^12 y^24 + 494713301530700458341864 x^16 y^24 - 40989447228398294589744 x^20 y^24 + 3726751869705254575608 x^24 y^24 - 90010365014082472128 x^28 y^24 + 2402962713127941816 x^32 y^24 - 40695673243715760 x^36 y^24 + 245438792649768 x^40 y^24 + 44423703136 x^44 y^24 + 3446804664 x^48 y^24 - 5534928 x^52 y^24 + 38760 x^56 y^24 - 1366093540832634465390000 y^28 + 277169016416649937196688 x^4 y^28 - 1692867176854213729029408 x^8 y^28 + 58762465861640264048736 x^12 y^28 - 30478852648930649485200 x^16 y^28 + 2506315850072195314608 x^20 y^28 - 90010365014082472128 x^24 y^28 + 1957461248863408704 x^28 y^28 - 67415042002427856 x^32 y^28 + 472305304845552 x^36 y^28 + 2315994778592 x^40 y^28 - 11739293856 x^44 y^28 - 10279152 x^48 y^28 + 77520 x^52 y^28 + 19097129680976733491250 y^32 - 45399599055456194122344 x^4 y^32 - 25586983740542496806844 x^8 y^32 - 4133441494425443083464 x^12 y^32 + 766117785480879991950 x^16 y^32 - 82027905924457512144 x^20 y^32 + 2402962713127941816 x^24 y^32 - 67415042002427856 x^28 y^32 + 731528773777134 x^32 y^32 + 4628229542200 x^36 y^32 - 35100554940 x^40 y^32 - 15418728 x^44 y^32 + 125970 x^48 y^32 - 1070178180326028037800 y^36 - 2051064742836371588856 x^4 y^36 - 349299037145852985880 x^8 y^36 + 132187048341776912760 x^12 y^36 - 49257912432071129616 x^16 y^36 + 2239974538199165264 x^20 y^36 - 40695673243715760 x^24 y^36 + 472305304845552 x^28 y^36 + 4628229542200 x^32 y^36 - 46896722136 x^36 y^36 - 18845112 x^40 y^36 + 167960 x^44 y^36 + 30307759123324511700 y^40 - 48917341932402832184 x^4 y^40 + 30001458887173320228 x^8 y^40 - 7477154238671894304 x^12 y^40 + 996667975969477864 x^16 y^40 - 28272809343820752 x^20 y^40 + 245438792649768 x^24 y^40 + 2315994778592 x^28 y^40 - 35100554940 x^32 y^40 - 18845112 x^36 y^40 + 184756 x^40 y^40 - 684287794892518696 y^44 + 719118621286728408 x^4 y^44 - 245641547333553696 x^8 y^44 + 196380621346972640 x^12 y^44 - 14969308168692144 x^16 y^44 + 259034505245136 x^20 y^44 + 44423703136 x^24 y^44 - 11739293856 x^28 y^44 - 15418728 x^32 y^44 + 167960 x^36 y^44 + 15919723498675794 y^48 + 7261206066155664 x^4 y^48 + 16518615637243832 x^8 y^48 - 2444481539437200 x^12 y^48 + 134140483792428 x^16 y^48 - 675093398800 x^20 y^48 + 3446804664 x^24 y^48 - 10279152 x^28 y^48 + 125970 x^32 y^48 - 261616202648496 y^52 + 1067560459184560 x^4 y^52 - 382503122607600 x^8 y^52 + 16380609978480 x^12 y^52 - 396080727440 x^16 y^52 + 5595177744 x^20 y^52 - 5534928 x^24 y^52 + 77520 x^28 y^52 + 4039702363304 y^56 - 23159945652624 x^4 y^56 + 2410846944408 x^8 y^56 - 89650392160 x^12 y^56 + 2530838232 x^16 y^56 - 2372112 x^20 y^56 + 38760 x^24 y^56 - 52707284976 y^60 + 34631561424 x^4 y^60 - 1844368352 x^8 y^60 + 481233312 x^12 y^60 - 790704 x^16 y^60 + 15504 x^20 y^60 + 541355421 y^64 + 1691958932 x^4 y^64 + 3264318 x^8 y^64 - 197676 x^12 y^64 + 4845 x^16 y^64 - 5241644 y^68 - 8367012 x^4 y^68 - 34884 x^8 y^68 + 1140 x^12 y^68 + 36846 y^72 - 3876 x^4 y^72 + 190 x^8 y^72 - 204 y^76 + 20 x^4 y^76 + y^80'"
      ]
     },
     "execution_count": 64,
     "metadata": {},
     "output_type": "execute_result"
    }
   ],
   "source": [
    "samplePolyMathematica "
   ]
  },
  {
   "cell_type": "code",
   "execution_count": 33,
   "metadata": {
    "collapsed": false
   },
   "outputs": [
    {
     "data": {
      "text/plain": [
       "array([   3,    5,    7, ..., 9949, 9967, 9973], dtype=int64)"
      ]
     },
     "execution_count": 33,
     "metadata": {},
     "output_type": "execute_result"
    }
   ],
   "source": [
    "primesfrom3to(10000)"
   ]
  },
  {
   "cell_type": "code",
   "execution_count": null,
   "metadata": {
    "collapsed": true
   },
   "outputs": [],
   "source": [
    "from numba import cuda\n",
    "from numba import float32,int32,int64\n",
    "import numpy as np\n",
    "\n",
    "@cuda.jit('void(int64[:],int64[:])')\n",
    "def reduceModuloPolynomial(a,b):\n",
    "    i = cuda.grid(1)\n",
    "    if i < len(a):\n",
    "        b[i] = a[i]%7\n",
    "        \n"
   ]
  },
  {
   "cell_type": "code",
   "execution_count": null,
   "metadata": {
    "collapsed": true
   },
   "outputs": [],
   "source": [
    "''' We need a way to efficiently'''\n",
    "\n",
    "@cuda.reduce\n",
    "def "
   ]
  },
  {
   "cell_type": "code",
   "execution_count": null,
   "metadata": {
    "collapsed": true
   },
   "outputs": [],
   "source": [
    "N = 10\n",
    "a = np.ones(N,np.int64)*15\n",
    "b = np.zeros(N,dtype = np.int64)\n",
    "reduceModuloPolynomial[1,10](a,b)"
   ]
  }
 ],
 "metadata": {
  "kernelspec": {
   "display_name": "Python 2",
   "language": "python",
   "name": "python2"
  },
  "language_info": {
   "codemirror_mode": {
    "name": "ipython",
    "version": 2
   },
   "file_extension": ".py",
   "mimetype": "text/x-python",
   "name": "python",
   "nbconvert_exporter": "python",
   "pygments_lexer": "ipython2",
   "version": "2.7.11"
  }
 },
 "nbformat": 4,
 "nbformat_minor": 0
}
