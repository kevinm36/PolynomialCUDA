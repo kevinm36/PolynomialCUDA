{
 "cells": [
  {
   "cell_type": "code",
   "execution_count": null,
   "metadata": {
    "collapsed": true
   },
   "outputs": [],
   "source": [
    "from numba import cuda\n",
    "from numba import float32,int32,int64\n",
    "import numpy as np\n",
    "\n",
    "@cuda.jit('void(int64[:],int64[:])')\n",
    "def reduceModuloPolynomial(a,b):\n",
    "    i = cuda.grid(1)\n",
    "    if i < len(a):\n",
    "        b[i] = a[i]%7\n",
    "        \n"
   ]
  },
  {
   "cell_type": "code",
   "execution_count": null,
   "metadata": {
    "collapsed": true
   },
   "outputs": [],
   "source": [
    "N = 10\n",
    "a = np.ones(N,np.int64)*15\n",
    "b = np.zeros(N,dtype = np.int64)\n",
    "reduceModuloPolynomial[1,10](a,b)"
   ]
  }
 ],
 "metadata": {
  "kernelspec": {
   "display_name": "Python 2",
   "language": "python",
   "name": "python2"
  },
  "language_info": {
   "codemirror_mode": {
    "name": "ipython",
    "version": 2
   },
   "file_extension": ".py",
   "mimetype": "text/x-python",
   "name": "python",
   "nbconvert_exporter": "python",
   "pygments_lexer": "ipython2",
   "version": "2.7.11"
  }
 },
 "nbformat": 4,
 "nbformat_minor": 0
}
