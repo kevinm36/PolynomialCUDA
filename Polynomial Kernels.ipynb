{
 "cells": [
  {
   "cell_type": "markdown",
   "metadata": {},
   "source": [
    "This serves as the main source code for writing all the CUDA kernels for polynomial GPU computations. All of the code was written using the numba cuda library, which compiles the python syntax to C code. The main advantage to this approach is that it allows us to debug easier using the Cuda python debugger and call Numpy pyton serial code which is easier than working with C directly."
   ]
  },
  {
   "cell_type": "code",
   "execution_count": 3,
   "metadata": {
    "collapsed": true
   },
   "outputs": [],
   "source": [
    "from numba import cuda\n",
    "from numba import float32,int32,int64\n",
    "import numpy as np"
   ]
  },
  {
   "cell_type": "markdown",
   "metadata": {},
   "source": [
    "Before doing any work with kernals its nice if we have a concrete way to represnt the polynomial."
   ]
  },
  {
   "cell_type": "code",
   "execution_count": 4,
   "metadata": {
    "collapsed": true
   },
   "outputs": [],
   "source": [
    "def parsePolynomialString(polyString):\n",
    "    \n",
    "    \n",
    "    try:\n",
    "        polyString = unicode(polyString,\"utf-8\")\n",
    "    except TypeError: #check if already unicode\n",
    "        pass\n",
    "    \n",
    "    repls = ('+', '!'), ('-', '!')\n",
    "    temp = [l.strip() for l in reduce(lambda a, kv: a.replace(*kv), repls, polyString ).split('!')]\n",
    "    temp2 = np.asarray([split_coefficient_variable(t) for t in temp])\n",
    "    temp2[:,0] = map(lambda x: u'1' if x==u'' else x,temp2[:,0])\n",
    "    \n",
    "    signs = ''.join(ch for ch in polyString if ch == '+' or ch == '-')\n",
    "    if len(signs)==len(temp2)-1:\n",
    "        signs = '+'+signs\n",
    "    signs = np.asarray([c for c in signs])\n",
    "    \n",
    "    \n",
    "    coeffs = [int(s+val) for (s,val) in zip(signs,temp2[:,0])]\n",
    "    variables = temp2[:,1]\n",
    "    \n",
    "    return coeffs,variables\n",
    "\n",
    "def split_coefficient_variable(string):\n",
    "    n = len(string)\n",
    "    for ind,c in enumerate(string):\n",
    "        if c.isnumeric():\n",
    "            if ind == n-1:\n",
    "                return (string,u'0')\n",
    "            else:\n",
    "                continue\n",
    "        else:\n",
    "            return (string[0:ind],string[ind+1::])\n",
    "        \n",
    "def findDegreeUnivariate(v):\n",
    "    end_ind = -1 # a hack way for a flag\n",
    "    start_ind = -1\n",
    "    for i,c in enumerate(v):\n",
    "        if c.isnumeric() and start_ind == -1:\n",
    "            start_ind = i\n",
    "            if start_ind == len(v) -1:\n",
    "                end_ind = start_ind\n",
    "                break\n",
    "        elif (not c.isnumeric() and end_ind == -1 and not start_ind  == -1) or i == len(v)-1:\n",
    "            end_ind = i\n",
    "            break\n",
    "\n",
    "        else:\n",
    "            continue\n",
    "    #pdb.set_trace()\n",
    "    if not start_ind == end_ind:\n",
    "         if end_ind == 0 and start_ind == -1:\n",
    "            return 1\n",
    "         else:\n",
    "            t = v[start_ind:end_ind+1]\n",
    "       \n",
    "    else:\n",
    "        t = v[start_ind]\n",
    "    \n",
    "    return int(t)\n",
    "\n",
    "def buildDegrees(varsfull):\n",
    "    ''' Simple wrapper function that builds a list of list for all the degrees of each univariate variable '''\n",
    "    degreeLists = [[findDegreeUnivariate(var) for var in vars.split()] for vars in varsfull]\n",
    "    return degreeLists"
   ]
  },
  {
   "cell_type": "code",
   "execution_count": 5,
   "metadata": {
    "collapsed": true
   },
   "outputs": [],
   "source": [
    "def vandermonde_interp():\n",
    "    ''' Uses the generator approach to solve the multivariate interpolation problem f(x_i) = y_i '''\n",
    "\n",
    "def evaluate_polynomial():\n",
    "    ''' uses the reduce function to quickly evaluate a polynomial '''\n",
    "\n",
    "def parallel_modular_reduce():\n",
    "    ''' reduces all the coefficients by mod'''\n",
    "    \n",
    "def extended_eucledian():\n",
    "    ''' computes the modular inverse'''\n",
    "    \n",
    "def parallel_chinese_remaindering():\n",
    "    ''' Performs parallel chinese remaindering on each set of coefficients '''\n",
    "    \n",
    "\n",
    "def primesfrom3to(n):\n",
    "    \"\"\" Returns a array of primes, 3 <= p < n \"\"\"\n",
    "    sieve = np.ones(n/2, dtype=np.bool)\n",
    "    for i in xrange(3,int(n**0.5)+1,2):\n",
    "        if sieve[i/2]:\n",
    "            sieve[i*i/2::i] = False\n",
    "    return 2*np.nonzero(sieve)[0][1::]+1\n",
    "    \n",
    "def get_mod_primes(N,M):\n",
    "    primes = primesfrom3to(N)\n",
    "    total = 1\n",
    "    mvect = []\n",
    "    for p in primes:\n",
    "        total *= p\n",
    "        mvect.append(p)\n",
    "        if total > M:\n",
    "            return mvect\n",
    "\n",
    "def generate_evaluationpoints(degreeResult):\n",
    "    return np.arange(1,degreeResult)"
   ]
  },
  {
   "cell_type": "code",
   "execution_count": 38,
   "metadata": {
    "collapsed": false
   },
   "outputs": [],
   "source": [
    "acoeffs,avars = parsePolynomialString('7 x^2 + 5')\n",
    "bcoeffs,bvars = parsePolynomialString('50 y^1000 z^40 x^3 - 3')\n",
    "\n",
    "M = 2 * np.max(abs(a))*np.max(abs(b) )\n",
    "mm = get_mod_primes(100,M*2)\n",
    "\n",
    "adegree = max([np.sum(_) for _ in buildDegrees(avars)])\n",
    "bdegree = max([np.sum(_) for _ in buildDegrees(bvars)])"
   ]
  },
  {
   "cell_type": "code",
   "execution_count": 40,
   "metadata": {
    "collapsed": false
   },
   "outputs": [
    {
     "data": {
      "text/plain": [
       "1043"
      ]
     },
     "execution_count": 40,
     "metadata": {},
     "output_type": "execute_result"
    }
   ],
   "source": [
    "bdegree"
   ]
  },
  {
   "cell_type": "code",
   "execution_count": 31,
   "metadata": {
    "collapsed": false
   },
   "outputs": [
    {
     "data": {
      "text/plain": [
       "[1043, 0]"
      ]
     },
     "execution_count": 31,
     "metadata": {},
     "output_type": "execute_result"
    }
   ],
   "source": [
    "[np.sum(_) for _ in buildDegrees(bvars)]"
   ]
  },
  {
   "cell_type": "code",
   "execution_count": 28,
   "metadata": {
    "collapsed": false
   },
   "outputs": [
    {
     "data": {
      "text/plain": [
       "1043"
      ]
     },
     "execution_count": 28,
     "metadata": {},
     "output_type": "execute_result"
    }
   ],
   "source": [
    "reduce(lambda x,y:x+y,)"
   ]
  },
  {
   "cell_type": "code",
   "execution_count": 26,
   "metadata": {
    "collapsed": false
   },
   "outputs": [
    {
     "ename": "TypeError",
     "evalue": "can only concatenate list (not \"int\") to list",
     "output_type": "error",
     "traceback": [
      "\u001b[1;31m---------------------------------------------------------------------------\u001b[0m",
      "\u001b[1;31mTypeError\u001b[0m                                 Traceback (most recent call last)",
      "\u001b[1;32m<ipython-input-26-bd08f8a34c68>\u001b[0m in \u001b[0;36m<module>\u001b[1;34m()\u001b[0m\n\u001b[1;32m----> 1\u001b[1;33m \u001b[0mreduce\u001b[0m\u001b[1;33m(\u001b[0m\u001b[0msum\u001b[0m\u001b[1;33m,\u001b[0m\u001b[0mbuildDegrees\u001b[0m\u001b[1;33m(\u001b[0m\u001b[0mbvars\u001b[0m\u001b[1;33m)\u001b[0m\u001b[1;33m)\u001b[0m\u001b[1;33m\u001b[0m\u001b[0m\n\u001b[0m",
      "\u001b[1;31mTypeError\u001b[0m: can only concatenate list (not \"int\") to list"
     ]
    }
   ],
   "source": [
    "reduce(sum,buildDegrees(bvars))"
   ]
  },
  {
   "cell_type": "code",
   "execution_count": 14,
   "metadata": {
    "collapsed": false
   },
   "outputs": [
    {
     "data": {
      "text/plain": [
       "[[1000, 40, 3], [0]]"
      ]
     },
     "execution_count": 14,
     "metadata": {},
     "output_type": "execute_result"
    }
   ],
   "source": [
    "degreeList for degreeList in buildDegrees(bvars)]"
   ]
  },
  {
   "cell_type": "code",
   "execution_count": 212,
   "metadata": {
    "collapsed": false
   },
   "outputs": [
    {
     "name": "stdout",
     "output_type": "stream",
     "text": [
      "hey\n"
     ]
    }
   ],
   "source": [
    "varsfull = bvars\n"
   ]
  },
  {
   "cell_type": "code",
   "execution_count": 213,
   "metadata": {
    "collapsed": false
   },
   "outputs": [
    {
     "data": {
      "text/plain": [
       "[[1000, 3], [0]]"
      ]
     },
     "execution_count": 213,
     "metadata": {},
     "output_type": "execute_result"
    }
   ],
   "source": [
    "degreeLists"
   ]
  },
  {
   "cell_type": "code",
   "execution_count": 179,
   "metadata": {
    "collapsed": false
   },
   "outputs": [
    {
     "data": {
      "text/plain": [
       "2"
      ]
     },
     "execution_count": 179,
     "metadata": {},
     "output_type": "execute_result"
    }
   ],
   "source": [
    "findDegreeUnivariate(avars[0])"
   ]
  },
  {
   "cell_type": "code",
   "execution_count": 197,
   "metadata": {
    "collapsed": false
   },
   "outputs": [],
   "source": [
    "test = u\"y^5 x^3\""
   ]
  },
  {
   "cell_type": "code",
   "execution_count": 200,
   "metadata": {
    "collapsed": false
   },
   "outputs": [
    {
     "data": {
      "text/plain": [
       "[5, 3]"
      ]
     },
     "execution_count": 200,
     "metadata": {},
     "output_type": "execute_result"
    }
   ],
   "source": [
    "[findDegreeUnivariate(x) for x in test.split()]"
   ]
  },
  {
   "cell_type": "code",
   "execution_count": 186,
   "metadata": {
    "collapsed": false
   },
   "outputs": [
    {
     "name": "stdout",
     "output_type": "stream",
     "text": [
      "5\n",
      "0\n"
     ]
    }
   ],
   "source": [
    "for vars in avars:\n",
    "     print findDegreeUnivariate(vars)"
   ]
  },
  {
   "cell_type": "code",
   "execution_count": 216,
   "metadata": {
    "collapsed": false
   },
   "outputs": [],
   "source": []
  },
  {
   "cell_type": "code",
   "execution_count": 135,
   "metadata": {
    "collapsed": false
   },
   "outputs": [
    {
     "data": {
      "text/plain": [
       "u'3'"
      ]
     },
     "execution_count": 135,
     "metadata": {},
     "output_type": "execute_result"
    }
   ],
   "source": [
    "findDegreeUnivariate(v)"
   ]
  },
  {
   "cell_type": "code",
   "execution_count": 122,
   "metadata": {
    "collapsed": false
   },
   "outputs": [
    {
     "data": {
      "text/plain": [
       "True"
      ]
     },
     "execution_count": 122,
     "metadata": {},
     "output_type": "execute_result"
    }
   ],
   "source": [
    "start_ind == len(v) -1"
   ]
  },
  {
   "cell_type": "code",
   "execution_count": 115,
   "metadata": {
    "collapsed": false
   },
   "outputs": [
    {
     "data": {
      "text/plain": [
       "True"
      ]
     },
     "execution_count": 115,
     "metadata": {},
     "output_type": "execute_result"
    }
   ],
   "source": [
    "(not c.isnumeric() and end_ind == -1 and not start_ind  == -1) or i == len(v)-1"
   ]
  },
  {
   "cell_type": "code",
   "execution_count": 117,
   "metadata": {
    "collapsed": false
   },
   "outputs": [
    {
     "data": {
      "text/plain": [
       "2"
      ]
     },
     "execution_count": 117,
     "metadata": {},
     "output_type": "execute_result"
    }
   ],
   "source": []
  },
  {
   "cell_type": "code",
   "execution_count": 107,
   "metadata": {
    "collapsed": false
   },
   "outputs": [
    {
     "data": {
      "text/plain": [
       "2"
      ]
     },
     "execution_count": 107,
     "metadata": {},
     "output_type": "execute_result"
    }
   ],
   "source": [
    "start_i"
   ]
  },
  {
   "cell_type": "code",
   "execution_count": 81,
   "metadata": {
    "collapsed": false
   },
   "outputs": [
    {
     "data": {
      "text/plain": [
       "array([u'y x^3', u'0'], \n",
       "      dtype='<U5')"
      ]
     },
     "execution_count": 81,
     "metadata": {},
     "output_type": "execute_result"
    }
   ],
   "source": [
    "calcDegree(varString):\n",
    "    \n",
    "    "
   ]
  },
  {
   "cell_type": "code",
   "execution_count": 60,
   "metadata": {
    "collapsed": false
   },
   "outputs": [],
   "source": [
    "''' For our first example we consider the problem of multiplying the two polynomials a*b (7x+5)(2x-3) '''\n",
    "a = np.array([7,5])\n",
    "b = np.array([2,-3])\n",
    "\n",
    "\n",
    "\n",
    "# For multiplication the degree result is simply the degree of a and b.\n",
    "range(1,degreeResult)\n",
    "\n",
    "\n",
    "\n"
   ]
  },
  {
   "cell_type": "code",
   "execution_count": 63,
   "metadata": {
    "collapsed": false
   },
   "outputs": [],
   "source": []
  },
  {
   "cell_type": "code",
   "execution_count": 64,
   "metadata": {
    "collapsed": false
   },
   "outputs": [
    {
     "data": {
      "text/plain": [
       "'176717776189025974273681640625 - 524822996828991154174804687500 x^4 + 515033918625080621034667968750 x^8 - 163334210731862516738592187500 x^12 - 2736239170293783025519921875 x^16 - 853567945260137903985750000 x^20 - 3332100748804904946375000 x^24 - 1366093540832634465390000 x^28 + 19097129680976733491250 x^32 - 1070178180326028037800 x^36 + 30307759123324511700 x^40 - 684287794892518696 x^44 + 15919723498675794 x^48 - 261616202648496 x^52 + 4039702363304 x^56 - 52707284976 x^60 + 541355421 x^64 - 5241644 x^68 + 36846 x^72 - 204 x^76 + x^80 - 524822996828991154174804687500 y^4 + 1358410577665290835983398437500 x^4 y^4 - 1121410871803655000470926562500 x^8 y^4 + 268366792559331875120012632500 x^12 y^4 + 18009207366928841424033090000 x^16 y^4 + 1409967474860596621252172400 x^20 y^4 + 37093896071304807884698800 x^24 y^4 + 277169016416649937196688 x^28 y^4 - 45399599055456194122344 x^32 y^4 - 2051064742836371588856 x^36 y^4 - 48917341932402832184 x^40 y^4 + 719118621286728408 x^44 y^4 + 7261206066155664 x^48 y^4 + 1067560459184560 x^52 y^4 - 23159945652624 x^56 y^4 + 34631561424 x^60 y^4 + 1691958932 x^64 y^4 - 8367012 x^68 y^4 - 3876 x^72 y^4 + 20 x^76 y^4 + 515033918625080621034667968750 y^8 - 1121410871803655000470926562500 x^4 y^8 + 692306784034766888513561268750 x^8 y^8 - 70467501514363192927331426016 x^12 y^8 - 14370383052763752759083552808 x^16 y^8 - 1035070187757372853125068016 x^20 y^8 - 55157327620514497044014472 x^24 y^8 - 1692867176854213729029408 x^28 y^8 - 25586983740542496806844 x^32 y^8 - 349299037145852985880 x^36 y^8 + 30001458887173320228 x^40 y^8 - 245641547333553696 x^44 y^8 + 16518615637243832 x^48 y^8 - 382503122607600 x^52 y^8 + 2410846944408 x^56 y^8 - 1844368352 x^60 y^8 + 3264318 x^64 y^8 - 34884 x^68 y^8 + 190 x^72 y^8 - 163334210731862516738592187500 y^12 + 268366792559331875120012632500 x^4 y^12 - 70467501514363192927331426016 x^8 y^12 - 35185880544130730526680680416 x^12 y^12 + 125471981964006724254562800 x^16 y^12 - 39370878297880423433887248 x^20 y^12 + 1325658903120916100843616 x^24 y^12 + 58762465861640264048736 x^28 y^12 - 4133441494425443083464 x^32 y^12 + 132187048341776912760 x^36 y^12 - 7477154238671894304 x^40 y^12 + 196380621346972640 x^44 y^12 - 2444481539437200 x^48 y^12 + 16380609978480 x^52 y^12 - 89650392160 x^56 y^12 + 481233312 x^60 y^12 - 197676 x^64 y^12 + 1140 x^68 y^12 - 2736239170293783025519921875 y^16 + 18009207366928841424033090000 x^4 y^16 - 14370383052763752759083552808 x^8 y^16 + 125471981964006724254562800 x^12 y^16 + 45518134102085647099665324 x^16 y^16 - 1346162509203426484265520 x^20 y^16 + 494713301530700458341864 x^24 y^16 - 30478852648930649485200 x^28 y^16 + 766117785480879991950 x^32 y^16 - 49257912432071129616 x^36 y^16 + 996667975969477864 x^40 y^16 - 14969308168692144 x^44 y^16 + 134140483792428 x^48 y^16 - 396080727440 x^52 y^16 + 2530838232 x^56 y^16 - 790704 x^60 y^16 + 4845 x^64 y^16 - 853567945260137903985750000 y^20 + 1409967474860596621252172400 x^4 y^20 - 1035070187757372853125068016 x^8 y^20 - 39370878297880423433887248 x^12 y^20 - 1346162509203426484265520 x^16 y^20 + 792862389474747514213680 x^20 y^20 - 40989447228398294589744 x^24 y^20 + 2506315850072195314608 x^28 y^20 - 82027905924457512144 x^32 y^20 + 2239974538199165264 x^36 y^20 - 28272809343820752 x^40 y^20 + 259034505245136 x^44 y^20 - 675093398800 x^48 y^20 + 5595177744 x^52 y^20 - 2372112 x^56 y^20 + 15504 x^60 y^20 - 3332100748804904946375000 y^24 + 37093896071304807884698800 x^4 y^24 - 55157327620514497044014472 x^8 y^24 + 1325658903120916100843616 x^12 y^24 + 494713301530700458341864 x^16 y^24 - 40989447228398294589744 x^20 y^24 + 3726751869705254575608 x^24 y^24 - 90010365014082472128 x^28 y^24 + 2402962713127941816 x^32 y^24 - 40695673243715760 x^36 y^24 + 245438792649768 x^40 y^24 + 44423703136 x^44 y^24 + 3446804664 x^48 y^24 - 5534928 x^52 y^24 + 38760 x^56 y^24 - 1366093540832634465390000 y^28 + 277169016416649937196688 x^4 y^28 - 1692867176854213729029408 x^8 y^28 + 58762465861640264048736 x^12 y^28 - 30478852648930649485200 x^16 y^28 + 2506315850072195314608 x^20 y^28 - 90010365014082472128 x^24 y^28 + 1957461248863408704 x^28 y^28 - 67415042002427856 x^32 y^28 + 472305304845552 x^36 y^28 + 2315994778592 x^40 y^28 - 11739293856 x^44 y^28 - 10279152 x^48 y^28 + 77520 x^52 y^28 + 19097129680976733491250 y^32 - 45399599055456194122344 x^4 y^32 - 25586983740542496806844 x^8 y^32 - 4133441494425443083464 x^12 y^32 + 766117785480879991950 x^16 y^32 - 82027905924457512144 x^20 y^32 + 2402962713127941816 x^24 y^32 - 67415042002427856 x^28 y^32 + 731528773777134 x^32 y^32 + 4628229542200 x^36 y^32 - 35100554940 x^40 y^32 - 15418728 x^44 y^32 + 125970 x^48 y^32 - 1070178180326028037800 y^36 - 2051064742836371588856 x^4 y^36 - 349299037145852985880 x^8 y^36 + 132187048341776912760 x^12 y^36 - 49257912432071129616 x^16 y^36 + 2239974538199165264 x^20 y^36 - 40695673243715760 x^24 y^36 + 472305304845552 x^28 y^36 + 4628229542200 x^32 y^36 - 46896722136 x^36 y^36 - 18845112 x^40 y^36 + 167960 x^44 y^36 + 30307759123324511700 y^40 - 48917341932402832184 x^4 y^40 + 30001458887173320228 x^8 y^40 - 7477154238671894304 x^12 y^40 + 996667975969477864 x^16 y^40 - 28272809343820752 x^20 y^40 + 245438792649768 x^24 y^40 + 2315994778592 x^28 y^40 - 35100554940 x^32 y^40 - 18845112 x^36 y^40 + 184756 x^40 y^40 - 684287794892518696 y^44 + 719118621286728408 x^4 y^44 - 245641547333553696 x^8 y^44 + 196380621346972640 x^12 y^44 - 14969308168692144 x^16 y^44 + 259034505245136 x^20 y^44 + 44423703136 x^24 y^44 - 11739293856 x^28 y^44 - 15418728 x^32 y^44 + 167960 x^36 y^44 + 15919723498675794 y^48 + 7261206066155664 x^4 y^48 + 16518615637243832 x^8 y^48 - 2444481539437200 x^12 y^48 + 134140483792428 x^16 y^48 - 675093398800 x^20 y^48 + 3446804664 x^24 y^48 - 10279152 x^28 y^48 + 125970 x^32 y^48 - 261616202648496 y^52 + 1067560459184560 x^4 y^52 - 382503122607600 x^8 y^52 + 16380609978480 x^12 y^52 - 396080727440 x^16 y^52 + 5595177744 x^20 y^52 - 5534928 x^24 y^52 + 77520 x^28 y^52 + 4039702363304 y^56 - 23159945652624 x^4 y^56 + 2410846944408 x^8 y^56 - 89650392160 x^12 y^56 + 2530838232 x^16 y^56 - 2372112 x^20 y^56 + 38760 x^24 y^56 - 52707284976 y^60 + 34631561424 x^4 y^60 - 1844368352 x^8 y^60 + 481233312 x^12 y^60 - 790704 x^16 y^60 + 15504 x^20 y^60 + 541355421 y^64 + 1691958932 x^4 y^64 + 3264318 x^8 y^64 - 197676 x^12 y^64 + 4845 x^16 y^64 - 5241644 y^68 - 8367012 x^4 y^68 - 34884 x^8 y^68 + 1140 x^12 y^68 + 36846 y^72 - 3876 x^4 y^72 + 190 x^8 y^72 - 204 y^76 + 20 x^4 y^76 + y^80'"
      ]
     },
     "execution_count": 64,
     "metadata": {},
     "output_type": "execute_result"
    }
   ],
   "source": [
    "samplePolyMathematica "
   ]
  },
  {
   "cell_type": "code",
   "execution_count": 33,
   "metadata": {
    "collapsed": false
   },
   "outputs": [
    {
     "data": {
      "text/plain": [
       "array([   3,    5,    7, ..., 9949, 9967, 9973], dtype=int64)"
      ]
     },
     "execution_count": 33,
     "metadata": {},
     "output_type": "execute_result"
    }
   ],
   "source": [
    "primesfrom3to(10000)"
   ]
  },
  {
   "cell_type": "code",
   "execution_count": null,
   "metadata": {
    "collapsed": true
   },
   "outputs": [],
   "source": [
    "from numba import cuda\n",
    "from numba import float32,int32,int64\n",
    "import numpy as np\n",
    "\n",
    "@cuda.jit('void(int64[:],int64[:])')\n",
    "def reduceModuloPolynomial(a,b):\n",
    "    i = cuda.grid(1)\n",
    "    if i < len(a):\n",
    "        b[i] = a[i]%7\n",
    "        \n"
   ]
  },
  {
   "cell_type": "code",
   "execution_count": null,
   "metadata": {
    "collapsed": true
   },
   "outputs": [],
   "source": [
    "''' We need a way to efficiently'''\n",
    "\n",
    "@cuda.reduce\n",
    "def "
   ]
  },
  {
   "cell_type": "code",
   "execution_count": null,
   "metadata": {
    "collapsed": true
   },
   "outputs": [],
   "source": [
    "N = 10\n",
    "a = np.ones(N,np.int64)*15\n",
    "b = np.zeros(N,dtype = np.int64)\n",
    "reduceModuloPolynomial[1,10](a,b)"
   ]
  }
 ],
 "metadata": {
  "kernelspec": {
   "display_name": "Python 2",
   "language": "python",
   "name": "python2"
  },
  "language_info": {
   "codemirror_mode": {
    "name": "ipython",
    "version": 2
   },
   "file_extension": ".py",
   "mimetype": "text/x-python",
   "name": "python",
   "nbconvert_exporter": "python",
   "pygments_lexer": "ipython2",
   "version": "2.7.11"
  }
 },
 "nbformat": 4,
 "nbformat_minor": 0
}
