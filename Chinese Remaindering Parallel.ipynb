{
 "cells": [
  {
   "cell_type": "code",
   "execution_count": null,
   "metadata": {
    "collapsed": true
   },
   "outputs": [],
   "source": [
    "def EGCD(a,b):\n",
    "    cc = a\n",
    "    dd = b\n",
    "    c1 = 1\n",
    "    c2 =0\n",
    "    d1 =0\n",
    "    d2 = 1\n",
    "3\n",
    "while not dd==0:\n",
    "        try:\n",
    "            q = cc/dd\n",
    "        except TypeError:\n",
    "            pdb.set_trace()\n",
    "        r = cc - int(q*dd)\n",
    "        r = int(r)\n",
    "        cc = dd\n",
    "        dd = r\n",
    "        r1 = c1 - int(q*d1)\n",
    "        r1 = int(r1)\n",
    "        c1 = d1\n",
    "        d1 = r1\n",
    "        r2 = c2 - int(q*d2)\n",
    "        r2 = int(r2)\n",
    "        c2 = d2\n",
    "        d2 = r2\n",
    "    return (cc,c1,c2)"
   ]
  },
  {
   "cell_type": "code",
   "execution_count": null,
   "metadata": {
    "collapsed": true
   },
   "outputs": [],
   "source": [
    "@cuda.jit('int32(int32, int32)', device=True)\n",
    "def EGCD_CUDA(a, b):\n",
    "    \"\"\"\n",
    "    Computes the inverse \n",
    "    \"\"\"\n",
    "        cc = a\n",
    "        dd = b\n",
    "        c1 = 1\n",
    "        c2 =0\n",
    "        d1 =0\n",
    "        d2 = 1\n",
    "    3\n",
    "    while not dd==0:\n",
    "          \n",
    "            q = cc/dd\n",
    "           \n",
    "            r = cc - q*dd\n",
    "            cc = dd\n",
    "            dd = r\n",
    "            r1 = c1 - q*d1\n",
    "            r1 = r1\n",
    "            c1 = d1\n",
    "            d1 = r1\n",
    "            r2 = c2 - q*d2\n",
    "            r2 = r2\n",
    "            c2 = d2\n",
    "            d2 = r2\n",
    "        return c1\n",
    "\n"
   ]
  },
  {
   "cell_type": "code",
   "execution_count": null,
   "metadata": {
    "collapsed": true
   },
   "outputs": [],
   "source": [
    "def MRC_alg(rvect,mvect,c):\n",
    "    k = len(rvect)\n",
    "gamma = np.empty(k,dtype = np.int32) gamma[0] = rvect[0]\n",
    "#gamma[0] = rvect[0]\n",
    "M = np.ones(k,dtype=np.int32)\n",
    "    for i in range(1,k):\n",
    "        gamma[i] = ((rvect[i] - gamma[0])*c[i]) % mvect[i]\n",
    "        M[i] = (mvect[0]*c[i]) % mvect[i]\n",
    "4\n",
    "for i in range(1,k-1):\n",
    "        for j in range(i+1,k):\n",
    "            gamma[j] = (gamma[j] - gamma[i]*M[j]) % mvect[j]\n",
    "            M[j] = (M[j]*mvect[i]) % mvect[j]\n",
    "    return gamma,M"
   ]
  },
  {
   "cell_type": "code",
   "execution_count": null,
   "metadata": {
    "collapsed": true
   },
   "outputs": [],
   "source": [
    "@cuda.jit('int32(int32, int32)', device=True)\n",
    "def MRC_func(rvect,mvect,c):\n",
    "    ''' Computes mix-radix representation'''\n",
    "    k = len(rvect)\n",
    "    gamma = np.empty(k,dtype = np.int32) gamma[0] = rvect[0]\n",
    "    #gamma[0] = rvect[0]\n",
    "    M = np.ones(k,dtype=np.int32)\n",
    "    for i in range(1,k):\n",
    "        gamma[i] = ((rvect[i] - gamma[0])*c[i]) % mvect[i]\n",
    "        M[i] = (mvect[0]*c[i]) % mvect[i]\n",
    "\n",
    "    for i in range(1,k-1):\n",
    "        for j in range(i+1,k):\n",
    "            gamma[j] = (gamma[j] - gamma[i]*M[j]) % mvect[j]\n",
    "            M[j] = (M[j]*mvect[i]) % mvect[j]\n",
    "    return gamma,M\n"
   ]
  },
  {
   "cell_type": "code",
   "execution_count": null,
   "metadata": {
    "collapsed": true
   },
   "outputs": [],
   "source": [
    "#take a list of numbers such as:\n",
    "testList = [125123,51613,123156]\n",
    "#and on each thread compute the EGCD coefficients and calculate mixed radix form.\n",
    "\n"
   ]
  },
  {
   "cell_type": "code",
   "execution_count": null,
   "metadata": {
    "collapsed": true
   },
   "outputs": [],
   "source": [
    "# if we let n be the number of equations and m the degree of each variable, then \n",
    "# we can easily take each coefficient and perform chinese remaindering on it\n",
    "\n",
    "resMatrix = Y.T #each row corresponds to a set of residues for a coefficient.\n",
    "# m is the set of primes used for reduction\n",
    "# gamma is the precomuted modular inverses.\n",
    "\n",
    "\n",
    "mvect = \n",
    "\n",
    "c = [0] + [EGCD(reduce(lambda x,y:x*y,mvect[0:k+1]),m)[1] for (k,m) in enumerate(mvect[1:])]\n",
    "vv,M = MRC_alg(residues,mvect,c)\n"
   ]
  },
  {
   "cell_type": "code",
   "execution_count": null,
   "metadata": {
    "collapsed": true
   },
   "outputs": [],
   "source": [
    "@cuda.jit('int32[:,:](int32[:,:],int32[:],int32[:])')\n",
    "def MRC_kernel(resMatrx,mvect,gammas):\n",
    "    "
   ]
  },
  {
   "cell_type": "code",
   "execution_count": null,
   "metadata": {
    "collapsed": true
   },
   "outputs": [],
   "source": [
    "num = 515033918625080621034667968750231312512515215125215125125\n",
    "print \"num has {} digits \".format(len(str(num)))\n",
    "mvect = get_mod_primes(10000,num).tolist()\n",
    "print \"{} primes were required to reconstruct num\\n\".format(len(mvect))\n",
    "residues =[int(num%m) for m in mvect]\n",
    "c = [0] + [EGCD(reduce(lambda x,y:x*y,mvect[0:k+1]),m)[1] for (k,m) in enumerate(mvect[1:])]\n",
    "vv,M = MRC_alg(residues,mvect,c)\n",
    "vv = vv.tolist()\n",
    "M = M.tolist()\n",
    "print \"v: {} \\n\".format(vv)\n",
    "u = homer_scheme(mvect,vv,0)%reduce(lambda x,y: x*y,mvect)\n",
    "mvect2 = get_mod_primes(10000,u).tolist()\n",
    "print \"Solution Residues: {} \\n\".format(residues)\n",
    "residues2 =[int(u%m) for m in mvect2]\n",
    "print \"Check Residues: {}\\n\".format(residues)"
   ]
  }
 ],
 "metadata": {
  "kernelspec": {
   "display_name": "Python 2",
   "language": "python",
   "name": "python2"
  },
  "language_info": {
   "codemirror_mode": {
    "name": "ipython",
    "version": 2
   },
   "file_extension": ".py",
   "mimetype": "text/x-python",
   "name": "python",
   "nbconvert_exporter": "python",
   "pygments_lexer": "ipython2",
   "version": "2.7.11"
  }
 },
 "nbformat": 4,
 "nbformat_minor": 0
}
