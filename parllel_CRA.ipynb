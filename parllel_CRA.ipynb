{
 "cells": [
  {
   "cell_type": "code",
   "execution_count": 1,
   "metadata": {
    "collapsed": true
   },
   "outputs": [],
   "source": [
    "from numba import cuda\n",
    "from numba import float32,int32,int64\n",
    "import numpy as np\n",
    "import pdb\n",
    "from math import floor\n",
    "from decimal import *\n",
    "a = np.array([2, 1, 6,2, 1, 6] ,dtype = np.int32)"
   ]
  },
  {
   "cell_type": "code",
   "execution_count": 3,
   "metadata": {
    "collapsed": true
   },
   "outputs": [],
   "source": [
    "def EGCD(a,b):\n",
    "    cc = a\n",
    "    dd = b\n",
    "    c1 = 1\n",
    "    c2 =0\n",
    "    d1 =0\n",
    "    d2 = 1\n",
    "    \n",
    "    while not dd==0:\n",
    "        try:\n",
    "            q = cc/dd\n",
    "        except TypeError:\n",
    "            pdb.set_trace()\n",
    "            \n",
    "        r = cc - int(q*dd)\n",
    "        r = int(r)\n",
    "        cc = dd\n",
    "        dd = r\n",
    "\n",
    "        r1 = c1 - int(q*d1)\n",
    "        r1 = int(r1)\n",
    "        c1 = d1\n",
    "        d1 = r1\n",
    "\n",
    "        r2 = c2 - int(q*d2)\n",
    "        r2 = int(r2)\n",
    "        c2 = d2\n",
    "        d2 = r2\n",
    "    \n",
    "    return (cc,c1,c2)\n"
   ]
  },
  {
   "cell_type": "code",
   "execution_count": 2,
   "metadata": {
    "collapsed": false
   },
   "outputs": [
    {
     "ename": "TypeError",
     "evalue": "CUDA kernel must have void return type.",
     "output_type": "error",
     "traceback": [
      "\u001b[0;31m---------------------------------------------------------------------------\u001b[0m",
      "\u001b[0;31mTypeError\u001b[0m                                 Traceback (most recent call last)",
      "\u001b[0;32m<ipython-input-2-eea3a077a309>\u001b[0m in \u001b[0;36m<module>\u001b[0;34m()\u001b[0m\n\u001b[0;32m----> 1\u001b[0;31m \u001b[0;34m@\u001b[0m\u001b[0mcuda\u001b[0m\u001b[0;34m.\u001b[0m\u001b[0mjit\u001b[0m\u001b[0;34m(\u001b[0m\u001b[0;34m'float32[:](float32[:])'\u001b[0m\u001b[0;34m,\u001b[0m\u001b[0mtarget\u001b[0m\u001b[0;34m=\u001b[0m\u001b[0;34m'device'\u001b[0m\u001b[0;34m)\u001b[0m\u001b[0;34m\u001b[0m\u001b[0m\n\u001b[0m\u001b[1;32m      2\u001b[0m \u001b[0;32mdef\u001b[0m \u001b[0mtest_array_op\u001b[0m\u001b[0;34m(\u001b[0m\u001b[0maa\u001b[0m\u001b[0;34m)\u001b[0m\u001b[0;34m:\u001b[0m\u001b[0;34m\u001b[0m\u001b[0m\n\u001b[1;32m      3\u001b[0m     \u001b[0;32mfor\u001b[0m \u001b[0ma\u001b[0m \u001b[0;32min\u001b[0m \u001b[0maa\u001b[0m\u001b[0;34m:\u001b[0m\u001b[0;34m\u001b[0m\u001b[0m\n\u001b[1;32m      4\u001b[0m         \u001b[0ma\u001b[0m\u001b[0;34m*=\u001b[0m\u001b[0;36m2\u001b[0m\u001b[0;34m\u001b[0m\u001b[0m\n\u001b[1;32m      5\u001b[0m     \u001b[0;32mreturn\u001b[0m \u001b[0ma\u001b[0m\u001b[0;34m\u001b[0m\u001b[0m\n",
      "\u001b[0;32m/Users/kevm1892/anaconda/lib/python2.7/site-packages/numba/cuda/decorators.pyc\u001b[0m in \u001b[0;36mjit\u001b[0;34m(func_or_sig, argtypes, device, inline, bind, link, debug, **kws)\u001b[0m\n\u001b[1;32m     81\u001b[0m \u001b[0;34m\u001b[0m\u001b[0m\n\u001b[1;32m     82\u001b[0m         \u001b[0;32mif\u001b[0m \u001b[0mrestype\u001b[0m \u001b[0;32mand\u001b[0m \u001b[0;32mnot\u001b[0m \u001b[0mdevice\u001b[0m \u001b[0;32mand\u001b[0m \u001b[0mrestype\u001b[0m \u001b[0;34m!=\u001b[0m \u001b[0mtypes\u001b[0m\u001b[0;34m.\u001b[0m\u001b[0mvoid\u001b[0m\u001b[0;34m:\u001b[0m\u001b[0;34m\u001b[0m\u001b[0m\n\u001b[0;32m---> 83\u001b[0;31m             \u001b[0;32mraise\u001b[0m \u001b[0mTypeError\u001b[0m\u001b[0;34m(\u001b[0m\u001b[0;34m\"CUDA kernel must have void return type.\"\u001b[0m\u001b[0;34m)\u001b[0m\u001b[0;34m\u001b[0m\u001b[0m\n\u001b[0m\u001b[1;32m     84\u001b[0m \u001b[0;34m\u001b[0m\u001b[0m\n\u001b[1;32m     85\u001b[0m         \u001b[0;32mdef\u001b[0m \u001b[0mkernel_jit\u001b[0m\u001b[0;34m(\u001b[0m\u001b[0mfunc\u001b[0m\u001b[0;34m)\u001b[0m\u001b[0;34m:\u001b[0m\u001b[0;34m\u001b[0m\u001b[0m\n",
      "\u001b[0;31mTypeError\u001b[0m: CUDA kernel must have void return type."
     ]
    }
   ],
   "source": [
    "@cuda.jit('float32[:](float32[:])',target='device')\n",
    "def test_array_op(aa):\n",
    "    for a in aa:\n",
    "        a*=2\n",
    "    return a"
   ]
  },
  {
   "cell_type": "code",
   "execution_count": null,
   "metadata": {
    "collapsed": true
   },
   "outputs": [],
   "source": [
    "numBlocks = 2\n",
    "n = len(a)\n",
    "blockdim = n//numBlocks\n",
    "griddim = numBlocks\n",
    "@cuda.jit(argtypes=[float32[:], float32[:],float32[:]], target='gpu')\n",
    "def CRA_kernel(a,b,c):\n",
    "    sa = cuda.shared.array(shape=(256,), dtype=int32) # residue array\n",
    "    sc = cuda.shared.array(shape=(256,),dtype=int32) # precomputed coefficient array\n",
    "    sM = cuda.shared.array(shape=(256,),dtype=int32) # M coefficient array\n",
    "    tx = cuda.threadIdx.x\n",
    "    bx = cuda.blockIdx.x\n",
    "    bw = cuda.blockDim.x\n",
    "    k = bw\n",
    "    i = cuda.grid(1)\n",
    "    if i < len(a):\n",
    "        sa[tx] = a[i]\n",
    "        sc[tx] = c[tx]\n",
    "        sM[tx] = 1\n",
    "        if tx==0:\n",
    "            # start from the first thread in the block\n",
    "            \n",
    "            for i in range(1,k):\n",
    "                gamma[i] = ((rvect[i] - gamma[0])*c[i]) % mvect[i]\n",
    "                M[i] = (mvect[0]*c[i]) % mvect[i]\n",
    "\n",
    "            for i in range(1,k-1):\n",
    "                for j in range(i+1,k):\n",
    "                    gamma[j] = (gamma[j] - gamma[i]*M[j]) % mvect[j]\n",
    "                        M[j] = (M[j]*mvect[i]) % mvect[j]\n",
    "        \n",
    "            b[i] = \n",
    "                \n",
    "            \n",
    "        "
   ]
  },
  {
   "cell_type": "code",
   "execution_count": null,
   "metadata": {
    "collapsed": true
   },
   "outputs": [],
   "source": [
    "@cuda.jit('int32[:](int32[:])',device=True, inline = True)\n",
    "def test_array_op(a):\n",
    "    for i in range(len(a)):\n",
    "        a[i] += i\n",
    "    return a\n",
    "\n",
    "@cuda.jit(argtypes=[int32[:],int32[:]], target='gpu')\n",
    "def CRA_kernel(a,res):\n",
    "    sa = cuda.shared.array(shape=(256,), dtype=int32)\n",
    "    tx = cuda.threadIdx.x\n",
    "    bx = cuda.blockIdx.x\n",
    "    bw = cuda.blockDim.x\n",
    "    \n",
    "    i = cuda.grid(1)\n",
    "    if i < len(a):\n",
    "        sa[tx] = a[i]\n",
    "        cuda.syncthreads()\n",
    "        #sc[tx] = c[tx]\n",
    "        #sM[tx] = 1\n",
    "        if tx==0:\n",
    "            os = 3\n",
    "            sa[tx:os] = test_array_op(sa[tx:os])\n",
    "            \n",
    "            res[i:i+os] = sa[tx:os]\n",
    "            \n",
    "griddim = 2\n",
    "blockdim = 3\n",
    "\n",
    "a = np.array([2, 1, 6,2, 2, 6],dtype=np.int32 )\n",
    "b = np.empty_like(a)\n",
    "CRA_kernel[griddim, blockdim](a,b)   \n",
    "    "
   ]
  },
  {
   "cell_type": "code",
   "execution_count": null,
   "metadata": {
    "collapsed": true
   },
   "outputs": [],
   "source": []
  },
  {
   "cell_type": "code",
   "execution_count": 9,
   "metadata": {
    "collapsed": false
   },
   "outputs": [
    {
     "ename": "TypingError",
     "evalue": "Caused By:\nTraceback (most recent call last):\n  File \"/Users/kevm1892/anaconda/lib/python2.7/site-packages/numba/compiler.py\", line 201, in run\n    res = stage()\n  File \"/Users/kevm1892/anaconda/lib/python2.7/site-packages/numba/compiler.py\", line 415, in stage_nopython_frontend\n    self.locals)\n  File \"/Users/kevm1892/anaconda/lib/python2.7/site-packages/numba/compiler.py\", line 710, in type_inference_stage\n    infer.propagate()\n  File \"/Users/kevm1892/anaconda/lib/python2.7/site-packages/numba/typeinfer.py\", line 408, in propagate\n    self.constrains.propagate(self.context, self.typevars)\n  File \"/Users/kevm1892/anaconda/lib/python2.7/site-packages/numba/typeinfer.py\", line 107, in propagate\n    constrain(context, typevars)\n  File \"/Users/kevm1892/anaconda/lib/python2.7/site-packages/numba/typeinfer.py\", line 227, in __call__\n    self.resolve(context, typevars, fnty)\n  File \"/Users/kevm1892/anaconda/lib/python2.7/site-packages/numba/typeinfer.py\", line 252, in resolve\n    raise TypingError(msg, loc=self.loc)\nTypingError: Undeclared Function(<numba.cuda.compiler.DeviceFunction object at 0x10a608c50>)(array(int32, 1d, A), array(int32, 1d, A))\nFile \"<ipython-input-9-7a8a953fa032>\", line 41\n\nFailed at nopython (nopython frontend)\nUndeclared Function(<numba.cuda.compiler.DeviceFunction object at 0x10a608c50>)(array(int32, 1d, A), array(int32, 1d, A))\nFile \"<ipython-input-9-7a8a953fa032>\", line 41",
     "output_type": "error",
     "traceback": [
      "\u001b[0;31m---------------------------------------------------------------------------\u001b[0m",
      "\u001b[0;31mTypingError\u001b[0m                               Traceback (most recent call last)",
      "\u001b[0;32m<ipython-input-9-7a8a953fa032>\u001b[0m in \u001b[0;36m<module>\u001b[0;34m()\u001b[0m\n\u001b[1;32m     17\u001b[0m     \u001b[0;32mreturn\u001b[0m \u001b[0mgamma\u001b[0m\u001b[0;34m\u001b[0m\u001b[0m\n\u001b[1;32m     18\u001b[0m \u001b[0;34m\u001b[0m\u001b[0m\n\u001b[0;32m---> 19\u001b[0;31m \u001b[0;34m@\u001b[0m\u001b[0mcuda\u001b[0m\u001b[0;34m.\u001b[0m\u001b[0mjit\u001b[0m\u001b[0;34m(\u001b[0m\u001b[0margtypes\u001b[0m\u001b[0;34m=\u001b[0m\u001b[0;34m[\u001b[0m\u001b[0mint32\u001b[0m\u001b[0;34m[\u001b[0m\u001b[0;34m:\u001b[0m\u001b[0;34m]\u001b[0m\u001b[0;34m,\u001b[0m\u001b[0mint32\u001b[0m\u001b[0;34m[\u001b[0m\u001b[0;34m:\u001b[0m\u001b[0;34m]\u001b[0m\u001b[0;34m,\u001b[0m\u001b[0mint32\u001b[0m\u001b[0;34m[\u001b[0m\u001b[0;34m:\u001b[0m\u001b[0;34m]\u001b[0m\u001b[0;34m,\u001b[0m\u001b[0mint32\u001b[0m\u001b[0;34m[\u001b[0m\u001b[0;34m:\u001b[0m\u001b[0;34m]\u001b[0m\u001b[0;34m,\u001b[0m\u001b[0mint32\u001b[0m\u001b[0;34m[\u001b[0m\u001b[0;34m:\u001b[0m\u001b[0;34m]\u001b[0m\u001b[0;34m]\u001b[0m\u001b[0;34m,\u001b[0m \u001b[0mtarget\u001b[0m\u001b[0;34m=\u001b[0m\u001b[0;34m'gpu'\u001b[0m\u001b[0;34m)\u001b[0m\u001b[0;34m\u001b[0m\u001b[0m\n\u001b[0m\u001b[1;32m     20\u001b[0m \u001b[0;32mdef\u001b[0m \u001b[0mCRA_kernel\u001b[0m\u001b[0;34m(\u001b[0m\u001b[0ma\u001b[0m\u001b[0;34m,\u001b[0m\u001b[0mb\u001b[0m\u001b[0;34m,\u001b[0m\u001b[0mres\u001b[0m\u001b[0;34m,\u001b[0m\u001b[0mm\u001b[0m\u001b[0;34m,\u001b[0m\u001b[0mc\u001b[0m\u001b[0;34m)\u001b[0m\u001b[0;34m:\u001b[0m\u001b[0;34m\u001b[0m\u001b[0m\n\u001b[1;32m     21\u001b[0m     \u001b[0msa\u001b[0m \u001b[0;34m=\u001b[0m \u001b[0mcuda\u001b[0m\u001b[0;34m.\u001b[0m\u001b[0mshared\u001b[0m\u001b[0;34m.\u001b[0m\u001b[0marray\u001b[0m\u001b[0;34m(\u001b[0m\u001b[0mshape\u001b[0m\u001b[0;34m=\u001b[0m\u001b[0;34m(\u001b[0m\u001b[0;36m256\u001b[0m\u001b[0;34m,\u001b[0m\u001b[0;34m)\u001b[0m\u001b[0;34m,\u001b[0m \u001b[0mdtype\u001b[0m\u001b[0;34m=\u001b[0m\u001b[0mint32\u001b[0m\u001b[0;34m)\u001b[0m \u001b[0;31m# residues\u001b[0m\u001b[0;34m\u001b[0m\u001b[0m\n",
      "\u001b[0;32m/Users/kevm1892/anaconda/lib/python2.7/site-packages/numba/cuda/decorators.pyc\u001b[0m in \u001b[0;36mkernel_jit\u001b[0;34m(func)\u001b[0m\n\u001b[1;32m     85\u001b[0m         \u001b[0;32mdef\u001b[0m \u001b[0mkernel_jit\u001b[0m\u001b[0;34m(\u001b[0m\u001b[0mfunc\u001b[0m\u001b[0;34m)\u001b[0m\u001b[0;34m:\u001b[0m\u001b[0;34m\u001b[0m\u001b[0m\n\u001b[1;32m     86\u001b[0m             kernel = compile_kernel(func, argtypes, link=link, debug=debug,\n\u001b[0;32m---> 87\u001b[0;31m                                     inline=inline, fastmath=fastmath)\n\u001b[0m\u001b[1;32m     88\u001b[0m \u001b[0;34m\u001b[0m\u001b[0m\n\u001b[1;32m     89\u001b[0m             \u001b[0;31m# Force compilation for the current context\u001b[0m\u001b[0;34m\u001b[0m\u001b[0;34m\u001b[0m\u001b[0m\n",
      "\u001b[0;32m/Users/kevm1892/anaconda/lib/python2.7/site-packages/numba/cuda/compiler.pyc\u001b[0m in \u001b[0;36mcompile_kernel\u001b[0;34m(pyfunc, args, link, debug, inline, fastmath)\u001b[0m\n\u001b[1;32m     47\u001b[0m def compile_kernel(pyfunc, args, link, debug=False, inline=False,\n\u001b[1;32m     48\u001b[0m                    fastmath=False):\n\u001b[0;32m---> 49\u001b[0;31m     \u001b[0mcres\u001b[0m \u001b[0;34m=\u001b[0m \u001b[0mcompile_cuda\u001b[0m\u001b[0;34m(\u001b[0m\u001b[0mpyfunc\u001b[0m\u001b[0;34m,\u001b[0m \u001b[0mtypes\u001b[0m\u001b[0;34m.\u001b[0m\u001b[0mvoid\u001b[0m\u001b[0;34m,\u001b[0m \u001b[0margs\u001b[0m\u001b[0;34m,\u001b[0m \u001b[0mdebug\u001b[0m\u001b[0;34m=\u001b[0m\u001b[0mdebug\u001b[0m\u001b[0;34m,\u001b[0m \u001b[0minline\u001b[0m\u001b[0;34m=\u001b[0m\u001b[0minline\u001b[0m\u001b[0;34m)\u001b[0m\u001b[0;34m\u001b[0m\u001b[0m\n\u001b[0m\u001b[1;32m     50\u001b[0m     \u001b[0mfunc\u001b[0m \u001b[0;34m=\u001b[0m \u001b[0mcres\u001b[0m\u001b[0;34m.\u001b[0m\u001b[0mlibrary\u001b[0m\u001b[0;34m.\u001b[0m\u001b[0mget_function\u001b[0m\u001b[0;34m(\u001b[0m\u001b[0mcres\u001b[0m\u001b[0;34m.\u001b[0m\u001b[0mfndesc\u001b[0m\u001b[0;34m.\u001b[0m\u001b[0mllvm_func_name\u001b[0m\u001b[0;34m)\u001b[0m\u001b[0;34m\u001b[0m\u001b[0m\n\u001b[1;32m     51\u001b[0m     kernel = cres.target_context.prepare_cuda_kernel(func,\n",
      "\u001b[0;32m/Users/kevm1892/anaconda/lib/python2.7/site-packages/numba/cuda/compiler.pyc\u001b[0m in \u001b[0;36mcompile_cuda\u001b[0;34m(pyfunc, return_type, args, debug, inline)\u001b[0m\n\u001b[1;32m     37\u001b[0m                                   \u001b[0mreturn_type\u001b[0m\u001b[0;34m=\u001b[0m\u001b[0mreturn_type\u001b[0m\u001b[0;34m,\u001b[0m\u001b[0;34m\u001b[0m\u001b[0m\n\u001b[1;32m     38\u001b[0m                                   \u001b[0mflags\u001b[0m\u001b[0;34m=\u001b[0m\u001b[0mflags\u001b[0m\u001b[0;34m,\u001b[0m\u001b[0;34m\u001b[0m\u001b[0m\n\u001b[0;32m---> 39\u001b[0;31m                                   locals={})\n\u001b[0m\u001b[1;32m     40\u001b[0m \u001b[0;34m\u001b[0m\u001b[0m\n\u001b[1;32m     41\u001b[0m     \u001b[0mlibrary\u001b[0m \u001b[0;34m=\u001b[0m \u001b[0mcres\u001b[0m\u001b[0;34m.\u001b[0m\u001b[0mlibrary\u001b[0m\u001b[0;34m\u001b[0m\u001b[0m\n",
      "\u001b[0;32m/Users/kevm1892/anaconda/lib/python2.7/site-packages/numba/compiler.pyc\u001b[0m in \u001b[0;36mcompile_extra\u001b[0;34m(typingctx, targetctx, func, args, return_type, flags, locals, library)\u001b[0m\n\u001b[1;32m    593\u001b[0m     pipeline = Pipeline(typingctx, targetctx, library,\n\u001b[1;32m    594\u001b[0m                         args, return_type, flags, locals)\n\u001b[0;32m--> 595\u001b[0;31m     \u001b[0;32mreturn\u001b[0m \u001b[0mpipeline\u001b[0m\u001b[0;34m.\u001b[0m\u001b[0mcompile_extra\u001b[0m\u001b[0;34m(\u001b[0m\u001b[0mfunc\u001b[0m\u001b[0;34m)\u001b[0m\u001b[0;34m\u001b[0m\u001b[0m\n\u001b[0m\u001b[1;32m    596\u001b[0m \u001b[0;34m\u001b[0m\u001b[0m\n\u001b[1;32m    597\u001b[0m \u001b[0;34m\u001b[0m\u001b[0m\n",
      "\u001b[0;32m/Users/kevm1892/anaconda/lib/python2.7/site-packages/numba/compiler.pyc\u001b[0m in \u001b[0;36mcompile_extra\u001b[0;34m(self, func)\u001b[0m\n\u001b[1;32m    316\u001b[0m                 \u001b[0;32mraise\u001b[0m \u001b[0me\u001b[0m\u001b[0;34m\u001b[0m\u001b[0m\n\u001b[1;32m    317\u001b[0m \u001b[0;34m\u001b[0m\u001b[0m\n\u001b[0;32m--> 318\u001b[0;31m         \u001b[0;32mreturn\u001b[0m \u001b[0mself\u001b[0m\u001b[0;34m.\u001b[0m\u001b[0mcompile_bytecode\u001b[0m\u001b[0;34m(\u001b[0m\u001b[0mbc\u001b[0m\u001b[0;34m,\u001b[0m \u001b[0mfunc_attr\u001b[0m\u001b[0;34m=\u001b[0m\u001b[0mself\u001b[0m\u001b[0;34m.\u001b[0m\u001b[0mfunc_attr\u001b[0m\u001b[0;34m)\u001b[0m\u001b[0;34m\u001b[0m\u001b[0m\n\u001b[0m\u001b[1;32m    319\u001b[0m \u001b[0;34m\u001b[0m\u001b[0m\n\u001b[1;32m    320\u001b[0m     def compile_bytecode(self, bc, lifted=(), lifted_from=None,\n",
      "\u001b[0;32m/Users/kevm1892/anaconda/lib/python2.7/site-packages/numba/compiler.pyc\u001b[0m in \u001b[0;36mcompile_bytecode\u001b[0;34m(self, bc, lifted, lifted_from, func_attr)\u001b[0m\n\u001b[1;32m    325\u001b[0m         \u001b[0mself\u001b[0m\u001b[0;34m.\u001b[0m\u001b[0mlifted_from\u001b[0m \u001b[0;34m=\u001b[0m \u001b[0mlifted_from\u001b[0m\u001b[0;34m\u001b[0m\u001b[0m\n\u001b[1;32m    326\u001b[0m         \u001b[0mself\u001b[0m\u001b[0;34m.\u001b[0m\u001b[0mfunc_attr\u001b[0m \u001b[0;34m=\u001b[0m \u001b[0mfunc_attr\u001b[0m\u001b[0;34m\u001b[0m\u001b[0m\n\u001b[0;32m--> 327\u001b[0;31m         \u001b[0;32mreturn\u001b[0m \u001b[0mself\u001b[0m\u001b[0;34m.\u001b[0m\u001b[0m_compile_bytecode\u001b[0m\u001b[0;34m(\u001b[0m\u001b[0;34m)\u001b[0m\u001b[0;34m\u001b[0m\u001b[0m\n\u001b[0m\u001b[1;32m    328\u001b[0m \u001b[0;34m\u001b[0m\u001b[0m\n\u001b[1;32m    329\u001b[0m     \u001b[0;32mdef\u001b[0m \u001b[0mcompile_internal\u001b[0m\u001b[0;34m(\u001b[0m\u001b[0mself\u001b[0m\u001b[0;34m,\u001b[0m \u001b[0mbc\u001b[0m\u001b[0;34m,\u001b[0m \u001b[0mfunc_attr\u001b[0m\u001b[0;34m=\u001b[0m\u001b[0mDEFAULT_FUNCTION_ATTRIBUTES\u001b[0m\u001b[0;34m)\u001b[0m\u001b[0;34m:\u001b[0m\u001b[0;34m\u001b[0m\u001b[0m\n",
      "\u001b[0;32m/Users/kevm1892/anaconda/lib/python2.7/site-packages/numba/compiler.pyc\u001b[0m in \u001b[0;36m_compile_bytecode\u001b[0;34m(self)\u001b[0m\n\u001b[1;32m    580\u001b[0m \u001b[0;34m\u001b[0m\u001b[0m\n\u001b[1;32m    581\u001b[0m         \u001b[0mpm\u001b[0m\u001b[0;34m.\u001b[0m\u001b[0mfinalize\u001b[0m\u001b[0;34m(\u001b[0m\u001b[0;34m)\u001b[0m\u001b[0;34m\u001b[0m\u001b[0m\n\u001b[0;32m--> 582\u001b[0;31m         \u001b[0;32mreturn\u001b[0m \u001b[0mpm\u001b[0m\u001b[0;34m.\u001b[0m\u001b[0mrun\u001b[0m\u001b[0;34m(\u001b[0m\u001b[0mself\u001b[0m\u001b[0;34m.\u001b[0m\u001b[0mstatus\u001b[0m\u001b[0;34m)\u001b[0m\u001b[0;34m\u001b[0m\u001b[0m\n\u001b[0m\u001b[1;32m    583\u001b[0m \u001b[0;34m\u001b[0m\u001b[0m\n\u001b[1;32m    584\u001b[0m \u001b[0;34m\u001b[0m\u001b[0m\n",
      "\u001b[0;32m/Users/kevm1892/anaconda/lib/python2.7/site-packages/numba/compiler.pyc\u001b[0m in \u001b[0;36mrun\u001b[0;34m(self, status)\u001b[0m\n\u001b[1;32m    207\u001b[0m                     \u001b[0;31m# No more fallback pipelines?\u001b[0m\u001b[0;34m\u001b[0m\u001b[0;34m\u001b[0m\u001b[0m\n\u001b[1;32m    208\u001b[0m                     \u001b[0;32mif\u001b[0m \u001b[0mis_final_pipeline\u001b[0m\u001b[0;34m:\u001b[0m\u001b[0;34m\u001b[0m\u001b[0m\n\u001b[0;32m--> 209\u001b[0;31m                         \u001b[0;32mraise\u001b[0m \u001b[0mpatched_exception\u001b[0m\u001b[0;34m\u001b[0m\u001b[0m\n\u001b[0m\u001b[1;32m    210\u001b[0m                     \u001b[0;31m# Go to next fallback pipeline\u001b[0m\u001b[0;34m\u001b[0m\u001b[0;34m\u001b[0m\u001b[0m\n\u001b[1;32m    211\u001b[0m                     \u001b[0;32melse\u001b[0m\u001b[0;34m:\u001b[0m\u001b[0;34m\u001b[0m\u001b[0m\n",
      "\u001b[0;31mTypingError\u001b[0m: Caused By:\nTraceback (most recent call last):\n  File \"/Users/kevm1892/anaconda/lib/python2.7/site-packages/numba/compiler.py\", line 201, in run\n    res = stage()\n  File \"/Users/kevm1892/anaconda/lib/python2.7/site-packages/numba/compiler.py\", line 415, in stage_nopython_frontend\n    self.locals)\n  File \"/Users/kevm1892/anaconda/lib/python2.7/site-packages/numba/compiler.py\", line 710, in type_inference_stage\n    infer.propagate()\n  File \"/Users/kevm1892/anaconda/lib/python2.7/site-packages/numba/typeinfer.py\", line 408, in propagate\n    self.constrains.propagate(self.context, self.typevars)\n  File \"/Users/kevm1892/anaconda/lib/python2.7/site-packages/numba/typeinfer.py\", line 107, in propagate\n    constrain(context, typevars)\n  File \"/Users/kevm1892/anaconda/lib/python2.7/site-packages/numba/typeinfer.py\", line 227, in __call__\n    self.resolve(context, typevars, fnty)\n  File \"/Users/kevm1892/anaconda/lib/python2.7/site-packages/numba/typeinfer.py\", line 252, in resolve\n    raise TypingError(msg, loc=self.loc)\nTypingError: Undeclared Function(<numba.cuda.compiler.DeviceFunction object at 0x10a608c50>)(array(int32, 1d, A), array(int32, 1d, A))\nFile \"<ipython-input-9-7a8a953fa032>\", line 41\n\nFailed at nopython (nopython frontend)\nUndeclared Function(<numba.cuda.compiler.DeviceFunction object at 0x10a608c50>)(array(int32, 1d, A), array(int32, 1d, A))\nFile \"<ipython-input-9-7a8a953fa032>\", line 41"
     ]
    }
   ],
   "source": [
    "@cuda.jit('int32[:](int32[:],int32[:],int32[:],int32[:],int32[:])',device=True, inline = True)\n",
    "def MRC_alg(gamma,rvect,mvect,c,M):\n",
    "    # initalizations\n",
    "    k = len(rvect)\n",
    "    gamma[0] = rvect[0]\n",
    "    M[0] = 1\n",
    " \n",
    "    for i in range(1,k):\n",
    "        gamma[i] = ((rvect[i] - gamma[0])*c[i]) % mvect[i]\n",
    "        M[i] = (mvect[0]*c[i]) % mvect[i]\n",
    "\n",
    "    for i in range(1,k-1):\n",
    "        for j in range(i+1,k):\n",
    "            gamma[j] = (gamma[j] - gamma[i]*M[j]) % mvect[j]\n",
    "            M[j] = (M[j]*mvect[i]) % mvect[j]\n",
    "            \n",
    "    return gamma\n",
    "\n",
    "@cuda.jit(argtypes=[int32[:],int32[:],int32[:],int32[:]], target='gpu')\n",
    "def CRA_kernel(a,res,m,c):\n",
    "    sa = cuda.shared.array(shape=(256,), dtype=int32) # residues\n",
    "    sb = cuda.shared.array(shape=(256,), dtype=int32) # gamma Mixed radix vector (returned from the MRC device function)\n",
    "    sM = cuda.shared.array(shape=(256,), dtype=int32) # M coefficient vector\n",
    "    sc = cuda.shared.array(shape=(256,), dtype=int32) # precomputed coefficient \n",
    "    sm = cuda.shared.array(shape=(256,), dtype=int32) # prime vector\n",
    "\n",
    "    tx = cuda.threadIdx.x\n",
    "    bx = cuda.blockIdx.x\n",
    "    bw = cuda.blockDim.x\n",
    "    \n",
    "    i = cuda.grid(1)\n",
    "    if i < len(a):\n",
    "        sa[tx] = a[i]\n",
    "        sc[tx] = c[tx]\n",
    "        sm[tx] = m[tx]\n",
    "        cuda.syncthreads()\n",
    "        #sc[tx] = c[tx]\n",
    "        #sM[tx] = 1\n",
    "        if tx==0:\n",
    "            os = 3\n",
    "            sb[tx:os] = MRC_alg(sb[tx:os],sa[tx:os],sm[tx:os],sc[tx:os],sM[tx:os])\n",
    "            \n",
    "            res[i:i+os] = sb[tx:os]\n",
    "            \n",
    "griddim = 2\n",
    "blockdim = 3\n",
    "\n",
    "a = np.array([2, 1, 6,0, 1, 2],dtype=np.int32 )\n",
    "b = np.empty_like(a)\n",
    "mvect = [1,3,5]\n",
    "c = [0] + [EGCD(reduce(lambda x,y:x*y,mvect[0:k+1]),m)[1] for (k,m) in enumerate(mvect[1:])]\n",
    "CRA_kernel[griddim, blockdim](a,b,mvect,c)   \n",
    "    "
   ]
  },
  {
   "cell_type": "code",
   "execution_count": null,
   "metadata": {
    "collapsed": true
   },
   "outputs": [],
   "source": [
    "@cuda.jit('int32[:](int32[:])',device=True, inline = True)\n",
    "def test_array_op(a):\n",
    "    for i in range(len(a)):\n",
    "        a[i] += i\n",
    "    return a\n",
    "\n",
    "@cuda.jit(argtypes=[int32[:],int32[:]], target='gpu')\n",
    "def CRA_kernel(a,res):\n",
    "    sa = cuda.shared.array(shape=(256,), dtype=int32)\n",
    "    tx = cuda.threadIdx.x\n",
    "    bx = cuda.blockIdx.x\n",
    "    bw = cuda.blockDim.x\n",
    "    \n",
    "    i = cuda.grid(1)\n",
    "    if i < len(a):\n",
    "        sa[tx] = a[i]\n",
    "        cuda.syncthreads()\n",
    "        #sc[tx] = c[tx]\n",
    "        #sM[tx] = 1\n",
    "        if tx==0:\n",
    "            os = 3\n",
    "            sa[tx:os] = test_array_op(sa[tx:os])\n",
    "            \n",
    "            res[i:i+os] = sa[tx:os]\n",
    "            \n",
    "griddim = 2\n",
    "blockdim = 3\n",
    "\n",
    "a = np.array([2, 1, 6,2, 2, 6],dtype=np.int32 )\n",
    "b = np.empty_like(a)\n",
    "CRA_kernel[griddim, blockdim](a,b)   \n",
    "    "
   ]
  }
 ],
 "metadata": {
  "kernelspec": {
   "display_name": "Python 2",
   "language": "python",
   "name": "python2"
  },
  "language_info": {
   "codemirror_mode": {
    "name": "ipython",
    "version": 2
   },
   "file_extension": ".py",
   "mimetype": "text/x-python",
   "name": "python",
   "nbconvert_exporter": "python",
   "pygments_lexer": "ipython2",
   "version": "2.7.11"
  }
 },
 "nbformat": 4,
 "nbformat_minor": 0
}
